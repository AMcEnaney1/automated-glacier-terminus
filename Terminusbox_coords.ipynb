{
 "cells": [
  {
   "cell_type": "markdown",
   "metadata": {},
   "source": [
    "# Grab the vertices of the glacier terminus boxes in pixel coordinates\n",
    "\n",
    "### Jukes Liu\n",
    "\n",
    "The vertices of the glacier terminus box will be used to calculate a midpoint of the left edge of the terminus box, which will be our reference point for calculating terminus position."
   ]
  },
  {
   "cell_type": "markdown",
   "metadata": {},
   "source": [
    "### Import packages, set basepath, grab BoxIDs for terminus boxes"
   ]
  },
  {
   "cell_type": "code",
   "execution_count": 3,
   "metadata": {},
   "outputs": [],
   "source": [
    "import numpy as np\n",
    "import pandas as pd\n",
    "import matplotlib.pyplot as plt\n",
    "import matplotlib.image as mpimg\n",
    "\n",
    "basepath = '/home/jukes/Documents/Sample_glaciers/'"
   ]
  },
  {
   "cell_type": "code",
   "execution_count": 14,
   "metadata": {
    "scrolled": true
   },
   "outputs": [],
   "source": [
    "#grab the BoxIDs\n",
    "# pathrows_df = pd.read_csv(basepath+'LS_pathrows.csv', sep=',', usecols =[0,1,2], dtype=str, nrows =10)\n",
    "# pathrows_df = pathrows_df.set_index('BoxID')\n",
    "# BoxIDs = pathrows_df.index\n",
    "# pathrows_df\n",
    "BoxIDs = ['Alison', 'Helheim']"
   ]
  },
  {
   "cell_type": "markdown",
   "metadata": {},
   "source": [
    "### Read in terminus box rasters and perform a visual check"
   ]
  },
  {
   "cell_type": "code",
   "execution_count": 8,
   "metadata": {},
   "outputs": [],
   "source": [
    "#create dictionary to store each terminus box ndarray by BoxID\n",
    "termboxes = {}\n",
    "\n",
    "#read in the terminus box rasters\n",
    "for BoxID in BoxIDs:\n",
    "    #load in the raster\n",
    "#     boxpath = basepath+\"Box\"+BoxID+\"/rotated_images/final/crop_Box\"+BoxID+\"_raster_cut.pgm\"\n",
    "    boxpath = \"/media/jukes/jukes1/LS8aws/Box\"+BoxID+\"/resized/crop_R_Box\"+BoxID+\"_cut.pgm\"\n",
    "    #read the raster into an ndarray\n",
    "    termbox = mpimg.imread(boxpath)\n",
    "    #add the ndarray into a dictionary with the BoxID as the key\n",
    "    termboxes.update( {BoxID: termbox} )"
   ]
  },
  {
   "cell_type": "code",
   "execution_count": 10,
   "metadata": {},
   "outputs": [
    {
     "data": {
      "image/png": "[encoded data removed]",
      "text/plain": [
       "<Figure size 432x288 with 1 Axes>"
      ]
     },
     "metadata": {
      "needs_background": "light"
     },
     "output_type": "display_data"
    }
   ],
   "source": [
    "#visualize each terminus box rasters by BoxID\n",
    "termplot = plt.imshow(termboxes['Helheim'])\n",
    "plt.show()"
   ]
  },
  {
   "cell_type": "markdown",
   "metadata": {},
   "source": [
    "### Find x,y coordinates of box vertices and midpoints of left and right edges to get the centerline\n",
    "\n",
    "    1) Left side\n",
    "        1A) Top Left (lowest x*y)\n",
    "        1B) Bottom Left (highest y/x)\n",
    "        1C) Midpoint of 1A and 1B:\n",
    "$\\dfrac{x_{1}+x_{2}}{2}$ , $\\dfrac{y_{1}+y_{2}}{2}$\n",
    "\n",
    "    2) Right side\n",
    "        2A) Top Right (highest y/x)\n",
    "        2B) Bottom Right (highest x*y)\n",
    "        2C) Midpoint of 2A and 2B.\n",
    "        \n",
    "    3) Centerline equation\n",
    "\n",
    "Calculate the equation for the centerline (slope between the two midpoints). Just need to calculate slope: $m =\\dfrac{y_{2}-y_{1}}{x_{2}-x_{1}}$\n",
    "\n",
    "and solve for the intercept using one of the midpoint coordinate pairs: $b = y - mx$\n",
    "\n",
    "$y = mx + b$"
   ]
  },
  {
   "cell_type": "code",
   "execution_count": 12,
   "metadata": {
    "scrolled": true
   },
   "outputs": [],
   "source": [
    "#create dictionary to store the all coordinates of the box rasters\n",
    "boxes_xcoords = {}\n",
    "boxes_ycoords = {}\n",
    "\n",
    "#create dictionaries for the box vertices\n",
    "topleft_coords = {}\n",
    "bottomleft_coords = {}\n",
    "topright_coords = {}\n",
    "bottomright_coords = {}\n",
    "\n",
    "#create dictionaries to store the left midpoints (1C) and right midpoints (2C)\n",
    "midpoints_x = {}\n",
    "midpoints_y = {}\n",
    "midpoints_r_x = {}\n",
    "midpoints_r_y = {}\n",
    "\n",
    "#create dictionaries to the slopes and intercepts of the centerline equations\n",
    "slopes = {}\n",
    "intercepts = {}\n",
    "\n",
    "#for all the box rasters\n",
    "for BoxID in BoxIDs:\n",
    "    #Read in the raster of the BoxID of interest\n",
    "    BOI = termboxes[BoxID]\n",
    "    \n",
    "    #find the coordinates of where the pixel value is nonzero (where the box exists)\n",
    "    yindices, xindices = np.where(BOI > 0)\n",
    "\n",
    "    #add box coordinates to the dictionary\n",
    "    boxes_ycoords.update( {BoxID: yindices})\n",
    "    boxes_xcoords.update( {BoxID: xindices})\n",
    "    \n",
    "    \n",
    "    #1A) FIND THE TOP LEFT COORDINATES (lowest x*y)\n",
    "    xy = xindices*yindices\n",
    "    #Find the lowest xy value\n",
    "    min_xy = np.min(xy)\n",
    "    #Find the x and y pair corresponding to that xy using the index\n",
    "    min_xy_i = np.where(xy == min_xy)[0][0]\n",
    "    topleft = [xindices[min_xy_i], yindices[min_xy_i]]\n",
    "#     print(\"Top left\", topleft)\n",
    "    #Add to dictionary of topleft coordinates\n",
    "    topleft_coords.update(  {BoxID: topleft}  )\n",
    "    \n",
    "    #2B) FIND THE BOTTOM RIGHT COORDINATES (highest x*y)\n",
    "    max_xy = np.max(xy)\n",
    "    max_xy_i = np.where(xy == max_xy)[0][0]\n",
    "    bottomright = [xindices[max_xy_i], yindices[max_xy_i]]\n",
    "    bottomright_coords.update( {BoxID: bottomright})\n",
    "\n",
    "    #1B) FIND THE BOTTOM LEFT COORDINATE(highest y/x)\n",
    "    y_x = yindices/xindices\n",
    "    #Find the highest y/x value\n",
    "    max_y_x = np.max(y_x)\n",
    "    #Find the x and y pair corresponding to that y/x using the index\n",
    "    max_y_x_i = np.where(y_x == max_y_x)[0][0]\n",
    "    bottomleft = [xindices[max_y_x_i], yindices[max_y_x_i]]\n",
    "#     print(\"Bottom left\", bottomleft)\n",
    "    #Add to dictionary of bottomleft coordinates\n",
    "    bottomleft_coords.update( {BoxID: bottomleft}  )\n",
    "    \n",
    "    #2A) FIND THE TOP RIGHT COORDINATES (highest x/y)\n",
    "    x_y = xindices/yindices\n",
    "    #find highest x/y value:\n",
    "    max_x_y = np.max(x_y)\n",
    "    #Find the x, y pair correpsonding to the maximum x/y using the index\n",
    "    max_x_y_i = np.where(x_y == max_x_y)[0][0]\n",
    "    topright = [xindices[max_x_y_i], yindices[max_x_y_i]]\n",
    "    topright_coords.update( {BoxID: topright} )\n",
    "    \n",
    "    #1C and 2C) CALCULATE THE MIDPOINTS\n",
    "    #Left\n",
    "    midpoint_x = (topleft[0]+bottomleft[0])/2\n",
    "    midpoint_y = (topleft[1]+bottomleft[1])/2  \n",
    "    #Right\n",
    "    midpoint_r_x = (topright[0]+bottomright[0])/2\n",
    "    midpoint_r_y = (topright[1]+bottomright[1])/2\n",
    "    \n",
    "    #midpoint = [midpoint_x, midpoint_y]\n",
    "    #Add x and y coordinates to dictionaries\n",
    "    midpoints_x.update( {BoxID: midpoint_x}  )\n",
    "    midpoints_y.update( {BoxID: midpoint_y}  )\n",
    "    midpoints_r_x.update( {BoxID: midpoint_r_x})\n",
    "    midpoints_r_y.update( {BoxID: midpoint_r_y})\n",
    "    \n",
    "    #3) CALCULATE CENTERLINE EQUATION\n",
    "    #slope\n",
    "    m = (midpoint_r_y - midpoint_y)/(midpoint_r_x - midpoint_x)\n",
    "    #y-intercept\n",
    "    b = midpoint_y - (m*midpoint_x)\n",
    "#     print(\"y =\", m, \"x +\", b)\n",
    "    \n",
    "    #add slope and intercepts to dictionaries\n",
    "    slopes.update( {BoxID: m})\n",
    "    intercepts.update( {BoxID: b})"
   ]
  },
  {
   "cell_type": "markdown",
   "metadata": {},
   "source": [
    "### Visual check of the vertices, midpoints, and centerlines by plotting over terminus box:"
   ]
  },
  {
   "cell_type": "code",
   "execution_count": 16,
   "metadata": {
    "scrolled": true
   },
   "outputs": [
    {
     "data": {
      "image/png": "[encoded data removed]",
      "text/plain": [
       "<Figure size 432x288 with 1 Axes>"
      ]
     },
     "metadata": {
      "needs_background": "light"
     },
     "output_type": "display_data"
    }
   ],
   "source": [
    "#Choose which glacier BoxID to check:\n",
    "BOI_ID = 'Helheim'\n",
    "\n",
    "#plot the raster pixels in black\n",
    "plt.scatter(boxes_xcoords[BOI_ID], boxes_ycoords[BOI_ID], c='k',marker='s')\n",
    "\n",
    "#plot the vertices in red\n",
    "plt.scatter(topleft_coords[BOI_ID][0], topleft_coords[BOI_ID][1], c='r')\n",
    "plt.scatter(bottomleft_coords[BOI_ID][0], bottomleft_coords[BOI_ID][1], c='r')\n",
    "plt.scatter(topright_coords[BOI_ID][0], topright_coords[BOI_ID][1], c='r')\n",
    "plt.scatter(bottomright_coords[BOI_ID][0], bottomright_coords[BOI_ID][1], c='r')\n",
    "\n",
    "#plot midpoints in cyan\n",
    "plt.scatter(midpoints_x[BOI_ID], midpoints_y[BOI_ID], c='c')\n",
    "plt.scatter(midpoints_r_x[BOI_ID], midpoints_r_y[BOI_ID], c='c')\n",
    "\n",
    "#plot the centerlines in blue\n",
    "x=np.linspace(np.min(boxes_xcoords[BOI_ID]), np.max(boxes_xcoords[BOI_ID]))\n",
    "y=slopes[BOI_ID]*x + intercepts[BOI_ID]\n",
    "plt.plot(x, y, '--c')\n",
    "         \n",
    "plt.gca().invert_yaxis()\n",
    "plt.axis('scaled')\n",
    "plt.show()"
   ]
  },
  {
   "cell_type": "markdown",
   "metadata": {},
   "source": [
    "### Turn the dictionaries storing the coordinates and centerlines into DataFrames and concatenate together"
   ]
  },
  {
   "cell_type": "code",
   "execution_count": 18,
   "metadata": {},
   "outputs": [
    {
     "data": {
      "text/html": [
       "<div>\n",
       "<style scoped>\n",
       "    .dataframe tbody tr th:only-of-type {\n",
       "        vertical-align: middle;\n",
       "    }\n",
       "\n",
       "    .dataframe tbody tr th {\n",
       "        vertical-align: top;\n",
       "    }\n",
       "\n",
       "    .dataframe thead th {\n",
       "        text-align: right;\n",
       "    }\n",
       "</style>\n",
       "<table border=\"1\" class=\"dataframe\">\n",
       "  <thead>\n",
       "    <tr style=\"text-align: right;\">\n",
       "      <th></th>\n",
       "      <th>midpoint_x</th>\n",
       "      <th>midpoint_y</th>\n",
       "      <th>cline_slope</th>\n",
       "      <th>cline_intercept</th>\n",
       "    </tr>\n",
       "    <tr>\n",
       "      <th>BoxID</th>\n",
       "      <th></th>\n",
       "      <th></th>\n",
       "      <th></th>\n",
       "      <th></th>\n",
       "    </tr>\n",
       "  </thead>\n",
       "  <tbody>\n",
       "    <tr>\n",
       "      <th>Alison</th>\n",
       "      <td>547.5</td>\n",
       "      <td>711.5</td>\n",
       "      <td>0.081081</td>\n",
       "      <td>667.108108</td>\n",
       "    </tr>\n",
       "    <tr>\n",
       "      <th>Helheim</th>\n",
       "      <td>562.5</td>\n",
       "      <td>750.5</td>\n",
       "      <td>0.009991</td>\n",
       "      <td>744.880109</td>\n",
       "    </tr>\n",
       "  </tbody>\n",
       "</table>\n",
       "</div>"
      ],
      "text/plain": [
       "         midpoint_x  midpoint_y  cline_slope  cline_intercept\n",
       "BoxID                                                        \n",
       "Alison        547.5       711.5     0.081081       667.108108\n",
       "Helheim       562.5       750.5     0.009991       744.880109"
      ]
     },
     "execution_count": 18,
     "metadata": {},
     "output_type": "execute_result"
    }
   ],
   "source": [
    "midpoints_x_df = pd.DataFrame.from_dict(midpoints_x, orient='index', columns=[\"midpoint_x\"])\n",
    "midpoints_y_df = pd.DataFrame.from_dict(midpoints_y, orient='index', columns=['midpoint_y'])\n",
    "\n",
    "cline_slopes_df = pd.DataFrame.from_dict(slopes, orient='index', columns=[\"cline_slope\"])\n",
    "cline_intercepts_df = pd.DataFrame.from_dict(intercepts, orient='index', columns=[\"cline_intercept\"])\n",
    "\n",
    "total_df = pd.concat([midpoints_x_df, midpoints_y_df, cline_slopes_df, cline_intercepts_df], axis=1)\n",
    "total_df.index.name = 'BoxID'\n",
    "total_df"
   ]
  },
  {
   "cell_type": "markdown",
   "metadata": {},
   "source": [
    "#### Export to Boxes_coords_pathrows.csv"
   ]
  },
  {
   "cell_type": "code",
   "execution_count": 19,
   "metadata": {},
   "outputs": [],
   "source": [
    "total_df.to_csv(path_or_buf = basepath+'Boxes_coords_pathrows_AH.csv', sep=',')"
   ]
  },
  {
   "cell_type": "code",
   "execution_count": null,
   "metadata": {},
   "outputs": [],
   "source": []
  }
 ],
 "metadata": {
  "kernelspec": {
   "display_name": "Python 3",
   "language": "python",
   "name": "python3"
  },
  "language_info": {
   "codemirror_mode": {
    "name": "ipython",
    "version": 3
   },
   "file_extension": ".py",
   "mimetype": "text/x-python",
   "name": "python",
   "nbconvert_exporter": "python",
   "pygments_lexer": "ipython3",
   "version": "3.7.3"
  }
 },
 "nbformat": 4,
 "nbformat_minor": 2
}
