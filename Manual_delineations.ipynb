{
 "cells": [
  {
   "cell_type": "markdown",
   "metadata": {},
   "source": [
    "# Code to pull terminus positions from the manual delineations exported from GEEDiT\n",
    "\n",
    "_By Jukes Liu. last modified 11-10-2019._"
   ]
  },
  {
   "cell_type": "markdown",
   "metadata": {},
   "source": [
    "## Set up:"
   ]
  },
  {
   "cell_type": "code",
   "execution_count": 50,
   "metadata": {},
   "outputs": [],
   "source": [
    "import pandas as pd\n",
    "import numpy as np\n",
    "import os\n",
    "import subprocess\n",
    "import matplotlib.pyplot as plt\n",
    "import matplotlib.image as mpimg\n",
    "import numpy.ma as ma\n",
    "\n",
    "#geospatial packages\n",
    "import fiona\n",
    "import geopandas as gpd\n",
    "from shapely.geometry import Polygon, Point, LineString\n",
    "import shapely\n",
    "#shapely to explore 2D spatial relationships (e.g. intersection of 2 vector files)"
   ]
  },
  {
   "cell_type": "code",
   "execution_count": 2,
   "metadata": {},
   "outputs": [],
   "source": [
    "basepath = '/media/jukes/jukes1/Manual/'"
   ]
  },
  {
   "cell_type": "markdown",
   "metadata": {},
   "source": [
    "## 1) Reproject manual delineation shapefiles into Greenland Polar Stereo"
   ]
  },
  {
   "cell_type": "code",
   "execution_count": 66,
   "metadata": {
    "scrolled": false
   },
   "outputs": [
    {
     "name": "stdout",
     "output_type": "stream",
     "text": [
      "615\n"
     ]
    }
   ],
   "source": [
    "counter = 0\n",
    "for file in os.listdir(basepath):\n",
    "    if file.endswith('.shp'):\n",
    "        #pull BoxID from name of file\n",
    "        BoxID = '%03d' % int(file.split('_')[0][3:])\n",
    "        #pull date from name of file\n",
    "        date = file.split('_')[3][:10]\n",
    "#         print(BoxID, date)\n",
    "\n",
    "        #reproject the file from lat, long to Greenland Polar Stereo\n",
    "        linepath = basepath+file\n",
    "        rp_command = 'ogr2ogr -f \"ESRI Shapefile\" -t_srs EPSG:3413 -s_srs EPSG:4326 '+linepath+'_PS.shp '+linepath+'.shp'\n",
    "#         print(rp_command)\n",
    "        subprocess.call(rp_command, shell=True)\n",
    "        \n",
    "        #keep track of how many shapefiles there are\n",
    "        counter = counter + 1\n",
    "        \n",
    "#         #grab coordinates and put into a line\n",
    "#         manual = fiona.open(basepath+file)\n",
    "# #         m = manual.next()\n",
    "#         coordinates = m['geometry']['coordinates']\n",
    "#         coords = [xy[0:2] for xy in coordinates]\n",
    "        \n",
    "#         m_line = LineString(coords)\n",
    "print(counter)"
   ]
  },
  {
   "cell_type": "code",
   "execution_count": null,
   "metadata": {},
   "outputs": [],
   "source": []
  }
 ],
 "metadata": {
  "kernelspec": {
   "display_name": "Python 3",
   "language": "python",
   "name": "python3"
  },
  "language_info": {
   "codemirror_mode": {
    "name": "ipython",
    "version": 3
   },
   "file_extension": ".py",
   "mimetype": "text/x-python",
   "name": "python",
   "nbconvert_exporter": "python",
   "pygments_lexer": "ipython3",
   "version": "3.7.3"
  }
 },
 "nbformat": 4,
 "nbformat_minor": 2
}
