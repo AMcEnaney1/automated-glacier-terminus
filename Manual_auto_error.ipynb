{
 "cells": [
  {
   "cell_type": "markdown",
   "metadata": {},
   "source": [
    "## Code to calculate the auto and manual difference using an objective function\n",
    "\n",
    "Weighted least squares solution"
   ]
  },
  {
   "cell_type": "markdown",
   "metadata": {},
   "source": [
    "### Import packages, functions, manual and automated data"
   ]
  },
  {
   "cell_type": "code",
   "execution_count": 65,
   "metadata": {},
   "outputs": [],
   "source": [
    "import pandas as pd\n",
    "import numpy as np\n",
    "import os\n",
    "import subprocess\n",
    "import matplotlib.pyplot as plt\n",
    "import numpy.ma as ma\n",
    "import datetime\n",
    "import math\n",
    "\n",
    "manual_path = '/media/jukes/jukes1/Manual/'; manual_filename = 'manual_tpos.csv'\n",
    "auto_path = '/home/jukes/Documents/Sample_glaciers/'"
   ]
  },
  {
   "cell_type": "code",
   "execution_count": 68,
   "metadata": {},
   "outputs": [],
   "source": [
    "os.chdir('/home/jukes/automated-glacier-terminus') #import necessary functions:\n",
    "from automated_terminus_functions import distance"
   ]
  },
  {
   "cell_type": "code",
   "execution_count": 73,
   "metadata": {},
   "outputs": [],
   "source": [
    "coord1 = [624431.8665895949, 8576051.819328722]\n",
    "coord2 = [624337.7591887069, 8576049.807048056]"
   ]
  },
  {
   "cell_type": "code",
   "execution_count": 74,
   "metadata": {},
   "outputs": [
    {
     "data": {
      "text/plain": [
       "94.1289125368497"
      ]
     },
     "execution_count": 74,
     "metadata": {},
     "output_type": "execute_result"
    }
   ],
   "source": [
    "distance(coord1[0], coord1[1], coord2[0], coord2[1])"
   ]
  },
  {
   "cell_type": "code",
   "execution_count": 76,
   "metadata": {},
   "outputs": [],
   "source": [
    "#MANUAL TERMINUS POSITIONS\n",
    "manual_df = pd.read_csv(manual_path+manual_filename, dtype=str,sep=',')\n",
    "\n",
    "#SPLIT INTO 3 DATAFRAMES FOR 3 FLOWLINES:\n",
    "manual50 = manual_df[['BoxID','datetimes', 'intersect_x', 'intersect_y', \n",
    "                                      'tpos50']].copy().reset_index(drop=True).rename(columns={\"tpos50\": \"tpos\"})\n",
    "manual25 = manual_df[['BoxID','datetimes', 'intersect_x', 'intersect_y', \n",
    "                                      'tpos25']].copy().reset_index(drop=True).rename(columns={\"tpos25\": \"tpos\"})\n",
    "manual75 = manual_df[['BoxID','datetimes', 'intersect_x', 'intersect_y',\n",
    "                                      'tpos75']].copy().reset_index(drop=True).rename(columns={\"tpos75\": \"tpos\"})"
   ]
  },
  {
   "cell_type": "code",
   "execution_count": 46,
   "metadata": {},
   "outputs": [
    {
     "name": "stdout",
     "output_type": "stream",
     "text": [
      "31.040000000000003\n"
     ]
    }
   ],
   "source": [
    "#SIGMAS (DATA ERRORS) ALONG EACH FLOWLINE (FROM INTERANALYST DIFFERENCES)\n",
    "sigmas = [35.02, 27.65, 30.45]\n",
    "sigma_avg = np.average(sigmas); print(sigma_avg)"
   ]
  },
  {
   "cell_type": "code",
   "execution_count": 56,
   "metadata": {},
   "outputs": [
    {
     "name": "stdout",
     "output_type": "stream",
     "text": [
      "Box174\n",
      "Theta values: 15.250678739646302 15.153724923376984\n",
      "Box002\n",
      "Theta values: 43.19720044648473 43.18432633252906\n",
      "Box001\n",
      "Theta values: 32.47436749614078 32.26716320559405\n",
      "Box120\n",
      "Theta values: 13.919454254169144 13.744797471440512\n",
      "Box259\n",
      "Theta values: 26.457638700697967 26.416362722840447\n"
     ]
    }
   ],
   "source": [
    "theta1s = []; theta2s = []\n",
    "#FOR EACH GLACIER BOXID:\n",
    "BoxIDs = list(set(manual_df.BoxID))\n",
    "for BoxID in BoxIDs:\n",
    "    print(\"Box\"+BoxID)\n",
    "    #grab automated tpos\n",
    "    auto50 = pd.read_csv(auto_path+'Tpos_Box'+BoxID+'_flowline50_filtered.csv', dtype=str,sep=',')\n",
    "    auto25 = pd.read_csv(auto_path+'Tpos_Box'+BoxID+'_flowline25_filtered.csv', dtype=str,sep=',')\n",
    "    auto75 = pd.read_csv(auto_path+'Tpos_Box'+BoxID+'_flowline75_filtered.csv', dtype=str,sep=',')\n",
    "    autodfs = [auto50, auto25, auto75]\n",
    "    #grab manual tpos that corresponds to just boxID\n",
    "    manual50_df = manual50[manual50.BoxID == BoxID].copy()\n",
    "    manual25_df = manual25[manual25.BoxID == BoxID].copy()\n",
    "    manual75_df = manual75[manual75.BoxID == BoxID].copy()\n",
    "    manualdfs = [manual50, manual25, manual75]\n",
    "    #calculate difference in terminus positions along the three flowlines\n",
    "    lists3 = []; lists3_norm = []\n",
    "    for i in range(0, len(manualdfs)):\n",
    "        man = manualdfs[i]; auto = autodfs[i]; sigma = sigmas[i]\n",
    "        compare_df = man.merge(auto, how='inner', on=['datetimes'])\n",
    "        #cast terminus positions into float values\n",
    "        compare_df = compare_df.astype({'tpos_x': 'float', 'tpos_y': 'float'})\n",
    "        #subtract the absolute value of the difference and put into df as a column named \"diff\"\n",
    "        compare_df['diff'] = abs(np.array(compare_df.tpos_x) - np.array(compare_df.tpos_y))  \n",
    "        compare_df['diff/sigma'] = abs(np.array(compare_df.tpos_x) - np.array(compare_df.tpos_y))/sigma\n",
    "        lists3.append(list(compare_df['diff']))  \n",
    "        lists3_norm.append(list(compare_df['diff/sigma']))\n",
    "    diff_all = lists3[0]+lists3[1]+lists3[2] #list of all the differences between manual and auto\n",
    "    normalizeddiff_all = lists3_norm[0]+lists3_norm[1]+lists3_norm[2] #list of all the normalized differences\n",
    "    N = len(diff_all) #number of total intersections\n",
    "    \n",
    "    #CALCULATE THETA:\n",
    "    theta1 = (1.0/N)*np.sum(normalizeddiff_all) #sum of normalized differences along flowlines\n",
    "    theta2 = (1.0/N)*(np.sum(diff_all)/sigma_avg) #sum of differences normalized by average sigma\n",
    "    theta1s.append(theta1); theta2s.append(theta2)\n",
    "    print(\"Theta values:\",theta1, theta2)"
   ]
  },
  {
   "cell_type": "code",
   "execution_count": 60,
   "metadata": {},
   "outputs": [
    {
     "data": {
      "text/plain": [
       "[('Theta_avg', nan, nan),\n",
       " ('174', 15.250678739646302, 15.153724923376984),\n",
       " ('002', 43.19720044648473, 43.18432633252906),\n",
       " ('001', 32.47436749614078, 32.26716320559405),\n",
       " ('120', 13.919454254169144, 13.744797471440512),\n",
       " ('259', 26.457638700697967, 26.416362722840447)]"
      ]
     },
     "execution_count": 60,
     "metadata": {},
     "output_type": "execute_result"
    }
   ],
   "source": [
    "list(zip(columns, theta1_for_df, theta2_for_df))"
   ]
  },
  {
   "cell_type": "code",
   "execution_count": 67,
   "metadata": {},
   "outputs": [],
   "source": [
    "#CALCULATE OVERALL THETA and write results to csv\n",
    "theta1_all = np.average(theta1s)\n",
    "theta2_all = np.average(theta2s)\n",
    "\n",
    "#organize data\n",
    "columns = ['Theta_avg']+BoxIDs\n",
    "theta1_for_df = [theta1_all]+theta1s\n",
    "theta2_for_df = [theta2_all]+theta2s\n",
    "#write to csv\n",
    "pd.DataFrame(list(zip(columns, theta1_for_df, theta2_for_df)), \n",
    "             columns=['ID', 'theta1', 'theta2']).to_csv(manual_path+'thetas.csv', sep=',') \n",
    "\n",
    "#ADJUST FILENAME TO INCLUDE PARAMETERS OR SOMETHING"
   ]
  },
  {
   "cell_type": "code",
   "execution_count": 80,
   "metadata": {},
   "outputs": [],
   "source": [
    "def objective_func(manual_df):\n",
    "    #SPLIT INTO 3 DATAFRAMES FOR 3 FLOWLINES:\n",
    "    manual50 = manual_df[['BoxID','datetimes', 'intersect_x', 'intersect_y', \n",
    "                                          'tpos50']].copy().reset_index(drop=True).rename(columns={\"tpos50\": \"tpos\"})\n",
    "    manual25 = manual_df[['BoxID','datetimes', 'intersect_x', 'intersect_y', \n",
    "                                          'tpos25']].copy().reset_index(drop=True).rename(columns={\"tpos25\": \"tpos\"})\n",
    "    manual75 = manual_df[['BoxID','datetimes', 'intersect_x', 'intersect_y',\n",
    "                                          'tpos75']].copy().reset_index(drop=True).rename(columns={\"tpos75\": \"tpos\"})\n",
    "    #SIGMAS (DATA ERRORS) ALONG EACH FLOWLINE (FROM INTERANALYST DIFFERENCES)\n",
    "    sigmas = [35.02, 27.65, 30.45]; sigma_avg = np.average(sigmas);\n",
    "    \n",
    "    theta1s = []; theta2s = []\n",
    "    #FOR EACH GLACIER BOXID:\n",
    "    BoxIDs = list(set(manual_df.BoxID))\n",
    "    for BoxID in BoxIDs:\n",
    "        print(\"Box\"+BoxID)\n",
    "        #grab automated tpos\n",
    "        auto50 = pd.read_csv(auto_path+'Tpos_Box'+BoxID+'_flowline50_filtered.csv', dtype=str,sep=',')\n",
    "        auto25 = pd.read_csv(auto_path+'Tpos_Box'+BoxID+'_flowline25_filtered.csv', dtype=str,sep=',')\n",
    "        auto75 = pd.read_csv(auto_path+'Tpos_Box'+BoxID+'_flowline75_filtered.csv', dtype=str,sep=',')\n",
    "        autodfs = [auto50, auto25, auto75]\n",
    "        #grab manual tpos that corresponds to just boxID\n",
    "        manual50_df = manual50[manual50.BoxID == BoxID].copy()\n",
    "        manual25_df = manual25[manual25.BoxID == BoxID].copy()\n",
    "        manual75_df = manual75[manual75.BoxID == BoxID].copy()\n",
    "        manualdfs = [manual50, manual25, manual75]\n",
    "        #calculate difference in terminus positions along the three flowlines\n",
    "        lists3 = []; lists3_norm = []\n",
    "        for i in range(0, len(manualdfs)):\n",
    "            man = manualdfs[i]; auto = autodfs[i]; sigma = sigmas[i]\n",
    "            compare_df = man.merge(auto, how='inner', on=['datetimes'])\n",
    "            #cast terminus positions into float values\n",
    "            compare_df = compare_df.astype({'tpos_x': 'float', 'tpos_y': 'float'})\n",
    "            #subtract the absolute value of the difference and put into df as a column named \"diff\"\n",
    "            compare_df['diff'] = abs(np.array(compare_df.tpos_x) - np.array(compare_df.tpos_y))  \n",
    "            compare_df['diff/sigma'] = abs(np.array(compare_df.tpos_x) - np.array(compare_df.tpos_y))/sigma\n",
    "            lists3.append(list(compare_df['diff']))  \n",
    "            lists3_norm.append(list(compare_df['diff/sigma']))\n",
    "        diff_all = lists3[0]+lists3[1]+lists3[2] #list of all the differences between manual and auto\n",
    "        normalizeddiff_all = lists3_norm[0]+lists3_norm[1]+lists3_norm[2] #list of all the normalized differences\n",
    "        N = len(diff_all) #number of total intersections\n",
    "\n",
    "        #CALCULATE THETA:\n",
    "        theta1 = (1.0/N)*np.sum(normalizeddiff_all) #sum of normalized differences along flowlines\n",
    "        theta2 = (1.0/N)*(np.sum(diff_all)/sigma_avg) #sum of differences normalized by average sigma\n",
    "        theta1s.append(theta1); theta2s.append(theta2)\n",
    "        #print(\"Theta values:\",theta1, theta2)   \n",
    "        \n",
    "    #CALCULATE OVERALL THETA\n",
    "    theta1_all = np.average(theta1s); theta2_all = np.average(theta2s)\n",
    "    #organize data in dataframe\n",
    "    column_titles = ['Theta_avg']+BoxIDs\n",
    "    theta1_for_df = [theta1_all]+theta1s; theta2_for_df = [theta2_all]+theta2s\n",
    "    #write to csv\n",
    "    theta_df = pd.DataFrame(list(zip(column_titles, theta1_for_df, theta2_for_df)), \n",
    "                 columns=['ID', 'theta1', 'theta2'])\n",
    "    return theta_df "
   ]
  },
  {
   "cell_type": "code",
   "execution_count": 78,
   "metadata": {},
   "outputs": [],
   "source": [
    "# objective_func(manual_df)"
   ]
  },
  {
   "cell_type": "code",
   "execution_count": null,
   "metadata": {},
   "outputs": [],
   "source": []
  }
 ],
 "metadata": {
  "kernelspec": {
   "display_name": "Python 3",
   "language": "python",
   "name": "python3"
  },
  "language_info": {
   "codemirror_mode": {
    "name": "ipython",
    "version": 3
   },
   "file_extension": ".py",
   "mimetype": "text/x-python",
   "name": "python",
   "nbconvert_exporter": "python",
   "pygments_lexer": "ipython3",
   "version": "3.7.3"
  }
 },
 "nbformat": 4,
 "nbformat_minor": 2
}
