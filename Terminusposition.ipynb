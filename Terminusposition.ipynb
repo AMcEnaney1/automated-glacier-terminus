{
 "cells": [
  {
   "cell_type": "markdown",
   "metadata": {},
   "source": [
    "# Plot glacier terminus positions at different dates"
   ]
  },
  {
   "cell_type": "markdown",
   "metadata": {},
   "source": [
    "    -read in terminuspickout.csv and create a new column called xdist_boxtopleft in which it calculates the centroidx-lowest_x\n",
    "    -create date-time object for date\n",
    "    -plot x_dist vs. date!"
   ]
  },
  {
   "cell_type": "markdown",
   "metadata": {},
   "source": [
    "### Import packages and read in csv files"
   ]
  },
  {
   "cell_type": "code",
   "execution_count": 72,
   "metadata": {},
   "outputs": [],
   "source": [
    "import numpy as np\n",
    "import pandas as pd\n",
    "import matplotlib.pyplot as plt\n",
    "import matplotlib.image as mpimg\n",
    "import datetime\n",
    "\n",
    "basepath = '/Users/julialiu/Documents/M_Thesis/Data/'"
   ]
  },
  {
   "cell_type": "code",
   "execution_count": 64,
   "metadata": {},
   "outputs": [
    {
     "name": "stdout",
     "output_type": "stream",
     "text": [
      "['BoxID' ' Img_Date' ' Scale' ' Posfirst' ' Size' ' Centroid_X'\n",
      " ' Centroid_Y']\n",
      "53\n"
     ]
    }
   ],
   "source": [
    "#Read in file with box coordinates\n",
    "box_df = pd.read_csv(basepath+'Boxes_coords_pathrows.csv', sep=',', dtype=str)\n",
    "box_df = box_df.set_index('BoxID')\n",
    "\n",
    "#Read in file with terminus picks\n",
    "termini_df = pd.read_csv(basepath+'terminuspickout_2019_07_16.csv', sep=',', dtype=str, header=1)\n",
    "termini_df.replace(to_replace =\"NaN\", value = np.nan)\n",
    "\n",
    "#look at the DataFrames\n",
    "#termini_df.head()\n",
    "#box_df\n",
    "\n",
    "#Check column names for termini_df:\n",
    "print(termini_df.columns.values)\n",
    "termini_df_rownum = termini_df.shape[0]\n",
    "print(termini_df_rownum)"
   ]
  },
  {
   "cell_type": "markdown",
   "metadata": {},
   "source": [
    "### Calculate distances from centroids the box coordinates and add to updated DataFrame"
   ]
  },
  {
   "cell_type": "code",
   "execution_count": 143,
   "metadata": {},
   "outputs": [
    {
     "data": {
      "text/html": [
       "<div>\n",
       "<style scoped>\n",
       "    .dataframe tbody tr th:only-of-type {\n",
       "        vertical-align: middle;\n",
       "    }\n",
       "\n",
       "    .dataframe tbody tr th {\n",
       "        vertical-align: top;\n",
       "    }\n",
       "\n",
       "    .dataframe thead th {\n",
       "        text-align: right;\n",
       "    }\n",
       "</style>\n",
       "<table border=\"1\" class=\"dataframe\">\n",
       "  <thead>\n",
       "    <tr style=\"text-align: right;\">\n",
       "      <th></th>\n",
       "      <th>BoxID</th>\n",
       "      <th>Img_Date</th>\n",
       "      <th>Scale</th>\n",
       "      <th>Posfirst</th>\n",
       "      <th>Size</th>\n",
       "      <th>Centroid_X</th>\n",
       "      <th>Centroid_Y</th>\n",
       "      <th>xdist_leftmost</th>\n",
       "      <th>xdist_midpoint</th>\n",
       "    </tr>\n",
       "  </thead>\n",
       "  <tbody>\n",
       "    <tr>\n",
       "      <th>0</th>\n",
       "      <td>001</td>\n",
       "      <td>20181001</td>\n",
       "      <td>018</td>\n",
       "      <td>55686</td>\n",
       "      <td>63</td>\n",
       "      <td>127.9365234375</td>\n",
       "      <td>166.61903381347656</td>\n",
       "      <td>13.936523</td>\n",
       "      <td>10.936523</td>\n",
       "    </tr>\n",
       "    <tr>\n",
       "      <th>1</th>\n",
       "      <td>001</td>\n",
       "      <td>20180825</td>\n",
       "      <td>003</td>\n",
       "      <td>55993</td>\n",
       "      <td>74</td>\n",
       "      <td>130.47291564941406</td>\n",
       "      <td>164.90545654296875</td>\n",
       "      <td>16.472916</td>\n",
       "      <td>13.472916</td>\n",
       "    </tr>\n",
       "    <tr>\n",
       "      <th>2</th>\n",
       "      <td>001</td>\n",
       "      <td>20180924</td>\n",
       "      <td>007</td>\n",
       "      <td>55686</td>\n",
       "      <td>76</td>\n",
       "      <td>128.74996948242188</td>\n",
       "      <td>163.53950500488281</td>\n",
       "      <td>14.749969</td>\n",
       "      <td>11.749969</td>\n",
       "    </tr>\n",
       "    <tr>\n",
       "      <th>3</th>\n",
       "      <td>001</td>\n",
       "      <td>20180830</td>\n",
       "      <td>004</td>\n",
       "      <td>55993</td>\n",
       "      <td>76</td>\n",
       "      <td>129.74998474121094</td>\n",
       "      <td>163.23684692382812</td>\n",
       "      <td>15.749985</td>\n",
       "      <td>12.749985</td>\n",
       "    </tr>\n",
       "    <tr>\n",
       "      <th>4</th>\n",
       "      <td>001</td>\n",
       "      <td>20180613</td>\n",
       "      <td>004</td>\n",
       "      <td>56300</td>\n",
       "      <td>75</td>\n",
       "      <td>130.413330078125</td>\n",
       "      <td>164.7066650390625</td>\n",
       "      <td>16.413330</td>\n",
       "      <td>13.413330</td>\n",
       "    </tr>\n",
       "  </tbody>\n",
       "</table>\n",
       "</div>"
      ],
      "text/plain": [
       "  BoxID  Img_Date  Scale  Posfirst  Size          Centroid_X  \\\n",
       "0   001  20181001    018     55686    63      127.9365234375   \n",
       "1   001  20180825    003     55993    74  130.47291564941406   \n",
       "2   001  20180924    007     55686    76  128.74996948242188   \n",
       "3   001  20180830    004     55993    76  129.74998474121094   \n",
       "4   001  20180613    004     56300    75    130.413330078125   \n",
       "\n",
       "           Centroid_Y  xdist_leftmost  xdist_midpoint  \n",
       "0  166.61903381347656       13.936523       10.936523  \n",
       "1  164.90545654296875       16.472916       13.472916  \n",
       "2  163.53950500488281       14.749969       11.749969  \n",
       "3  163.23684692382812       15.749985       12.749985  \n",
       "4   164.7066650390625       16.413330       13.413330  "
      ]
     },
     "execution_count": 143,
     "metadata": {},
     "output_type": "execute_result"
    }
   ],
   "source": [
    "#create a list of the subset dataframes (by BoxID) to be concatenated back together at the end\n",
    "subset_dfs = []\n",
    "\n",
    "for BoxID in box_df.index:\n",
    "    box_leftmost_x = np.float(box_df.loc[BoxID, 'leftmost_x'])\n",
    "    box_midpoint_x = np.float(box_df.loc[BoxID, 'midpoint_x'])\n",
    "    #print(\"Box\"+BoxID, box_leftmost_x, box_midpoint_x)\n",
    "    \n",
    "    #grab termini pick info for that BoxID\n",
    "    subset_df = termini_df[termini_df['BoxID'] == BoxID].copy()\n",
    "    \n",
    "    #grab the centroids as an array\n",
    "    centroids_x = np.array(subset_df.loc[:, ' Centroid_X'])\n",
    "    #convert to float\n",
    "    centroids_x = centroids_x.astype(float)\n",
    "\n",
    "    #Calculate the x distance between each centroid and the leftmost point/midpoint of box\n",
    "    xdist_leftmost = centroids_x - box_leftmost_x\n",
    "    xdist_midpoint = centroids_x - box_midpoint_x\n",
    "\n",
    "    #add these xdistances to the subset array\n",
    "    subset_df['xdist_leftmost'] = xdist_leftmost\n",
    "    subset_df['xdist_midpoint'] = xdist_midpoint\n",
    "    \n",
    "    #append the subset df to the subset dfs list\n",
    "    subset_dfs.append(subset_df)\n",
    "\n",
    "xdist_df = pd.concat(subset_dfs)\n",
    "xdist_df.head()"
   ]
  },
  {
   "cell_type": "markdown",
   "metadata": {},
   "source": [
    "### Convert dates into DateTime objects for plotting timeseries"
   ]
  },
  {
   "cell_type": "code",
   "execution_count": 159,
   "metadata": {},
   "outputs": [
    {
     "data": {
      "text/html": [
       "<div>\n",
       "<style scoped>\n",
       "    .dataframe tbody tr th:only-of-type {\n",
       "        vertical-align: middle;\n",
       "    }\n",
       "\n",
       "    .dataframe tbody tr th {\n",
       "        vertical-align: top;\n",
       "    }\n",
       "\n",
       "    .dataframe thead th {\n",
       "        text-align: right;\n",
       "    }\n",
       "</style>\n",
       "<table border=\"1\" class=\"dataframe\">\n",
       "  <thead>\n",
       "    <tr style=\"text-align: right;\">\n",
       "      <th></th>\n",
       "      <th>BoxID</th>\n",
       "      <th>Img_Date</th>\n",
       "      <th>Scale</th>\n",
       "      <th>Posfirst</th>\n",
       "      <th>Size</th>\n",
       "      <th>Centroid_X</th>\n",
       "      <th>Centroid_Y</th>\n",
       "      <th>xdist_leftmost</th>\n",
       "      <th>xdist_midpoint</th>\n",
       "      <th>datetimes</th>\n",
       "    </tr>\n",
       "  </thead>\n",
       "  <tbody>\n",
       "    <tr>\n",
       "      <th>0</th>\n",
       "      <td>001</td>\n",
       "      <td>20181001</td>\n",
       "      <td>018</td>\n",
       "      <td>55686</td>\n",
       "      <td>63</td>\n",
       "      <td>127.9365234375</td>\n",
       "      <td>166.61903381347656</td>\n",
       "      <td>13.936523</td>\n",
       "      <td>10.936523</td>\n",
       "      <td>2018-10-01</td>\n",
       "    </tr>\n",
       "    <tr>\n",
       "      <th>1</th>\n",
       "      <td>001</td>\n",
       "      <td>20180825</td>\n",
       "      <td>003</td>\n",
       "      <td>55993</td>\n",
       "      <td>74</td>\n",
       "      <td>130.47291564941406</td>\n",
       "      <td>164.90545654296875</td>\n",
       "      <td>16.472916</td>\n",
       "      <td>13.472916</td>\n",
       "      <td>2018-08-25</td>\n",
       "    </tr>\n",
       "    <tr>\n",
       "      <th>2</th>\n",
       "      <td>001</td>\n",
       "      <td>20180924</td>\n",
       "      <td>007</td>\n",
       "      <td>55686</td>\n",
       "      <td>76</td>\n",
       "      <td>128.74996948242188</td>\n",
       "      <td>163.53950500488281</td>\n",
       "      <td>14.749969</td>\n",
       "      <td>11.749969</td>\n",
       "      <td>2018-09-24</td>\n",
       "    </tr>\n",
       "    <tr>\n",
       "      <th>3</th>\n",
       "      <td>001</td>\n",
       "      <td>20180830</td>\n",
       "      <td>004</td>\n",
       "      <td>55993</td>\n",
       "      <td>76</td>\n",
       "      <td>129.74998474121094</td>\n",
       "      <td>163.23684692382812</td>\n",
       "      <td>15.749985</td>\n",
       "      <td>12.749985</td>\n",
       "      <td>2018-08-30</td>\n",
       "    </tr>\n",
       "    <tr>\n",
       "      <th>4</th>\n",
       "      <td>001</td>\n",
       "      <td>20180613</td>\n",
       "      <td>004</td>\n",
       "      <td>56300</td>\n",
       "      <td>75</td>\n",
       "      <td>130.413330078125</td>\n",
       "      <td>164.7066650390625</td>\n",
       "      <td>16.413330</td>\n",
       "      <td>13.413330</td>\n",
       "      <td>2018-06-13</td>\n",
       "    </tr>\n",
       "  </tbody>\n",
       "</table>\n",
       "</div>"
      ],
      "text/plain": [
       "  BoxID  Img_Date  Scale  Posfirst  Size          Centroid_X  \\\n",
       "0   001  20181001    018     55686    63      127.9365234375   \n",
       "1   001  20180825    003     55993    74  130.47291564941406   \n",
       "2   001  20180924    007     55686    76  128.74996948242188   \n",
       "3   001  20180830    004     55993    76  129.74998474121094   \n",
       "4   001  20180613    004     56300    75    130.413330078125   \n",
       "\n",
       "           Centroid_Y  xdist_leftmost  xdist_midpoint  datetimes  \n",
       "0  166.61903381347656       13.936523       10.936523 2018-10-01  \n",
       "1  164.90545654296875       16.472916       13.472916 2018-08-25  \n",
       "2  163.53950500488281       14.749969       11.749969 2018-09-24  \n",
       "3  163.23684692382812       15.749985       12.749985 2018-08-30  \n",
       "4   164.7066650390625       16.413330       13.413330 2018-06-13  "
      ]
     },
     "execution_count": 159,
     "metadata": {},
     "output_type": "execute_result"
    }
   ],
   "source": [
    "#grab dates from DataFrame:\n",
    "dates = xdist_df.loc[:, ' Img_Date']\n",
    "\n",
    "#create list to hold new datetime objects\n",
    "datetime_objs = []\n",
    "\n",
    "for date in dates:\n",
    "    datetime_obj = datetime.strptime(date, '%Y%m%d')\n",
    "    datetime_objs.append(datetime_obj)\n",
    "    \n",
    "xdist_df['datetimes'] = datetime_objs\n",
    "xdist_df.head()"
   ]
  },
  {
   "cell_type": "markdown",
   "metadata": {},
   "source": [
    "### Plot terminus position vs. datetime for each BoxID"
   ]
  },
  {
   "cell_type": "markdown",
   "metadata": {},
   "source": [
    "Convert dates to datetime objects"
   ]
  },
  {
   "cell_type": "code",
   "execution_count": 167,
   "metadata": {},
   "outputs": [],
   "source": [
    "#set dictionary to call info in DataFrame for each individual BoxID\n",
    "termini_bybox = {}\n",
    "\n",
    "#grab dataframe for each individual BoxID\n",
    "for BoxID in box_df.index:\n",
    "    #grab termini pick info for that BoxID\n",
    "    termini_bybox_df = xdist_df[xdist_df['BoxID'] == BoxID].copy()\n",
    "    #update to dictionary\n",
    "    termini_bybox.update( {BoxID: termini_bybox_df} )"
   ]
  },
  {
   "cell_type": "markdown",
   "metadata": {},
   "source": [
    "Plot for each BoxId"
   ]
  },
  {
   "cell_type": "code",
   "execution_count": 220,
   "metadata": {},
   "outputs": [
    {
     "data": {
      "image/png": "[encoded data removed]",
      "text/plain": [
       "<Figure size 576x432 with 1 Axes>"
      ]
     },
     "metadata": {},
     "output_type": "display_data"
    }
   ],
   "source": [
    "#set box of interest (BOI)\n",
    "BOI = '174'\n",
    "df_BOI = termini_bybox[BOI]\n",
    "#print(df_BOI)\n",
    "\n",
    "#Plot!\n",
    "plotted = df_BOI.plot(x='datetimes', y='xdist_midpoint', legend=False, figsize=(8,6), style='mo-')\n",
    "plt.title(\"Box\"+BOI, fontsize=20)\n",
    "plt.xlabel('Date', fontsize=18)\n",
    "plt.ylabel('Terminus position (m)', fontsize=18)\n",
    "plt.xticks(fontsize=16)\n",
    "plt.yticks(fontsize=16)\n",
    "\n",
    "plt.show()"
   ]
  },
  {
   "cell_type": "code",
   "execution_count": null,
   "metadata": {},
   "outputs": [],
   "source": []
  }
 ],
 "metadata": {
  "kernelspec": {
   "display_name": "Python 3",
   "language": "python",
   "name": "python3"
  },
  "language_info": {
   "codemirror_mode": {
    "name": "ipython",
    "version": 3
   },
   "file_extension": ".py",
   "mimetype": "text/x-python",
   "name": "python",
   "nbconvert_exporter": "python",
   "pygments_lexer": "ipython3",
   "version": "3.6.8"
  }
 },
 "nbformat": 4,
 "nbformat_minor": 2
}
