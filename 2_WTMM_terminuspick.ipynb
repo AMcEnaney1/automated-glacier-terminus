{
 "cells": [
  {
   "cell_type": "markdown",
   "metadata": {},
   "source": [
    "# Run the 2D Wavelet Transform Modulus Maxima (WTMM) and pick the terminus chain\n",
    "\n",
    "By Jukes Liu (jukesliu@boisestate.edu)\n",
    "\n",
    "_Last modified 05-09-2020._\n",
    "\n",
    "Options to run in parallel using _multiprocessing_ and _subproccess_ or on 1 CPU.\n",
    "\n",
    "## 1) Set-up"
   ]
  },
  {
   "cell_type": "code",
   "execution_count": 15,
   "metadata": {},
   "outputs": [
    {
     "name": "stdout",
     "output_type": "stream",
     "text": [
      "['002', '033', '531', '277', '174', '235', '259', '001', '120', '004']\n"
     ]
    }
   ],
   "source": [
    "import numpy as np\n",
    "import pandas as pd\n",
    "import subprocess\n",
    "import os\n",
    "import shutil\n",
    "import psutil\n",
    "import math\n",
    "from multiprocessing import Pipe, Process, connection\n",
    "\n",
    "#Set base paths\n",
    "basepath='/home/jukes/Documents/Sample_glaciers/' # folder containing the box shapefile and info\n",
    "downloadpath = '/media/jukes/jukes1/LS8aws/' # folder to contain the downloaded images\n",
    "\n",
    "# grab BoxIDs\n",
    "downloaded_df = pd.read_csv(basepath+\"Images_downloaded_sample10.csv\", dtype=str, usecols=[1,2,3,4]).set_index('BoxID')\n",
    "BoxIDs = list(downloaded_df.index); print(BoxIDs)"
   ]
  },
  {
   "cell_type": "code",
   "execution_count": 16,
   "metadata": {},
   "outputs": [
    {
     "name": "stdout",
     "output_type": "stream",
     "text": [
      "['002', '174', '259', '001', '120']\n"
     ]
    }
   ],
   "source": [
    "# # # manually remove those that had bad rotations\n",
    "downloaded_df = downloaded_df.drop(['033', '235', '277', '531','004'])\n",
    "# # '174', '259', '002', '001',\n",
    "BoxIDs = list(downloaded_df.index); print(BoxIDs)"
   ]
  },
  {
   "cell_type": "code",
   "execution_count": 17,
   "metadata": {},
   "outputs": [],
   "source": [
    "# over write\n",
    "# downloaded_df.to_csv(path_or_buf = basepath+'Images_downloaded_sample5.csv', sep=',')"
   ]
  },
  {
   "cell_type": "markdown",
   "metadata": {},
   "source": [
    "## 2) Run the WTMM analysis through Xsmurf\n",
    "\n",
    "## 2A) on 1 CPU"
   ]
  },
  {
   "cell_type": "code",
   "execution_count": 8,
   "metadata": {},
   "outputs": [
    {
     "name": "stdout",
     "output_type": "stream",
     "text": [
      "/home/akhalil/src/xsmurf-2.7/main/xsmurf -nodisplay /home/jukes/Documents/Scripts/scr_gaussian.tcl 245 296 220 240 277 270 246\n"
     ]
    },
    {
     "data": {
      "text/plain": [
       "0"
      ]
     },
     "execution_count": 8,
     "metadata": {},
     "output_type": "execute_result"
    }
   ],
   "source": [
    "inputIDs = \" \".join(BoxIDs)\n",
    "scr_gaussian = '/home/akhalil/src/xsmurf-2.7/main/xsmurf -nodisplay /home/jukes/Documents/Scripts/scr_gaussian.tcl '+inputIDs\n",
    "print(scr_gaussian)\n",
    "subprocess.call(scr_gaussian, shell=True)"
   ]
  },
  {
   "cell_type": "code",
   "execution_count": 9,
   "metadata": {},
   "outputs": [],
   "source": [
    "# downloaded_df = downloaded_df.drop(['004', '120', '174'])"
   ]
  },
  {
   "cell_type": "markdown",
   "metadata": {},
   "source": [
    "## 2B) on multiple CPUs"
   ]
  },
  {
   "cell_type": "code",
   "execution_count": 7,
   "metadata": {},
   "outputs": [
    {
     "data": {
      "text/plain": [
       "0"
      ]
     },
     "execution_count": 7,
     "metadata": {},
     "output_type": "execute_result"
    }
   ],
   "source": [
    "inputIDs = \" \".join(BoxIDs)\n",
    "# run shell script\n",
    "runsh = 'cd /home/jukes/Documents/Scripts/; chmod +x WTMM_parallel_test.sh; ./WTMM_parallel_test.sh '+inputIDs\n",
    "subprocess.call(runsh, shell=True)"
   ]
  },
  {
   "cell_type": "code",
   "execution_count": 1,
   "metadata": {
    "scrolled": true
   },
   "outputs": [],
   "source": [
    "# import math\n",
    "# import subprocess\n",
    "# import os\n",
    "# import psutil\n",
    "\n",
    "# num_CPUs = 8\n",
    "# CPUs = ['0x1', '0x2', '0x4', '0x8', '0x10', '0x20', '0x40', '0x80']\n",
    "\n",
    "# for index, row in downloaded_df.iterrows():\n",
    "#     BoxID = str(index); print(\"Box\", BoxID)\n",
    "#     num_images = int(row['Downloaded'])\n",
    "#     imagelist = []\n",
    "#     for file in os.listdir(downloadpath+'Box'+BoxID+'/rotated_c1/'):\n",
    "#         if \"Buffer\" in file and file.endswith(\"_PS.pgm\"):\n",
    "#             imagelist.append(file)\n",
    "            \n",
    "#     num_items = len(imagelist)\n",
    "#     num_batches = math.ceil(num_items/num_CPUs)\n",
    "#     num_lastbatch = num_CPUs - (num_batches*num_CPUs - num_items)\n",
    "#     listofitems = imagelist\n",
    "    \n",
    "#     counter = 0    \n",
    "#     for i in range(1, num_batches+1):\n",
    "#         if i < num_batches:\n",
    "#                 print(\"Batch\", i)\n",
    "#                 #begin multiproccess\n",
    "#                 jobs = []\n",
    "#                 for j in range(1, num_CPUs+1):\n",
    "#                     item = listofitems[counter] # grab the item\n",
    "#                     PID = scr_gaussian_1image(item, BoxID, CPUs[j-1])\n",
    "#                     jobs.append(str(PID))\n",
    "#                     print(\"CPU\", j, ':', item); \n",
    "#                     counter = counter+1\n",
    "                \n",
    "# #                 waiton = []\n",
    "# #                 for job in jobs:\n",
    "# #                     if psutil.pid_exists(int(job)):\n",
    "# # #                         waitcmd = 'wait '+str(job)\n",
    "# # #                         subprocess.call(waitcmd, shell=True)\n",
    "# #                         waiton.append(str(job))\n",
    "#                 waitcmd = 'wait '+\" \".join(jobs)\n",
    "#                 subprocess.call(waitcmd, shell=True)\n",
    "#                 print(waitcmd)\n",
    "#         else:\n",
    "#                 print(\"Batch\", i)\n",
    "#                 jobs_lb = []\n",
    "#                 for k in range(1, num_lastbatch+1):\n",
    "#                     item = listofitems[counter] # grab the item\n",
    "#                     PID = scr_gaussian_1image(item, BoxID, CPUs[k-1])\n",
    "#                     jobs_lb.append(str(PID))\n",
    "#                     print(\"CPU\", k,':', item); \n",
    "#                     counter = counter+1\n",
    "                \n",
    "# #                 waiton = []\n",
    "# #                 for job in jobs_lb:\n",
    "# #                     if psutil.pid_exists(int(job)):\n",
    "# # #                         waitcmd = 'wait '+str(job)\n",
    "# # #                         subprocess.call(waitcmd, shell=True)\n",
    "# # # #                         print(job, \"still running.\")\n",
    "# #                         waiton.append(str(job))\n",
    "#                 waitcmd = 'wait '+\" \".join(jobs_lb)\n",
    "#                 subprocess.call(waitcmd, shell=True)\n",
    "#                 print(waitcmd)"
   ]
  },
  {
   "cell_type": "markdown",
   "metadata": {},
   "source": [
    "## 3) Pick the terminus chains through Xsmurf\n",
    "\n",
    "Set the filtering order and thresholds"
   ]
  },
  {
   "cell_type": "code",
   "execution_count": 17,
   "metadata": {},
   "outputs": [],
   "source": [
    "order = '_MSA'\n",
    "size_thresh = 0.4\n",
    "mod_thresh = 0.7\n",
    "arg_thresh = 0.1"
   ]
  },
  {
   "cell_type": "markdown",
   "metadata": {},
   "source": [
    "## 3A) on 1 CPU"
   ]
  },
  {
   "cell_type": "code",
   "execution_count": 14,
   "metadata": {},
   "outputs": [
    {
     "name": "stdout",
     "output_type": "stream",
     "text": [
      "/home/akhalil/src/xsmurf-2.7/main/xsmurf -nodisplay /home/jukes/Documents/Scripts/terminus_pick_MSA.tcl 0.71 0.7 0.46 120 174 259 002 001\n"
     ]
    }
   ],
   "source": [
    "inputIDs = \" \".join(BoxIDs)\n",
    "terminus_pick = '/home/akhalil/src/xsmurf-2.7/main/xsmurf -nodisplay /home/jukes/Documents/Scripts/terminus_pick'+str(order)+'.tcl '+str(size_thresh)+' '+str(mod_thresh)+' '+str(arg_thresh)+' '+str(inputIDs)\n",
    "print(terminus_pick)\n",
    "# subprocess.call(terminus_pick, shell=True)"
   ]
  },
  {
   "cell_type": "markdown",
   "metadata": {},
   "source": [
    "## 3B) on multiple CPUs and results analysis"
   ]
  },
  {
   "cell_type": "code",
   "execution_count": 18,
   "metadata": {},
   "outputs": [
    {
     "name": "stdout",
     "output_type": "stream",
     "text": [
      "002 174 259 001 120\n"
     ]
    }
   ],
   "source": [
    "inputIDs = \" \".join(BoxIDs)\n",
    "print(inputIDs)"
   ]
  },
  {
   "cell_type": "code",
   "execution_count": 19,
   "metadata": {},
   "outputs": [
    {
     "data": {
      "text/plain": [
       "0"
      ]
     },
     "execution_count": 19,
     "metadata": {},
     "output_type": "execute_result"
    }
   ],
   "source": [
    "# run terminus pick script\n",
    "tpick = 'cd /home/jukes/Documents/Scripts/; chmod +x terminus_pick_parallel.sh; ./terminus_pick_parallel.sh Images_downloaded_SE_focus.csv imgdates_SE_focus.csv Glacier_vel_measures_SE_focus.csv '+inputIDs\n",
    "subprocess.call(tpick, shell=True)"
   ]
  },
  {
   "cell_type": "code",
   "execution_count": null,
   "metadata": {},
   "outputs": [],
   "source": []
  }
 ],
 "metadata": {
  "kernelspec": {
   "display_name": "Python 3",
   "language": "python",
   "name": "python3"
  },
  "language_info": {
   "codemirror_mode": {
    "name": "ipython",
    "version": 3
   },
   "file_extension": ".py",
   "mimetype": "text/x-python",
   "name": "python",
   "nbconvert_exporter": "python",
   "pygments_lexer": "ipython3",
   "version": "3.7.6"
  }
 },
 "nbformat": 4,
 "nbformat_minor": 4
}
