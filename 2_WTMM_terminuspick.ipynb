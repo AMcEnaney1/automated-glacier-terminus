{
 "cells": [
  {
   "cell_type": "markdown",
   "metadata": {},
   "source": [
    "# Run the 2D Wavelet Transform Modulus Maxima (WTMM) and pick the terminus chain\n",
    "\n",
    "By Jukes Liu (jukesliu@boisestate.edu)\n",
    "\n",
    "_Last modified 06-13-2020._\n",
    "\n",
    "Requires Xsmurf software to run. Please contact jukesliu@boisestate.edu or andre.khalil@maine.edu for ways to obtain Xsmurf.\n",
    "\n",
    "Script contains options to run on multiple CPUs or a single CPU. This is done by calling the bash scripts available on GitHub.\n",
    "\n",
    "\n",
    "## 1) Set-up"
   ]
  },
  {
   "cell_type": "code",
   "execution_count": 2,
   "metadata": {},
   "outputs": [
    {
     "name": "stdout",
     "output_type": "stream",
     "text": [
      "['245', '296', '220', '240', '277', '270', '246']\n"
     ]
    }
   ],
   "source": [
    "import numpy as np\n",
    "import pandas as pd\n",
    "import subprocess\n",
    "import os\n",
    "\n",
    "# Set base paths\n",
    "basepath='/home/jukes/Documents/Sample_glaciers/' # folder containing the box shapefile and info\n",
    "downloadpath = '/media/jukes/jukes1/LS8aws/' # folder to contain the downloaded images\n",
    "\n",
    "# grab BoxIDs from a csv file\n",
    "downloaded_df = pd.read_csv(basepath+\"Images_downloaded_SE_focus.csv\", dtype=str, usecols=[1,2,3,4]).set_index('BoxID')\n",
    "BoxIDs = list(downloaded_df.index); print(BoxIDs)"
   ]
  },
  {
   "cell_type": "markdown",
   "metadata": {},
   "source": [
    "## 2) Run the WTMM analysis through Xsmurf\n",
    "\n",
    "### 2A) on 1 CPU"
   ]
  },
  {
   "cell_type": "code",
   "execution_count": 5,
   "metadata": {},
   "outputs": [
    {
     "name": "stdout",
     "output_type": "stream",
     "text": [
      "/home/akhalil/src/xsmurf-2.7/main/xsmurf -nodisplay /home/jukes/Documents/Scripts/scr_gaussian.tcl 245 296 220 240 277 270 246\n"
     ]
    },
    {
     "data": {
      "text/plain": [
       "0"
      ]
     },
     "execution_count": 5,
     "metadata": {},
     "output_type": "execute_result"
    }
   ],
   "source": [
    "inputIDs = \" \".join(BoxIDs)\n",
    "scr_gaussian = '/home/akhalil/src/xsmurf-2.7/main/xsmurf -nodisplay /home/jukes/Documents/Scripts/scr_gaussian.tcl '+inputIDs\n",
    "print(scr_gaussian)\n",
    "subprocess.call(scr_gaussian, shell=True)"
   ]
  },
  {
   "cell_type": "markdown",
   "metadata": {},
   "source": [
    "### 2B) on multiple CPUs on the project machine"
   ]
  },
  {
   "cell_type": "code",
   "execution_count": 1,
   "metadata": {},
   "outputs": [],
   "source": [
    "# inputIDs = \" \".join(BoxIDs)\n",
    "# # run shell script\n",
    "# runsh = 'cd /home/jukes/Documents/Scripts/; chmod +x WTMM_parallel_test.sh; ./WTMM_parallel_test.sh '+inputIDs\n",
    "# subprocess.call(runsh, shell=True)"
   ]
  },
  {
   "cell_type": "markdown",
   "metadata": {},
   "source": [
    "## 3) Pick the terminus chains through Xsmurf\n",
    "\n",
    "Set the filtering order and thresholds"
   ]
  },
  {
   "cell_type": "code",
   "execution_count": 17,
   "metadata": {},
   "outputs": [],
   "source": [
    "order = '_MSA'\n",
    "size_thresh = 0.4\n",
    "mod_thresh = 0.7\n",
    "arg_thresh = 0.1"
   ]
  },
  {
   "cell_type": "markdown",
   "metadata": {},
   "source": [
    "### 3A) on 1 CPU"
   ]
  },
  {
   "cell_type": "code",
   "execution_count": 14,
   "metadata": {},
   "outputs": [
    {
     "name": "stdout",
     "output_type": "stream",
     "text": [
      "/home/akhalil/src/xsmurf-2.7/main/xsmurf -nodisplay /home/jukes/Documents/Scripts/terminus_pick_MSA.tcl 0.71 0.7 0.46 120 174 259 002 001\n"
     ]
    }
   ],
   "source": [
    "inputIDs = \" \".join(BoxIDs)\n",
    "terminus_pick = '/home/akhalil/src/xsmurf-2.7/main/xsmurf -nodisplay /home/jukes/Documents/Scripts/terminus_pick'+str(order)+'.tcl '+str(size_thresh)+' '+str(mod_thresh)+' '+str(arg_thresh)+' '+str(inputIDs)\n",
    "print(terminus_pick)\n",
    "subprocess.call(terminus_pick, shell=True)"
   ]
  },
  {
   "cell_type": "markdown",
   "metadata": {},
   "source": [
    "### 3B) on multiple CPUs on the project machine"
   ]
  },
  {
   "cell_type": "code",
   "execution_count": 3,
   "metadata": {},
   "outputs": [],
   "source": [
    "# inputIDs = \" \".join(BoxIDs)\n",
    "# print(inputIDs)"
   ]
  },
  {
   "cell_type": "code",
   "execution_count": 2,
   "metadata": {},
   "outputs": [],
   "source": [
    "# # run terminus pick script\n",
    "# # change parameters following ./terminus_pick_parallel.sh to the correct csv files\n",
    "# tpick = 'cd /home/jukes/Documents/Scripts/; chmod +x terminus_pick_parallel.sh; ./terminus_pick_parallel.sh Images_downloaded_SE_focus.csv imgdates_SE_focus.csv Glacier_vel_measures_SE_focus.csv '+inputIDs\n",
    "# subprocess.call(tpick, shell=True)"
   ]
  },
  {
   "cell_type": "code",
   "execution_count": null,
   "metadata": {},
   "outputs": [],
   "source": []
  }
 ],
 "metadata": {
  "kernelspec": {
   "display_name": "Python 3",
   "language": "python",
   "name": "python3"
  },
  "language_info": {
   "codemirror_mode": {
    "name": "ipython",
    "version": 3
   },
   "file_extension": ".py",
   "mimetype": "text/x-python",
   "name": "python",
   "nbconvert_exporter": "python",
   "pygments_lexer": "ipython3",
   "version": "3.7.6"
  }
 },
 "nbformat": 4,
 "nbformat_minor": 4
}
