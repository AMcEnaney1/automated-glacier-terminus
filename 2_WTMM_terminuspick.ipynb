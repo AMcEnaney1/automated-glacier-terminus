{
 "cells": [
  {
   "cell_type": "markdown",
   "metadata": {},
   "source": [
    "# Run the 2D Wavelet Transform Modulus Maxima (WTMM) and pick the terminus chain\n",
    "\n",
    "By Jukes Liu (jukesliu@boisestate.edu)\n",
    "\n",
    "_Last modified 06-13-2020._\n",
    "\n",
    "Requires Xsmurf software to run. Please contact jukesliu@boisestate.edu or andre.khalil@maine.edu for ways to obtain Xsmurf.\n",
    "\n",
    "Script contains options to run on multiple CPUs or a single CPU. This is done by calling the bash scripts available on GitHub.\n",
    "\n",
    "\n",
    "## 1) Set-up"
   ]
  },
  {
   "cell_type": "code",
   "execution_count": 10,
   "metadata": {},
   "outputs": [
    {
     "name": "stdout",
     "output_type": "stream",
     "text": [
      "['070', '076', '088', '094', '106', '124', '136', '142', '148', '154', '166', '172', '178', '184', '190', '202', '220', '232', '238', '244', '250', '268', '274', '286', '292', '304', '310', '316', '328', '334', '340']\n"
     ]
    }
   ],
   "source": [
    "import numpy as np\n",
    "import pandas as pd\n",
    "import subprocess\n",
    "import os\n",
    "\n",
    "# Set base paths\n",
    "basepath='/home/jukes/Documents/Sample_glaciers/' # folder containing the box shapefile and info\n",
    "downloadpath = '/media/jukes/jukes1/LS8aws/' # folder to contain the downloaded images\n",
    "\n",
    "# grab BoxIDs from a csv file\n",
    "velocities_df = pd.read_csv(basepath+\"Glacier_vel_manual_SE_3.csv\", dtype=str).set_index('BoxID')\n",
    "BoxIDs = list(velocities_df.index); print(BoxIDs)"
   ]
  },
  {
   "cell_type": "code",
   "execution_count": 11,
   "metadata": {},
   "outputs": [
    {
     "data": {
      "text/plain": [
       "31"
      ]
     },
     "execution_count": 11,
     "metadata": {},
     "output_type": "execute_result"
    }
   ],
   "source": [
    "len(BoxIDs)"
   ]
  },
  {
   "cell_type": "markdown",
   "metadata": {},
   "source": [
    "## 2) Run the WTMM analysis through Xsmurf\n",
    "\n",
    "### 2A) on 1 CPU"
   ]
  },
  {
   "cell_type": "code",
   "execution_count": 8,
   "metadata": {
    "scrolled": true
   },
   "outputs": [],
   "source": [
    "# inputIDs = \" \".join(BoxIDs)\n",
    "# scr_gaussian = '/home/akhalil/src/xsmurf-2.7/main/xsmurf -nodisplay /home/jukes/Documents/Scripts/scr_gaussian.tcl '+inputIDs\n",
    "# print(scr_gaussian)\n",
    "# subprocess.call(scr_gaussian, shell=True)"
   ]
  },
  {
   "cell_type": "markdown",
   "metadata": {},
   "source": [
    "### 2B) on multiple CPUs on the project machine"
   ]
  },
  {
   "cell_type": "code",
   "execution_count": 12,
   "metadata": {
    "scrolled": true
   },
   "outputs": [
    {
     "data": {
      "text/plain": [
       "0"
      ]
     },
     "execution_count": 12,
     "metadata": {},
     "output_type": "execute_result"
    }
   ],
   "source": [
    "inputIDs = \" \".join(BoxIDs)\n",
    "# inputIDs = '257'\n",
    "# run shell script\n",
    "runsh = 'cd /home/jukes/Documents/Scripts/; chmod +x WTMM_parallel_test.sh; ./WTMM_parallel_test.sh '+inputIDs\n",
    "subprocess.call(runsh, shell=True)"
   ]
  },
  {
   "cell_type": "markdown",
   "metadata": {},
   "source": [
    "## 3) Pick the terminus chains through Xsmurf\n",
    "\n",
    "Set the filtering order and thresholds"
   ]
  },
  {
   "cell_type": "code",
   "execution_count": 13,
   "metadata": {},
   "outputs": [],
   "source": [
    "order = '_MSA'\n",
    "size_thresh = 0.4\n",
    "mod_thresh = 0.7\n",
    "arg_thresh = 0.1"
   ]
  },
  {
   "cell_type": "markdown",
   "metadata": {},
   "source": [
    "### 3A) on 1 CPU"
   ]
  },
  {
   "cell_type": "code",
   "execution_count": 7,
   "metadata": {
    "scrolled": true
   },
   "outputs": [],
   "source": [
    "# inputIDs = \" \".join(BoxIDs)\n",
    "# terminus_pick = '/home/akhalil/src/xsmurf-2.7/main/xsmurf -nodisplay /home/jukes/Documents/Scripts/terminus_pick'+str(order)+'.tcl '+str(size_thresh)+' '+str(mod_thresh)+' '+str(arg_thresh)+' '+str(inputIDs)\n",
    "# print(terminus_pick)\n",
    "# subprocess.call(terminus_pick, shell=True)"
   ]
  },
  {
   "cell_type": "markdown",
   "metadata": {},
   "source": [
    "### 3B) on multiple CPUs on the project machine"
   ]
  },
  {
   "cell_type": "code",
   "execution_count": 77,
   "metadata": {},
   "outputs": [],
   "source": [
    "# BoxIDs = BoxIDs[6:]"
   ]
  },
  {
   "cell_type": "code",
   "execution_count": 74,
   "metadata": {},
   "outputs": [],
   "source": [
    "# BoxIDs.append('257')"
   ]
  },
  {
   "cell_type": "code",
   "execution_count": 16,
   "metadata": {},
   "outputs": [
    {
     "name": "stdout",
     "output_type": "stream",
     "text": [
      "070 076 088 094 106 124 136 142 148 154 166 172 178 184 190 202 220 232 238 244 250 268 274 286 292 304 310 316 328 334 340\n"
     ]
    }
   ],
   "source": [
    "inputIDs = \" \".join(BoxIDs)\n",
    "print(inputIDs)"
   ]
  },
  {
   "cell_type": "code",
   "execution_count": 18,
   "metadata": {
    "scrolled": true
   },
   "outputs": [
    {
     "data": {
      "text/plain": [
       "0"
      ]
     },
     "execution_count": 18,
     "metadata": {},
     "output_type": "execute_result"
    }
   ],
   "source": [
    "# run terminus pick script\n",
    "# change parameters following ./terminus_pick_parallel.sh to the correct csv files\n",
    "tpick = 'cd /home/jukes/Documents/Scripts/; chmod +x terminus_pick_parallel.sh; ./terminus_pick_parallel.sh '+inputIDs\n",
    "subprocess.call(tpick, shell=True)"
   ]
  },
  {
   "cell_type": "code",
   "execution_count": null,
   "metadata": {},
   "outputs": [],
   "source": []
  }
 ],
 "metadata": {
  "kernelspec": {
   "display_name": "Python 3",
   "language": "python",
   "name": "python3"
  },
  "language_info": {
   "codemirror_mode": {
    "name": "ipython",
    "version": 3
   },
   "file_extension": ".py",
   "mimetype": "text/x-python",
   "name": "python",
   "nbconvert_exporter": "python",
   "pygments_lexer": "ipython3",
   "version": "3.7.6"
  }
 },
 "nbformat": 4,
 "nbformat_minor": 4
}
