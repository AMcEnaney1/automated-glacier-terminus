{
 "cells": [
  {
   "cell_type": "markdown",
   "metadata": {},
   "source": [
    "# Plot terminus picks over images analyzed\n",
    "\n",
    "#### Jukes Liu"
   ]
  },
  {
   "cell_type": "markdown",
   "metadata": {},
   "source": [
    "### Import packages, set paths, and set BoxID of Interest (BOI)\n",
    "\n",
    "Must install cv2 module."
   ]
  },
  {
   "cell_type": "code",
   "execution_count": 4,
   "metadata": {},
   "outputs": [
    {
     "name": "stdout",
     "output_type": "stream",
     "text": [
      "Collecting opencv-python\n",
      "\u001b[?25l  Downloading https://files.pythonhosted.org/packages/de/52/61b9619a7a95a8d809515f68f1441224a07ce1873fd3af5e662851014a55/opencv_python-4.1.0.25-cp37-cp37m-manylinux1_x86_64.whl (26.6MB)\n",
      "\u001b[K    100% |████████████████████████████████| 26.6MB 3.0MB/s eta 0:00:01\n",
      "\u001b[?25hRequirement already satisfied: numpy>=1.14.5 in /home/jukes/anaconda3/lib/python3.7/site-packages (from opencv-python) (1.16.2)\n",
      "Installing collected packages: opencv-python\n",
      "Successfully installed opencv-python-4.1.0.25\n"
     ]
    }
   ],
   "source": [
    "import sys\n",
    "# !{sys.executable} -m pip install fiona\n",
    "!{sys.executable} -m pip install opencv-python"
   ]
  },
  {
   "cell_type": "code",
   "execution_count": 2,
   "metadata": {
    "scrolled": true
   },
   "outputs": [],
   "source": [
    "import numpy as np\n",
    "import os\n",
    "import matplotlib.pyplot as plt\n",
    "import matplotlib.pylab as pl\n",
    "import matplotlib.image as mpimg\n",
    "import cv2\n",
    "import pandas as pd                 "
   ]
  },
  {
   "cell_type": "code",
   "execution_count": 36,
   "metadata": {},
   "outputs": [
    {
     "name": "stdout",
     "output_type": "stream",
     "text": [
      "/media/jukes/jukes1/LS8aws/Box033/rotated/resized/crop_R_LC80080142015068LGN00_B8_PS_Buffer033\n",
      "/media/jukes/jukes1/LS8aws/Box033/rotated/resized/crop_R_LC80080142015068LGN00_B8_PS_Buffer033.pgm_max_gaussian/terminus_highestsize/\n",
      "terminus_highestsize_038.dat\n"
     ]
    }
   ],
   "source": [
    "basepath = '/home/jukes/med/Documents/M_Thesis/Data/Sample_glaciers/Box001/rotated_images/final/'\n",
    "datpath = '/Users/julialiu/Documents/M_Thesis/Presentations_Conferences/AGU2019/Box001_fullLS8_dats/rotated/resized/'\n",
    "path_to_dats = basepath+''\n",
    "BOI = '001'"
   ]
  },
  {
   "cell_type": "markdown",
   "metadata": {},
   "source": [
    "## _Plot trimmed vs. original terminus picks_"
   ]
  },
  {
   "cell_type": "code",
   "execution_count": null,
   "metadata": {},
   "outputs": [],
   "source": [
    "BoxID = '033'\n",
    "metric = \"terminus_highestmass/\"\n",
    "basepath = '/media/jukes/jukes1/LS8aws/'\n",
    "imagepath = basepath+\"Box\"+BoxID+\"/rotated/resized/\"\n",
    "\n",
    "#grab list of images in the folder and their names\n",
    "imagenames = []\n",
    "\n",
    "imagelist = os.listdir(imagepath)\n",
    "for image in imagelist:\n",
    "    if image.endswith(BoxID+\".png\"):\n",
    "        imagename = image[:-4]\n",
    "#         print(imagename)\n",
    "        imagenames.append(imagename)\n",
    "    \n",
    "# print(imagenames)\n",
    "\n",
    "dats = []\n",
    "trimdats = []\n",
    "\n",
    "for image in imagenames:\n",
    "#     print(image)\n",
    "    imagenames.append(image)\n",
    "    datpath = imagepath+image+\".pgm_max_gaussian/\"+metric\n",
    "    datfiles = os.listdir(datpath)\n",
    "#     print(datfiles)\n",
    "\n",
    "    for dat in datfiles:\n",
    "        if \"trim\" in dat:\n",
    "            datfile_trim = dat\n",
    "            trimdats.append(datfile_trim)\n",
    "        else:\n",
    "            datfile = dat\n",
    "            dats.append(datfile)\n",
    "#     print(datfile_trim, datfile)\n",
    "    \n",
    "# img_and_dats = list(zip(imagenames, datpaths, trimdatpaths))\n",
    "# dats_df = pd.DataFrame(img_and_dats, columns=['imagename','dat', 'trim_dat'])\n",
    "# dats_df.head()"
   ]
  },
  {
   "cell_type": "code",
   "execution_count": null,
   "metadata": {},
   "outputs": [],
   "source": [
    "for i in range(0, len(imagenames)):\n",
    "    imagename = imagenames[i]\n",
    "    dat = dats[i]\n",
    "    trimdat = trimdats[i]\n",
    "\n",
    "    #Read in image as np array\n",
    "    image = mpimg.imread(imagepath+imagename+'.png')\n",
    "    \n",
    "    datpath = imagepath+imagename+\".pgm_max_gaussian/\"+metric\n",
    "    \n",
    "    #Read in dat file as np array and grab x and y values\n",
    "    #TRIMMED:\n",
    "    term_trim_dat = np.loadtxt(datpath+trimdat)\n",
    "    #ORIGINAL:\n",
    "    term_dat = np.loadtxt(datpath+dat)\n",
    "\n",
    "    #ORIGINAL\n",
    "    term_xs = []\n",
    "    term_ys = []\n",
    "\n",
    "    #grab x and y values for the terminus line\n",
    "    for j in term_dat:\n",
    "        x, y = (j[0], j[1])\n",
    "        term_xs.append(x)\n",
    "        term_ys.append(y)\n",
    "\n",
    "    #TRIMMED\n",
    "    term_trim_xs = []\n",
    "    term_trim_ys = []\n",
    "\n",
    "    #grab x and y values for the terminus line\n",
    "    for j in term_trim_dat:\n",
    "        x, y = (j[0], j[1])\n",
    "        term_trim_xs.append(x)\n",
    "        term_trim_ys.append(y)\n",
    "\n",
    "    \n",
    "    #plot image and terminus line from dat\n",
    "    imgplt = plt.imshow(cv2.cvtColor(image, cv2.COLOR_BGR2RGB))\n",
    "    plt.plot(term_xs, term_ys, c='orange')\n",
    "    plt.axis(\"off\")\n",
    "    # plt.savefig('/home/jukes/Documents/seethrucloud_'+imagename1+\"2.png\", dpi=2000)\n",
    "    plt.show()\n",
    "\n",
    "    imgplt_trim = plt.imshow(cv2.cvtColor(image, cv2.COLOR_BGR2RGB))\n",
    "    plt.plot(term_trim_xs, term_trim_ys, c='red')\n",
    "    plt.axis(\"off\")\n",
    "    # plt.savefig('/home/jukes/Documents/seethrucloud_'+imagename1+\"2.png\", dpi=2000)\n",
    "    plt.show()"
   ]
  },
  {
   "cell_type": "markdown",
   "metadata": {},
   "source": [
    "# Plot multiple terminus picks over an image"
   ]
  },
  {
   "cell_type": "code",
   "execution_count": 101,
   "metadata": {},
   "outputs": [
    {
     "name": "stdout",
     "output_type": "stream",
     "text": [
      "Box001\n",
      "crop_R_LC80340052014215LGN00_B8_PS_Buffer001.png\n",
      "NO DAT FILE FOUND\n",
      "crop_R_LC80340052015282LGN00_B8_PS_Buffer001.png\n",
      "terminus_highestmass_045.dat\n",
      "(48, 2)\n",
      "crop_R_LC80340052016173LGN00_B8_PS_Buffer001.png\n",
      "terminus_highestmass_042.dat\n",
      "(62, 2)\n",
      "crop_R_LC80340052015202LGN00_B8_PS_Buffer001.png\n",
      "terminus_highestmass_019.dat\n",
      "(79, 2)\n",
      "crop_R_LC80340052016221LGN00_B8_PS_Buffer001.png\n",
      "terminus_highestmass_003.dat\n",
      "(80, 2)\n",
      "crop_R_LC80340052013148LGN00_B8_PS_Buffer001.png\n",
      "terminus_highestmass_007.dat\n",
      "(59, 2)\n",
      "crop_R_LC80340052015154LGN00_B8_PS_Buffer001.png\n",
      "terminus_highestmass_013.dat\n",
      "(80, 2)\n",
      "crop_R_LC80340052014151LGN00_B8_PS_Buffer001.png\n",
      "terminus_highestmass_046.dat\n",
      "(35, 2)\n",
      "crop_R_LC80340052015218LGN00_B8_PS_Buffer001.png\n",
      "terminus_highestmass_013.dat\n",
      "(59, 2)\n",
      "crop_R_LC80340052016237LGN00_B8_PS_Buffer001.png\n",
      "terminus_highestmass_010.dat\n",
      "(73, 2)\n",
      "crop_R_LC80340052017095LGN00_B8_PS_Buffer001.png\n",
      "terminus_highestmass_008.dat\n",
      "(119, 2)\n",
      "crop_R_LC80340052015074LGN00_B8_PS_Buffer001.png\n",
      "terminus_highestmass_006.dat\n",
      "(90, 2)\n",
      "crop_R_LC80340052014231LGN00_B8_PS_Buffer001.png\n",
      "terminus_highestmass_022.dat\n",
      "(20, 2)\n",
      "crop_R_LC80340052014167LGN00_B8_PS_Buffer001.png\n",
      "terminus_highestmass_042.dat\n",
      "(52, 2)\n",
      "crop_R_LC80340052016205LGN00_B8_PS_Buffer001.png\n",
      "terminus_highestmass_004.dat\n",
      "(81, 2)\n",
      "crop_R_LC80340052015170LGN00_B8_PS_Buffer001.png\n",
      "terminus_highestmass_017.dat\n",
      "(69, 2)\n",
      "crop_R_LC80340052016061LGN00_B8_PS_Buffer001.png\n",
      "terminus_highestmass_018.dat\n",
      "(67, 2)\n",
      "crop_R_LC80340052016285LGN00_B8_PS_Buffer001.png\n",
      "terminus_highestmass_044.dat\n",
      "(53, 2)\n",
      "crop_R_LC80340052017111LGN00_B8_PS_Buffer001.png\n",
      "terminus_highestmass_003.dat\n",
      "(125, 2)\n",
      "crop_R_LC80340052016157LGN00_B8_PS_Buffer001.png\n",
      "terminus_highestmass_032.dat\n",
      "(67, 2)\n",
      "crop_R_LC80340052016141LGN00_B8_PS_Buffer001.png\n",
      "terminus_highestmass_023.dat\n",
      "(81, 2)\n",
      "crop_R_LC80340052015234LGN00_B8_PS_Buffer001.png\n",
      "terminus_highestmass_029.dat\n",
      "(66, 2)\n",
      "crop_R_LC80340052016077LGN00_B8_PS_Buffer001.png\n",
      "terminus_highestmass_046.dat\n",
      "(41, 2)\n",
      "crop_R_LC80340052014183LGN00_B8_PS_Buffer001.png\n",
      "terminus_highestmass_017.dat\n",
      "(27, 2)\n",
      "crop_R_LC80340052014103LGN00_B8_PS_Buffer001.png\n",
      "terminus_highestmass_003.dat\n",
      "(51, 2)\n",
      "crop_R_LC80340052014247LGN00_B8_PS_Buffer001.png\n",
      "terminus_highestmass_020.dat\n",
      "(67, 2)\n",
      "crop_R_LC80340052013244LGN00_B8_PS_Buffer001.png\n",
      "terminus_highestmass_049.dat\n",
      "(82, 2)\n",
      "crop_R_LC80340052015186LGN00_B8_PS_Buffer001.png\n",
      "NO DAT FILE FOUND\n",
      "crop_R_LC80340052015250LGN00_B8_PS_Buffer001.png\n",
      "terminus_highestmass_036.dat\n",
      "(93, 2)\n",
      "crop_R_LC80340052015106LGN00_B8_PS_Buffer001.png\n",
      "terminus_highestmass_016.dat\n",
      "(50, 2)\n",
      "crop_R_LC80340052016125LGN00_B8_PS_Buffer001.png\n",
      "terminus_highestmass_000.dat\n",
      "(58, 2)\n",
      "crop_R_LC80340052015138LGN00_B8_PS_Buffer001.png\n",
      "terminus_highestmass_000.dat\n",
      "(70, 2)\n",
      "crop_R_LC80340052015266LGN00_B8_PS_Buffer001.png\n",
      "terminus_highestmass_014.dat\n",
      "(74, 2)\n",
      "crop_R_LC80340052017063LGN00_B8_PS_Buffer001.png\n",
      "terminus_highestmass_022.dat\n",
      "(53, 2)\n",
      "crop_R_LC80340052014263LGN00_B8_PS_Buffer001.png\n",
      "terminus_highestmass_048.dat\n",
      "(41, 2)\n",
      "crop_R_LC80340052014135LGN00_B8_PS_Buffer001.png\n",
      "terminus_highestmass_029.dat\n",
      "(16, 2)\n",
      "crop_R_LC80340052013260LGN00_B8_PS_Buffer001.png\n",
      "terminus_highestmass_008.dat\n",
      "(87, 2)\n",
      "crop_R_LC80340052016109LGN00_B8_PS_Buffer001.png\n",
      "terminus_highestmass_001.dat\n",
      "(71, 2)\n",
      "crop_R_LC80340052017079LGN00_B8_PS_Buffer001.png\n",
      "terminus_highestmass_011.dat\n",
      "(65, 2)\n",
      "crop_R_LC80340052016189LGN00_B8_PS_Buffer001.png\n",
      "terminus_highestmass_003.dat\n",
      "(85, 2)\n",
      "crop_R_LC80340052014087LGN00_B8_PS_Buffer001.png\n",
      "terminus_highestmass_000.dat\n",
      "(55, 2)\n",
      "crop_R_LC80340052015122LGN00_B8_PS_Buffer001.png\n",
      "terminus_highestmass_048.dat\n",
      "(41, 2)\n",
      "crop_R_LC80340052016253LGN00_B8_PS_Buffer001.png\n",
      "terminus_highestmass_049.dat\n",
      "(43, 2)\n",
      "crop_R_LC80340052015090LGN00_B8_PS_Buffer001.png\n",
      "terminus_highestmass_032.dat\n",
      "(55, 2)\n",
      "42 42\n"
     ]
    }
   ],
   "source": [
    "#get list of images\n",
    "print(\"Box\"+BOI)\n",
    "pathtoimgs = datpath\n",
    "imgfiles = os.listdir(pathtoimgs)\n",
    "images = []\n",
    "term_dats = []\n",
    "imgnames = []\n",
    "\n",
    "for imgfile in imgfiles:\n",
    "    #grab image files and append to images list\n",
    "    if imgfile.endswith(BOI+\".png\"):\n",
    "        print(imgfile)\n",
    "        image = mpimg.imread(pathtoimgs+imgfile)\n",
    "        \n",
    "        #grab dat files\n",
    "        pathtodat = pathtoimgs+imgfile[0:-4]+\".pgm_max_gaussian/terminus_highestmass/\"\n",
    "        datfiles = os.listdir(pathtodat)\n",
    "        \n",
    "        #if there is a dat file:\n",
    "        if len(datfiles) > 0:\n",
    "            #grab the dat file and read it in and append to the list\n",
    "            datfile = datfiles[0]\n",
    "            print(datfile)\n",
    "            term_dat = np.loadtxt(pathtodat+datfile)\n",
    "            term_dats.append(term_dat)\n",
    "            print(term_dat.shape)\n",
    "            #append the image name\n",
    "            images.append(image)\n",
    "            imgnames.append(imgfile)\n",
    "        else:\n",
    "            print(\"NO DAT FILE FOUND\")\n",
    "            \n",
    "\n",
    "print(len(term_dats), len(images))\n",
    "#read dat files\n",
    "for file in datfiles:\n",
    "#     print(file)\n",
    "    if file.endswith('max_gaussian'):\n",
    "        datfile = os.listdir(datpath+file+\"/terminus_highestsize/\")\n",
    "        if len(datfile) > 0:\n",
    "            print(datfile)\n",
    "            \n",
    "#         print(file)\n",
    "#         term_dat = np.loadtxt(basepath+\"Box001_mass/\"+file)\n",
    "#         print(term_dat)"
   ]
  },
  {
   "cell_type": "code",
   "execution_count": 77,
   "metadata": {},
   "outputs": [
    {
     "name": "stdout",
     "output_type": "stream",
     "text": [
      "4\n"
     ]
    }
   ],
   "source": [
    "imgfiles = os.listdir(basepath)\n",
    "imgplts = []\n",
    "\n",
    "# for imgfile in imgfiles:\n",
    "    if imgfile.endswith('001cut.png'):\n",
    "        imgname = imgfile\n",
    "        image = mpimg.imread(basepath+imgfile)\n",
    "        imgplts.append(image)\n",
    "print(len(imgplts))"
   ]
  },
  {
   "cell_type": "code",
   "execution_count": 87,
   "metadata": {},
   "outputs": [
    {
     "data": {
      "image/png": "[encoded data removed]",
      "text/plain": [
       "<Figure size 432x288 with 1 Axes>"
      ]
     },
     "metadata": {},
     "output_type": "display_data"
    }
   ],
   "source": [
    "imgplt = plt.imshow(cv2.cvtColor(imgplts[2], cv2.COLOR_BGR2RGB))\n",
    "plt.axis(\"off\")\n",
    "plt.show()"
   ]
  },
  {
   "cell_type": "code",
   "execution_count": 115,
   "metadata": {},
   "outputs": [
    {
     "name": "stdout",
     "output_type": "stream",
     "text": [
      "crop_R_LC80340052016173LGN00_B8_PS_Buffer001.png average pixel value: 0.31532618\n",
      "crop_R_LC80340052015202LGN00_B8_PS_Buffer001.png average pixel value: 0.28562254\n",
      "crop_R_LC80340052016221LGN00_B8_PS_Buffer001.png average pixel value: 0.26537254\n",
      "crop_R_LC80340052015154LGN00_B8_PS_Buffer001.png average pixel value: 0.2765246\n",
      "crop_R_LC80340052016237LGN00_B8_PS_Buffer001.png average pixel value: 0.34981853\n",
      "crop_R_LC80340052017095LGN00_B8_PS_Buffer001.png average pixel value: 0.36437362\n",
      "crop_R_LC80340052016205LGN00_B8_PS_Buffer001.png average pixel value: 0.25504142\n",
      "crop_R_LC80340052016157LGN00_B8_PS_Buffer001.png average pixel value: 0.27350658\n",
      "crop_R_LC80340052014247LGN00_B8_PS_Buffer001.png average pixel value: 0.3339636\n",
      "crop_R_LC80340052016125LGN00_B8_PS_Buffer001.png average pixel value: 0.21688671\n",
      "crop_R_LC80340052016189LGN00_B8_PS_Buffer001.png average pixel value: 0.24517418\n",
      "Lines: 11\n"
     ]
    },
    {
     "data": {
      "image/png": "[encoded data removed]",
      "text/plain": [
       "<Figure size 432x288 with 1 Axes>"
      ]
     },
     "metadata": {},
     "output_type": "display_data"
    }
   ],
   "source": [
    "# #imgplt = plt.imshow(images[40])\n",
    "# imgplt = plt.imshow(mpimg.imread('/home/jukes/Documents/Sample_glaciers/Box001/rotated_images/final/crop_PS_LC08_L1TP_031005_20180825_20180829_01_T1_B8_Buffer001cut.png'))\n",
    "imgplt = plt.imshow(cv2.cvtColor(imgplts[2], cv2.COLOR_BGR2RGB))\n",
    "final_imgnames = []\n",
    "\n",
    "xs = []\n",
    "ys = []\n",
    "for i in range(0, len(images)):\n",
    "#     print(i)\n",
    "    index = i\n",
    "    #imgplt = plt.imshow(images[index])#cv2.cvtColor(images[2], cv2.COLOR_BGR2RGB))\\\n",
    "    avgpxval = np.average(images[index])\n",
    "   \n",
    "    #if the pixel value is above a threshold, then grab the terminus\n",
    "    if avgpxval < 0.37:\n",
    "        final_imgnames.append(imgnames[index])\n",
    "        print(imgnames[index], \"average pixel value:\", avgpxval)\n",
    "        term = term_dats[index]\n",
    "        term_xs = []\n",
    "        term_ys = []\n",
    "\n",
    "        #grab x and y values for the terminus line\n",
    "        for j in term:\n",
    "            x, y = (j[0], j[1])\n",
    "            term_xs.append(x)\n",
    "            term_ys.append(y)\n",
    "        \n",
    "        xs.append(term_xs)\n",
    "        ys.append(term_ys)\n",
    "\n",
    "#create dataframe with the term line coordinates and sort by date\n",
    "termlines_df = pd.DataFrame(\n",
    "    {'imgnames': final_imgnames,\n",
    "     'X': xs,\n",
    "     'Y': ys\n",
    "    })\n",
    "\n",
    "termlines_df = termlines_df.sort_values(by=['imgnames'])\n",
    "termlines_df.head()\n",
    "\n",
    "# #create reversed red color map for the lines\n",
    "n=len(termlines_df.index)\n",
    "print(\"Lines:\", n)\n",
    "colors = pl.cm.Reds_r(np.linspace(0,1,n))\n",
    "col_count = 0\n",
    "\n",
    "name = list(termlines_df['imgnames'])\n",
    "x_final = list(termlines_df['X'])\n",
    "y_final = list(termlines_df['Y'])\n",
    "\n",
    "#plot each termline\n",
    "for a in range(0, n):\n",
    "    x, y = x_final[a], y_final[a]\n",
    "    pl.plot(x, y, color=colors[col_count], linewidth=1)\n",
    "    col_count = col_count+1\n",
    "\n",
    "plt.axis(\"off\")\n",
    "\n",
    "plt.savefig('/Users/julialiu/Documents/M_Thesis/Presentations_Conferences/AGU2019/AGU2019_autolines_Box'+BOI+\".png\", dpi=2000)\n",
    "            \n",
    "            "
   ]
  },
  {
   "cell_type": "code",
   "execution_count": null,
   "metadata": {},
   "outputs": [],
   "source": []
  }
 ],
 "metadata": {
  "kernelspec": {
   "display_name": "Python 3",
   "language": "python",
   "name": "python3"
  },
  "language_info": {
   "codemirror_mode": {
    "name": "ipython",
    "version": 3
   },
   "file_extension": ".py",
   "mimetype": "text/x-python",
   "name": "python",
   "nbconvert_exporter": "python",
   "pygments_lexer": "ipython3",
   "version": "3.7.3"
  }
 },
 "nbformat": 4,
 "nbformat_minor": 2
}
