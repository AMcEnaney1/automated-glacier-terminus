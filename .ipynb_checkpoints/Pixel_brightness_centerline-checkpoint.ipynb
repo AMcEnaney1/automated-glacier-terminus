{
 "cells": [
  {
   "cell_type": "markdown",
   "metadata": {},
   "source": [
    "## Code to pull pixel brightness values along centerlines"
   ]
  },
  {
   "cell_type": "code",
   "execution_count": null,
   "metadata": {},
   "outputs": [],
   "source": [
    "import numpy as np\n",
    "import os\n",
    "import matplotlib.pyplot as plt\n",
    "import matplotlib.pylab as pl\n",
    "import matplotlib.image as mpimg\n",
    "import cv2\n",
    "import pandas as pd    \n",
    "import PIL\n",
    "\n",
    "csvpaths = '/home/jukes/Documents/Sample_glaciers/'\n",
    "basepath = '/media/jukes/jukes1/LS8aws/'\n",
    "massorsize = \"mass\""
   ]
  },
  {
   "cell_type": "markdown",
   "metadata": {},
   "source": [
    "Grab centerline info and BoxIDs"
   ]
  },
  {
   "cell_type": "code",
   "execution_count": null,
   "metadata": {},
   "outputs": [],
   "source": [
    "centerline_df = pd.read_csv(csvpaths+'Boxes_coords_pathrows.csv', sep=',', dtype=str, header=0)\n",
    "centerline_df = centerline_df.set_index('BoxID')\n",
    "print(centerline_df.shape)\n",
    "\n",
    "BoxIDs = list(centerline_df.index)\n",
    "print(BoxIDs)\n",
    "\n",
    "centerline_df"
   ]
  },
  {
   "cell_type": "code",
   "execution_count": null,
   "metadata": {
    "scrolled": true
   },
   "outputs": [],
   "source": [
    "#make lists to store image data and grab image files\n",
    "ratios = []\n",
    "imagenames = []\n",
    "\n",
    "for BoxID in BoxIDs:\n",
    "#     if BoxID == '033':\n",
    "        imagepath = basepath+\"Box\"+BoxID+\"/resized/\"\n",
    "        #image path\n",
    "        imgfiles = os.listdir(imagepath)\n",
    "\n",
    "        #grab terminus box raster\n",
    "        tbox = mpimg.imread(csvpaths+\"Box\"+BoxID+\"/rotated_images/final/crop_Box\"+BoxID+\"_raster_cut.png\")\n",
    "\n",
    "        #grab centerline points\n",
    "        xmin = float(centerline_df.loc[BoxID]['midpoint_x'])\n",
    "        xmax = np.max(np.array(list(set(np.nonzero(tbox)[0]))))\n",
    "        c_x = np.linspace(xmin, xmax, int(xmax-xmin))\n",
    "        c_y = float(centerline_df.loc[BoxID]['cline_slope'])*c_x + float(centerline_df.loc[BoxID]['cline_intercept'])\n",
    "\n",
    "        #load in each image and grab the pixel values indexed by the centerline points:\n",
    "        for img in imgfiles:\n",
    "            if img.endswith(BoxID+'.png'):\n",
    "                imagename_pgm = img[:-4]+'.pgm'\n",
    "                #load in the image using cv2\n",
    "                image = cv2.imread(imagepath+img,-1)\n",
    "                imageplt = mpimg.imread(imagepath+img)\n",
    "\n",
    "                pixelvalues = []\n",
    "\n",
    "                #loop through all centerline coordinates\n",
    "                for i in range(0, len(c_x)):\n",
    "                    x = int(c_x[i])\n",
    "                    y = int(c_y[i])\n",
    "                    pixval = '%.3f' % image[y][x]\n",
    "                    pixelvalues.append(float(pixval))\n",
    "                    \n",
    "#                     print(x, y, pixval)\n",
    "\n",
    "#                 #grab the first and last third\n",
    "                third = int(len(pixelvalues)/3)\n",
    "                third1 = pixelvalues[:third]\n",
    "                third3 = pixelvalues[-third:]\n",
    "#                 print(third1)\n",
    "#                 print(third3)\n",
    "\n",
    "                #grab the average of the first and average of the last to compare\n",
    "                avgthird1 = float(np.average(np.array(third1)))\n",
    "                avgthird3 = float(np.average(np.array(third3)))\n",
    "                ratio = \"%.2f\" % (avgthird1/avgthird3)\n",
    "                \n",
    "                ratios.append(ratio)\n",
    "                imagenames.append(imagename_pgm)\n",
    "# #                 print('Ratio 1st/3rd:', ratio)\n",
    "#                 print(img)\n",
    "\n",
    "#                 plt.figure(figsize=(20,10))\n",
    "#                 imgplt_trim = plt.imshow(cv2.cvtColor(imageplt, cv2.COLOR_BGR2RGB))\n",
    "#                 plt.plot(c_x, c_y, '--w', linewidth=1.5, alpha=0.3)\n",
    "#                 plt.text(int(0.02*image.shape[0]), int(0.035*image.shape[1]), ratio\n",
    "#                          , fontsize=16, color='w')\n",
    "#                 plt.show()\n",
    "pixels_df = pd.DataFrame(list(zip(imagenames, ratios)))\n",
    "pixels_df"
   ]
  },
  {
   "cell_type": "code",
   "execution_count": null,
   "metadata": {},
   "outputs": [],
   "source": [
    "#write to txt file\n",
    "pixels_df.to_csv(path_or_buf=csvpaths+'Pixelratios.txt', sep=' ', index=False, header=False)"
   ]
  },
  {
   "cell_type": "code",
   "execution_count": null,
   "metadata": {},
   "outputs": [],
   "source": []
  }
 ],
 "metadata": {
  "kernelspec": {
   "display_name": "Python 3",
   "language": "python",
   "name": "python3"
  },
  "language_info": {
   "codemirror_mode": {
    "name": "ipython",
    "version": 3
   },
   "file_extension": ".py",
   "mimetype": "text/x-python",
   "name": "python",
   "nbconvert_exporter": "python",
   "pygments_lexer": "ipython3",
   "version": "3.7.3"
  }
 },
 "nbformat": 4,
 "nbformat_minor": 2
}
