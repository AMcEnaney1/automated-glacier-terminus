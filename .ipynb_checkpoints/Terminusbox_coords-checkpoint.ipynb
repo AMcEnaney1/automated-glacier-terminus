{
 "cells": [
  {
   "cell_type": "markdown",
   "metadata": {},
   "source": [
    "# Code to grab the coordinates of the glacier terminus boxes in pixel coordinates"
   ]
  },
  {
   "cell_type": "markdown",
   "metadata": {},
   "source": [
    "### Import packages, set basepath, grab BoxIDs for terminus boxes"
   ]
  },
  {
   "cell_type": "code",
   "execution_count": 3,
   "metadata": {},
   "outputs": [],
   "source": [
    "import numpy as np\n",
    "import pandas as pd\n",
    "import matplotlib.pyplot as plt\n",
    "import matplotlib.image as mpimg\n",
    "\n",
    "basepath = '/Users/julialiu/Documents/M_Thesis/Data/'"
   ]
  },
  {
   "cell_type": "code",
   "execution_count": 4,
   "metadata": {
    "scrolled": true
   },
   "outputs": [
    {
     "data": {
      "text/html": [
       "<div>\n",
       "<style scoped>\n",
       "    .dataframe tbody tr th:only-of-type {\n",
       "        vertical-align: middle;\n",
       "    }\n",
       "\n",
       "    .dataframe tbody tr th {\n",
       "        vertical-align: top;\n",
       "    }\n",
       "\n",
       "    .dataframe thead th {\n",
       "        text-align: right;\n",
       "    }\n",
       "</style>\n",
       "<table border=\"1\" class=\"dataframe\">\n",
       "  <thead>\n",
       "    <tr style=\"text-align: right;\">\n",
       "      <th></th>\n",
       "      <th>Path</th>\n",
       "      <th>Row</th>\n",
       "    </tr>\n",
       "    <tr>\n",
       "      <th>BoxID</th>\n",
       "      <th></th>\n",
       "      <th></th>\n",
       "    </tr>\n",
       "  </thead>\n",
       "  <tbody>\n",
       "    <tr>\n",
       "      <th>001</th>\n",
       "      <td>034</td>\n",
       "      <td>005</td>\n",
       "    </tr>\n",
       "    <tr>\n",
       "      <th>002</th>\n",
       "      <td>031</td>\n",
       "      <td>005</td>\n",
       "    </tr>\n",
       "    <tr>\n",
       "      <th>004</th>\n",
       "      <td>031</td>\n",
       "      <td>005</td>\n",
       "    </tr>\n",
       "    <tr>\n",
       "      <th>033</th>\n",
       "      <td>008</td>\n",
       "      <td>014</td>\n",
       "    </tr>\n",
       "    <tr>\n",
       "      <th>120</th>\n",
       "      <td>232</td>\n",
       "      <td>017</td>\n",
       "    </tr>\n",
       "  </tbody>\n",
       "</table>\n",
       "</div>"
      ],
      "text/plain": [
       "      Path  Row\n",
       "BoxID          \n",
       "001    034  005\n",
       "002    031  005\n",
       "004    031  005\n",
       "033    008  014\n",
       "120    232  017"
      ]
     },
     "execution_count": 4,
     "metadata": {},
     "output_type": "execute_result"
    }
   ],
   "source": [
    "#read in Terminus Box dataframe\n",
    "pathrows_df = pd.read_csv(basepath+'LS_pathrows.csv', sep=',', usecols =[0,1,2], dtype=str, nrows =10)\n",
    "pathrows_df = pathrows_df.set_index('BoxID')\n",
    "pathrows_df.head()"
   ]
  },
  {
   "cell_type": "markdown",
   "metadata": {},
   "source": [
    "### Read in terminus box rasters"
   ]
  },
  {
   "cell_type": "code",
   "execution_count": 52,
   "metadata": {},
   "outputs": [],
   "source": [
    "#create dictionary to store each terminus box ndarray by BoxID\n",
    "termboxes = {}\n",
    "\n",
    "#read in the terminus box rasters\n",
    "for BoxID in pathrows_df.index:\n",
    "    #load in the raster\n",
    "    boxpath = basepath+\"Sample_glaciers/Box\"+BoxID+\"/rotated_images/final/crop_Box\"+BoxID+\"_raster_cut.pgm\"\n",
    "    #read the raster into an ndarray\n",
    "    termbox = mpimg.imread(boxpath)\n",
    "    #add the ndarray into a dictionary with the BoxID as the key\n",
    "    termboxes.update( {BoxID: termbox} )\n",
    "    "
   ]
  },
  {
   "cell_type": "code",
   "execution_count": 166,
   "metadata": {},
   "outputs": [
    {
     "data": {
      "image/png": "[encoded data removed]",
      "text/plain": [
       "<Figure size 432x288 with 1 Axes>"
      ]
     },
     "metadata": {},
     "output_type": "display_data"
    }
   ],
   "source": [
    "#visualize terminus box rasters by BoxID\n",
    "termplot = plt.imshow(termboxes['235'])\n",
    "plt.show()"
   ]
  },
  {
   "cell_type": "markdown",
   "metadata": {},
   "source": [
    "### Find location of box coordinates of interest\n",
    "\n",
    "    A) Leftmost x-value: smallest x\n",
    "    B) Two left vertices & midpoint\n",
    "        B1) Top Left (lowest x*y)\n",
    "        B2) Bottom Left (highest y/x)\n",
    "        B3) Midpoint of B1 and B2:\n",
    "$\\dfrac{x_{1}+x_{2}}{2}$ , $\\dfrac{y_{1}+y_{2}}{2}$"
   ]
  },
  {
   "cell_type": "code",
   "execution_count": 199,
   "metadata": {
    "scrolled": true
   },
   "outputs": [],
   "source": [
    "#create dictionary to store the coordinates of the box rasters\n",
    "boxes_xcoords = {}\n",
    "boxes_ycoords = {}\n",
    "\n",
    "#create dictionaries for leftmost xvalues (A) and the leftmost vertices of boxes (B1, B2)\n",
    "leftmost_xvalues = {}\n",
    "topleft_coords = {}\n",
    "bottomleft_coords = {}\n",
    "\n",
    "#create dictionaries to store the midpoints (B3)\n",
    "midpoints_x = {}\n",
    "midpoints_y = {}\n",
    "\n",
    "#for all the box rasters\n",
    "for BoxID in pathrows_df.index:\n",
    "    BOI = termboxes[BoxID]\n",
    "    #find the coordinates of where the pixel value == 1\n",
    "    yindices, xindices = np.where(BOI == 1)\n",
    "    #box_coords = list(zip(xindices, yindices))\n",
    "    #add box coordinates to the dictionary\n",
    "    boxes_ycoords.update( {BoxID: yindices})\n",
    "    boxes_xcoords.update( {BoxID: xindices})\n",
    "    \n",
    "    \n",
    "    #1) Find the leftmost x-coordinate\n",
    "    leftmost_x = np.min(xindices)\n",
    "    #Add to dictionary of leftmost x values\n",
    "    leftmost_xvalues.update( {BoxID: leftmost_x} )\n",
    "    \n",
    " \n",
    "    #2) Find the two left vertices\n",
    "    #FIND THE TOP LEFT COORDINATES (lowest x*y)\n",
    "    xy = xindices*yindices\n",
    "    #Find the lowest xy value\n",
    "    min_xy = np.min(xy)\n",
    "    #Find the x and y pair corresponding to that xy using the index\n",
    "    min_xy_i = np.where(xy == min_xy)[0][0]\n",
    "    #print(min_xy, min_xy_i)\n",
    "    topleft = [xindices[min_xy_i], yindices[min_xy_i]]\n",
    "    #print(\"Top left\", topleft)\n",
    "    #Add to dictionary of topleft coordinates\n",
    "    topleft_coords.update(  {BoxID: topleft}  )\n",
    "\n",
    "    #FIND THE BOTTOM LEFT COORDINATE(highest y/x)\n",
    "    y_x = yindices/xindices\n",
    "    #Find the highest y/x value\n",
    "    max_y_x = np.max(y_x)\n",
    "    #Find the x and y pair corresponding to that y/x using the index\n",
    "    max_y_x_i = np.where(y_x == max_y_x)[0][0]\n",
    "    #print(max_y_x, max_y_x_i)\n",
    "    bottomleft = [xindices[max_y_x_i], yindices[max_y_x_i]]\n",
    "    #print(\"Bottom left\", bottomleft)\n",
    "    #Add to dictionary of bottomleft coordinates\n",
    "    bottomleft_coords.update( {BoxID: bottomleft}  )\n",
    "    \n",
    "    #CALCULATE THE MIDPOINTS\n",
    "    midpoint_x = (topleft[0]+bottomleft[0])/2\n",
    "    midpoint_y = (topleft[1]+bottomleft[1])/2\n",
    "    midpoint = [midpoint_x, midpoint_y]\n",
    "    #Add x and y coordinates to dictionaries\n",
    "    midpoints_x.update( {BoxID: midpoint_x}  )\n",
    "    midpoints_y.update( {BoxID: midpoint_y}  )\n",
    "\n",
    "# print(\"Leftmost x values:\", leftmost_xvalues)\n",
    "# print(\"Top left coordinates:\", topleft_coords)\n",
    "# print(\"Bottom left coordinates:\", bottomleft_coords)"
   ]
  },
  {
   "cell_type": "markdown",
   "metadata": {},
   "source": [
    "### Check the left box vertices and midpoints by plotting over terminus box:"
   ]
  },
  {
   "cell_type": "code",
   "execution_count": 192,
   "metadata": {
    "scrolled": true
   },
   "outputs": [
    {
     "data": {
      "image/png": "[encoded data removed]",
      "text/plain": [
       "<Figure size 432x288 with 1 Axes>"
      ]
     },
     "metadata": {},
     "output_type": "display_data"
    }
   ],
   "source": [
    "#Choose which glacier BoxID to check:\n",
    "BOI_ID = '235'\n",
    "\n",
    "#plot the raster pixels in black\n",
    "plt.scatter(boxes_xcoords[BOI_ID], boxes_ycoords[BOI_ID], c='k')\n",
    "#plot the top and bottom left vertices in red\n",
    "plt.scatter(topleft_coords[BOI_ID][0], topleft_coords[BOI_ID][1], c='r')\n",
    "plt.scatter(bottomleft_coords[BOI_ID][0], bottomleft_coords[BOI_ID][1], c='r')\n",
    "#plot midpoints in cyan\n",
    "plt.scatter(midpoints[BOI_ID][0], midpoints[BOI_ID][1], c='c')\n",
    "\n",
    "plt.gca().invert_yaxis()\n",
    "plt.axis('scaled')\n",
    "plt.show()"
   ]
  },
  {
   "cell_type": "markdown",
   "metadata": {},
   "source": [
    "### Turn the dictionaries storing the coordinates into DataFrames and concatenate together"
   ]
  },
  {
   "cell_type": "code",
   "execution_count": 201,
   "metadata": {},
   "outputs": [
    {
     "data": {
      "text/html": [
       "<div>\n",
       "<style scoped>\n",
       "    .dataframe tbody tr th:only-of-type {\n",
       "        vertical-align: middle;\n",
       "    }\n",
       "\n",
       "    .dataframe tbody tr th {\n",
       "        vertical-align: top;\n",
       "    }\n",
       "\n",
       "    .dataframe thead th {\n",
       "        text-align: right;\n",
       "    }\n",
       "</style>\n",
       "<table border=\"1\" class=\"dataframe\">\n",
       "  <thead>\n",
       "    <tr style=\"text-align: right;\">\n",
       "      <th></th>\n",
       "      <th>leftmost_x</th>\n",
       "      <th>midpoint_x</th>\n",
       "      <th>midpoint_y</th>\n",
       "    </tr>\n",
       "  </thead>\n",
       "  <tbody>\n",
       "    <tr>\n",
       "      <th>001</th>\n",
       "      <td>114</td>\n",
       "      <td>117.0</td>\n",
       "      <td>164.5</td>\n",
       "    </tr>\n",
       "    <tr>\n",
       "      <th>002</th>\n",
       "      <td>466</td>\n",
       "      <td>468.0</td>\n",
       "      <td>575.5</td>\n",
       "    </tr>\n",
       "    <tr>\n",
       "      <th>004</th>\n",
       "      <td>448</td>\n",
       "      <td>477.0</td>\n",
       "      <td>632.0</td>\n",
       "    </tr>\n",
       "    <tr>\n",
       "      <th>033</th>\n",
       "      <td>362</td>\n",
       "      <td>362.5</td>\n",
       "      <td>473.0</td>\n",
       "    </tr>\n",
       "    <tr>\n",
       "      <th>120</th>\n",
       "      <td>109</td>\n",
       "      <td>111.0</td>\n",
       "      <td>148.5</td>\n",
       "    </tr>\n",
       "  </tbody>\n",
       "</table>\n",
       "</div>"
      ],
      "text/plain": [
       "     leftmost_x  midpoint_x  midpoint_y\n",
       "001         114       117.0       164.5\n",
       "002         466       468.0       575.5\n",
       "004         448       477.0       632.0\n",
       "033         362       362.5       473.0\n",
       "120         109       111.0       148.5"
      ]
     },
     "execution_count": 201,
     "metadata": {},
     "output_type": "execute_result"
    }
   ],
   "source": [
    "leftmost_df = pd.DataFrame.from_dict(leftmost_xvalues, orient='index')\n",
    "leftmost_df.columns = [\"leftmost_x\"]\n",
    "\n",
    "midpoints_x_df = pd.DataFrame.from_dict(midpoints_x, orient='index')\n",
    "midpoints_x_df.columns = [\"midpoint_x\"]\n",
    "\n",
    "midpoints_y_df = pd.DataFrame.from_dict(midpoints_y, orient='index')\n",
    "midpoints_y_df.columns = [\"midpoint_y\"]\n",
    "\n",
    "total_df = pd.concat([leftmost_df, midpoints_x_df, midpoints_y_df], axis=1, join_axes=[leftmost_df.index])\n",
    "total_df.head()"
   ]
  },
  {
   "cell_type": "markdown",
   "metadata": {},
   "source": [
    "### Combine with original pathrows DataFrame and export to csv"
   ]
  },
  {
   "cell_type": "code",
   "execution_count": 203,
   "metadata": {},
   "outputs": [
    {
     "data": {
      "text/html": [
       "<div>\n",
       "<style scoped>\n",
       "    .dataframe tbody tr th:only-of-type {\n",
       "        vertical-align: middle;\n",
       "    }\n",
       "\n",
       "    .dataframe tbody tr th {\n",
       "        vertical-align: top;\n",
       "    }\n",
       "\n",
       "    .dataframe thead th {\n",
       "        text-align: right;\n",
       "    }\n",
       "</style>\n",
       "<table border=\"1\" class=\"dataframe\">\n",
       "  <thead>\n",
       "    <tr style=\"text-align: right;\">\n",
       "      <th></th>\n",
       "      <th>Path</th>\n",
       "      <th>Row</th>\n",
       "      <th>leftmost_x</th>\n",
       "      <th>midpoint_x</th>\n",
       "      <th>midpoint_y</th>\n",
       "    </tr>\n",
       "    <tr>\n",
       "      <th>BoxID</th>\n",
       "      <th></th>\n",
       "      <th></th>\n",
       "      <th></th>\n",
       "      <th></th>\n",
       "      <th></th>\n",
       "    </tr>\n",
       "  </thead>\n",
       "  <tbody>\n",
       "    <tr>\n",
       "      <th>001</th>\n",
       "      <td>034</td>\n",
       "      <td>005</td>\n",
       "      <td>114</td>\n",
       "      <td>117.0</td>\n",
       "      <td>164.5</td>\n",
       "    </tr>\n",
       "    <tr>\n",
       "      <th>002</th>\n",
       "      <td>031</td>\n",
       "      <td>005</td>\n",
       "      <td>466</td>\n",
       "      <td>468.0</td>\n",
       "      <td>575.5</td>\n",
       "    </tr>\n",
       "    <tr>\n",
       "      <th>004</th>\n",
       "      <td>031</td>\n",
       "      <td>005</td>\n",
       "      <td>448</td>\n",
       "      <td>477.0</td>\n",
       "      <td>632.0</td>\n",
       "    </tr>\n",
       "    <tr>\n",
       "      <th>033</th>\n",
       "      <td>008</td>\n",
       "      <td>014</td>\n",
       "      <td>362</td>\n",
       "      <td>362.5</td>\n",
       "      <td>473.0</td>\n",
       "    </tr>\n",
       "    <tr>\n",
       "      <th>120</th>\n",
       "      <td>232</td>\n",
       "      <td>017</td>\n",
       "      <td>109</td>\n",
       "      <td>111.0</td>\n",
       "      <td>148.5</td>\n",
       "    </tr>\n",
       "    <tr>\n",
       "      <th>174</th>\n",
       "      <td>232</td>\n",
       "      <td>017</td>\n",
       "      <td>243</td>\n",
       "      <td>260.5</td>\n",
       "      <td>344.5</td>\n",
       "    </tr>\n",
       "    <tr>\n",
       "      <th>235</th>\n",
       "      <td>232</td>\n",
       "      <td>015</td>\n",
       "      <td>171</td>\n",
       "      <td>177.0</td>\n",
       "      <td>201.0</td>\n",
       "    </tr>\n",
       "    <tr>\n",
       "      <th>259</th>\n",
       "      <td>232</td>\n",
       "      <td>015</td>\n",
       "      <td>212</td>\n",
       "      <td>215.0</td>\n",
       "      <td>484.0</td>\n",
       "    </tr>\n",
       "    <tr>\n",
       "      <th>277</th>\n",
       "      <td>232</td>\n",
       "      <td>015</td>\n",
       "      <td>143</td>\n",
       "      <td>144.5</td>\n",
       "      <td>204.0</td>\n",
       "    </tr>\n",
       "    <tr>\n",
       "      <th>531</th>\n",
       "      <td>011</td>\n",
       "      <td>002</td>\n",
       "      <td>159</td>\n",
       "      <td>166.0</td>\n",
       "      <td>250.5</td>\n",
       "    </tr>\n",
       "  </tbody>\n",
       "</table>\n",
       "</div>"
      ],
      "text/plain": [
       "      Path  Row  leftmost_x  midpoint_x  midpoint_y\n",
       "BoxID                                              \n",
       "001    034  005         114       117.0       164.5\n",
       "002    031  005         466       468.0       575.5\n",
       "004    031  005         448       477.0       632.0\n",
       "033    008  014         362       362.5       473.0\n",
       "120    232  017         109       111.0       148.5\n",
       "174    232  017         243       260.5       344.5\n",
       "235    232  015         171       177.0       201.0\n",
       "259    232  015         212       215.0       484.0\n",
       "277    232  015         143       144.5       204.0\n",
       "531    011  002         159       166.0       250.5"
      ]
     },
     "execution_count": 203,
     "metadata": {},
     "output_type": "execute_result"
    }
   ],
   "source": [
    "updated_df = pathrows_df.join(total_df, how='inner')\n",
    "updated_df"
   ]
  },
  {
   "cell_type": "code",
   "execution_count": 204,
   "metadata": {},
   "outputs": [],
   "source": [
    "updated_df.to_csv(path_or_buf = basepath+'Boxes_coords_pathrows.csv', sep=',')"
   ]
  }
 ],
 "metadata": {
  "kernelspec": {
   "display_name": "Python 3",
   "language": "python",
   "name": "python3"
  },
  "language_info": {
   "codemirror_mode": {
    "name": "ipython",
    "version": 3
   },
   "file_extension": ".py",
   "mimetype": "text/x-python",
   "name": "python",
   "nbconvert_exporter": "python",
   "pygments_lexer": "ipython3",
   "version": "3.6.8"
  }
 },
 "nbformat": 4,
 "nbformat_minor": 2
}
