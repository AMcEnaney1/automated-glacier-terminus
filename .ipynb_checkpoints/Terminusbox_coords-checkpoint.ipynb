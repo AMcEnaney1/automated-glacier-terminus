{
 "cells": [
  {
   "cell_type": "markdown",
   "metadata": {},
   "source": [
    "# Grab the vertices of the glacier terminus boxes in pixel coordinates\n",
    "\n",
    "### Jukes Liu\n",
    "\n",
    "The vertices of the glacier terminus box will be used to calculate a midpoint of the left edge of the terminus box, which will be our reference point for calculating terminus position."
   ]
  },
  {
   "cell_type": "markdown",
   "metadata": {},
   "source": [
    "### Import packages, set basepath, grab BoxIDs for terminus boxes"
   ]
  },
  {
   "cell_type": "code",
   "execution_count": 17,
   "metadata": {},
   "outputs": [],
   "source": [
    "import numpy as np\n",
    "import pandas as pd\n",
    "import matplotlib.pyplot as plt\n",
    "import matplotlib.image as mpimg\n",
    "\n",
    "basepath = '/home/jukes/Documents/Sample_glaciers/'"
   ]
  },
  {
   "cell_type": "code",
   "execution_count": 19,
   "metadata": {
    "scrolled": true
   },
   "outputs": [
    {
     "data": {
      "text/html": [
       "<div>\n",
       "<style scoped>\n",
       "    .dataframe tbody tr th:only-of-type {\n",
       "        vertical-align: middle;\n",
       "    }\n",
       "\n",
       "    .dataframe tbody tr th {\n",
       "        vertical-align: top;\n",
       "    }\n",
       "\n",
       "    .dataframe thead th {\n",
       "        text-align: right;\n",
       "    }\n",
       "</style>\n",
       "<table border=\"1\" class=\"dataframe\">\n",
       "  <thead>\n",
       "    <tr style=\"text-align: right;\">\n",
       "      <th></th>\n",
       "      <th>Path</th>\n",
       "      <th>Row</th>\n",
       "    </tr>\n",
       "    <tr>\n",
       "      <th>BoxID</th>\n",
       "      <th></th>\n",
       "      <th></th>\n",
       "    </tr>\n",
       "  </thead>\n",
       "  <tbody>\n",
       "    <tr>\n",
       "      <th>001</th>\n",
       "      <td>034</td>\n",
       "      <td>005</td>\n",
       "    </tr>\n",
       "    <tr>\n",
       "      <th>002</th>\n",
       "      <td>031</td>\n",
       "      <td>005</td>\n",
       "    </tr>\n",
       "    <tr>\n",
       "      <th>004</th>\n",
       "      <td>031</td>\n",
       "      <td>005</td>\n",
       "    </tr>\n",
       "    <tr>\n",
       "      <th>033</th>\n",
       "      <td>008</td>\n",
       "      <td>014</td>\n",
       "    </tr>\n",
       "    <tr>\n",
       "      <th>120</th>\n",
       "      <td>232</td>\n",
       "      <td>017</td>\n",
       "    </tr>\n",
       "    <tr>\n",
       "      <th>174</th>\n",
       "      <td>232</td>\n",
       "      <td>017</td>\n",
       "    </tr>\n",
       "    <tr>\n",
       "      <th>235</th>\n",
       "      <td>232</td>\n",
       "      <td>015</td>\n",
       "    </tr>\n",
       "    <tr>\n",
       "      <th>259</th>\n",
       "      <td>232</td>\n",
       "      <td>015</td>\n",
       "    </tr>\n",
       "    <tr>\n",
       "      <th>277</th>\n",
       "      <td>232</td>\n",
       "      <td>015</td>\n",
       "    </tr>\n",
       "    <tr>\n",
       "      <th>531</th>\n",
       "      <td>011</td>\n",
       "      <td>002</td>\n",
       "    </tr>\n",
       "  </tbody>\n",
       "</table>\n",
       "</div>"
      ],
      "text/plain": [
       "      Path  Row\n",
       "BoxID          \n",
       "001    034  005\n",
       "002    031  005\n",
       "004    031  005\n",
       "033    008  014\n",
       "120    232  017\n",
       "174    232  017\n",
       "235    232  015\n",
       "259    232  015\n",
       "277    232  015\n",
       "531    011  002"
      ]
     },
     "execution_count": 19,
     "metadata": {},
     "output_type": "execute_result"
    }
   ],
   "source": [
    "#read in Terminus Box dataframe to grab the BoxIDs\n",
    "pathrows_df = pd.read_csv(basepath+'LS_pathrows.csv', sep=',', usecols =[0,1,2], dtype=str, nrows =10)\n",
    "pathrows_df = pathrows_df.set_index('BoxID')\n",
    "pathrows_df"
   ]
  },
  {
   "cell_type": "markdown",
   "metadata": {},
   "source": [
    "### Read in terminus box rasters and perform a visual check"
   ]
  },
  {
   "cell_type": "code",
   "execution_count": 20,
   "metadata": {},
   "outputs": [],
   "source": [
    "#create dictionary to store each terminus box ndarray by BoxID\n",
    "termboxes = {}\n",
    "\n",
    "#read in the terminus box rasters\n",
    "for BoxID in pathrows_df.index:\n",
    "    #load in the raster\n",
    "    boxpath = basepath+\"Box\"+BoxID+\"/rotated_images/final/crop_Box\"+BoxID+\"_raster_cut.pgm\"\n",
    "    #read the raster into an ndarray\n",
    "    termbox = mpimg.imread(boxpath)\n",
    "    #add the ndarray into a dictionary with the BoxID as the key\n",
    "    termboxes.update( {BoxID: termbox} )"
   ]
  },
  {
   "cell_type": "code",
   "execution_count": 56,
   "metadata": {},
   "outputs": [
    {
     "data": {
      "image/png": "[encoded data removed]",
      "text/plain": [
       "<Figure size 432x288 with 1 Axes>"
      ]
     },
     "metadata": {
      "needs_background": "light"
     },
     "output_type": "display_data"
    }
   ],
   "source": [
    "#visualize each terminus box rasters by BoxID\n",
    "termplot = plt.imshow(termboxes['259'])\n",
    "plt.show()"
   ]
  },
  {
   "cell_type": "markdown",
   "metadata": {},
   "source": [
    "### Find x,y coordinates of box vertices and midpoints of left and right edges to get the centerline\n",
    "\n",
    "    1) Left side\n",
    "        1A) Top Left (lowest x*y)\n",
    "        1B) Bottom Left (highest y/x)\n",
    "        1C) Midpoint of 1A and 1B:\n",
    "$\\dfrac{x_{1}+x_{2}}{2}$ , $\\dfrac{y_{1}+y_{2}}{2}$\n",
    "\n",
    "    2) Right side\n",
    "        2A) Top Right (highest y/x)\n",
    "        2B) Bottom Right (highest x*y)\n",
    "        2C) Midpoint of 2A and 2B.\n",
    "        \n",
    "    3) Centerline equation\n",
    "\n",
    "Calculate the equation for the centerline (slope between the two midpoints). Just need to calculate slope: $m =\\dfrac{y_{2}-y_{1}}{x_{2}-x_{1}}$\n",
    "\n",
    "and solve for the intercept using one of the midpoint coordinate pairs: $b = y - mx$\n",
    "\n",
    "$y = mx + b$"
   ]
  },
  {
   "cell_type": "code",
   "execution_count": 40,
   "metadata": {
    "scrolled": true
   },
   "outputs": [],
   "source": [
    "#create dictionary to store the all coordinates of the box rasters\n",
    "boxes_xcoords = {}\n",
    "boxes_ycoords = {}\n",
    "\n",
    "#create dictionaries for the box vertices\n",
    "topleft_coords = {}\n",
    "bottomleft_coords = {}\n",
    "topright_coords = {}\n",
    "bottomright_coords = {}\n",
    "\n",
    "#create dictionaries to store the left midpoints (1C) and right midpoints (2C)\n",
    "midpoints_x = {}\n",
    "midpoints_y = {}\n",
    "midpoints_r_x = {}\n",
    "midpoints_r_y = {}\n",
    "\n",
    "#create dictionaries to the slopes and intercepts of the centerline equations\n",
    "slopes = {}\n",
    "intercepts = {}\n",
    "\n",
    "#for all the box rasters\n",
    "for BoxID in pathrows_df.index:\n",
    "    #Read in the raster of the BoxID of interest\n",
    "    BOI = termboxes[BoxID]\n",
    "    \n",
    "    #find the coordinates of where the pixel value is nonzero (where the box exists)\n",
    "    yindices, xindices = np.where(BOI > 0)\n",
    "\n",
    "    #add box coordinates to the dictionary\n",
    "    boxes_ycoords.update( {BoxID: yindices})\n",
    "    boxes_xcoords.update( {BoxID: xindices})\n",
    "    \n",
    "    \n",
    "    #1A) FIND THE TOP LEFT COORDINATES (lowest x*y)\n",
    "    xy = xindices*yindices\n",
    "    #Find the lowest xy value\n",
    "    min_xy = np.min(xy)\n",
    "    #Find the x and y pair corresponding to that xy using the index\n",
    "    min_xy_i = np.where(xy == min_xy)[0][0]\n",
    "    topleft = [xindices[min_xy_i], yindices[min_xy_i]]\n",
    "#     print(\"Top left\", topleft)\n",
    "    #Add to dictionary of topleft coordinates\n",
    "    topleft_coords.update(  {BoxID: topleft}  )\n",
    "    \n",
    "    #2B) FIND THE BOTTOM RIGHT COORDINATES (highest x*y)\n",
    "    max_xy = np.max(xy)\n",
    "    max_xy_i = np.where(xy == max_xy)[0][0]\n",
    "    bottomright = [xindices[max_xy_i], yindices[max_xy_i]]\n",
    "    bottomright_coords.update( {BoxID: bottomright})\n",
    "\n",
    "    #1B) FIND THE BOTTOM LEFT COORDINATE(highest y/x)\n",
    "    y_x = yindices/xindices\n",
    "    #Find the highest y/x value\n",
    "    max_y_x = np.max(y_x)\n",
    "    #Find the x and y pair corresponding to that y/x using the index\n",
    "    max_y_x_i = np.where(y_x == max_y_x)[0][0]\n",
    "    bottomleft = [xindices[max_y_x_i], yindices[max_y_x_i]]\n",
    "#     print(\"Bottom left\", bottomleft)\n",
    "    #Add to dictionary of bottomleft coordinates\n",
    "    bottomleft_coords.update( {BoxID: bottomleft}  )\n",
    "    \n",
    "    #2A) FIND THE TOP RIGHT COORDINATES (highest x/y)\n",
    "    x_y = xindices/yindices\n",
    "    #find highest x/y value:\n",
    "    max_x_y = np.max(x_y)\n",
    "    #Find the x, y pair correpsonding to the maximum x/y using the index\n",
    "    max_x_y_i = np.where(x_y == max_x_y)[0][0]\n",
    "    topright = [xindices[max_x_y_i], yindices[max_x_y_i]]\n",
    "    topright_coords.update( {BoxID: topright} )\n",
    "    \n",
    "    #1C and 2C) CALCULATE THE MIDPOINTS\n",
    "    #Left\n",
    "    midpoint_x = (topleft[0]+bottomleft[0])/2\n",
    "    midpoint_y = (topleft[1]+bottomleft[1])/2  \n",
    "    #Right\n",
    "    midpoint_r_x = (topright[0]+bottomright[0])/2\n",
    "    midpoint_r_y = (topright[1]+bottomright[1])/2\n",
    "    \n",
    "    #midpoint = [midpoint_x, midpoint_y]\n",
    "    #Add x and y coordinates to dictionaries\n",
    "    midpoints_x.update( {BoxID: midpoint_x}  )\n",
    "    midpoints_y.update( {BoxID: midpoint_y}  )\n",
    "    midpoints_r_x.update( {BoxID: midpoint_r_x})\n",
    "    midpoints_r_y.update( {BoxID: midpoint_r_y})\n",
    "    \n",
    "    #3) CALCULATE CENTERLINE EQUATION\n",
    "    #slope\n",
    "    m = (midpoint_r_y - midpoint_y)/(midpoint_r_x - midpoint_x)\n",
    "    #y-intercept\n",
    "    b = midpoint_y - (m*midpoint_x)\n",
    "#     print(\"y =\", m, \"x +\", b)\n",
    "    \n",
    "    #add slope and intercepts to dictionaries\n",
    "    slopes.update( {BoxID: m})\n",
    "    intercepts.update( {BoxID: b})"
   ]
  },
  {
   "cell_type": "markdown",
   "metadata": {},
   "source": [
    "### Visual check of the vertices, midpoints, and centerlines by plotting over terminus box:"
   ]
  },
  {
   "cell_type": "code",
   "execution_count": 68,
   "metadata": {
    "scrolled": true
   },
   "outputs": [
    {
     "data": {
      "image/png": "[encoded data removed]",
      "text/plain": [
       "<Figure size 432x288 with 1 Axes>"
      ]
     },
     "metadata": {
      "needs_background": "light"
     },
     "output_type": "display_data"
    }
   ],
   "source": [
    "#Choose which glacier BoxID to check:\n",
    "BOI_ID = '531'\n",
    "\n",
    "#plot the raster pixels in black\n",
    "plt.scatter(boxes_xcoords[BOI_ID], boxes_ycoords[BOI_ID], c='k',marker='s')\n",
    "\n",
    "#plot the vertices in red\n",
    "plt.scatter(topleft_coords[BOI_ID][0], topleft_coords[BOI_ID][1], c='r')\n",
    "plt.scatter(bottomleft_coords[BOI_ID][0], bottomleft_coords[BOI_ID][1], c='r')\n",
    "plt.scatter(topright_coords[BOI_ID][0], topright_coords[BOI_ID][1], c='r')\n",
    "plt.scatter(bottomright_coords[BOI_ID][0], bottomright_coords[BOI_ID][1], c='r')\n",
    "\n",
    "#plot midpoints in cyan\n",
    "plt.scatter(midpoints_x[BOI_ID], midpoints_y[BOI_ID], c='c')\n",
    "plt.scatter(midpoints_r_x[BOI_ID], midpoints_r_y[BOI_ID], c='c')\n",
    "\n",
    "#plot the centerlines in blue\n",
    "x=np.linspace(np.min(boxes_xcoords[BOI_ID]), np.max(boxes_xcoords[BOI_ID]))\n",
    "y=slopes[BOI_ID]*x + intercepts[BOI_ID]\n",
    "plt.plot(x, y, '--c')\n",
    "         \n",
    "plt.gca().invert_yaxis()\n",
    "plt.axis('scaled')\n",
    "plt.show()"
   ]
  },
  {
   "cell_type": "markdown",
   "metadata": {},
   "source": [
    "### Turn the dictionaries storing the coordinates and centerlines into DataFrames and concatenate together"
   ]
  },
  {
   "cell_type": "code",
   "execution_count": 81,
   "metadata": {},
   "outputs": [
    {
     "data": {
      "text/html": [
       "<div>\n",
       "<style scoped>\n",
       "    .dataframe tbody tr th:only-of-type {\n",
       "        vertical-align: middle;\n",
       "    }\n",
       "\n",
       "    .dataframe tbody tr th {\n",
       "        vertical-align: top;\n",
       "    }\n",
       "\n",
       "    .dataframe thead th {\n",
       "        text-align: right;\n",
       "    }\n",
       "</style>\n",
       "<table border=\"1\" class=\"dataframe\">\n",
       "  <thead>\n",
       "    <tr style=\"text-align: right;\">\n",
       "      <th></th>\n",
       "      <th>midpoint_x</th>\n",
       "      <th>midpoint_y</th>\n",
       "      <th>cline_slope</th>\n",
       "      <th>cline_intercept</th>\n",
       "    </tr>\n",
       "    <tr>\n",
       "      <th>BoxID</th>\n",
       "      <th></th>\n",
       "      <th></th>\n",
       "      <th></th>\n",
       "      <th></th>\n",
       "    </tr>\n",
       "  </thead>\n",
       "  <tbody>\n",
       "    <tr>\n",
       "      <th>001</th>\n",
       "      <td>117.0</td>\n",
       "      <td>164.5</td>\n",
       "      <td>-0.118881</td>\n",
       "      <td>178.409091</td>\n",
       "    </tr>\n",
       "    <tr>\n",
       "      <th>002</th>\n",
       "      <td>468.0</td>\n",
       "      <td>575.5</td>\n",
       "      <td>0.033451</td>\n",
       "      <td>559.845070</td>\n",
       "    </tr>\n",
       "    <tr>\n",
       "      <th>004</th>\n",
       "      <td>500.0</td>\n",
       "      <td>651.0</td>\n",
       "      <td>-0.289931</td>\n",
       "      <td>795.965278</td>\n",
       "    </tr>\n",
       "    <tr>\n",
       "      <th>033</th>\n",
       "      <td>362.5</td>\n",
       "      <td>473.0</td>\n",
       "      <td>-0.006186</td>\n",
       "      <td>475.242268</td>\n",
       "    </tr>\n",
       "    <tr>\n",
       "      <th>120</th>\n",
       "      <td>111.0</td>\n",
       "      <td>148.5</td>\n",
       "      <td>0.055944</td>\n",
       "      <td>142.290210</td>\n",
       "    </tr>\n",
       "    <tr>\n",
       "      <th>174</th>\n",
       "      <td>260.5</td>\n",
       "      <td>344.5</td>\n",
       "      <td>-0.323194</td>\n",
       "      <td>428.692015</td>\n",
       "    </tr>\n",
       "    <tr>\n",
       "      <th>235</th>\n",
       "      <td>177.0</td>\n",
       "      <td>201.0</td>\n",
       "      <td>0.222222</td>\n",
       "      <td>161.666667</td>\n",
       "    </tr>\n",
       "    <tr>\n",
       "      <th>259</th>\n",
       "      <td>215.0</td>\n",
       "      <td>484.0</td>\n",
       "      <td>0.070552</td>\n",
       "      <td>468.831288</td>\n",
       "    </tr>\n",
       "    <tr>\n",
       "      <th>277</th>\n",
       "      <td>144.5</td>\n",
       "      <td>204.0</td>\n",
       "      <td>-0.048913</td>\n",
       "      <td>211.067935</td>\n",
       "    </tr>\n",
       "    <tr>\n",
       "      <th>531</th>\n",
       "      <td>166.0</td>\n",
       "      <td>250.5</td>\n",
       "      <td>-0.156379</td>\n",
       "      <td>276.458848</td>\n",
       "    </tr>\n",
       "  </tbody>\n",
       "</table>\n",
       "</div>"
      ],
      "text/plain": [
       "       midpoint_x  midpoint_y  cline_slope  cline_intercept\n",
       "BoxID                                                      \n",
       "001         117.0       164.5    -0.118881       178.409091\n",
       "002         468.0       575.5     0.033451       559.845070\n",
       "004         500.0       651.0    -0.289931       795.965278\n",
       "033         362.5       473.0    -0.006186       475.242268\n",
       "120         111.0       148.5     0.055944       142.290210\n",
       "174         260.5       344.5    -0.323194       428.692015\n",
       "235         177.0       201.0     0.222222       161.666667\n",
       "259         215.0       484.0     0.070552       468.831288\n",
       "277         144.5       204.0    -0.048913       211.067935\n",
       "531         166.0       250.5    -0.156379       276.458848"
      ]
     },
     "execution_count": 81,
     "metadata": {},
     "output_type": "execute_result"
    }
   ],
   "source": [
    "midpoints_x_df = pd.DataFrame.from_dict(midpoints_x, orient='index', columns=[\"midpoint_x\"])\n",
    "midpoints_y_df = pd.DataFrame.from_dict(midpoints_y, orient='index', columns=['midpoint_y'])\n",
    "\n",
    "cline_slopes_df = pd.DataFrame.from_dict(slopes, orient='index', columns=[\"cline_slope\"])\n",
    "cline_intercepts_df = pd.DataFrame.from_dict(intercepts, orient='index', columns=[\"cline_intercept\"])\n",
    "\n",
    "total_df = pd.concat([midpoints_x_df, midpoints_y_df, cline_slopes_df, cline_intercepts_df], axis=1, join_axes=[leftmost_df.index])\n",
    "total_df.index.name = 'BoxID'\n",
    "total_df"
   ]
  },
  {
   "cell_type": "markdown",
   "metadata": {},
   "source": [
    "#### Export to Boxes_coords_pathrows.csv"
   ]
  },
  {
   "cell_type": "code",
   "execution_count": 82,
   "metadata": {},
   "outputs": [],
   "source": [
    "total_df.to_csv(path_or_buf = basepath+'Boxes_coords_pathrows.csv', sep=',')"
   ]
  }
 ],
 "metadata": {
  "kernelspec": {
   "display_name": "Python 3",
   "language": "python",
   "name": "python3"
  },
  "language_info": {
   "codemirror_mode": {
    "name": "ipython",
    "version": 3
   },
   "file_extension": ".py",
   "mimetype": "text/x-python",
   "name": "python",
   "nbconvert_exporter": "python",
   "pygments_lexer": "ipython3",
   "version": "3.7.3"
  }
 },
 "nbformat": 4,
 "nbformat_minor": 2
}
