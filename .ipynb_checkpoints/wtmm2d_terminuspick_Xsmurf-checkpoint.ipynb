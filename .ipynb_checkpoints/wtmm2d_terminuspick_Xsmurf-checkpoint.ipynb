{
 "cells": [
  {
   "cell_type": "markdown",
   "metadata": {},
   "source": [
    "# Run the 2D WTMM analysis and automatically pick the terminus lines\n",
    "\n",
    "By Jukes Liu (jukesliu@boisestate.edu)\n",
    "\n",
    "_Last modified 06-13-2020._\n",
    "\n",
    "Requires Xsmurf software to run. Please contact jukesliu@boisestate.edu or andre.khalil@maine.edu for ways to obtain Xsmurf.\n",
    "\n",
    "Script contains options to run on multiple CPUs or a single CPU. This is done by calling the bash scripts available on GitHub.\n",
    "\n",
    "\n",
    "## 1) Set-up"
   ]
  },
  {
   "cell_type": "code",
   "execution_count": 1,
   "metadata": {},
   "outputs": [
    {
     "name": "stdout",
     "output_type": "stream",
     "text": [
      "['072', '074', '075', '078', '080', '081', '084', '086', '087', '090', '092', '093', '096', '098', '099', '102', '104', '108', '114', '117', '122', '123', '128', '129', '132', '134', '138', '144', '153', '158', '159', '162', '164', '168', '177', '182', '183', '188', '189', '198', '204', '207', '212', '218', '222', '224', '228', '234', '237', '242', '243', '248', '249', '252', '254', '258', '264', '267', '272', '273', '278', '282', '284', '288', '294', '297', '300', '302', '303', '305', '306', '307', '308', '309', '311', '312', '313', '314', '315', '317', '318', '319', '320', '321', '323', '324', '325', '326', '327', '329', '330', '331', '332', '333', '335', '336', '337', '338', '339', '341', '342', '343', '344', '345', '346', '347', '348', '349', '350', '351', '352', '353', '354', '355', '356', '357', '358', '359', '360', '361', '362', '363', '364', '365', '366', '367', '368', '369', '370', '371', '372', '373', '374', '375', '376', '377', '378', '379', '380', '381', '382', '383', '384', '385', '386', '387', '388', '389', '390', '391', '392', '393', '394', '395', '396', '397', '398', '399', '400', '401', '402', '403', '404', '405', '406', '407', '408', '409', '410', '411', '412', '413', '414', '415', '416', '417', '418', '419', '420', '421', '422', '423', '424', '425', '426', '427', '428', '429', '430', '431', '432', '433', '434', '435', '436', '437', '438', '439', '440', '441', '442', '443', '444']\n"
     ]
    }
   ],
   "source": [
    "import numpy as np\n",
    "import pandas as pd\n",
    "import subprocess\n",
    "import os\n",
    "\n",
    "# Set base paths\n",
    "basepath='/home/jukes/Documents/Sample_glaciers/' # folder containing the box shapefile and info\n",
    "downloadpath = '/media/jukes/jukes1/LS8aws/' # folder to contain the downloaded images\n",
    "\n",
    "# grab BoxIDs from a csv file\n",
    "velocities_df = pd.read_csv(basepath+\"Glacier_vel_SE_allremaining.csv\", dtype=str).set_index('BoxID')\n",
    "BoxIDs = list(velocities_df.index); print(BoxIDs)"
   ]
  },
  {
   "cell_type": "code",
   "execution_count": 2,
   "metadata": {},
   "outputs": [
    {
     "data": {
      "text/plain": [
       "203"
      ]
     },
     "execution_count": 2,
     "metadata": {},
     "output_type": "execute_result"
    }
   ],
   "source": [
    "len(BoxIDs)"
   ]
  },
  {
   "cell_type": "markdown",
   "metadata": {},
   "source": [
    "## 2) Run the WTMM analysis through Xsmurf\n",
    "\n",
    "### 2A) on 1 CPU"
   ]
  },
  {
   "cell_type": "code",
   "execution_count": 8,
   "metadata": {
    "scrolled": true
   },
   "outputs": [],
   "source": [
    "# inputIDs = \" \".join(BoxIDs)\n",
    "# scr_gaussian = '/home/akhalil/src/xsmurf-2.7/main/xsmurf -nodisplay /home/jukes/Documents/Scripts/scr_gaussian.tcl '+inputIDs\n",
    "# print(scr_gaussian)\n",
    "# subprocess.call(scr_gaussian, shell=True)"
   ]
  },
  {
   "cell_type": "markdown",
   "metadata": {},
   "source": [
    "### 2B) on multiple CPUs on the project machine"
   ]
  },
  {
   "cell_type": "code",
   "execution_count": 4,
   "metadata": {
    "scrolled": true
   },
   "outputs": [
    {
     "data": {
      "text/plain": [
       "0"
      ]
     },
     "execution_count": 4,
     "metadata": {},
     "output_type": "execute_result"
    }
   ],
   "source": [
    "inputIDs = \" \".join(BoxIDs)\n",
    "# inputIDs = '257'\n",
    "# run shell script\n",
    "runsh = 'cd /home/jukes/Documents/Scripts/; chmod +x WTMM_parallel_test.sh; ./WTMM_parallel_test.sh '+inputIDs\n",
    "subprocess.call(runsh, shell=True)"
   ]
  },
  {
   "cell_type": "markdown",
   "metadata": {},
   "source": [
    "## 3) Pick the terminus chains through Xsmurf\n",
    "\n",
    "Set the filtering order and thresholds"
   ]
  },
  {
   "cell_type": "code",
   "execution_count": 3,
   "metadata": {},
   "outputs": [],
   "source": [
    "order = '_MSA'\n",
    "size_thresh = 0.4\n",
    "mod_thresh = 0.7\n",
    "arg_thresh = 0.1"
   ]
  },
  {
   "cell_type": "markdown",
   "metadata": {},
   "source": [
    "### 3A) on 1 CPU"
   ]
  },
  {
   "cell_type": "code",
   "execution_count": 7,
   "metadata": {
    "scrolled": true
   },
   "outputs": [],
   "source": [
    "# inputIDs = \" \".join(BoxIDs)\n",
    "# terminus_pick = '/home/akhalil/src/xsmurf-2.7/main/xsmurf -nodisplay /home/jukes/Documents/Scripts/terminus_pick'+str(order)+'.tcl '+str(size_thresh)+' '+str(mod_thresh)+' '+str(arg_thresh)+' '+str(inputIDs)\n",
    "# print(terminus_pick)\n",
    "# subprocess.call(terminus_pick, shell=True)"
   ]
  },
  {
   "cell_type": "markdown",
   "metadata": {},
   "source": [
    "### 3B) on multiple CPUs on the project machine"
   ]
  },
  {
   "cell_type": "code",
   "execution_count": 77,
   "metadata": {},
   "outputs": [],
   "source": [
    "# BoxIDs = BoxIDs[6:]"
   ]
  },
  {
   "cell_type": "code",
   "execution_count": 74,
   "metadata": {},
   "outputs": [],
   "source": [
    "# BoxIDs.append('257')"
   ]
  },
  {
   "cell_type": "code",
   "execution_count": 4,
   "metadata": {},
   "outputs": [
    {
     "name": "stdout",
     "output_type": "stream",
     "text": [
      "072 074 075 078 080 081 084 086 087 090 092 093 096 098 099 102 104 108 114 117 122 123 128 129 132 134 138 144 153 158 159 162 164 168 177 182 183 188 189 198 204 207 212 218 222 224 228 234 237 242 243 248 249 252 254 258 264 267 272 273 278 282 284 288 294 297 300 302 303 305 306 307 308 309 311 312 313 314 315 317 318 319 320 321 323 324 325 326 327 329 330 331 332 333 335 336 337 338 339 341 342 343 344 345 346 347 348 349 350 351 352 353 354 355 356 357 358 359 360 361 362 363 364 365 366 367 368 369 370 371 372 373 374 375 376 377 378 379 380 381 382 383 384 385 386 387 388 389 390 391 392 393 394 395 396 397 398 399 400 401 402 403 404 405 406 407 408 409 410 411 412 413 414 415 416 417 418 419 420 421 422 423 424 425 426 427 428 429 430 431 432 433 434 435 436 437 438 439 440 441 442 443 444\n"
     ]
    }
   ],
   "source": [
    "inputIDs = \" \".join(BoxIDs)\n",
    "print(inputIDs)"
   ]
  },
  {
   "cell_type": "code",
   "execution_count": 5,
   "metadata": {
    "scrolled": true
   },
   "outputs": [
    {
     "data": {
      "text/plain": [
       "0"
      ]
     },
     "execution_count": 5,
     "metadata": {},
     "output_type": "execute_result"
    }
   ],
   "source": [
    "# run terminus pick script\n",
    "# change parameters following ./terminus_pick_parallel.sh to the correct csv files\n",
    "tpick = 'cd /home/jukes/Documents/Scripts/; chmod +x terminus_pick_parallel.sh; ./terminus_pick_parallel.sh '+inputIDs\n",
    "subprocess.call(tpick, shell=True)"
   ]
  },
  {
   "cell_type": "code",
   "execution_count": null,
   "metadata": {},
   "outputs": [],
   "source": []
  }
 ],
 "metadata": {
  "kernelspec": {
   "display_name": "Python 3",
   "language": "python",
   "name": "python3"
  },
  "language_info": {
   "codemirror_mode": {
    "name": "ipython",
    "version": 3
   },
   "file_extension": ".py",
   "mimetype": "text/x-python",
   "name": "python",
   "nbconvert_exporter": "python",
   "pygments_lexer": "ipython3",
   "version": "3.7.6"
  }
 },
 "nbformat": 4,
 "nbformat_minor": 4
}
