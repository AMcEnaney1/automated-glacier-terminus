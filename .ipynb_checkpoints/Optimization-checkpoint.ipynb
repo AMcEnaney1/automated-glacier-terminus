{
 "cells": [
  {
   "cell_type": "markdown",
   "metadata": {},
   "source": [
    "## Import packages and set paths"
   ]
  },
  {
   "cell_type": "code",
   "execution_count": 39,
   "metadata": {},
   "outputs": [],
   "source": [
    "import pandas as pd\n",
    "import numpy as np\n",
    "import os\n",
    "import subprocess\n",
    "import matplotlib.pyplot as plt\n",
    "import cv2\n",
    "import matplotlib.image as mpimg\n",
    "import matplotlib.pylab as pl\n",
    "import numpy.ma as ma\n",
    "import datetime\n",
    "import math\n",
    "import scipy.optimize\n",
    "import random"
   ]
  },
  {
   "cell_type": "code",
   "execution_count": 10,
   "metadata": {},
   "outputs": [],
   "source": [
    "basepath = '/media/jukes/jukes1/'\n",
    "sg_path = '/home/jukes/Documents/Sample_glaciers/'"
   ]
  },
  {
   "cell_type": "markdown",
   "metadata": {},
   "source": [
    "## Read in analysis dates for manual and automated delinations, convert to datetime objs"
   ]
  },
  {
   "cell_type": "code",
   "execution_count": 12,
   "metadata": {},
   "outputs": [
    {
     "name": "stdout",
     "output_type": "stream",
     "text": [
      "(585, 4)\n"
     ]
    },
    {
     "data": {
      "text/html": [
       "<div>\n",
       "<style scoped>\n",
       "    .dataframe tbody tr th:only-of-type {\n",
       "        vertical-align: middle;\n",
       "    }\n",
       "\n",
       "    .dataframe tbody tr th {\n",
       "        vertical-align: top;\n",
       "    }\n",
       "\n",
       "    .dataframe thead th {\n",
       "        text-align: right;\n",
       "    }\n",
       "</style>\n",
       "<table border=\"1\" class=\"dataframe\">\n",
       "  <thead>\n",
       "    <tr style=\"text-align: right;\">\n",
       "      <th></th>\n",
       "      <th>BoxID</th>\n",
       "      <th>datetimes</th>\n",
       "      <th>Line_x</th>\n",
       "      <th>Line_y</th>\n",
       "    </tr>\n",
       "  </thead>\n",
       "  <tbody>\n",
       "    <tr>\n",
       "      <th>0</th>\n",
       "      <td>001</td>\n",
       "      <td>1987-10-14</td>\n",
       "      <td>[153, 153, 151, 152, 150, 151, 149, 148, 146, ...</td>\n",
       "      <td>[132, 133, 134, 134, 135, 135, 136, 138, 139, ...</td>\n",
       "    </tr>\n",
       "    <tr>\n",
       "      <th>1</th>\n",
       "      <td>001</td>\n",
       "      <td>1995-04-13</td>\n",
       "      <td>[152, 153, 153, 153, 153, 153, 154, 154, 155, ...</td>\n",
       "      <td>[135, 136, 137, 138, 139, 140, 141, 142, 142, ...</td>\n",
       "    </tr>\n",
       "    <tr>\n",
       "      <th>2</th>\n",
       "      <td>001</td>\n",
       "      <td>1995-05-31</td>\n",
       "      <td>[153, 153, 153, 153, 153, 154, 154, 157, 158, ...</td>\n",
       "      <td>[137, 138, 139, 140, 142, 143, 145, 145, 145, ...</td>\n",
       "    </tr>\n",
       "    <tr>\n",
       "      <th>3</th>\n",
       "      <td>001</td>\n",
       "      <td>2013-05-25</td>\n",
       "      <td>[131, 131, 132, 133, 134, 134, 135, 136, 136, ...</td>\n",
       "      <td>[141, 143, 144, 144, 145, 146, 146, 146, 147, ...</td>\n",
       "    </tr>\n",
       "    <tr>\n",
       "      <th>4</th>\n",
       "      <td>001</td>\n",
       "      <td>2013-05-29</td>\n",
       "      <td>[130, 131, 130, 131, 131, 132, 134, 134, 135, ...</td>\n",
       "      <td>[142, 142, 144, 144, 145, 146, 147, 148, 148, ...</td>\n",
       "    </tr>\n",
       "  </tbody>\n",
       "</table>\n",
       "</div>"
      ],
      "text/plain": [
       "  BoxID   datetimes                                             Line_x  \\\n",
       "0   001  1987-10-14  [153, 153, 151, 152, 150, 151, 149, 148, 146, ...   \n",
       "1   001  1995-04-13  [152, 153, 153, 153, 153, 153, 154, 154, 155, ...   \n",
       "2   001  1995-05-31  [153, 153, 153, 153, 153, 154, 154, 157, 158, ...   \n",
       "3   001  2013-05-25  [131, 131, 132, 133, 134, 134, 135, 136, 136, ...   \n",
       "4   001  2013-05-29  [130, 131, 130, 131, 131, 132, 134, 134, 135, ...   \n",
       "\n",
       "                                              Line_y  \n",
       "0  [132, 133, 134, 134, 135, 135, 136, 138, 139, ...  \n",
       "1  [135, 136, 137, 138, 139, 140, 141, 142, 142, ...  \n",
       "2  [137, 138, 139, 140, 142, 143, 145, 145, 145, ...  \n",
       "3  [141, 143, 144, 144, 145, 146, 146, 146, 147, ...  \n",
       "4  [142, 142, 144, 144, 145, 146, 147, 148, 148, ...  "
      ]
     },
     "execution_count": 12,
     "metadata": {},
     "output_type": "execute_result"
    }
   ],
   "source": [
    "#read in manual image dates\n",
    "manual_df= pd.read_csv(basepath+'Manual/Manual_imgdates.csv', sep=',', dtype=str, header=0, usecols=[1,2,3,4])\n",
    "print(manual_df.shape)\n",
    "manual_df.head()"
   ]
  },
  {
   "cell_type": "code",
   "execution_count": 13,
   "metadata": {},
   "outputs": [],
   "source": [
    "#grab the datetime strings\n",
    "datetimes = manual_df.loc[:,'datetimes']\n",
    "#create list to store the datetime objects\n",
    "datetime_objs = []\n",
    "\n",
    "for date in datetimes:\n",
    "    date = str(date)\n",
    "    datetime_obj = datetime.datetime.strptime(date, '%Y-%m-%d')\n",
    "    datetime_obj = np.datetime64(datetime_obj)\n",
    "    datetime_objs.append(datetime_obj)\n",
    "\n",
    "#add the datetime objects back into the datetime column\n",
    "manual_df['datetimes'] = datetime_objs"
   ]
  },
  {
   "cell_type": "code",
   "execution_count": 14,
   "metadata": {
    "scrolled": false
   },
   "outputs": [
    {
     "name": "stdout",
     "output_type": "stream",
     "text": [
      "(864, 2)\n"
     ]
    },
    {
     "data": {
      "text/html": [
       "<div>\n",
       "<style scoped>\n",
       "    .dataframe tbody tr th:only-of-type {\n",
       "        vertical-align: middle;\n",
       "    }\n",
       "\n",
       "    .dataframe tbody tr th {\n",
       "        vertical-align: top;\n",
       "    }\n",
       "\n",
       "    .dataframe thead th {\n",
       "        text-align: right;\n",
       "    }\n",
       "</style>\n",
       "<table border=\"1\" class=\"dataframe\">\n",
       "  <thead>\n",
       "    <tr style=\"text-align: right;\">\n",
       "      <th></th>\n",
       "      <th>Scene</th>\n",
       "      <th>datetimes</th>\n",
       "    </tr>\n",
       "  </thead>\n",
       "  <tbody>\n",
       "    <tr>\n",
       "      <th>510</th>\n",
       "      <td>LC80090132013101LGN01</td>\n",
       "      <td>2013-04-11</td>\n",
       "    </tr>\n",
       "    <tr>\n",
       "      <th>1612</th>\n",
       "      <td>LC80090142013101LGN01</td>\n",
       "      <td>2013-04-11</td>\n",
       "    </tr>\n",
       "    <tr>\n",
       "      <th>577</th>\n",
       "      <td>LC82330172013102LGN01</td>\n",
       "      <td>2013-04-12</td>\n",
       "    </tr>\n",
       "    <tr>\n",
       "      <th>940</th>\n",
       "      <td>LC82330152013102LGN01</td>\n",
       "      <td>2013-04-12</td>\n",
       "    </tr>\n",
       "    <tr>\n",
       "      <th>445</th>\n",
       "      <td>LC80080142013110LGN01</td>\n",
       "      <td>2013-04-20</td>\n",
       "    </tr>\n",
       "  </tbody>\n",
       "</table>\n",
       "</div>"
      ],
      "text/plain": [
       "                      Scene   datetimes\n",
       "510   LC80090132013101LGN01  2013-04-11\n",
       "1612  LC80090142013101LGN01  2013-04-11\n",
       "577   LC82330172013102LGN01  2013-04-12\n",
       "940   LC82330152013102LGN01  2013-04-12\n",
       "445   LC80080142013110LGN01  2013-04-20"
      ]
     },
     "execution_count": 14,
     "metadata": {},
     "output_type": "execute_result"
    }
   ],
   "source": [
    "#Read in datetags csv as datetime_df\n",
    "automated_df = pd.read_csv(sg_path+'imgdates.csv', sep=',', dtype=str, header=0, names=['Scene', 'datetimes'])\n",
    "print(datetime_df.shape)\n",
    "automated_df.head()"
   ]
  },
  {
   "cell_type": "code",
   "execution_count": 15,
   "metadata": {},
   "outputs": [],
   "source": [
    "#grab the datetime strings\n",
    "datetimes = automated_df.loc[:,'datetimes']\n",
    "#create list to store the datetime objects\n",
    "datetime_objs = []\n",
    "\n",
    "for date in datetimes:\n",
    "    date = str(date)\n",
    "    datetime_obj = datetime.datetime.strptime(date, '%Y-%m-%d')\n",
    "    datetime_obj = np.datetime64(datetime_obj)\n",
    "    datetime_objs.append(datetime_obj)\n",
    "\n",
    "#add the datetime objects back into the datetime column\n",
    "automated_df['datetimes'] = datetime_objs"
   ]
  },
  {
   "cell_type": "markdown",
   "metadata": {},
   "source": [
    "## Find overlaps and select half for testing"
   ]
  },
  {
   "cell_type": "code",
   "execution_count": 71,
   "metadata": {
    "scrolled": true
   },
   "outputs": [
    {
     "data": {
      "text/plain": [
       "(125, 2)"
      ]
     },
     "execution_count": 71,
     "metadata": {},
     "output_type": "execute_result"
    }
   ],
   "source": [
    "overlap_df = manual_df.merge(automated_df, how='inner', on=['datetimes'])\n",
    "overlap_df = overlap_df.sort_values(by='datetimes', ascending=True)\n",
    "overlap_df = overlap_df.drop(['Line_x', 'Line_y', 'Scene'], axis=1)\n",
    "overlap_df = overlap_df.drop_duplicates()\n",
    "overlap_df.shape"
   ]
  },
  {
   "cell_type": "code",
   "execution_count": 102,
   "metadata": {
    "scrolled": true
   },
   "outputs": [],
   "source": [
    "dates = []\n",
    "\n",
    "for idx, row in overlap_df.iterrows():\n",
    "    entry = row['BoxID'] + ','+str(row['datetimes'])[:-9]\n",
    "#     print(entry)\n",
    "    dates.append(entry)\n",
    "# print(dates)"
   ]
  },
  {
   "cell_type": "code",
   "execution_count": 92,
   "metadata": {},
   "outputs": [
    {
     "name": "stdout",
     "output_type": "stream",
     "text": [
      "125\n",
      "63\n",
      "62\n",
      "set()\n"
     ]
    }
   ],
   "source": [
    "N = len(dates)\n",
    "print(N)\n",
    "\n",
    "#pick a random sample of dates for training\n",
    "train_dates = random.sample(dates, int(N/2)+1)\n",
    "print(len(train_dates))\n",
    "# print(train_dates)\n",
    "\n",
    "#grab remaining for testing\n",
    "test_dates = []\n",
    "for date in dates:\n",
    "    if date not in train_dates:\n",
    "        test_dates.append(date)\n",
    "print(len(test_dates))\n",
    "# print(test_dates)\n",
    "\n",
    "#Check that they don't overlap, should return empty\n",
    "print(set(train_dates).intersection(test_dates))"
   ]
  },
  {
   "cell_type": "code",
   "execution_count": 100,
   "metadata": {
    "scrolled": true
   },
   "outputs": [],
   "source": [
    "boxes = []\n",
    "imgdates = []\n",
    "\n",
    "for td in train_dates:\n",
    "    BoxID, imgdate = td.split(',')\n",
    "    \n",
    "    boxes.append(BoxID)\n",
    "    imgdates.append(imgdate)\n",
    "\n",
    "train_df = pd.DataFrame(list(zip(boxes, imgdates)))\n",
    "#export to csv and text\n",
    "train_df.to_csv(basepath+'/Manual/train.csv', sep=',', index=False, header=False)\n",
    "train_df.to_csv(basepath+'/Manual/train.txt', sep=' ', index=False, header=False)"
   ]
  },
  {
   "cell_type": "markdown",
   "metadata": {},
   "source": [
    "## Define objective function"
   ]
  },
  {
   "cell_type": "markdown",
   "metadata": {},
   "source": [
    "Example:"
   ]
  },
  {
   "cell_type": "code",
   "execution_count": 25,
   "metadata": {},
   "outputs": [],
   "source": [
    "def f(x):\n",
    "    return x**2"
   ]
  },
  {
   "cell_type": "code",
   "execution_count": 22,
   "metadata": {},
   "outputs": [
    {
     "name": "stdout",
     "output_type": "stream",
     "text": [
      "Optimization terminated successfully.\n",
      "         Current function value: 0.000000\n",
      "         Iterations: 17\n",
      "         Function evaluations: 34\n"
     ]
    }
   ],
   "source": [
    "minimum = scipy.optimize.fmin(f, 1)"
   ]
  },
  {
   "cell_type": "code",
   "execution_count": 24,
   "metadata": {},
   "outputs": [
    {
     "data": {
      "text/plain": [
       "-8.881784197001252e-16"
      ]
     },
     "execution_count": 24,
     "metadata": {},
     "output_type": "execute_result"
    }
   ],
   "source": [
    "minimum[0]"
   ]
  },
  {
   "cell_type": "code",
   "execution_count": 37,
   "metadata": {},
   "outputs": [],
   "source": [
    "def center_dist(thresh, auto, man):\n",
    "    return abs(auto-man)"
   ]
  },
  {
   "cell_type": "code",
   "execution_count": 38,
   "metadata": {},
   "outputs": [
    {
     "name": "stdout",
     "output_type": "stream",
     "text": [
      "Optimization terminated successfully.\n",
      "         Current function value: 2.000000\n",
      "         Iterations: 10\n",
      "         Function evaluations: 29\n"
     ]
    }
   ],
   "source": [
    "thresh_1_guess = 1\n",
    "min2 = scipy.optimize.fmin(center_dist, thresh_1_guess, args=(1, 3))"
   ]
  },
  {
   "cell_type": "code",
   "execution_count": null,
   "metadata": {},
   "outputs": [],
   "source": []
  }
 ],
 "metadata": {
  "kernelspec": {
   "display_name": "Python 3",
   "language": "python",
   "name": "python3"
  },
  "language_info": {
   "codemirror_mode": {
    "name": "ipython",
    "version": 3
   },
   "file_extension": ".py",
   "mimetype": "text/x-python",
   "name": "python",
   "nbconvert_exporter": "python",
   "pygments_lexer": "ipython3",
   "version": "3.7.3"
  }
 },
 "nbformat": 4,
 "nbformat_minor": 2
}
