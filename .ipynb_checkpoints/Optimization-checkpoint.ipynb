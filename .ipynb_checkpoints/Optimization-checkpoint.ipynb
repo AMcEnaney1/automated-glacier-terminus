{
 "cells": [
  {
   "cell_type": "markdown",
   "metadata": {},
   "source": [
    "# Threshold optimization \n",
    "\n",
    "Jukes Liu"
   ]
  },
  {
   "cell_type": "markdown",
   "metadata": {},
   "source": [
    "## Import packages and set paths"
   ]
  },
  {
   "cell_type": "code",
   "execution_count": 1,
   "metadata": {},
   "outputs": [],
   "source": [
    "import pandas as pd\n",
    "import numpy as np\n",
    "import os\n",
    "import subprocess\n",
    "import matplotlib.pyplot as plt\n",
    "import cv2\n",
    "import matplotlib.image as mpimg\n",
    "import matplotlib.pylab as pl\n",
    "import numpy.ma as ma\n",
    "import datetime\n",
    "import math\n",
    "import scipy.optimize\n",
    "import random"
   ]
  },
  {
   "cell_type": "code",
   "execution_count": 2,
   "metadata": {},
   "outputs": [],
   "source": [
    "basepath = '/media/jukes/jukes1/'\n",
    "sg_path = '/home/jukes/Documents/Sample_glaciers/'"
   ]
  },
  {
   "cell_type": "markdown",
   "metadata": {},
   "source": [
    "## Read in analysis dates for manual and automated delinations, convert to datetime objs"
   ]
  },
  {
   "cell_type": "code",
   "execution_count": 3,
   "metadata": {
    "scrolled": true
   },
   "outputs": [
    {
     "name": "stdout",
     "output_type": "stream",
     "text": [
      "(484, 10)\n"
     ]
    },
    {
     "data": {
      "text/html": [
       "<div>\n",
       "<style scoped>\n",
       "    .dataframe tbody tr th:only-of-type {\n",
       "        vertical-align: middle;\n",
       "    }\n",
       "\n",
       "    .dataframe tbody tr th {\n",
       "        vertical-align: top;\n",
       "    }\n",
       "\n",
       "    .dataframe thead th {\n",
       "        text-align: right;\n",
       "    }\n",
       "</style>\n",
       "<table border=\"1\" class=\"dataframe\">\n",
       "  <thead>\n",
       "    <tr style=\"text-align: right;\">\n",
       "      <th></th>\n",
       "      <th>Unnamed: 0</th>\n",
       "      <th>BoxID</th>\n",
       "      <th>datetimes</th>\n",
       "      <th>Line_x</th>\n",
       "      <th>Line_y</th>\n",
       "      <th>intersect_x</th>\n",
       "      <th>intersect_y</th>\n",
       "      <th>tpos50</th>\n",
       "      <th>tpos25</th>\n",
       "      <th>tpos75</th>\n",
       "    </tr>\n",
       "  </thead>\n",
       "  <tbody>\n",
       "    <tr>\n",
       "      <th>0</th>\n",
       "      <td>186</td>\n",
       "      <td>001</td>\n",
       "      <td>2013-05-05</td>\n",
       "      <td>[135, 134, 135, 133, 133, 132, 134, 134, 135, ...</td>\n",
       "      <td>[141, 142, 142, 143, 144, 145, 146, 147, 147, ...</td>\n",
       "      <td>142</td>\n",
       "      <td>159</td>\n",
       "      <td>390.0</td>\n",
       "      <td>270.0</td>\n",
       "      <td>465.0</td>\n",
       "    </tr>\n",
       "    <tr>\n",
       "      <th>1</th>\n",
       "      <td>269</td>\n",
       "      <td>001</td>\n",
       "      <td>2013-05-14</td>\n",
       "      <td>[131, 132, 133, 133, 134, 135, 136, 136, 137, ...</td>\n",
       "      <td>[144, 145, 146, 147, 148, 149, 149, 150, 150, ...</td>\n",
       "      <td>142</td>\n",
       "      <td>159</td>\n",
       "      <td>390.0</td>\n",
       "      <td>240.0</td>\n",
       "      <td>450.0</td>\n",
       "    </tr>\n",
       "    <tr>\n",
       "      <th>2</th>\n",
       "      <td>184</td>\n",
       "      <td>001</td>\n",
       "      <td>2013-05-29</td>\n",
       "      <td>[132, 132, 132, 134, 134, 136, 136, 137, 139, ...</td>\n",
       "      <td>[143, 144, 145, 146, 147, 147, 148, 149, 150, ...</td>\n",
       "      <td>144</td>\n",
       "      <td>159</td>\n",
       "      <td>420.0</td>\n",
       "      <td>285.0</td>\n",
       "      <td>480.0</td>\n",
       "    </tr>\n",
       "    <tr>\n",
       "      <th>3</th>\n",
       "      <td>254</td>\n",
       "      <td>001</td>\n",
       "      <td>2013-08-23</td>\n",
       "      <td>[133, 132, 133, 131, 132, 131, 130, 131, 131, ...</td>\n",
       "      <td>[142, 143, 143, 144, 144, 145, 146, 147, 148, ...</td>\n",
       "      <td>140</td>\n",
       "      <td>159</td>\n",
       "      <td>360.0</td>\n",
       "      <td>210.0</td>\n",
       "      <td>465.0</td>\n",
       "    </tr>\n",
       "    <tr>\n",
       "      <th>4</th>\n",
       "      <td>266</td>\n",
       "      <td>001</td>\n",
       "      <td>2013-08-27</td>\n",
       "      <td>[130, 129, 130, 129, 130, 131, 132, 133, 133, ...</td>\n",
       "      <td>[144, 145, 145, 148, 149, 149, 149, 150, 151, ...</td>\n",
       "      <td>140</td>\n",
       "      <td>159</td>\n",
       "      <td>360.0</td>\n",
       "      <td>180.0</td>\n",
       "      <td>435.0</td>\n",
       "    </tr>\n",
       "  </tbody>\n",
       "</table>\n",
       "</div>"
      ],
      "text/plain": [
       "  Unnamed: 0 BoxID   datetimes  \\\n",
       "0        186   001  2013-05-05   \n",
       "1        269   001  2013-05-14   \n",
       "2        184   001  2013-05-29   \n",
       "3        254   001  2013-08-23   \n",
       "4        266   001  2013-08-27   \n",
       "\n",
       "                                              Line_x  \\\n",
       "0  [135, 134, 135, 133, 133, 132, 134, 134, 135, ...   \n",
       "1  [131, 132, 133, 133, 134, 135, 136, 136, 137, ...   \n",
       "2  [132, 132, 132, 134, 134, 136, 136, 137, 139, ...   \n",
       "3  [133, 132, 133, 131, 132, 131, 130, 131, 131, ...   \n",
       "4  [130, 129, 130, 129, 130, 131, 132, 133, 133, ...   \n",
       "\n",
       "                                              Line_y intersect_x intersect_y  \\\n",
       "0  [141, 142, 142, 143, 144, 145, 146, 147, 147, ...         142         159   \n",
       "1  [144, 145, 146, 147, 148, 149, 149, 150, 150, ...         142         159   \n",
       "2  [143, 144, 145, 146, 147, 147, 148, 149, 150, ...         144         159   \n",
       "3  [142, 143, 143, 144, 144, 145, 146, 147, 148, ...         140         159   \n",
       "4  [144, 145, 145, 148, 149, 149, 149, 150, 151, ...         140         159   \n",
       "\n",
       "  tpos50 tpos25 tpos75  \n",
       "0  390.0  270.0  465.0  \n",
       "1  390.0  240.0  450.0  \n",
       "2  420.0  285.0  480.0  \n",
       "3  360.0  210.0  465.0  \n",
       "4  360.0  180.0  435.0  "
      ]
     },
     "execution_count": 3,
     "metadata": {},
     "output_type": "execute_result"
    }
   ],
   "source": [
    "#read in manual image dates\n",
    "manual_df= pd.read_csv(basepath+'Manual/manual_tpos.csv', sep=',', dtype=str, header=0)\n",
    "manual_df = manual_df.dropna()\n",
    "manual_df.drop_duplicates(subset=['BoxID','datetimes'])\n",
    "print(manual_df.shape)\n",
    "manual_df.head()"
   ]
  },
  {
   "cell_type": "code",
   "execution_count": 4,
   "metadata": {
    "scrolled": false
   },
   "outputs": [
    {
     "name": "stdout",
     "output_type": "stream",
     "text": [
      "(864, 2)\n"
     ]
    },
    {
     "data": {
      "text/html": [
       "<div>\n",
       "<style scoped>\n",
       "    .dataframe tbody tr th:only-of-type {\n",
       "        vertical-align: middle;\n",
       "    }\n",
       "\n",
       "    .dataframe tbody tr th {\n",
       "        vertical-align: top;\n",
       "    }\n",
       "\n",
       "    .dataframe thead th {\n",
       "        text-align: right;\n",
       "    }\n",
       "</style>\n",
       "<table border=\"1\" class=\"dataframe\">\n",
       "  <thead>\n",
       "    <tr style=\"text-align: right;\">\n",
       "      <th></th>\n",
       "      <th>Scene</th>\n",
       "      <th>datetimes</th>\n",
       "    </tr>\n",
       "  </thead>\n",
       "  <tbody>\n",
       "    <tr>\n",
       "      <th>510</th>\n",
       "      <td>LC80090132013101LGN01</td>\n",
       "      <td>2013-04-11</td>\n",
       "    </tr>\n",
       "    <tr>\n",
       "      <th>1612</th>\n",
       "      <td>LC80090142013101LGN01</td>\n",
       "      <td>2013-04-11</td>\n",
       "    </tr>\n",
       "    <tr>\n",
       "      <th>577</th>\n",
       "      <td>LC82330172013102LGN01</td>\n",
       "      <td>2013-04-12</td>\n",
       "    </tr>\n",
       "    <tr>\n",
       "      <th>940</th>\n",
       "      <td>LC82330152013102LGN01</td>\n",
       "      <td>2013-04-12</td>\n",
       "    </tr>\n",
       "    <tr>\n",
       "      <th>445</th>\n",
       "      <td>LC80080142013110LGN01</td>\n",
       "      <td>2013-04-20</td>\n",
       "    </tr>\n",
       "  </tbody>\n",
       "</table>\n",
       "</div>"
      ],
      "text/plain": [
       "                      Scene   datetimes\n",
       "510   LC80090132013101LGN01  2013-04-11\n",
       "1612  LC80090142013101LGN01  2013-04-11\n",
       "577   LC82330172013102LGN01  2013-04-12\n",
       "940   LC82330152013102LGN01  2013-04-12\n",
       "445   LC80080142013110LGN01  2013-04-20"
      ]
     },
     "execution_count": 4,
     "metadata": {},
     "output_type": "execute_result"
    }
   ],
   "source": [
    "#Read in datetags csv as datetime_df\n",
    "automated_df = pd.read_csv(sg_path+'imgdates.csv', sep=',', dtype=str, header=0, names=['Scene', 'datetimes'])\n",
    "print(automated_df.shape)\n",
    "automated_df.head()"
   ]
  },
  {
   "cell_type": "markdown",
   "metadata": {},
   "source": [
    "## Find overlaps and select 90% for training, 10% for testing"
   ]
  },
  {
   "cell_type": "code",
   "execution_count": 8,
   "metadata": {
    "scrolled": true
   },
   "outputs": [
    {
     "data": {
      "text/plain": [
       "(432, 9)"
      ]
     },
     "execution_count": 8,
     "metadata": {},
     "output_type": "execute_result"
    }
   ],
   "source": [
    "overlap_df = manual_df.merge(automated_df, how='inner', on=['datetimes'])\n",
    "overlap_df = overlap_df.drop(['Line_x', 'Line_y'], axis=1)\n",
    "overlap_df = overlap_df.drop_duplicates(['BoxID','datetimes'])\n",
    "overlap_df = overlap_df.sort_values(by=['BoxID','datetimes'], ascending=True)\n",
    "overlap_df.shape"
   ]
  },
  {
   "cell_type": "code",
   "execution_count": 9,
   "metadata": {},
   "outputs": [],
   "source": [
    "dates = []\n",
    "for idx, row in overlap_df.iterrows():\n",
    "    dateID = str(row['BoxID'])+','+str(row['datetimes']+','+str(row['Scene']))\n",
    "    dates.append(dateID)\n",
    "# print(date_IDs)"
   ]
  },
  {
   "cell_type": "markdown",
   "metadata": {},
   "source": [
    "### Select 90% for training"
   ]
  },
  {
   "cell_type": "code",
   "execution_count": 10,
   "metadata": {
    "scrolled": true
   },
   "outputs": [
    {
     "name": "stdout",
     "output_type": "stream",
     "text": [
      "432\n",
      "388\n",
      "44\n",
      "432\n",
      "set()\n"
     ]
    }
   ],
   "source": [
    "N = len(dates); print(N)\n",
    "\n",
    "#pick a random sample of dates for training\n",
    "train_dates = random.sample(dates, int(N*0.9))\n",
    "print(len(train_dates))\n",
    "# print(train_dates)\n",
    "\n",
    "#grab remaining for testing\n",
    "test_dates = []\n",
    "for date in dates:\n",
    "    if date not in train_dates:\n",
    "        test_dates.append(date)\n",
    "print(len(test_dates))\n",
    "# print(test_dates)\n",
    "\n",
    "#Check that they don't overlap, should return empty\n",
    "print(len(train_dates)+len(test_dates)); print(set(train_dates).intersection(test_dates))"
   ]
  },
  {
   "cell_type": "code",
   "execution_count": 13,
   "metadata": {
    "scrolled": true
   },
   "outputs": [
    {
     "data": {
      "text/html": [
       "<div>\n",
       "<style scoped>\n",
       "    .dataframe tbody tr th:only-of-type {\n",
       "        vertical-align: middle;\n",
       "    }\n",
       "\n",
       "    .dataframe tbody tr th {\n",
       "        vertical-align: top;\n",
       "    }\n",
       "\n",
       "    .dataframe thead th {\n",
       "        text-align: right;\n",
       "    }\n",
       "</style>\n",
       "<table border=\"1\" class=\"dataframe\">\n",
       "  <thead>\n",
       "    <tr style=\"text-align: right;\">\n",
       "      <th></th>\n",
       "      <th>BoxID</th>\n",
       "      <th>datetime</th>\n",
       "      <th>Scene</th>\n",
       "    </tr>\n",
       "  </thead>\n",
       "  <tbody>\n",
       "    <tr>\n",
       "      <th>0</th>\n",
       "      <td>002</td>\n",
       "      <td>2016-03-19</td>\n",
       "      <td>LC80320052016079LGN00</td>\n",
       "    </tr>\n",
       "    <tr>\n",
       "      <th>1</th>\n",
       "      <td>120</td>\n",
       "      <td>2016-09-11</td>\n",
       "      <td>LC82330152016255LGN00</td>\n",
       "    </tr>\n",
       "    <tr>\n",
       "      <th>2</th>\n",
       "      <td>002</td>\n",
       "      <td>2014-03-28</td>\n",
       "      <td>LC80340052014087LGN00</td>\n",
       "    </tr>\n",
       "    <tr>\n",
       "      <th>3</th>\n",
       "      <td>002</td>\n",
       "      <td>2013-08-27</td>\n",
       "      <td>LC80310052013239LGN00</td>\n",
       "    </tr>\n",
       "    <tr>\n",
       "      <th>4</th>\n",
       "      <td>120</td>\n",
       "      <td>2016-12-25</td>\n",
       "      <td>LC82320182016360LGN00</td>\n",
       "    </tr>\n",
       "  </tbody>\n",
       "</table>\n",
       "</div>"
      ],
      "text/plain": [
       "  BoxID    datetime                  Scene\n",
       "0   002  2016-03-19  LC80320052016079LGN00\n",
       "1   120  2016-09-11  LC82330152016255LGN00\n",
       "2   002  2014-03-28  LC80340052014087LGN00\n",
       "3   002  2013-08-27  LC80310052013239LGN00\n",
       "4   120  2016-12-25  LC82320182016360LGN00"
      ]
     },
     "execution_count": 13,
     "metadata": {},
     "output_type": "execute_result"
    }
   ],
   "source": [
    "boxes = []; imgdates = []; scenes = []\n",
    "\n",
    "for td in train_dates:\n",
    "    BoxID, imgdate, scene = td.split(',')\n",
    "    boxes.append(BoxID); imgdates.append(imgdate); scenes.append(scene)\n",
    "\n",
    "train_df = pd.DataFrame(list(zip(boxes, imgdates, scenes)), columns=['BoxID', 'datetime', 'Scene'])\n",
    "train_df.head()"
   ]
  },
  {
   "cell_type": "code",
   "execution_count": 14,
   "metadata": {},
   "outputs": [],
   "source": [
    "#export to csv and text\n",
    "train_df.to_csv(basepath+'/Manual/train.csv', sep=',', index=False, header=False)\n",
    "train_df.to_csv(basepath+'/Manual/train.txt', sep=' ', index=False, header=False)"
   ]
  },
  {
   "cell_type": "markdown",
   "metadata": {},
   "source": [
    "### Grab test dates"
   ]
  },
  {
   "cell_type": "code",
   "execution_count": 15,
   "metadata": {},
   "outputs": [],
   "source": [
    "boxes = []; imgdates = []; scenes = []\n",
    "\n",
    "for td in test_dates:\n",
    "    BoxID, imgdate, scene = td.split(',')\n",
    "    boxes.append(BoxID); imgdates.append(imgdate); scenes.append(scene)\n",
    "\n",
    "test_df = pd.DataFrame(list(zip(boxes, imgdates, scenes)), columns=['BoxID', 'datetime', 'Scene'])\n",
    "# test_df.head()\n",
    "#export to csv and text\n",
    "test_df.to_csv(basepath+'/Manual/test.csv', sep=',', index=False, header=False)\n",
    "test_df.to_csv(basepath+'/Manual/test.txt', sep=' ', index=False, header=False)"
   ]
  },
  {
   "cell_type": "markdown",
   "metadata": {},
   "source": [
    "## Define objective function\n",
    "\n",
    "I'm using a modified version of the L1-norm. Imported from the automated_terminus_functions.py script. The objective funciton will be 1/N * (|Xa-Xm|i) where i=3 (for each centerline 50, 25, 75) and N equals the number of delineations generated (the more the better). The goal then is to minimize the objective function."
   ]
  },
  {
   "cell_type": "code",
   "execution_count": 5,
   "metadata": {},
   "outputs": [],
   "source": [
    "# DOA = '2020_01_20'\n",
    "\n",
    "# def calc_theta(size_thresh, mod_thresh):\n",
    "#     #Calculate automated tpos\n",
    "#     #run terminus_pick.tcl using each of the thresholds\n",
    "#     terminus_pick = '/home/akhalil/src/xsmurf-2.7/main/xsmurf -nodisplay /home/jukes/Documents/Scripts/terminus_pick.tcl '+str(size_thresh)+' '+str(mod_thresh)\n",
    "#     print(terminus_pick)\n",
    "#     subprocess.call(terminus_pick, shell=True)\n",
    "    \n",
    "#     #pull automated terminus position from the output\n",
    "#     #grab each output file\n",
    "#     differences = []\n",
    "    \n",
    "#     for file in os.listdir(sg_path):\n",
    "#         if DOA in file and file.endswith('csv'):\n",
    "#             if len(file)>28:\n",
    "#                 print(file)\n",
    "\n",
    "#                 #read the output file in and calculate terminus position for each image\n",
    "#                 #pull automated terminus delineations\n",
    "#                 auto_tpos = \n",
    "\n",
    "#                 #pull in manual tpos \n",
    "#                 man_tpos = \n",
    "\n",
    "#                 diff = abs(auto_tpos - man_tpos)\n",
    "#                 differences.append(diff)\n",
    "    \n",
    "# #     #return objective function = distance between the two\n",
    "# #     return np.average(differences)"
   ]
  },
  {
   "cell_type": "code",
   "execution_count": 6,
   "metadata": {},
   "outputs": [],
   "source": [
    "# def minimize(size_guess, mod_guess):\n",
    "#     minimum = scipy.optimize.fmin(center_dist, [size_guess, mod_guess], args=(size_guess, mod_guess),full_output=True)\n",
    "#     xopt = minimum[0][0]\n",
    "#     funcval = minimum[1]\n",
    "#     return xopt, funcval"
   ]
  },
  {
   "cell_type": "markdown",
   "metadata": {},
   "source": [
    "## Run the optimization using scipy.optimize.fmin()\n",
    "\n",
    "    scipy.optimize.fmin(func, x0, args=(), xtol=0.0001, ftol=0.0001, maxiter=None, maxfun=None, full_output=0, disp=1, retall=0, callback=None, initial_simplex=None)[source]\n",
    "\n",
    "Minimize a function using the downhill simplex algorithm.\n",
    "This algorithm only uses function values, not derivatives or second derivatives.\n",
    "\n",
    "Parameters\n",
    "   - funccallable func(x,*args)\n",
    "The objective function to be minimized.\n",
    "\n",
    "   - x0ndarray\n",
    "Initial guess.\n",
    "\n",
    "Returns\n",
    "   - xoptndarray\n",
    "Parameter that minimizes function.\n",
    "\n",
    "   - foptfloat\n",
    "Value of function at minimum: fopt = func(xopt).\n",
    "\n",
    "   - iterint\n",
    "Number of iterations performed.\n",
    "\n",
    "   - funcallsint\n",
    "Number of function calls made.\n",
    "\n",
    "   - warnflagint\n",
    "1 : Maximum number of function evaluations made. 2 : Maximum number of iterations reached.\n",
    "\n",
    "    -allvecslist\n",
    "Solution at each iteration."
   ]
  },
  {
   "cell_type": "code",
   "execution_count": 5,
   "metadata": {},
   "outputs": [],
   "source": [
    "os.chdir('/home/jukes/automated-glacier-terminus')\n",
    "from automated_terminus_functions import objective_func, calc_theta"
   ]
  },
  {
   "cell_type": "code",
   "execution_count": 6,
   "metadata": {},
   "outputs": [],
   "source": [
    "base_size_thresh = 0.8; base_mod_thresh = 0.8; thresh_range = 0.15; step=0.005; interval=1000\n",
    "size_guesses = np.arange(base_size_thresh-thresh_range, base_size_thresh+thresh_range, step)\n",
    "mod_guesses = np.arange(base_mod_thresh-thresh_range, base_mod_thresh+thresh_range, step)"
   ]
  },
  {
   "cell_type": "code",
   "execution_count": 7,
   "metadata": {},
   "outputs": [
    {
     "name": "stdout",
     "output_type": "stream",
     "text": [
      "[0.65  0.655 0.66  0.665 0.67  0.675 0.68  0.685 0.69  0.695 0.7   0.705\n",
      " 0.71  0.715 0.72  0.725 0.73  0.735 0.74  0.745 0.75  0.755 0.76  0.765\n",
      " 0.77  0.775 0.78  0.785 0.79  0.795 0.8   0.805 0.81  0.815 0.82  0.825\n",
      " 0.83  0.835 0.84  0.845 0.85  0.855 0.86  0.865 0.87  0.875 0.88  0.885\n",
      " 0.89  0.895 0.9   0.905 0.91  0.915 0.92  0.925 0.93  0.935 0.94  0.945\n",
      " 0.95 ]\n",
      "61\n"
     ]
    }
   ],
   "source": [
    "print(size_guesses); print(len(size_guesses))"
   ]
  },
  {
   "cell_type": "markdown",
   "metadata": {},
   "source": [
    "### Hard-coded:"
   ]
  },
  {
   "cell_type": "code",
   "execution_count": 9,
   "metadata": {},
   "outputs": [
    {
     "name": "stdout",
     "output_type": "stream",
     "text": [
      "0.65 0.65\n"
     ]
    },
    {
     "ename": "NameError",
     "evalue": "name 'subprocess' is not defined",
     "output_type": "error",
     "traceback": [
      "\u001b[0;31m---------------------------------------------------------------------------\u001b[0m",
      "\u001b[0;31mNameError\u001b[0m                                 Traceback (most recent call last)",
      "\u001b[0;32m<ipython-input-9-2ed1adda1e7e>\u001b[0m in \u001b[0;36m<module>\u001b[0;34m\u001b[0m\n\u001b[1;32m     18\u001b[0m \u001b[0;34m\u001b[0m\u001b[0m\n\u001b[1;32m     19\u001b[0m         \u001b[0;31m#run objective function calculation\u001b[0m\u001b[0;34m\u001b[0m\u001b[0;34m\u001b[0m\u001b[0;34m\u001b[0m\u001b[0m\n\u001b[0;32m---> 20\u001b[0;31m         \u001b[0mtheta\u001b[0m \u001b[0;34m=\u001b[0m \u001b[0mobjective_func\u001b[0m\u001b[0;34m(\u001b[0m\u001b[0mIDs\u001b[0m\u001b[0;34m,\u001b[0m \u001b[0ms\u001b[0m\u001b[0;34m,\u001b[0m \u001b[0mm\u001b[0m\u001b[0;34m)\u001b[0m\u001b[0;34m;\u001b[0m \u001b[0mprint\u001b[0m\u001b[0;34m(\u001b[0m\u001b[0mtheta\u001b[0m\u001b[0;34m)\u001b[0m\u001b[0;34m\u001b[0m\u001b[0;34m\u001b[0m\u001b[0m\n\u001b[0m\u001b[1;32m     21\u001b[0m \u001b[0;34m\u001b[0m\u001b[0m\n\u001b[1;32m     22\u001b[0m         \u001b[0mruntime\u001b[0m \u001b[0;34m=\u001b[0m \u001b[0mtime\u001b[0m\u001b[0;34m.\u001b[0m\u001b[0mtime\u001b[0m\u001b[0;34m(\u001b[0m\u001b[0;34m)\u001b[0m \u001b[0;34m-\u001b[0m \u001b[0mt0\u001b[0m\u001b[0;34m;\u001b[0m \u001b[0mruntimes\u001b[0m\u001b[0;34m.\u001b[0m\u001b[0mappend\u001b[0m\u001b[0;34m(\u001b[0m\u001b[0mruntime\u001b[0m\u001b[0;34m)\u001b[0m \u001b[0;31m# calculate run time and store\u001b[0m\u001b[0;34m\u001b[0m\u001b[0;34m\u001b[0m\u001b[0m\n",
      "\u001b[0;32m~/automated-glacier-terminus/automated_terminus_functions.py\u001b[0m in \u001b[0;36mobjective_func\u001b[0;34m(inputIDs, size_thresh, mod_thresh)\u001b[0m\n\u001b[1;32m    300\u001b[0m     \u001b[0;31m#from thresholds, pick the lines\u001b[0m\u001b[0;34m\u001b[0m\u001b[0;34m\u001b[0m\u001b[0;34m\u001b[0m\u001b[0m\n\u001b[1;32m    301\u001b[0m     \u001b[0mterminus_pick\u001b[0m \u001b[0;34m=\u001b[0m \u001b[0;34m'/home/akhalil/src/xsmurf-2.7/main/xsmurf -nodisplay /home/jukes/Documents/Scripts/terminus_pick.tcl '\u001b[0m\u001b[0;34m+\u001b[0m\u001b[0mstr\u001b[0m\u001b[0;34m(\u001b[0m\u001b[0msize_thresh\u001b[0m\u001b[0;34m)\u001b[0m\u001b[0;34m+\u001b[0m\u001b[0;34m' '\u001b[0m\u001b[0;34m+\u001b[0m\u001b[0mstr\u001b[0m\u001b[0;34m(\u001b[0m\u001b[0mmod_thresh\u001b[0m\u001b[0;34m)\u001b[0m\u001b[0;34m+\u001b[0m\u001b[0;34m' '\u001b[0m\u001b[0;34m+\u001b[0m\u001b[0minputIDs\u001b[0m\u001b[0;34m\u001b[0m\u001b[0;34m\u001b[0m\u001b[0m\n\u001b[0;32m--> 302\u001b[0;31m     \u001b[0msubprocess\u001b[0m\u001b[0;34m.\u001b[0m\u001b[0mcall\u001b[0m\u001b[0;34m(\u001b[0m\u001b[0mterminus_pick\u001b[0m\u001b[0;34m,\u001b[0m \u001b[0mshell\u001b[0m\u001b[0;34m=\u001b[0m\u001b[0;32mTrue\u001b[0m\u001b[0;34m)\u001b[0m\u001b[0;34m\u001b[0m\u001b[0;34m\u001b[0m\u001b[0m\n\u001b[0m\u001b[1;32m    303\u001b[0m     \u001b[0;31m#from the lines, get the results\u001b[0m\u001b[0;34m\u001b[0m\u001b[0;34m\u001b[0m\u001b[0;34m\u001b[0m\u001b[0m\n\u001b[1;32m    304\u001b[0m     \u001b[0mresults_allglaciers\u001b[0m \u001b[0;34m=\u001b[0m \u001b[0;34m'/home/jukes/anaconda3/bin/python3.7 /home/jukes/automated-glacier-terminus/Results_allglaciers.py'\u001b[0m\u001b[0;34m\u001b[0m\u001b[0;34m\u001b[0m\u001b[0m\n",
      "\u001b[0;31mNameError\u001b[0m: name 'subprocess' is not defined"
     ]
    }
   ],
   "source": [
    "import subprocess\n",
    "import time\n",
    "import pandas as pd; import numpy as np\n",
    "\n",
    "BOXIDS = ['001', '002', '120', '174', '259']; \n",
    "IDs = \" \".join(BOXIDS)\n",
    "\n",
    "start_time = time.time() #start recording time\n",
    "\n",
    "slist = []; mlist = []; thetalist = []; runtimes = []; #store run results\n",
    "for s in size_guesses:\n",
    "    for m in mod_guesses:\n",
    "        t0 = time.time() # start recording time for each run\n",
    "        \n",
    "        s = float(\"{0:.3f}\".format(s)); m = float(\"{0:.3f}\".format(m)); #make sure precision and format is correct \n",
    "        slist.append(s); mlist.append(m); #append the thresholds to a list\n",
    "        print(s, m)\n",
    "        \n",
    "        #run objective function calculation\n",
    "        theta = objective_func(IDs, s, m); print(theta)\n",
    "        \n",
    "        runtime = time.time() - t0; runtimes.append(runtime) # calculate run time and store\n",
    "        print(\"Iteration run time: %s seconds \" % runtime) #print run time for each iteration\n",
    "        \n",
    "print(\"Total time elapsed: --- %s seconds ---\" % (time.time() - start_time)) #Print total time elapsed"
   ]
  },
  {
   "cell_type": "markdown",
   "metadata": {},
   "source": [
    "## Cross-validation"
   ]
  },
  {
   "cell_type": "code",
   "execution_count": null,
   "metadata": {},
   "outputs": [],
   "source": []
  }
 ],
 "metadata": {
  "kernelspec": {
   "display_name": "Python 3",
   "language": "python",
   "name": "python3"
  },
  "language_info": {
   "codemirror_mode": {
    "name": "ipython",
    "version": 3
   },
   "file_extension": ".py",
   "mimetype": "text/x-python",
   "name": "python",
   "nbconvert_exporter": "python",
   "pygments_lexer": "ipython3",
   "version": "3.7.3"
  }
 },
 "nbformat": 4,
 "nbformat_minor": 2
}
