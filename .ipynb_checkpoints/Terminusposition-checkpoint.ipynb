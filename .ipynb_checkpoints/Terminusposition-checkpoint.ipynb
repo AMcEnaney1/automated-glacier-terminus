{
 "cells": [
  {
   "cell_type": "markdown",
   "metadata": {},
   "source": [
    "# Plot glacier terminus positions at different dates\n",
    "### Jukes Liu"
   ]
  },
  {
   "cell_type": "markdown",
   "metadata": {},
   "source": [
    "### Import packages and read in csv files"
   ]
  },
  {
   "cell_type": "code",
   "execution_count": 72,
   "metadata": {},
   "outputs": [],
   "source": [
    "import numpy as np\n",
    "import pandas as pd\n",
    "import matplotlib.pyplot as plt\n",
    "import matplotlib.image as mpimg\n",
    "import datetime\n",
    "\n",
    "basepath = '/Users/julialiu/Documents/M_Thesis/Data/'"
   ]
  },
  {
   "cell_type": "code",
   "execution_count": 64,
   "metadata": {},
   "outputs": [
    {
     "name": "stdout",
     "output_type": "stream",
     "text": [
      "['BoxID' ' Img_Date' ' Scale' ' Posfirst' ' Size' ' Centroid_X'\n",
      " ' Centroid_Y']\n",
      "53\n"
     ]
    }
   ],
   "source": [
    "#Read in file with box coordinates\n",
    "box_df = pd.read_csv(basepath+'Boxes_coords_pathrows.csv', sep=',', dtype=str)\n",
    "box_df = box_df.set_index('BoxID')\n",
    "\n",
    "#Read in file with terminus picks\n",
    "termini_df = pd.read_csv(basepath+'terminuspickout_2019_07_16.csv', sep=',', dtype=str, header=1)\n",
    "termini_df.replace(to_replace =\"NaN\", value = np.nan)\n",
    "\n",
    "#look at the DataFrames\n",
    "#termini_df.head()\n",
    "#box_df\n",
    "\n",
    "#Check column names for termini_df:\n",
    "print(termini_df.columns.values)\n",
    "termini_df_rownum = termini_df.shape[0]\n",
    "print(termini_df_rownum)"
   ]
  },
  {
   "cell_type": "markdown",
   "metadata": {},
   "source": [
    "### Calculate distances from centroids the box coordinates and add to updated DataFrame"
   ]
  },
  {
   "cell_type": "code",
   "execution_count": 221,
   "metadata": {},
   "outputs": [
    {
     "data": {
      "text/html": [
       "<div>\n",
       "<style scoped>\n",
       "    .dataframe tbody tr th:only-of-type {\n",
       "        vertical-align: middle;\n",
       "    }\n",
       "\n",
       "    .dataframe tbody tr th {\n",
       "        vertical-align: top;\n",
       "    }\n",
       "\n",
       "    .dataframe thead th {\n",
       "        text-align: right;\n",
       "    }\n",
       "</style>\n",
       "<table border=\"1\" class=\"dataframe\">\n",
       "  <thead>\n",
       "    <tr style=\"text-align: right;\">\n",
       "      <th></th>\n",
       "      <th>BoxID</th>\n",
       "      <th>Img_Date</th>\n",
       "      <th>Scale</th>\n",
       "      <th>Posfirst</th>\n",
       "      <th>Size</th>\n",
       "      <th>Centroid_X</th>\n",
       "      <th>Centroid_Y</th>\n",
       "      <th>xdist_leftmost</th>\n",
       "      <th>xdist_midpoint</th>\n",
       "    </tr>\n",
       "  </thead>\n",
       "  <tbody>\n",
       "    <tr>\n",
       "      <th>0</th>\n",
       "      <td>001</td>\n",
       "      <td>20181001</td>\n",
       "      <td>018</td>\n",
       "      <td>55686</td>\n",
       "      <td>63</td>\n",
       "      <td>127.9365234375</td>\n",
       "      <td>166.61903381347656</td>\n",
       "      <td>209.047852</td>\n",
       "      <td>164.047852</td>\n",
       "    </tr>\n",
       "    <tr>\n",
       "      <th>1</th>\n",
       "      <td>001</td>\n",
       "      <td>20180825</td>\n",
       "      <td>003</td>\n",
       "      <td>55993</td>\n",
       "      <td>74</td>\n",
       "      <td>130.47291564941406</td>\n",
       "      <td>164.90545654296875</td>\n",
       "      <td>247.093735</td>\n",
       "      <td>202.093735</td>\n",
       "    </tr>\n",
       "    <tr>\n",
       "      <th>2</th>\n",
       "      <td>001</td>\n",
       "      <td>20180924</td>\n",
       "      <td>007</td>\n",
       "      <td>55686</td>\n",
       "      <td>76</td>\n",
       "      <td>128.74996948242188</td>\n",
       "      <td>163.53950500488281</td>\n",
       "      <td>221.249542</td>\n",
       "      <td>176.249542</td>\n",
       "    </tr>\n",
       "    <tr>\n",
       "      <th>3</th>\n",
       "      <td>001</td>\n",
       "      <td>20180830</td>\n",
       "      <td>004</td>\n",
       "      <td>55993</td>\n",
       "      <td>76</td>\n",
       "      <td>129.74998474121094</td>\n",
       "      <td>163.23684692382812</td>\n",
       "      <td>236.249771</td>\n",
       "      <td>191.249771</td>\n",
       "    </tr>\n",
       "    <tr>\n",
       "      <th>4</th>\n",
       "      <td>001</td>\n",
       "      <td>20180613</td>\n",
       "      <td>004</td>\n",
       "      <td>56300</td>\n",
       "      <td>75</td>\n",
       "      <td>130.413330078125</td>\n",
       "      <td>164.7066650390625</td>\n",
       "      <td>246.199951</td>\n",
       "      <td>201.199951</td>\n",
       "    </tr>\n",
       "  </tbody>\n",
       "</table>\n",
       "</div>"
      ],
      "text/plain": [
       "  BoxID  Img_Date  Scale  Posfirst  Size          Centroid_X  \\\n",
       "0   001  20181001    018     55686    63      127.9365234375   \n",
       "1   001  20180825    003     55993    74  130.47291564941406   \n",
       "2   001  20180924    007     55686    76  128.74996948242188   \n",
       "3   001  20180830    004     55993    76  129.74998474121094   \n",
       "4   001  20180613    004     56300    75    130.413330078125   \n",
       "\n",
       "           Centroid_Y  xdist_leftmost  xdist_midpoint  \n",
       "0  166.61903381347656      209.047852      164.047852  \n",
       "1  164.90545654296875      247.093735      202.093735  \n",
       "2  163.53950500488281      221.249542      176.249542  \n",
       "3  163.23684692382812      236.249771      191.249771  \n",
       "4   164.7066650390625      246.199951      201.199951  "
      ]
     },
     "execution_count": 221,
     "metadata": {},
     "output_type": "execute_result"
    }
   ],
   "source": [
    "#create a list of the subset dataframes (by BoxID) to be concatenated back together at the end\n",
    "subset_dfs = []\n",
    "\n",
    "for BoxID in box_df.index:\n",
    "    box_leftmost_x = np.float(box_df.loc[BoxID, 'leftmost_x'])\n",
    "    box_midpoint_x = np.float(box_df.loc[BoxID, 'midpoint_x'])\n",
    "    #print(\"Box\"+BoxID, box_leftmost_x, box_midpoint_x)\n",
    "    \n",
    "    #grab termini pick info for that BoxID\n",
    "    subset_df = termini_df[termini_df['BoxID'] == BoxID].copy()\n",
    "    \n",
    "    #grab the centroids as an array\n",
    "    centroids_x = np.array(subset_df.loc[:, ' Centroid_X'])\n",
    "    #convert to float\n",
    "    centroids_x = centroids_x.astype(float)\n",
    "\n",
    "    #Calculate the x distance between each centroid and the leftmost point/midpoint of box\n",
    "    xdist_leftmost = centroids_x - box_leftmost_x\n",
    "    xdist_midpoint = centroids_x - box_midpoint_x\n",
    "\n",
    "    #add these xdistances to the subset array\n",
    "    subset_df['xdist_leftmost'] = xdist_leftmost*15\n",
    "    subset_df['xdist_midpoint'] = xdist_midpoint*15\n",
    "    \n",
    "    #append the subset df to the subset dfs list\n",
    "    subset_dfs.append(subset_df)\n",
    "\n",
    "xdist_df = pd.concat(subset_dfs)\n",
    "xdist_df.head()"
   ]
  },
  {
   "cell_type": "markdown",
   "metadata": {},
   "source": [
    "### Convert dates into DateTime objects for plotting timeseries"
   ]
  },
  {
   "cell_type": "code",
   "execution_count": 222,
   "metadata": {},
   "outputs": [
    {
     "data": {
      "text/html": [
       "<div>\n",
       "<style scoped>\n",
       "    .dataframe tbody tr th:only-of-type {\n",
       "        vertical-align: middle;\n",
       "    }\n",
       "\n",
       "    .dataframe tbody tr th {\n",
       "        vertical-align: top;\n",
       "    }\n",
       "\n",
       "    .dataframe thead th {\n",
       "        text-align: right;\n",
       "    }\n",
       "</style>\n",
       "<table border=\"1\" class=\"dataframe\">\n",
       "  <thead>\n",
       "    <tr style=\"text-align: right;\">\n",
       "      <th></th>\n",
       "      <th>BoxID</th>\n",
       "      <th>Img_Date</th>\n",
       "      <th>Scale</th>\n",
       "      <th>Posfirst</th>\n",
       "      <th>Size</th>\n",
       "      <th>Centroid_X</th>\n",
       "      <th>Centroid_Y</th>\n",
       "      <th>xdist_leftmost</th>\n",
       "      <th>xdist_midpoint</th>\n",
       "      <th>datetimes</th>\n",
       "    </tr>\n",
       "  </thead>\n",
       "  <tbody>\n",
       "    <tr>\n",
       "      <th>0</th>\n",
       "      <td>001</td>\n",
       "      <td>20181001</td>\n",
       "      <td>018</td>\n",
       "      <td>55686</td>\n",
       "      <td>63</td>\n",
       "      <td>127.9365234375</td>\n",
       "      <td>166.61903381347656</td>\n",
       "      <td>209.047852</td>\n",
       "      <td>164.047852</td>\n",
       "      <td>2018-10-01</td>\n",
       "    </tr>\n",
       "    <tr>\n",
       "      <th>1</th>\n",
       "      <td>001</td>\n",
       "      <td>20180825</td>\n",
       "      <td>003</td>\n",
       "      <td>55993</td>\n",
       "      <td>74</td>\n",
       "      <td>130.47291564941406</td>\n",
       "      <td>164.90545654296875</td>\n",
       "      <td>247.093735</td>\n",
       "      <td>202.093735</td>\n",
       "      <td>2018-08-25</td>\n",
       "    </tr>\n",
       "    <tr>\n",
       "      <th>2</th>\n",
       "      <td>001</td>\n",
       "      <td>20180924</td>\n",
       "      <td>007</td>\n",
       "      <td>55686</td>\n",
       "      <td>76</td>\n",
       "      <td>128.74996948242188</td>\n",
       "      <td>163.53950500488281</td>\n",
       "      <td>221.249542</td>\n",
       "      <td>176.249542</td>\n",
       "      <td>2018-09-24</td>\n",
       "    </tr>\n",
       "    <tr>\n",
       "      <th>3</th>\n",
       "      <td>001</td>\n",
       "      <td>20180830</td>\n",
       "      <td>004</td>\n",
       "      <td>55993</td>\n",
       "      <td>76</td>\n",
       "      <td>129.74998474121094</td>\n",
       "      <td>163.23684692382812</td>\n",
       "      <td>236.249771</td>\n",
       "      <td>191.249771</td>\n",
       "      <td>2018-08-30</td>\n",
       "    </tr>\n",
       "    <tr>\n",
       "      <th>4</th>\n",
       "      <td>001</td>\n",
       "      <td>20180613</td>\n",
       "      <td>004</td>\n",
       "      <td>56300</td>\n",
       "      <td>75</td>\n",
       "      <td>130.413330078125</td>\n",
       "      <td>164.7066650390625</td>\n",
       "      <td>246.199951</td>\n",
       "      <td>201.199951</td>\n",
       "      <td>2018-06-13</td>\n",
       "    </tr>\n",
       "  </tbody>\n",
       "</table>\n",
       "</div>"
      ],
      "text/plain": [
       "  BoxID  Img_Date  Scale  Posfirst  Size          Centroid_X  \\\n",
       "0   001  20181001    018     55686    63      127.9365234375   \n",
       "1   001  20180825    003     55993    74  130.47291564941406   \n",
       "2   001  20180924    007     55686    76  128.74996948242188   \n",
       "3   001  20180830    004     55993    76  129.74998474121094   \n",
       "4   001  20180613    004     56300    75    130.413330078125   \n",
       "\n",
       "           Centroid_Y  xdist_leftmost  xdist_midpoint  datetimes  \n",
       "0  166.61903381347656      209.047852      164.047852 2018-10-01  \n",
       "1  164.90545654296875      247.093735      202.093735 2018-08-25  \n",
       "2  163.53950500488281      221.249542      176.249542 2018-09-24  \n",
       "3  163.23684692382812      236.249771      191.249771 2018-08-30  \n",
       "4   164.7066650390625      246.199951      201.199951 2018-06-13  "
      ]
     },
     "execution_count": 222,
     "metadata": {},
     "output_type": "execute_result"
    }
   ],
   "source": [
    "#grab dates from DataFrame:\n",
    "dates = xdist_df.loc[:, ' Img_Date']\n",
    "\n",
    "#create list to hold new datetime objects\n",
    "datetime_objs = []\n",
    "\n",
    "for date in dates:\n",
    "    datetime_obj = datetime.strptime(date, '%Y%m%d')\n",
    "    datetime_objs.append(datetime_obj)\n",
    "    \n",
    "xdist_df['datetimes'] = datetime_objs\n",
    "xdist_df.head()"
   ]
  },
  {
   "cell_type": "markdown",
   "metadata": {},
   "source": [
    "### Plot terminus position vs. datetime for each BoxID"
   ]
  },
  {
   "cell_type": "markdown",
   "metadata": {},
   "source": [
    "Convert dates to datetime objects"
   ]
  },
  {
   "cell_type": "code",
   "execution_count": 223,
   "metadata": {},
   "outputs": [],
   "source": [
    "#set dictionary to call info in DataFrame for each individual BoxID\n",
    "termini_bybox = {}\n",
    "\n",
    "#grab dataframe for each individual BoxID\n",
    "for BoxID in box_df.index:\n",
    "    #grab termini pick info for that BoxID\n",
    "    termini_bybox_df = xdist_df[xdist_df['BoxID'] == BoxID].copy()\n",
    "    #update to dictionary\n",
    "    termini_bybox.update( {BoxID: termini_bybox_df} )"
   ]
  },
  {
   "cell_type": "markdown",
   "metadata": {},
   "source": [
    "Plot for each BoxID"
   ]
  },
  {
   "cell_type": "code",
   "execution_count": 401,
   "metadata": {},
   "outputs": [
    {
     "data": {
      "image/png": "[encoded data removed]",
      "text/plain": [
       "<Figure size 576x432 with 1 Axes>"
      ]
     },
     "metadata": {},
     "output_type": "display_data"
    }
   ],
   "source": [
    "#set box of interest (BOI)\n",
    "BOI = '174'\n",
    "df_BOI = termini_bybox[BOI]\n",
    "#print(df_BOI)\n",
    "\n",
    "#Plot!\n",
    "plotted = df_BOI.plot(x='datetimes', y='xdist_midpoint', legend=False, figsize=(8,6), style='mo-')\n",
    "plt.title(\"Box\"+BOI, fontsize=20)\n",
    "plt.xlabel('Date', fontsize=18)\n",
    "plt.ylabel('Terminus position (m)', fontsize=18)\n",
    "plt.xticks(fontsize=16)\n",
    "plt.yticks(fontsize=16)\n",
    "\n",
    "plt.show()"
   ]
  },
  {
   "cell_type": "markdown",
   "metadata": {},
   "source": [
    "## Calculate & plot terminus change rates using xdist_midpoint"
   ]
  },
  {
   "cell_type": "code",
   "execution_count": 404,
   "metadata": {},
   "outputs": [
    {
     "name": "stdout",
     "output_type": "stream",
     "text": [
      "2018-08-16 00:00:00 -4.70 m/d\n",
      "2018-08-08 00:00:00 nan m/d\n",
      "2018-07-20 00:00:00 nan m/d\n",
      "2018-08-31 00:00:00 16.73 m/d\n"
     ]
    }
   ],
   "source": [
    "#set BoxID of interest:\n",
    "BOI = '531'\n",
    "\n",
    "#grab the dataframe associated with it\n",
    "df_BOI = termini_bybox[BOI]\n",
    "#print(df_BOI)\n",
    "\n",
    "#create dictionary to store terminus change rates by date\n",
    "changerates = {}\n",
    "\n",
    "#CALCULATE change rates\n",
    "for i in range(0, len(df_BOI.index)):\n",
    "    #print(i)\n",
    "    #skip the first entry:\n",
    "    if i > 0:\n",
    "        #grab the terminus position and the previous terminus position\n",
    "        x_term = list(df_BOI['xdist_midpoint'])[i]\n",
    "        x_term_prev = list(df_BOI['xdist_midpoint'])[i-1]\n",
    "        \n",
    "        #grab the date of the termnus position and the previous date\n",
    "        datestring = list(df_BOI[' Img_Date'])[i]\n",
    "        t_term = list(df_BOI['datetimes'])[i]\n",
    "        t_term_prev = list(df_BOI['datetimes'])[i-1]\n",
    "        \n",
    "        #calculate the change in terminus position and the change in time\n",
    "        deltax = x_term - x_term_prev\n",
    "        deltat = t_term - t_term_prev\n",
    "        #convert deltat object into raw days:\n",
    "        deltat = deltat.days\n",
    "        #print(deltax, deltat)\n",
    "        \n",
    "        #calculate change rate in meters/day\n",
    "        term_changerate = deltax/deltat\n",
    "        #print(term_changerate) \n",
    "        \n",
    "        #update the change rate dictionary with the datestring as the key\n",
    "        changerates.update({t_term: term_changerate})\n",
    "\n",
    "        \n",
    "#PRINT the change rates in the dictionary by the date:\n",
    "for key in changerates.keys():\n",
    "    print(key, \"{0:.2f}\".format(changerates[key]), \"m/d\")\n",
    "\n",
    "    \n",
    "# #PLOT:\n",
    "# plt.figure(figsize=(12, 8))\n",
    "# plt.plot(changerates.keys(), changerates.values(),'rx', markersize=15)\n",
    "\n",
    "# #Label the points by the change rate (m/d)\n",
    "# for i, changerate in enumerate(changerates.values()):\n",
    "#     txt = \"{0:.2f}\".format(changerate)\n",
    "#     plt.annotate(txt, xy=(list(changerates.keys())[i], list(changerates.values())[i]), fontsize=16)\n",
    "\n",
    "# plt.title(\"Box\"+BOI, fontsize=20)\n",
    "# plt.xlabel('Date', fontsize=18)\n",
    "# plt.ylabel('Terminus change (m/d)', fontsize=18)\n",
    "# plt.xticks(fontsize=12)\n",
    "# plt.yticks(fontsize=16)\n",
    "# plt.gca().invert_yaxis()\n",
    "\n",
    "# plt.show()"
   ]
  },
  {
   "cell_type": "code",
   "execution_count": null,
   "metadata": {},
   "outputs": [],
   "source": []
  }
 ],
 "metadata": {
  "kernelspec": {
   "display_name": "Python 3",
   "language": "python",
   "name": "python3"
  },
  "language_info": {
   "codemirror_mode": {
    "name": "ipython",
    "version": 3
   },
   "file_extension": ".py",
   "mimetype": "text/x-python",
   "name": "python",
   "nbconvert_exporter": "python",
   "pygments_lexer": "ipython3",
   "version": "3.6.8"
  }
 },
 "nbformat": 4,
 "nbformat_minor": 2
}
