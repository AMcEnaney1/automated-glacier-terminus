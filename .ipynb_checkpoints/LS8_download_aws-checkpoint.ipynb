{
 "cells": [
  {
   "cell_type": "markdown",
   "metadata": {},
   "source": [
    "# Code to download LS8 images for Greenland peripheral glaciers using Amazon Web Services (aws) \n",
    "\n",
    "### Jukes Liu\n",
    "\n",
    "The following code automatically downloads Landsat 8 scenes available through Amazon Web Services that have less than a threshold % of cloud cover. The Landsat 8 scenes over each glacier are identified using their pre-determined path and row, stored in a .csv file. The scenes are filtered for cloud cover using their metadata files."
   ]
  },
  {
   "cell_type": "markdown",
   "metadata": {},
   "source": [
    "## 1) Set up:"
   ]
  },
  {
   "cell_type": "markdown",
   "metadata": {},
   "source": [
    "#### Install AWS using pip or pip3\n",
    "\n",
    "Must have Amazon Web Services installed on your terminal. Follow instructions at https://docs.aws.amazon.com/cli/latest/userguide/install-linux-al2017.html to get aws commands onto your shell terminal."
   ]
  },
  {
   "cell_type": "markdown",
   "metadata": {},
   "source": [
    "#### Import packages"
   ]
  },
  {
   "cell_type": "code",
   "execution_count": 104,
   "metadata": {},
   "outputs": [],
   "source": [
    "import pandas as pd\n",
    "import numpy as np\n",
    "import os\n",
    "import subprocess\n",
    "import matplotlib.pyplot as plt\n",
    "import matplotlib.image as mpimg\n",
    "import numpy.ma as ma"
   ]
  },
  {
   "cell_type": "markdown",
   "metadata": {},
   "source": [
    "#### Read in LS path and row for each peripheral glacier by BoxID into a DataFrame"
   ]
  },
  {
   "cell_type": "markdown",
   "metadata": {},
   "source": [
    "The LS Path and Row information for each peripheral glacier is stored in a .csv file. \n",
    "\n",
    "Note: Many glaciers exist in the same Landsat scene, so some Paths and Rows are repeated. Therefore, the subsequent code will not repeat download for a path and row combination that already exists in the output directory."
   ]
  },
  {
   "cell_type": "code",
   "execution_count": 105,
   "metadata": {
    "scrolled": true
   },
   "outputs": [
    {
     "data": {
      "text/html": [
       "<div>\n",
       "<style scoped>\n",
       "    .dataframe tbody tr th:only-of-type {\n",
       "        vertical-align: middle;\n",
       "    }\n",
       "\n",
       "    .dataframe tbody tr th {\n",
       "        vertical-align: top;\n",
       "    }\n",
       "\n",
       "    .dataframe thead th {\n",
       "        text-align: right;\n",
       "    }\n",
       "</style>\n",
       "<table border=\"1\" class=\"dataframe\">\n",
       "  <thead>\n",
       "    <tr style=\"text-align: right;\">\n",
       "      <th></th>\n",
       "      <th>Path</th>\n",
       "      <th>Row</th>\n",
       "    </tr>\n",
       "    <tr>\n",
       "      <th>BoxID</th>\n",
       "      <th></th>\n",
       "      <th></th>\n",
       "    </tr>\n",
       "  </thead>\n",
       "  <tbody>\n",
       "    <tr>\n",
       "      <th>001</th>\n",
       "      <td>034</td>\n",
       "      <td>005</td>\n",
       "    </tr>\n",
       "    <tr>\n",
       "      <th>002</th>\n",
       "      <td>031</td>\n",
       "      <td>005</td>\n",
       "    </tr>\n",
       "    <tr>\n",
       "      <th>004</th>\n",
       "      <td>031</td>\n",
       "      <td>005</td>\n",
       "    </tr>\n",
       "    <tr>\n",
       "      <th>033</th>\n",
       "      <td>008</td>\n",
       "      <td>014</td>\n",
       "    </tr>\n",
       "    <tr>\n",
       "      <th>120</th>\n",
       "      <td>232</td>\n",
       "      <td>017</td>\n",
       "    </tr>\n",
       "    <tr>\n",
       "      <th>174</th>\n",
       "      <td>232</td>\n",
       "      <td>017</td>\n",
       "    </tr>\n",
       "    <tr>\n",
       "      <th>235</th>\n",
       "      <td>232</td>\n",
       "      <td>015</td>\n",
       "    </tr>\n",
       "    <tr>\n",
       "      <th>259</th>\n",
       "      <td>232</td>\n",
       "      <td>015</td>\n",
       "    </tr>\n",
       "    <tr>\n",
       "      <th>277</th>\n",
       "      <td>232</td>\n",
       "      <td>015</td>\n",
       "    </tr>\n",
       "    <tr>\n",
       "      <th>531</th>\n",
       "      <td>011</td>\n",
       "      <td>002</td>\n",
       "    </tr>\n",
       "  </tbody>\n",
       "</table>\n",
       "</div>"
      ],
      "text/plain": [
       "      Path  Row\n",
       "BoxID          \n",
       "001    034  005\n",
       "002    031  005\n",
       "004    031  005\n",
       "033    008  014\n",
       "120    232  017\n",
       "174    232  017\n",
       "235    232  015\n",
       "259    232  015\n",
       "277    232  015\n",
       "531    011  002"
      ]
     },
     "execution_count": 105,
     "metadata": {},
     "output_type": "execute_result"
    }
   ],
   "source": [
    "#set basepath\n",
    "basepath = '/home/jukes/Documents/Sample_glaciers/'\n",
    "#basepath = '/home/automated-glacier-terminus/'\n",
    "outputpath = '/media/jukes/jukes1/'\n",
    "\n",
    "#read the path row csv file into a dataframe\n",
    "pathrows_df = pd.read_csv(basepath+'LS_pathrows.csv', sep=',', usecols =[0,1,2], dtype=str, nrows =10)\n",
    "pathrows_df = pathrows_df.set_index('BoxID')\n",
    "pathrows_df"
   ]
  },
  {
   "cell_type": "code",
   "execution_count": 3,
   "metadata": {},
   "outputs": [
    {
     "data": {
      "text/plain": [
       "(10, 2)"
      ]
     },
     "execution_count": 3,
     "metadata": {},
     "output_type": "execute_result"
    }
   ],
   "source": [
    "#check the df dimensions\n",
    "pathrows_df.shape"
   ]
  },
  {
   "cell_type": "markdown",
   "metadata": {},
   "source": [
    "#### Create output directory: LS8aws"
   ]
  },
  {
   "cell_type": "code",
   "execution_count": 4,
   "metadata": {},
   "outputs": [
    {
     "name": "stdout",
     "output_type": "stream",
     "text": [
      "Path exists already\n"
     ]
    }
   ],
   "source": [
    "#create LS8aws folder\n",
    "if os.path.exists(outputpath+'LS8aws')==True:\n",
    "    print(\"Path exists already\")\n",
    "else:\n",
    "    os.mkdir(outputpath+'LS8aws')\n",
    "    print(\"LS8aws directory made\")"
   ]
  },
  {
   "cell_type": "markdown",
   "metadata": {},
   "source": [
    "## 2) Download B8 (panchromatic band) and MTL.txt (metadata) files for all available images over the path/row of the glaciers"
   ]
  },
  {
   "cell_type": "markdown",
   "metadata": {},
   "source": [
    "The Landsat8 scenes stored in AWS can be accessed using the landsat-pds bucket and the path and row information. Each of the bands and a metadata file can be accessed separately. \n",
    "\n",
    "We are interested in the panchromatic band (B8.TIF) and the metadata file to filter for cloud cover (MTL.txt). The download commands will use the following syntax:\n",
    "\n",
    "\n",
    "    aws --no-sign-request s3 cp s3://landsat-pds/L8/path/row/LC8pathrowyear001LGN00/LC8pathrowyear001LGN00_MTL.txt /path_to/output/\n",
    "\n",
    "    aws --no-sign-request s3 cp s3://landsat-pds/L8/path/row/LC8pathrowyear001LGN00/LC8pathrowyear001LGN00_B8.TIF /path_to/output/\n",
    "\n",
    "Access https://docs.opendata.aws/landsat-pds/readme.html to learn more."
   ]
  },
  {
   "cell_type": "markdown",
   "metadata": {},
   "source": [
    "### 2A) For one BoxID (one glacier) at a time"
   ]
  },
  {
   "cell_type": "code",
   "execution_count": 18,
   "metadata": {},
   "outputs": [
    {
     "name": "stdout",
     "output_type": "stream",
     "text": [
      "BoxID  001 path 034 row 005\n",
      "Path034_Row005\n",
      "s3://landsat-pds/L8/034/005/\n",
      "/media/jukes/jukes1/LS8aws/Path034_Row005/\n"
     ]
    }
   ],
   "source": [
    "#choose a glacier: Box001\n",
    "BoxID = pathrows_df.index[0]\n",
    "path = pathrows_df['Path'][0]\n",
    "row = pathrows_df['Row'][0] \n",
    "print('BoxID ', BoxID, 'path', path, 'row', row)\n",
    "\n",
    "#set path row folder name\n",
    "folder_name = 'Path'+path+'_Row'+row\n",
    "print(folder_name)\n",
    "\n",
    "#set input path\n",
    "bp_in = 's3://landsat-pds/L8/'\n",
    "totalp_in = bp_in+path+'/'+row+'/'\n",
    "print(totalp_in)\n",
    "\n",
    "#set output path\n",
    "bp_out = outputpath+'LS8aws/'+folder_name+'/'\n",
    "print(bp_out)"
   ]
  },
  {
   "cell_type": "markdown",
   "metadata": {},
   "source": [
    "#### Create the Path_Row folder"
   ]
  },
  {
   "cell_type": "code",
   "execution_count": 6,
   "metadata": {},
   "outputs": [
    {
     "name": "stdout",
     "output_type": "stream",
     "text": [
      "Path034_Row005  EXISTS ALREADY. SKIP.\n"
     ]
    }
   ],
   "source": [
    "#create Path_row folder and write path names to txt files\n",
    "if os.path.exists(bp_out):\n",
    "    print(folder_name, \" EXISTS ALREADY. SKIP.\")\n",
    "else:\n",
    "    os.mkdir(bp_out)\n",
    "    print(folder_name+\" directory made\")"
   ]
  },
  {
   "cell_type": "markdown",
   "metadata": {},
   "source": [
    "#### Download all the metadata text files using os.system aws commands"
   ]
  },
  {
   "cell_type": "markdown",
   "metadata": {},
   "source": [
    "Use the following syntax:\n",
    "\n",
    "    aws --no-sign-request s3 cp s3://landsat-pds/L8/031/005/ Output/path/LS8aws/Path031_Row005/ --recursive --exclude \"*\" --include \"*.txt\" "
   ]
  },
  {
   "cell_type": "code",
   "execution_count": null,
   "metadata": {},
   "outputs": [],
   "source": [
    "# #Check command syntax:\n",
    "# command = 'aws --no-sign-request s3 cp '+totalp_in+' '+bp_out+' --recursive --exclude \"*\" --include \"*.txt\"'\n",
    "# print(command)"
   ]
  },
  {
   "cell_type": "code",
   "execution_count": null,
   "metadata": {},
   "outputs": [],
   "source": [
    "# #call the command line that downloads the metadata files using aws\n",
    "# subprocess.call(command, shell=True)"
   ]
  },
  {
   "cell_type": "markdown",
   "metadata": {},
   "source": [
    "#### Download BQA band to get cloud mask using os.system aws commands"
   ]
  },
  {
   "cell_type": "markdown",
   "metadata": {},
   "source": [
    "Use the following syntax:\n",
    "\n",
    "    aws --no-sign-request s3 cp s3://landsat-pds/L8/031/005/ Output/path/LS8aws/Path031_Row005/ --recursive --exclude \"*\" --include \"*BQA.TIF\" "
   ]
  },
  {
   "cell_type": "code",
   "execution_count": 8,
   "metadata": {},
   "outputs": [
    {
     "name": "stdout",
     "output_type": "stream",
     "text": [
      "aws --no-sign-request s3 cp s3://landsat-pds/L8/034/005/ /media/jukes/jukes1/LS8aws/Path034_Row005/ --recursive --exclude \"*\" --include \"*BQA.TIF\"\n"
     ]
    }
   ],
   "source": [
    "#Check command syntax:\n",
    "command2 = 'aws --no-sign-request s3 cp '+totalp_in+' '+bp_out+' --recursive --exclude \"*\" --include \"*BQA.TIF\"'\n",
    "print(command2)"
   ]
  },
  {
   "cell_type": "code",
   "execution_count": 9,
   "metadata": {
    "scrolled": true
   },
   "outputs": [
    {
     "data": {
      "text/plain": [
       "0"
      ]
     },
     "execution_count": 9,
     "metadata": {},
     "output_type": "execute_result"
    }
   ],
   "source": [
    "#call the command line that downloads the BQA files using aws\n",
    "subprocess.call(command2, shell=True)"
   ]
  },
  {
   "cell_type": "markdown",
   "metadata": {},
   "source": [
    "### Cloud filtering"
   ]
  },
  {
   "cell_type": "markdown",
   "metadata": {},
   "source": [
    "#### Option 1) Filter for cloud cover using metadata cloud cover percentage\n",
    "\n",
    "If the metadata files indicate land cloud cover is less than the threshold, then download the B8, otherwise, delete the folder. Not all metadata files contain the land cloud cover, some only contain the overall cloud cover. If land cloud cover is not found, use the cloud cover value to determine whether the image should be downloaded .Use the following metadata attributes:\n",
    "\n",
    "  GROUP = IMAGE_ATTRIBUTES\n",
    "  \n",
    "    CLOUD_COVER = 23.58\n",
    "    CLOUD_COVER_LAND = 20.41"
   ]
  },
  {
   "cell_type": "markdown",
   "metadata": {},
   "source": [
    "Set cloud cover % thresholds and paths:"
   ]
  },
  {
   "cell_type": "code",
   "execution_count": null,
   "metadata": {},
   "outputs": [],
   "source": [
    "# #set cloud cover % thresholds\n",
    "# ccland_thresh = 30.0\n",
    "# cc_thresh = 50.0\n",
    "\n",
    "# #set paths:\n",
    "# #set path row folder name\n",
    "# folder_name = 'Path'+path+'_Row'+row\n",
    "# print(folder_name)\n",
    "\n",
    "# #set input path\n",
    "# bp_in = 's3://landsat-pds/L8/'\n",
    "# totalp_in = bp_in+path+'/'+row+'/'\n",
    "# print(totalp_in)\n",
    "\n",
    "# #set output path\n",
    "# bp_out = outputpath+'LS8aws/'+folder_name+'/'\n",
    "# print(bp_out)"
   ]
  },
  {
   "cell_type": "markdown",
   "metadata": {},
   "source": [
    "Loop, filter, download all images:"
   ]
  },
  {
   "cell_type": "code",
   "execution_count": null,
   "metadata": {
    "scrolled": true
   },
   "outputs": [],
   "source": [
    "# #loop through all the metadata files in the path_row folder:\n",
    "# for image in os.listdir(bp_out):\n",
    "#     if image.startswith(\"LC\"):\n",
    "#         #list the name of the image folder\n",
    "#         print(image)\n",
    "        \n",
    "#         #open the metadata file within that folder\n",
    "#         mdata = open(bp_out+image+\"/\"+image+\"_MTL.txt\", \"r\")\n",
    "        \n",
    "#         #set a detection variable for whether or not the metadata contains land cloud cover\n",
    "#         ccl_detected = False\n",
    "        \n",
    "#         #loop through each line in metadata to find Land Cloud Cover\n",
    "#         for line in mdata:\n",
    "#             cc_variable = line.split(\"=\")[0]\n",
    "            \n",
    "#             #if there is land cloud cover:\n",
    "#             if (\"CLOUD_COVER_LAND\" in cc_variable):\n",
    "#                 #save it:\n",
    "#                 ccl = np.float(line.split(\"=\")[1])\n",
    "                         \n",
    "#                 #switch the ccl_detected variable to True!\n",
    "#                 ccl_detected = True\n",
    "                    \n",
    "#                 #if the ccl is less than the threshold, delete the file\n",
    "#                 if ccl > ccland_thresh:\n",
    "#                     #remove the image directory\n",
    "#                     subprocess.call('rm -r '+bp_out+image, shell=True)\n",
    "#                     print(ccl, ' > ', ccland_thresh, \", \", image, \"removed\")\n",
    "#                 #otherwise: \n",
    "#                 else:\n",
    "#                     #DOWNLOAD THE B8 FILE\n",
    "#                     subprocess.call('source activate aws; aws --no-sign-request s3 cp '+totalp_in+' '+bp_out+' --recursive --exclude \"*\" --include \"*B8.TIF\"', shell=True)\n",
    "#                     print(image, \"B8 downloaded -ccl \")\n",
    "        \n",
    "#         #Was the ccl detected?\n",
    "#         print(\"CCL detected = \", ccl_detected)\n",
    "                        \n",
    "#         #if False,use the overall cloud cover:\n",
    "#         if ccl_detected == False:   \n",
    "#             print(\"CCL not detected, use CC.\")\n",
    "            \n",
    "#             #open the metadata file again\n",
    "#             mdata = open(bp_out+image+\"/\"+image+\"_MTL.txt\", \"r\")\n",
    "#             for line in mdata:\n",
    "#                 variable = line.split(\"=\")[0]\n",
    "                \n",
    "#                 #now there should only be one line starting with cloud_cover\n",
    "#                 if (\"CLOUD_COVER\" in variable):       \n",
    "#                     #save the cloud cover:\n",
    "#                     cc = np.float(line.split(\"=\")[1])\n",
    "\n",
    "#                     #if the cc is less than the threshold, delete the file:\n",
    "#                     if cc > cc_thresh:\n",
    "#                         #remove the image directory\n",
    "#                         subprocess.call('rm -r '+bp_out+image, shell=True)\n",
    "#                         print(cc, ' > ', cc_thresh, \", \", image, \"removed\")\n",
    "\n",
    "#                     #otherwise: \n",
    "#                     else:\n",
    "#                         #DOWNLOAD THE B8 FILE\n",
    "#                         subprocess.call('source activate aws; aws --no-sign-request s3 cp '+totalp_in+' '+bp_out+' --recursive --exclude \"*\" --include \"*B8.TIF\"', shell=True)\n",
    "#                         print(image, \"B8 downloaded -cc\")\n",
    "# print('Done.')"
   ]
  },
  {
   "cell_type": "markdown",
   "metadata": {},
   "source": [
    "#### Option 2) Filter for cloud cover using BQA cloud info\n",
    "\n",
    "The Landsat-8 BQA band includes a basic classification of surface types. These classes include water, snow/ice, and cloud. The values for cloud pixels are higher than others, > 50,000 in the 16-bit images. Therefore, we calculate the percentage of cloud pixels in each glacier's terminus box. If the percentage is above the threshold, we remove the directory and do not download the image. If the percentage is lower than the threshold, then we download the panchromatic image.\n",
    "\n",
    "Set cloud percentage threshold:"
   ]
  },
  {
   "cell_type": "code",
   "execution_count": 106,
   "metadata": {},
   "outputs": [],
   "source": [
    "cpercent_thresh = 20.0"
   ]
  },
  {
   "cell_type": "markdown",
   "metadata": {},
   "source": [
    "Load terminus box shapefile for subsetting and load the raster to count total number of pixels within the box:"
   ]
  },
  {
   "cell_type": "code",
   "execution_count": 107,
   "metadata": {},
   "outputs": [
    {
     "name": "stdout",
     "output_type": "stream",
     "text": [
      "/home/jukes/Documents/Sample_glaciers/Box001/Box001.shp\n",
      "/home/jukes/Documents/Sample_glaciers/Box001/Box001_raster_cut.png\n"
     ]
    }
   ],
   "source": [
    "#set path to terminus box shp\n",
    "boxpath = basepath+'Box'+BoxID+'/Box'+BoxID+'.shp'\n",
    "print(boxpath)\n",
    "\n",
    "#set path to terminus box raster\n",
    "boxrasterpath = basepath+'Box'+BoxID+'/Box'+BoxID+'_raster_cut.png'\n",
    "print(boxrasterpath)"
   ]
  },
  {
   "cell_type": "code",
   "execution_count": 97,
   "metadata": {},
   "outputs": [
    {
     "data": {
      "image/png": "[encoded data removed]",
      "text/plain": [
       "<Figure size 432x288 with 1 Axes>"
      ]
     },
     "metadata": {
      "needs_background": "light"
     },
     "output_type": "display_data"
    },
    {
     "name": "stdout",
     "output_type": "stream",
     "text": [
      "Total number of pixels in the raster: 3023\n"
     ]
    }
   ],
   "source": [
    "#load in box raster and count where raster == 1 using np.count_nonzero\n",
    "#read the raster into an ndarray\n",
    "termbox = mpimg.imread(boxrasterpath)\n",
    "termplot = plt.imshow(termbox)\n",
    "plt.show()\n",
    "\n",
    "totalpixels = np.count_nonzero(termbox)\n",
    "#print(termbox.shape[0]*termbox.shape[1])\n",
    "print('Total number of pixels in the raster:',totalpixels)"
   ]
  },
  {
   "cell_type": "markdown",
   "metadata": {},
   "source": [
    "Re-project and subset the BQA band to the glacier BOI terminus box using GDAL commands with syntax:\n",
    "\n",
    "1) Reproject into Greenland Polar Stereographic projection\n",
    "\n",
    "    gdalwarp -t_srs ‘+proj=stere +lat_ts=70 +lat_0=90 +lon_0=-45 +y=0 +x=0 +k=1 +datum=WGS84 +units=m’ path_to_input_BQA.TIF path_to_renamed_output_BQA.TIF\n",
    "\n",
    "2) Subset\n",
    "\n",
    "    gdalwarp -cutline path_to_Box###.shp -crop_to_cutline path_to_BQA.TIF path_to_result_BQA.TIF\n",
    "\n",
    "Then calculate the number of cloud pixels"
   ]
  },
  {
   "cell_type": "code",
   "execution_count": 108,
   "metadata": {},
   "outputs": [
    {
     "name": "stdout",
     "output_type": "stream",
     "text": [
      "LC80340052014215LGN00_BQA.TIF\n",
      "Cloud % in box: 6.45054581541515\n"
     ]
    },
    {
     "ename": "KeyboardInterrupt",
     "evalue": "",
     "output_type": "error",
     "traceback": [
      "\u001b[0;31m---------------------------------------------------------------------------\u001b[0m",
      "\u001b[0;31mKeyboardInterrupt\u001b[0m                         Traceback (most recent call last)",
      "\u001b[0;32m<ipython-input-108-c86da8f39fc8>\u001b[0m in \u001b[0;36m<module>\u001b[0;34m\u001b[0m\n\u001b[1;32m     55\u001b[0m                 \u001b[0;32melse\u001b[0m\u001b[0;34m:\u001b[0m\u001b[0;34m\u001b[0m\u001b[0;34m\u001b[0m\u001b[0m\n\u001b[1;32m     56\u001b[0m                     \u001b[0;31m#DOWNLOAD THE B8 FILE\u001b[0m\u001b[0;34m\u001b[0m\u001b[0;34m\u001b[0m\u001b[0;34m\u001b[0m\u001b[0m\n\u001b[0;32m---> 57\u001b[0;31m                     \u001b[0msubprocess\u001b[0m\u001b[0;34m.\u001b[0m\u001b[0mcall\u001b[0m\u001b[0;34m(\u001b[0m\u001b[0;34m'source activate aws; aws --no-sign-request s3 cp '\u001b[0m\u001b[0;34m+\u001b[0m\u001b[0mtotalp_in\u001b[0m\u001b[0;34m+\u001b[0m\u001b[0;34m' '\u001b[0m\u001b[0;34m+\u001b[0m\u001b[0mbp_out\u001b[0m\u001b[0;34m+\u001b[0m\u001b[0;34m' --recursive --exclude \"*\" --include \"*B8.TIF\"'\u001b[0m\u001b[0;34m,\u001b[0m \u001b[0mshell\u001b[0m\u001b[0;34m=\u001b[0m\u001b[0;32mTrue\u001b[0m\u001b[0;34m)\u001b[0m\u001b[0;34m\u001b[0m\u001b[0;34m\u001b[0m\u001b[0m\n\u001b[0m\u001b[1;32m     58\u001b[0m                     \u001b[0mprint\u001b[0m\u001b[0;34m(\u001b[0m\u001b[0mimage\u001b[0m\u001b[0;34m,\u001b[0m \u001b[0;34m\"B8 downloaded\"\u001b[0m\u001b[0;34m)\u001b[0m\u001b[0;34m\u001b[0m\u001b[0;34m\u001b[0m\u001b[0m\n\u001b[1;32m     59\u001b[0m \u001b[0;34m\u001b[0m\u001b[0m\n",
      "\u001b[0;32m~/anaconda3/lib/python3.7/subprocess.py\u001b[0m in \u001b[0;36mcall\u001b[0;34m(timeout, *popenargs, **kwargs)\u001b[0m\n\u001b[1;32m    323\u001b[0m     \u001b[0;32mwith\u001b[0m \u001b[0mPopen\u001b[0m\u001b[0;34m(\u001b[0m\u001b[0;34m*\u001b[0m\u001b[0mpopenargs\u001b[0m\u001b[0;34m,\u001b[0m \u001b[0;34m**\u001b[0m\u001b[0mkwargs\u001b[0m\u001b[0;34m)\u001b[0m \u001b[0;32mas\u001b[0m \u001b[0mp\u001b[0m\u001b[0;34m:\u001b[0m\u001b[0;34m\u001b[0m\u001b[0;34m\u001b[0m\u001b[0m\n\u001b[1;32m    324\u001b[0m         \u001b[0;32mtry\u001b[0m\u001b[0;34m:\u001b[0m\u001b[0;34m\u001b[0m\u001b[0;34m\u001b[0m\u001b[0m\n\u001b[0;32m--> 325\u001b[0;31m             \u001b[0;32mreturn\u001b[0m \u001b[0mp\u001b[0m\u001b[0;34m.\u001b[0m\u001b[0mwait\u001b[0m\u001b[0;34m(\u001b[0m\u001b[0mtimeout\u001b[0m\u001b[0;34m=\u001b[0m\u001b[0mtimeout\u001b[0m\u001b[0;34m)\u001b[0m\u001b[0;34m\u001b[0m\u001b[0;34m\u001b[0m\u001b[0m\n\u001b[0m\u001b[1;32m    326\u001b[0m         \u001b[0;32mexcept\u001b[0m\u001b[0;34m:\u001b[0m  \u001b[0;31m# Including KeyboardInterrupt, wait handled that.\u001b[0m\u001b[0;34m\u001b[0m\u001b[0;34m\u001b[0m\u001b[0m\n\u001b[1;32m    327\u001b[0m             \u001b[0mp\u001b[0m\u001b[0;34m.\u001b[0m\u001b[0mkill\u001b[0m\u001b[0;34m(\u001b[0m\u001b[0;34m)\u001b[0m\u001b[0;34m\u001b[0m\u001b[0;34m\u001b[0m\u001b[0m\n",
      "\u001b[0;32m~/anaconda3/lib/python3.7/subprocess.py\u001b[0m in \u001b[0;36mwait\u001b[0;34m(self, timeout)\u001b[0m\n\u001b[1;32m    988\u001b[0m             \u001b[0mendtime\u001b[0m \u001b[0;34m=\u001b[0m \u001b[0m_time\u001b[0m\u001b[0;34m(\u001b[0m\u001b[0;34m)\u001b[0m \u001b[0;34m+\u001b[0m \u001b[0mtimeout\u001b[0m\u001b[0;34m\u001b[0m\u001b[0;34m\u001b[0m\u001b[0m\n\u001b[1;32m    989\u001b[0m         \u001b[0;32mtry\u001b[0m\u001b[0;34m:\u001b[0m\u001b[0;34m\u001b[0m\u001b[0;34m\u001b[0m\u001b[0m\n\u001b[0;32m--> 990\u001b[0;31m             \u001b[0;32mreturn\u001b[0m \u001b[0mself\u001b[0m\u001b[0;34m.\u001b[0m\u001b[0m_wait\u001b[0m\u001b[0;34m(\u001b[0m\u001b[0mtimeout\u001b[0m\u001b[0;34m=\u001b[0m\u001b[0mtimeout\u001b[0m\u001b[0;34m)\u001b[0m\u001b[0;34m\u001b[0m\u001b[0;34m\u001b[0m\u001b[0m\n\u001b[0m\u001b[1;32m    991\u001b[0m         \u001b[0;32mexcept\u001b[0m \u001b[0mKeyboardInterrupt\u001b[0m\u001b[0;34m:\u001b[0m\u001b[0;34m\u001b[0m\u001b[0;34m\u001b[0m\u001b[0m\n\u001b[1;32m    992\u001b[0m             \u001b[0;31m# https://bugs.python.org/issue25942\u001b[0m\u001b[0;34m\u001b[0m\u001b[0;34m\u001b[0m\u001b[0;34m\u001b[0m\u001b[0m\n",
      "\u001b[0;32m~/anaconda3/lib/python3.7/subprocess.py\u001b[0m in \u001b[0;36m_wait\u001b[0;34m(self, timeout)\u001b[0m\n\u001b[1;32m   1622\u001b[0m                         \u001b[0;32mif\u001b[0m \u001b[0mself\u001b[0m\u001b[0;34m.\u001b[0m\u001b[0mreturncode\u001b[0m \u001b[0;32mis\u001b[0m \u001b[0;32mnot\u001b[0m \u001b[0;32mNone\u001b[0m\u001b[0;34m:\u001b[0m\u001b[0;34m\u001b[0m\u001b[0;34m\u001b[0m\u001b[0m\n\u001b[1;32m   1623\u001b[0m                             \u001b[0;32mbreak\u001b[0m  \u001b[0;31m# Another thread waited.\u001b[0m\u001b[0;34m\u001b[0m\u001b[0;34m\u001b[0m\u001b[0m\n\u001b[0;32m-> 1624\u001b[0;31m                         \u001b[0;34m(\u001b[0m\u001b[0mpid\u001b[0m\u001b[0;34m,\u001b[0m \u001b[0msts\u001b[0m\u001b[0;34m)\u001b[0m \u001b[0;34m=\u001b[0m \u001b[0mself\u001b[0m\u001b[0;34m.\u001b[0m\u001b[0m_try_wait\u001b[0m\u001b[0;34m(\u001b[0m\u001b[0;36m0\u001b[0m\u001b[0;34m)\u001b[0m\u001b[0;34m\u001b[0m\u001b[0;34m\u001b[0m\u001b[0m\n\u001b[0m\u001b[1;32m   1625\u001b[0m                         \u001b[0;31m# Check the pid and loop as waitpid has been known to\u001b[0m\u001b[0;34m\u001b[0m\u001b[0;34m\u001b[0m\u001b[0;34m\u001b[0m\u001b[0m\n\u001b[1;32m   1626\u001b[0m                         \u001b[0;31m# return 0 even without WNOHANG in odd situations.\u001b[0m\u001b[0;34m\u001b[0m\u001b[0;34m\u001b[0m\u001b[0;34m\u001b[0m\u001b[0m\n",
      "\u001b[0;32m~/anaconda3/lib/python3.7/subprocess.py\u001b[0m in \u001b[0;36m_try_wait\u001b[0;34m(self, wait_flags)\u001b[0m\n\u001b[1;32m   1580\u001b[0m             \u001b[0;34m\"\"\"All callers to this function MUST hold self._waitpid_lock.\"\"\"\u001b[0m\u001b[0;34m\u001b[0m\u001b[0;34m\u001b[0m\u001b[0m\n\u001b[1;32m   1581\u001b[0m             \u001b[0;32mtry\u001b[0m\u001b[0;34m:\u001b[0m\u001b[0;34m\u001b[0m\u001b[0;34m\u001b[0m\u001b[0m\n\u001b[0;32m-> 1582\u001b[0;31m                 \u001b[0;34m(\u001b[0m\u001b[0mpid\u001b[0m\u001b[0;34m,\u001b[0m \u001b[0msts\u001b[0m\u001b[0;34m)\u001b[0m \u001b[0;34m=\u001b[0m \u001b[0mos\u001b[0m\u001b[0;34m.\u001b[0m\u001b[0mwaitpid\u001b[0m\u001b[0;34m(\u001b[0m\u001b[0mself\u001b[0m\u001b[0;34m.\u001b[0m\u001b[0mpid\u001b[0m\u001b[0;34m,\u001b[0m \u001b[0mwait_flags\u001b[0m\u001b[0;34m)\u001b[0m\u001b[0;34m\u001b[0m\u001b[0;34m\u001b[0m\u001b[0m\n\u001b[0m\u001b[1;32m   1583\u001b[0m             \u001b[0;32mexcept\u001b[0m \u001b[0mChildProcessError\u001b[0m\u001b[0;34m:\u001b[0m\u001b[0;34m\u001b[0m\u001b[0;34m\u001b[0m\u001b[0m\n\u001b[1;32m   1584\u001b[0m                 \u001b[0;31m# This happens if SIGCLD is set to be ignored or waiting\u001b[0m\u001b[0;34m\u001b[0m\u001b[0;34m\u001b[0m\u001b[0;34m\u001b[0m\u001b[0m\n",
      "\u001b[0;31mKeyboardInterrupt\u001b[0m: "
     ]
    }
   ],
   "source": [
    "#export GDAL path command:\n",
    "export_GDALpath = 'export PATH=/Library/Frameworks/GDAL.framework/Programs:$PATH ; '\n",
    "\n",
    "#loop through all the metadata files in the path_row folder:\n",
    "for image in os.listdir(bp_out):\n",
    "    if image.startswith(\"LC\"):\n",
    "        #list the name of the image folder\n",
    "#         print(image)\n",
    "\n",
    "        #set the path to the BQA band\n",
    "        bandpath = bp_out+image+'/'\n",
    "        \n",
    "        for band in os.listdir(bandpath):\n",
    "            if band.endswith(\"BQA.TIF\"):\n",
    "                print(band)\n",
    "                \n",
    "                bandpath = bandpath+band\n",
    "                rp_bandpath = bandpath[:-4]+\"_PS.TIF\"\n",
    "                cut_rp_bandpath = rp_bandpath[:-4]+\"_Box\"+BoxID+\".TIF\"\n",
    "#                 print(bandpath)\n",
    "#                 print(rp_bandpath)\n",
    "#                 print(cut_rp_bandpath)\n",
    "                \n",
    "#                 #reproject the band:\n",
    "#                 reproject_cmd = \"gdalwarp -t_srs '+proj=stere +lat_ts=70 +lat_0=90 +lon_0=-45 +y=0 +x=0 +k=1 +datum=WGS84 +units=m' \"+bandpath+\" \"+rp_bandpath\n",
    "# #                 print(export_GDALpath+reproject_cmd)\n",
    "#                 subprocess.call(export_GDALpath+reproject_cmd, shell=True)\n",
    "#                 print('BQA reprojected')\n",
    "\n",
    "#                 #subset the reprojected BQA band to terminus box:\n",
    "#                 subsetBQA_cmd = 'gdalwarp -cutline '+boxpath+' -crop_to_cutline '+rp_bandpath+\" \"+cut_rp_bandpath\n",
    "# #                 print(export_GDALpath+subsetBQA_cmd)\n",
    "#                 subprocess.call(export_GDALpath+subsetBQA_cmd, shell=True)\n",
    "#                 print('BQA subset')\n",
    "        \n",
    "                #load the subset BQA band and mask out any values that are less than 50000 (clouds)\n",
    "                subsetBQA = mpimg.imread(cut_rp_bandpath)\n",
    "                cloudBQA = subsetBQA[subsetBQA >= 50000]\n",
    "#                 print(cloudBQA)\n",
    "                \n",
    "                #count the number of cloud pixels\n",
    "                cloudpixels = len(cloudBQA)\n",
    "#                 print(cloudpixels)\n",
    "                \n",
    "                #calculate divided by the total\n",
    "                cloudpercent = cloudpixels/totalpixels*100\n",
    "                print('Cloud % in box:', cloudpercent)\n",
    "                \n",
    "                #if statement cloud percent is greater than the threshold, delete the folder:\n",
    "                if cloudpercent > cpercent_thresh:\n",
    "                    #remove the image directory\n",
    "                    subprocess.call('rm -r '+bp_out+image, shell=True)\n",
    "                    print(cloudpercent, ' > ', cpercent_thresh, \", \", image, \"removed\")\n",
    "                #otherwise: \n",
    "                else:\n",
    "                    #DOWNLOAD THE B8 FILE\n",
    "                    subprocess.call('source activate aws; aws --no-sign-request s3 cp '+totalp_in+' '+bp_out+' --recursive --exclude \"*\" --include \"*B8.TIF\"', shell=True)\n",
    "                    print(image, \"B8 downloaded\")\n",
    "                    "
   ]
  },
  {
   "cell_type": "markdown",
   "metadata": {},
   "source": [
    "### 2B) For ALL glaciers:"
   ]
  },
  {
   "cell_type": "markdown",
   "metadata": {},
   "source": [
    "#### Option 1: Metadata cloud cover % threshold"
   ]
  },
  {
   "cell_type": "code",
   "execution_count": null,
   "metadata": {
    "scrolled": true
   },
   "outputs": [],
   "source": [
    "# #SET cloud cover thresholds for filtering\n",
    "# ccland_thresh = 30.0\n",
    "# cc_thresh = 50.0\n",
    "\n",
    "\n",
    "\n",
    "# #LOOP through each of the glaciers in the DataFrame and download for each path and row\n",
    "# for i in range(0, len(pathrows_df.index)):\n",
    "#     #SET path and row variables to the LS path and rows of the box\n",
    "#     path = pathrows_df['Path'][i]\n",
    "#     row = pathrows_df['Row'][i]\n",
    "#     #print(path, row)\n",
    "    \n",
    "#     #1) CREATE path and row folders to download into and set input output paths\n",
    "#     #SET path row folder name\n",
    "#     folder_name = 'Path'+path+'_Row'+row\n",
    "#     print(folder_name)\n",
    "    \n",
    "#     #SET input path\n",
    "#     bp_in = 's3://landsat-pds/L8/'\n",
    "#     totalp_in = bp_in+path+'/'+row+'/'\n",
    "#     #print(totalp_in)\n",
    "\n",
    "#     #SET output path\n",
    "#     bp_out = outputpath+'LS8aws/'+folder_name+'/'\n",
    "    \n",
    "    \n",
    "    \n",
    "#     #IF the folder exists, it's already been downloaded, do not attempt download.\n",
    "#     if os.path.exists(bp_out):\n",
    "#         print(folder_name, \" EXISTS ALREADY. SKIP.\")\n",
    "#     #2) OTHERWISE, create the folder and download into it\n",
    "#     else:\n",
    "#         os.mkdir(bp_out)\n",
    "#         print(folder_name+\" directory made\")\n",
    "\n",
    "        \n",
    "#         #3) DOWNLOAD metadata files into the new path-row folder\n",
    "#         #CHECK COMMAND SYNTAX\n",
    "#         command = 'source activate aws; aws --no-sign-request s3 cp '+totalp_in+' '+bp_out+' --recursive --exclude \"*\" --include \"*.txt\"'\n",
    "#         #print(command)\n",
    "#         subprocess.call(command, shell=True)\n",
    "        \n",
    "        \n",
    "        \n",
    "#         #4) LOOP through all the files in the path_row folder to download based on cloud cover\n",
    "#         # in the metadata files\n",
    "#         for image in os.listdir(bp_out):\n",
    "#             if image.startswith(\"LC\"):\n",
    "#                 #list the name of the image folder\n",
    "#                 print(image)\n",
    "\n",
    "#                 #open the metadata file within that folder\n",
    "#                 mdata = open(bp_out+image+\"/\"+image+\"_MTL.txt\", \"r\")\n",
    "\n",
    "#                 #set a detection variable for whether or not the metadata contains land cloud cover\n",
    "#                 ccl_detected = False\n",
    "\n",
    "#                 #loop through each line in metadata to find the land cloud cover\n",
    "#                 for line in mdata:\n",
    "#                     cc_variable = line.split(\"=\")[0]\n",
    "\n",
    "#                     #if there is land cloud cover:\n",
    "#                     if (\"CLOUD_COVER_LAND\" in cc_variable):\n",
    "#                         #save it:\n",
    "#                         ccl = np.float(line.split(\"=\")[1])\n",
    "\n",
    "#                         #switch the ccl detected variable to True\n",
    "#                         ccl_detected = True\n",
    "\n",
    "#                         #if the ccl is less than the threshold, delete the file\n",
    "#                         if ccl > ccland_thresh:\n",
    "#                             #remove the image directory\n",
    "#                             #subprocess.call('rm -r '+bp_out+image, shell=True)\n",
    "#                             print(ccl, ' > ', ccland_thresh, \", \", image, \"removed\")\n",
    "#                         #otherwise: \n",
    "#                         else:\n",
    "#                             #download the B8 file\n",
    "#                             subprocess.call('source activate aws; aws --no-sign-request s3 cp '+totalp_in+' '+bp_out+' --recursive --exclude \"*\" --include \"*B8.TIF\"', shell=True)\n",
    "#                             print(image, \"B8 downloaded -ccl \")\n",
    "\n",
    "#                 print(\"CCL detected = \", ccl_detected)\n",
    "\n",
    "#                 #if False,use the overall cloud cover:\n",
    "#                 if ccl_detected == False:   \n",
    "#                     print(\"CCL not detected, use CC.\")\n",
    "\n",
    "#                     #open the metadata file again\n",
    "#                     mdata = open(bp_out+image+\"/\"+image+\"_MTL.txt\", \"r\")\n",
    "#                     for line in mdata:\n",
    "#                         variable = line.split(\"=\")[0]\n",
    "\n",
    "#                         #now there should only be one line starting with cloud_cover\n",
    "#                         if (\"CLOUD_COVER\" in variable):       \n",
    "#                             #save the cloud cover:\n",
    "#                             cc = np.float(line.split(\"=\")[1])\n",
    "\n",
    "#                             #if the cc is less than the threshold, delete the file:\n",
    "#                             if cc > cc_thresh:\n",
    "#                                 #remove the image directory\n",
    "#                                 #subprocess.call('rm -r '+bp_out+image, shell=True)\n",
    "#                                 print(cc, ' > ', cc_thresh, \", \", image, \"removed\")\n",
    "\n",
    "#                             #otherwise: \n",
    "#                             else:\n",
    "#                                 #DOWNLOAD THE B8 FILE\n",
    "#                                 subprocess.call('source activate aws; aws --no-sign-request s3 cp '+totalp_in+' '+bp_out+' --recursive --exclude \"*\" --include \"*B8.TIF\"', shell=True)\n",
    "#                                 print(image, \"B8 downloaded -cc\")"
   ]
  },
  {
   "cell_type": "markdown",
   "metadata": {},
   "source": [
    "#### Option 2: BQA cloud cover threshold"
   ]
  },
  {
   "cell_type": "code",
   "execution_count": null,
   "metadata": {
    "scrolled": true
   },
   "outputs": [
    {
     "data": {
      "image/png": "[encoded data removed]",
      "text/plain": [
       "<Figure size 432x288 with 1 Axes>"
      ]
     },
     "metadata": {
      "needs_background": "light"
     },
     "output_type": "display_data"
    },
    {
     "name": "stdout",
     "output_type": "stream",
     "text": [
      "Total number of pixels in the raster: 3023\n",
      "/media/jukes/jukes1/LS8aws/Box001/LC80340052014215LGN00/\n",
      "LC80340052014215LGN00_BQA.TIF\n",
      "BQA reprojected\n",
      "BQA subset\n",
      "Cloud % in box: 6.45054581541515\n",
      "LC80340052014215LGN00 B8 downloaded\n",
      "/media/jukes/jukes1/LS8aws/Box001/LC80340052013148LGN00/\n",
      "LC80340052013148LGN00_BQA.TIF\n",
      "BQA reprojected\n",
      "BQA subset\n",
      "Cloud % in box: 0.09923916639100232\n",
      "LC80340052013148LGN00 B8 downloaded\n",
      "/media/jukes/jukes1/LS8aws/Box001/LC80340052016125LGN00/\n",
      "LC80340052016125LGN00_BQA.TIF\n",
      "BQA reprojected\n",
      "BQA subset\n",
      "Cloud % in box: 0.06615944426066822\n",
      "LC80340052016125LGN00 B8 downloaded\n",
      "/media/jukes/jukes1/LS8aws/Box001/LC80340052014183LGN00/\n",
      "LC80340052014183LGN00_BQA.TIF\n",
      "BQA reprojected\n",
      "BQA subset\n",
      "Cloud % in box: 25.736023817399932\n",
      "25.736023817399932  >  20.0 ,  LC80340052014183LGN00 removed\n",
      "/media/jukes/jukes1/LS8aws/Box001/LC80340052014135LGN00/\n",
      "LC80340052014135LGN00_BQA.TIF\n",
      "BQA reprojected\n",
      "BQA subset\n",
      "Cloud % in box: 25.967581872312273\n",
      "25.967581872312273  >  20.0 ,  LC80340052014135LGN00 removed\n",
      "/media/jukes/jukes1/LS8aws/Box001/LC80340052016157LGN00/\n",
      "LC80340052016157LGN00_BQA.TIF\n",
      "BQA reprojected\n",
      "BQA subset\n",
      "Cloud % in box: 0.29771749917300694\n",
      "LC80340052016157LGN00 B8 downloaded\n",
      "/media/jukes/jukes1/LS8aws/Box001/LC80340052015106LGN00/\n",
      "LC80340052015106LGN00_BQA.TIF\n",
      "BQA reprojected\n",
      "BQA subset\n",
      "Cloud % in box: 19.120079391333114\n",
      "LC80340052015106LGN00 B8 downloaded\n",
      "/media/jukes/jukes1/LS8aws/Box001/LC80340052016093LGN00/\n",
      "LC80340052016093LGN00_BQA.TIF\n",
      "BQA reprojected\n",
      "BQA subset\n",
      "Cloud % in box: 0.5623552762156798\n",
      "LC80340052016093LGN00 B8 downloaded\n",
      "/media/jukes/jukes1/LS8aws/Box001/LC80340052015170LGN00/\n",
      "LC80340052015170LGN00_BQA.TIF\n",
      "BQA reprojected\n",
      "BQA subset\n",
      "Cloud % in box: 25.868342705921272\n",
      "25.868342705921272  >  20.0 ,  LC80340052015170LGN00 removed\n",
      "/media/jukes/jukes1/LS8aws/Box001/LC80340052014247LGN00/\n",
      "LC80340052014247LGN00_BQA.TIF\n",
      "BQA reprojected\n",
      "BQA subset\n",
      "Cloud % in box: 0.03307972213033411\n",
      "LC80340052014247LGN00 B8 downloaded\n",
      "/media/jukes/jukes1/LS8aws/Box001/LC80340052015202LGN00/\n",
      "LC80340052015202LGN00_BQA.TIF\n",
      "BQA reprojected\n",
      "BQA subset\n",
      "Cloud % in box: 0.16539861065167052\n",
      "LC80340052015202LGN00 B8 downloaded\n",
      "/media/jukes/jukes1/LS8aws/Box001/LC80340052015266LGN00/\n",
      "LC80340052015266LGN00_BQA.TIF\n",
      "BQA reprojected\n",
      "BQA subset\n",
      "Cloud % in box: 0.09923916639100232\n",
      "LC80340052015266LGN00 B8 downloaded\n",
      "/media/jukes/jukes1/LS8aws/Box001/LC80340052017079LGN00/\n",
      "LC80340052017079LGN00_BQA.TIF\n",
      "BQA reprojected\n",
      "BQA subset\n",
      "Cloud % in box: 0.0\n",
      "LC80340052017079LGN00 B8 downloaded\n",
      "/media/jukes/jukes1/LS8aws/Box001/LC80340052014087LGN00/\n",
      "LC80340052014087LGN00_BQA.TIF\n",
      "BQA reprojected\n",
      "BQA subset\n",
      "Cloud % in box: 0.7277538868673503\n",
      "LC80340052014087LGN00 B8 downloaded\n",
      "/media/jukes/jukes1/LS8aws/Box001/LC80340052017095LGN00/\n",
      "LC80340052017095LGN00_BQA.TIF\n",
      "BQA reprojected\n",
      "BQA subset\n",
      "Cloud % in box: 0.23155805491233872\n",
      "LC80340052017095LGN00 B8 downloaded\n",
      "/media/jukes/jukes1/LS8aws/Box001/LC80340052014231LGN00/\n",
      "LC80340052014231LGN00_BQA.TIF\n",
      "BQA reprojected\n",
      "BQA subset\n",
      "Cloud % in box: 24.545153820707906\n",
      "24.545153820707906  >  20.0 ,  LC80340052014231LGN00 removed\n",
      "/media/jukes/jukes1/LS8aws/Box001/LC80340052014151LGN00/\n",
      "LC80340052014151LGN00_BQA.TIF\n",
      "BQA reprojected\n",
      "BQA subset\n",
      "Cloud % in box: 7.310618590803837\n",
      "LC80340052014151LGN00 B8 downloaded\n",
      "/media/jukes/jukes1/LS8aws/Box001/LC80340052016141LGN00/\n",
      "LC80340052016141LGN00_BQA.TIF\n",
      "BQA reprojected\n",
      "BQA subset\n",
      "Cloud % in box: 25.702944095269597\n",
      "25.702944095269597  >  20.0 ,  LC80340052016141LGN00 removed\n",
      "/media/jukes/jukes1/LS8aws/Box001/LC80340052016205LGN00/\n",
      "LC80340052016205LGN00_BQA.TIF\n",
      "BQA reprojected\n",
      "BQA subset\n",
      "Cloud % in box: 0.03307972213033411\n",
      "LC80340052016205LGN00 B8 downloaded\n",
      "/media/jukes/jukes1/LS8aws/Box001/LC80340052014263LGN00/\n",
      "LC80340052014263LGN00_BQA.TIF\n",
      "BQA reprojected\n",
      "BQA subset\n",
      "Cloud % in box: 12.40489579887529\n",
      "LC80340052014263LGN00 B8 downloaded\n",
      "/media/jukes/jukes1/LS8aws/Box001/LC80340052016189LGN00/\n",
      "LC80340052016189LGN00_BQA.TIF\n",
      "BQA reprojected\n",
      "BQA subset\n",
      "Cloud % in box: 0.06615944426066822\n",
      "LC80340052016189LGN00 B8 downloaded\n",
      "/media/jukes/jukes1/LS8aws/Box001/LC80340052015122LGN00/\n",
      "LC80340052015122LGN00_BQA.TIF\n",
      "BQA reprojected\n",
      "BQA subset\n",
      "Cloud % in box: 21.171022163413827\n",
      "21.171022163413827  >  20.0 ,  LC80340052015122LGN00 removed\n",
      "/media/jukes/jukes1/LS8aws/Box001/LC80340052014167LGN00/\n",
      "LC80340052014167LGN00_BQA.TIF\n",
      "BQA reprojected\n",
      "BQA subset\n",
      "Cloud % in box: 25.008269930532585\n",
      "25.008269930532585  >  20.0 ,  LC80340052014167LGN00 removed\n",
      "/media/jukes/jukes1/LS8aws/Box001/LC80340052015090LGN00/\n",
      "LC80340052015090LGN00_BQA.TIF\n",
      "BQA reprojected\n",
      "BQA subset\n",
      "Cloud % in box: 2.4478994376447236\n",
      "LC80340052015090LGN00 B8 downloaded\n",
      "/media/jukes/jukes1/LS8aws/Box001/LC80340052016237LGN00/\n",
      "LC80340052016237LGN00_BQA.TIF\n",
      "BQA reprojected\n",
      "BQA subset\n",
      "Cloud % in box: 0.06615944426066822\n",
      "LC80340052016237LGN00 B8 downloaded\n",
      "/media/jukes/jukes1/LS8aws/Box001/LC80340052016221LGN00/\n",
      "LC80340052016221LGN00_BQA.TIF\n",
      "BQA reprojected\n",
      "BQA subset\n",
      "Cloud % in box: 0.2646377770426729\n",
      "LC80340052016221LGN00 B8 downloaded\n",
      "/media/jukes/jukes1/LS8aws/Box001/LC80340052015250LGN00/\n",
      "LC80340052015250LGN00_BQA.TIF\n",
      "BQA reprojected\n",
      "BQA subset\n",
      "Cloud % in box: 10.453192193185577\n",
      "LC80340052015250LGN00 B8 downloaded\n",
      "/media/jukes/jukes1/LS8aws/Box001/LC80340052016061LGN00/\n",
      "LC80340052016061LGN00_BQA.TIF\n",
      "BQA reprojected\n",
      "BQA subset\n",
      "Cloud % in box: 0.03307972213033411\n",
      "LC80340052016061LGN00 B8 downloaded\n",
      "/media/jukes/jukes1/LS8aws/Box001/LC80340052015234LGN00/\n",
      "LC80340052015234LGN00_BQA.TIF\n",
      "BQA reprojected\n",
      "BQA subset\n",
      "Cloud % in box: 10.188554416142905\n",
      "LC80340052015234LGN00 B8 downloaded\n",
      "/media/jukes/jukes1/LS8aws/Box001/LC80340052016077LGN00/\n",
      "LC80340052016077LGN00_BQA.TIF\n",
      "BQA reprojected\n",
      "BQA subset\n",
      "Cloud % in box: 0.0\n",
      "LC80340052016077LGN00 B8 downloaded\n",
      "/media/jukes/jukes1/LS8aws/Box001/LC80340052015218LGN00/\n",
      "LC80340052015218LGN00_BQA.TIF\n",
      "BQA reprojected\n",
      "BQA subset\n",
      "Cloud % in box: 0.0\n",
      "LC80340052015218LGN00 B8 downloaded\n",
      "/media/jukes/jukes1/LS8aws/Box001/LC80340052014103LGN00/\n",
      "LC80340052014103LGN00_BQA.TIF\n",
      "BQA reprojected\n",
      "BQA subset\n",
      "Cloud % in box: 0.0\n",
      "LC80340052014103LGN00 B8 downloaded\n",
      "/media/jukes/jukes1/LS8aws/Box001/LC80340052015282LGN00/\n",
      "LC80340052015282LGN00_BQA.TIF\n",
      "BQA reprojected\n",
      "BQA subset\n",
      "Cloud % in box: 0.0\n",
      "LC80340052015282LGN00 B8 downloaded\n",
      "/media/jukes/jukes1/LS8aws/Box001/LC80340052015138LGN00/\n",
      "LC80340052015138LGN00_BQA.TIF\n",
      "BQA reprojected\n",
      "BQA subset\n",
      "Cloud % in box: 0.13231888852133644\n",
      "LC80340052015138LGN00 B8 downloaded\n",
      "/media/jukes/jukes1/LS8aws/Box001/LC80340052016285LGN00/\n",
      "LC80340052016285LGN00_BQA.TIF\n",
      "BQA reprojected\n",
      "BQA subset\n",
      "Cloud % in box: 0.0\n",
      "LC80340052016285LGN00 B8 downloaded\n",
      "/media/jukes/jukes1/LS8aws/Box001/LC80340052013260LGN00/\n",
      "LC80340052013260LGN00_BQA.TIF\n",
      "BQA reprojected\n",
      "BQA subset\n",
      "Cloud % in box: 0.0\n",
      "LC80340052013260LGN00 B8 downloaded\n",
      "/media/jukes/jukes1/LS8aws/Box001/LC80340052016253LGN00/\n",
      "LC80340052016253LGN00_BQA.TIF\n",
      "BQA reprojected\n",
      "BQA subset\n",
      "Cloud % in box: 7.972213033410519\n",
      "LC80340052016253LGN00 B8 downloaded\n",
      "/media/jukes/jukes1/LS8aws/Box001/LC80340052016109LGN00/\n",
      "LC80340052016109LGN00_BQA.TIF\n",
      "BQA reprojected\n",
      "BQA subset\n",
      "Cloud % in box: 0.0\n",
      "LC80340052016109LGN00 B8 downloaded\n",
      "/media/jukes/jukes1/LS8aws/Box001/LC80340052013244LGN00/\n",
      "LC80340052013244LGN00_BQA.TIF\n",
      "BQA reprojected\n",
      "BQA subset\n",
      "Cloud % in box: 25.934502150181938\n",
      "25.934502150181938  >  20.0 ,  LC80340052013244LGN00 removed\n",
      "/media/jukes/jukes1/LS8aws/Box001/LC80340052017111LGN00/\n",
      "LC80340052017111LGN00_BQA.TIF\n",
      "BQA reprojected\n",
      "BQA subset\n",
      "Cloud % in box: 0.0\n",
      "LC80340052017111LGN00 B8 downloaded\n",
      "/media/jukes/jukes1/LS8aws/Box001/LC80340052015154LGN00/\n",
      "LC80340052015154LGN00_BQA.TIF\n",
      "BQA reprojected\n",
      "BQA subset\n",
      "Cloud % in box: 0.13231888852133644\n",
      "LC80340052015154LGN00 B8 downloaded\n",
      "/media/jukes/jukes1/LS8aws/Box001/LC80340052015074LGN00/\n",
      "LC80340052015074LGN00_BQA.TIF\n",
      "BQA reprojected\n",
      "BQA subset\n",
      "Cloud % in box: 0.5623552762156798\n",
      "LC80340052015074LGN00 B8 downloaded\n",
      "/media/jukes/jukes1/LS8aws/Box001/LC80340052015186LGN00/\n",
      "LC80340052015186LGN00_BQA.TIF\n",
      "BQA reprojected\n",
      "BQA subset\n",
      "Cloud % in box: 23.718160767449554\n",
      "23.718160767449554  >  20.0 ,  LC80340052015186LGN00 removed\n",
      "/media/jukes/jukes1/LS8aws/Box001/LC80340052017063LGN00/\n",
      "LC80340052017063LGN00_BQA.TIF\n",
      "BQA reprojected\n",
      "BQA subset\n",
      "Cloud % in box: 0.0\n"
     ]
    },
    {
     "name": "stdout",
     "output_type": "stream",
     "text": [
      "LC80340052017063LGN00 B8 downloaded\n",
      "/media/jukes/jukes1/LS8aws/Box001/LC80340052016173LGN00/\n",
      "LC80340052016173LGN00_BQA.TIF\n",
      "BQA reprojected\n",
      "BQA subset\n",
      "Cloud % in box: 25.206748263314587\n",
      "25.206748263314587  >  20.0 ,  LC80340052016173LGN00 removed\n"
     ]
    },
    {
     "data": {
      "image/png": "[encoded data removed]",
      "text/plain": [
       "<Figure size 432x288 with 1 Axes>"
      ]
     },
     "metadata": {
      "needs_background": "light"
     },
     "output_type": "display_data"
    },
    {
     "name": "stdout",
     "output_type": "stream",
     "text": [
      "Total number of pixels in the raster: 43558\n",
      "/media/jukes/jukes1/LS8aws/Box002/LC80310052014146LGN00/\n",
      "LC80310052014146LGN00_BQA.TIF\n",
      "BQA reprojected\n",
      "BQA subset\n",
      "Cloud % in box: 21.642407824050693\n",
      "21.642407824050693  >  20.0 ,  LC80310052014146LGN00 removed\n",
      "/media/jukes/jukes1/LS8aws/Box002/LC80310052017074LGN00/\n",
      "LC80310052017074LGN00_BQA.TIF\n",
      "BQA reprojected\n",
      "BQA subset\n",
      "Cloud % in box: 2.7916800587722115\n",
      "LC80310052017074LGN00 B8 downloaded\n",
      "/media/jukes/jukes1/LS8aws/Box002/LC80310052016168LGN00/\n",
      "LC80310052016168LGN00_BQA.TIF\n",
      "BQA reprojected\n",
      "BQA subset\n",
      "Cloud % in box: 23.39639101887139\n",
      "23.39639101887139  >  20.0 ,  LC80310052016168LGN00 removed\n",
      "/media/jukes/jukes1/LS8aws/Box002/LC80310052016232LGN00/\n",
      "LC80310052016232LGN00_BQA.TIF\n",
      "BQA reprojected\n",
      "BQA subset\n",
      "Cloud % in box: 24.890949997704208\n",
      "24.890949997704208  >  20.0 ,  LC80310052016232LGN00 removed\n",
      "/media/jukes/jukes1/LS8aws/Box002/LC80310052016120LGN00/\n",
      "LC80310052016120LGN00_BQA.TIF\n",
      "BQA reprojected\n",
      "BQA subset\n",
      "Cloud % in box: 2.4335368933376187\n",
      "LC80310052016120LGN00 B8 downloaded\n",
      "/media/jukes/jukes1/LS8aws/Box002/LC80310052016184LGN00/\n",
      "LC80310052016184LGN00_BQA.TIF\n",
      "BQA reprojected\n",
      "BQA subset\n",
      "Cloud % in box: 0.09871894944671472\n"
     ]
    }
   ],
   "source": [
    "#SET cloud cover threshold\n",
    "cpercent_thresh = 20.0\n",
    "\n",
    "\n",
    "#LOOP through each of the glaciers in the DataFrame and download for each path and row\n",
    "for i in range(0, len(pathrows_df.index)):\n",
    "    #SET path and row variables to the LS path and rows of the box\n",
    "    path = pathrows_df['Path'][i]\n",
    "    row = pathrows_df['Row'][i]\n",
    "    BoxID = pathrows_df.index[i]\n",
    "#     print(path, row, BoxID)\n",
    "    \n",
    "    #1) CREATE path and row folders to download into and set input output paths\n",
    "    #SET path row folder name\n",
    "    folder_name = 'Path'+path+'_Row'+row\n",
    "#     print(folder_name)\n",
    "    \n",
    "    #SET input path\n",
    "    bp_in = 's3://landsat-pds/L8/'\n",
    "    totalp_in = bp_in+path+'/'+row+'/'\n",
    "    #print(totalp_in)\n",
    "\n",
    "    #SET output path\n",
    "    bp_out = outputpath+'LS8aws/Box'+BoxID+'/'\n",
    "    \n",
    "    #Download all the metadata files\n",
    "    # #Check command syntax:\n",
    "    dwn_command = 'aws --no-sign-request s3 cp '+totalp_in+' '+bp_out+' --recursive --exclude \"*\" --include \"*.txt\"'\n",
    "#     print(dwn_command)\n",
    "    subprocess.call(dwn_command, shell=True)\n",
    "    \n",
    "     \n",
    "    #IF the folder exists, it's already been downloaded, do not attempt download.\n",
    "    if os.path.exists(bp_out):\n",
    "#         print(folder_name, \" EXISTS ALREADY. SKIP.\")\n",
    "#     #2) OTHERWISE, create the folder and download into it\n",
    "#     else:\n",
    "#         os.mkdir(bp_out)\n",
    "#         print(folder_name+\" directory made\")\n",
    "\n",
    "        \n",
    "        #3) DOWNLOAD BQA files into the new path-row folder\n",
    "        #CHECK COMMAND SYNTAX\n",
    "        command2 = 'aws --no-sign-request s3 cp '+totalp_in+' '+bp_out+' --recursive --exclude \"*\" --include \"*BQA.TIF\"'\n",
    "#         print(command2)\n",
    "        subprocess.call(command2, shell=True)\n",
    "        \n",
    "                \n",
    "        #4) CALCULATE CLOUD COVER IN TERMINUS BOX\n",
    "        #set path to terminus box shp\n",
    "        boxpath = basepath+'Box'+BoxID+'/Box'+BoxID+'.shp'\n",
    "#         print(boxpath)\n",
    "\n",
    "        #set path to terminus box raster\n",
    "        boxrasterpath = basepath+'Box'+BoxID+'/Box'+BoxID+'_raster_cut.png'\n",
    "#         print(boxrasterpath)\n",
    "                \n",
    "        #load in box raster and count where raster == 1 using np.count_nonzero\n",
    "        #read the raster into an ndarray\n",
    "        termbox = mpimg.imread(boxrasterpath)\n",
    "        termplot = plt.imshow(termbox)\n",
    "        plt.show()\n",
    "\n",
    "        totalpixels = np.count_nonzero(termbox)\n",
    "        #print(termbox.shape[0]*termbox.shape[1])\n",
    "        print('Total number of pixels in the raster:',totalpixels)\n",
    "        \n",
    "        #export GDAL path command:\n",
    "        export_GDALpath = 'export PATH=/Library/Frameworks/GDAL.framework/Programs:$PATH ; '\n",
    "\n",
    "        #loop through all the BQA files in the path_row folder:\n",
    "        for image in os.listdir(bp_out):\n",
    "            if image.endswith(\"00\"):\n",
    "                #list the name of the image folder\n",
    "        #         print(image)\n",
    "\n",
    "                #set the path to the BQA band\n",
    "                bandpath = bp_out+image+'/'\n",
    "                print(bandpath)\n",
    "\n",
    "                for band in os.listdir(bandpath):\n",
    "                    if band.endswith(\"BQA.TIF\"):\n",
    "                        print(band)\n",
    "\n",
    "                        bandpath = bandpath+band\n",
    "                        rp_bandpath = bandpath[:-4]+\"_PS.TIF\"\n",
    "                        cut_rp_bandpath = rp_bandpath[:-4]+\"_Box\"+BoxID+\".TIF\"\n",
    "        #                 print(bandpath)\n",
    "        #                 print(rp_bandpath)\n",
    "        #                 print(cut_rp_bandpath)\n",
    "\n",
    "        #                 #reproject the band:\n",
    "                        reproject_cmd = \"gdalwarp -t_srs '+proj=stere +lat_ts=70 +lat_0=90 +lon_0=-45 +y=0 +x=0 +k=1 +datum=WGS84 +units=m' \"+bandpath+\" \"+rp_bandpath\n",
    "        #                 print(export_GDALpath+reproject_cmd)\n",
    "                        subprocess.call(export_GDALpath+reproject_cmd, shell=True)\n",
    "                        print('BQA reprojected')\n",
    "\n",
    "                        #subset the reprojected BQA band to terminus box:\n",
    "                        subsetBQA_cmd = 'gdalwarp -cutline '+boxpath+' -crop_to_cutline '+rp_bandpath+\" \"+cut_rp_bandpath\n",
    "        #                 print(export_GDALpath+subsetBQA_cmd)\n",
    "                        subprocess.call(export_GDALpath+subsetBQA_cmd, shell=True)\n",
    "                        print('BQA subset')\n",
    "\n",
    "                        #load the subset BQA band and mask out any values that are less than 50000 (clouds)\n",
    "                        subsetBQA = mpimg.imread(cut_rp_bandpath)\n",
    "                        cloudBQA = subsetBQA[subsetBQA >= 50000]\n",
    "        #                 print(cloudBQA)\n",
    "\n",
    "                        #count the number of cloud pixels\n",
    "                        cloudpixels = len(cloudBQA)\n",
    "        #                 print(cloudpixels)\n",
    "\n",
    "                        #calculate divided by the total\n",
    "                        cloudpercent = cloudpixels/totalpixels*100\n",
    "                        print('Cloud % in box:', cloudpercent)\n",
    "                        \n",
    "                        #SWITCH THESE TWO\n",
    "                        #5) IF cloud percent is greater than the threshold, delete the folder:\n",
    "                        if cloudpercent > cpercent_thresh:\n",
    "                            #remove the image directory\n",
    "                            subprocess.call('rm -r '+bp_out+image, shell=True)\n",
    "                            print(cloudpercent, ' > ', cpercent_thresh, \", \", image, \"removed\")\n",
    "                        #otherwise: \n",
    "                        else:\n",
    "                            #DOWNLOAD THE B8 FILE\n",
    "                            subprocess.call('source activate aws; aws --no-sign-request s3 cp '+totalp_in+' '+bp_out+' --recursive --exclude \"*\" --include \"*B8.TIF\"', shell=True)\n",
    "                            print(image, \"B8 downloaded\")\n",
    "        "
   ]
  },
  {
   "cell_type": "markdown",
   "metadata": {},
   "source": [
    "## 3) Grab image dates from the metadata"
   ]
  },
  {
   "cell_type": "code",
   "execution_count": null,
   "metadata": {},
   "outputs": [],
   "source": [
    "import datetime\n",
    "\n",
    "#create dictionary of datetime objects for the images:\n",
    "datetime_objs = {}\n",
    "\n",
    "#LOOP through each of the glaciers in the DataFrame and download for each path and row\n",
    "for i in range(0, len(pathrows_df.index)):\n",
    "    #SET path and row variables to the LS path and rows of the box\n",
    "    path = pathrows_df['Path'][i]\n",
    "    row = pathrows_df['Row'][i]\n",
    "    BoxID = pathrows_df.index[i]\n",
    "    #print(path, row)\n",
    "    \n",
    "    #SET path row folder name\n",
    "    folder_name = 'Path'+path+'_Row'+row\n",
    "#     print(folder_name)\n",
    "    \n",
    "    #SET output path\n",
    "    bp_out = outputpath+'LS8aws/Box'+BoxID+'/'\n",
    "        \n",
    "    # LOOP through all the metadata files to grab the image dates\n",
    "    # in the metadata files\n",
    "    for scene in os.listdir(bp_out):\n",
    "        if folder_name.startswith(\"Path\") and scene.endswith(\"00\"):\n",
    "            #list the name of the image folder\n",
    "#             print(scene)\n",
    "            scenetag = scene[8:19]\n",
    "#             print(scenetag)\n",
    "            scenecount = scenecount+1\n",
    "\n",
    "            #open the metadata file within that folder\n",
    "            for file in os.listdir(bp_out+scene+\"/\"):                \n",
    "                if (\"MTL.txt\" in file):\n",
    "                    \n",
    "                    mdata = open(bp_out+scene+\"/\"+scene+\"_MTL.txt\", \"r\")\n",
    "\n",
    "                    #loop through each line in metadata to find the date and time of acquisition\n",
    "                    for line in mdata:\n",
    "                        variable = line.split(\"=\")[0]\n",
    "\n",
    "                        if (\"DATE_ACQUIRED\" in variable):\n",
    "                            #save it:\n",
    "                            date = line.split(\"=\")[1][1:-1]\n",
    "#                             print(date)\n",
    "\n",
    "                        #if (\"SCENE_CENTER_TIME\" in variable): \n",
    "                            #save it:\n",
    "                            #time = line.split(\"=\")[1][2:-2]\n",
    "                            #print(time)\n",
    "                \n",
    "                    #combine them into a datetime object\n",
    "                    datetime_obj = datetime.datetime.strptime(date, '%Y-%m-%d')\n",
    "                    datetime_objs.update( {scene[4:-5]: datetime_obj} )\n",
    "                         \n",
    "datetime_df = pd.DataFrame.from_dict(datetime_objs, orient='index')\n",
    "datetime_df"
   ]
  },
  {
   "cell_type": "markdown",
   "metadata": {},
   "source": [
    "Export image dates to .csv"
   ]
  },
  {
   "cell_type": "code",
   "execution_count": 72,
   "metadata": {},
   "outputs": [],
   "source": [
    "datetime_df.to_csv(path_or_buf = basepath+'datetags.csv', sep=',')"
   ]
  },
  {
   "cell_type": "markdown",
   "metadata": {},
   "source": [
    "## For download using Google instead, follow these instructions:"
   ]
  },
  {
   "cell_type": "markdown",
   "metadata": {},
   "source": [
    "Use gsutil: https://krstn.eu/landsat-batch-download-from-google/\n",
    "\n",
    "To access a scene for Path 124, Row 053, use this syntax:\n",
    "\n",
    "gsutil cp -n gs://earthengine-public/landsat/L8/124/053/LC81240532013107LGN01.tar.bz /landsat/\n"
   ]
  },
  {
   "cell_type": "code",
   "execution_count": null,
   "metadata": {},
   "outputs": [],
   "source": []
  }
 ],
 "metadata": {
  "kernelspec": {
   "display_name": "Python 3",
   "language": "python",
   "name": "python3"
  },
  "language_info": {
   "codemirror_mode": {
    "name": "ipython",
    "version": 3
   },
   "file_extension": ".py",
   "mimetype": "text/x-python",
   "name": "python",
   "nbconvert_exporter": "python",
   "pygments_lexer": "ipython3",
   "version": "3.7.3"
  }
 },
 "nbformat": 4,
 "nbformat_minor": 2
}
