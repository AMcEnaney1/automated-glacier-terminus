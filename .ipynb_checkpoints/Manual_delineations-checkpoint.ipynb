{
 "cells": [
  {
   "cell_type": "markdown",
   "metadata": {},
   "source": [
    "# Code to pull terminus positions from the manual delineations exported from GEEDiT\n",
    "\n",
    "_By Jukes Liu. last modified 11-10-2019._"
   ]
  },
  {
   "cell_type": "markdown",
   "metadata": {},
   "source": [
    "## Set up:"
   ]
  },
  {
   "cell_type": "code",
   "execution_count": 196,
   "metadata": {},
   "outputs": [],
   "source": [
    "import pandas as pd\n",
    "import numpy as np\n",
    "import os\n",
    "import subprocess\n",
    "import matplotlib.pyplot as plt\n",
    "import cv2\n",
    "import matplotlib.image as mpimg\n",
    "import matplotlib.pylab as pl\n",
    "import numpy.ma as ma\n",
    "import datetime\n",
    "import math\n",
    "from PIL import Image\n",
    "import scipy.misc\n",
    "\n",
    "import shutil\n",
    "\n",
    "#geospatial packages\n",
    "import fiona\n",
    "import geopandas as gpd\n",
    "from shapely.geometry import Polygon, Point, LineString\n",
    "import shapely\n",
    "#shapely to explore 2D spatial relationships (e.g. intersection of 2 vector files)\n",
    "\n",
    "basepath = '/media/jukes/jukes1/Manual/EarthEngine/'"
   ]
  },
  {
   "cell_type": "code",
   "execution_count": 197,
   "metadata": {},
   "outputs": [],
   "source": [
    "#Read in glacier velocity data\n",
    "flowspeed_df= pd.read_csv('/home/jukes/Documents/Sample_glaciers/Glacier_velocities.csv', sep=',', dtype=str, header=0, usecols=[1,2,3])\n",
    "flowspeed_df = flowspeed_df.set_index('BoxID')"
   ]
  },
  {
   "cell_type": "code",
   "execution_count": 198,
   "metadata": {},
   "outputs": [],
   "source": [
    "#define a function to help us find the intersection of a line and a collection of points:\n",
    "#determines if an input value is within a certain range/interval or a setvalue:\n",
    "def within(value, setval, interval):\n",
    "    if value >= setval-interval and value <= setval+interval:\n",
    "        return True\n",
    "    else:\n",
    "        return False"
   ]
  },
  {
   "cell_type": "code",
   "execution_count": 199,
   "metadata": {},
   "outputs": [],
   "source": [
    "def distance(x1, y1, x2, y2):\n",
    "    dist = math.sqrt(((x2-x1)**2)+((y2-y1)**2))\n",
    "    return dist"
   ]
  },
  {
   "cell_type": "markdown",
   "metadata": {},
   "source": [
    "## 1) Reproject manual delineation shapefiles into Greenland Polar Stereo and grab BoxIDs\n",
    "\n",
    "For different versions of delineations of the same image, pick the most recent one (2) instead of (1) or the original."
   ]
  },
  {
   "cell_type": "code",
   "execution_count": 3,
   "metadata": {},
   "outputs": [],
   "source": [
    "# counter = 0\n",
    "# taggedimgs = []\n",
    "# tagged2 = []\n",
    "# BoxIDs = []\n",
    "\n",
    "# for file in os.listdir(basepath):\n",
    "#     if '(' in file and file not in taggedimgs:\n",
    "#         taggedimgs.append(file.split('(')[0])\n",
    "\n",
    "# for file in os.listdir(basepath):\n",
    "#     for img in taggedimgs: \n",
    "#         if file.startswith(img) and '(' not in file:\n",
    "#             #remove the images without parentheses\n",
    "#             if file in os.listdir(basepath):\n",
    "#                 os.remove(basepath+file)\n",
    "#         if file.startswith(img) and '(2)' in file:\n",
    "#             tagged2.append(file.split('(')[0])\n",
    "# tagged2 = set(tagged2)\n",
    "\n",
    "# for file in os.listdir(basepath):\n",
    "#     for img in tagged2: \n",
    "#         if file.startswith(img) and '(1)' in file:\n",
    "#             os.remove(basepath+file)\n",
    "#             print(file)"
   ]
  },
  {
   "cell_type": "markdown",
   "metadata": {},
   "source": [
    "Reproject into Greenland Polar Stereo:"
   ]
  },
  {
   "cell_type": "code",
   "execution_count": 202,
   "metadata": {
    "scrolled": true
   },
   "outputs": [
    {
     "name": "stdout",
     "output_type": "stream",
     "text": [
      "1610\n",
      "['002', '001', '259', '120', '174']\n"
     ]
    }
   ],
   "source": [
    "counter = 0\n",
    "BoxIDs = []\n",
    "\n",
    "for folder in os.listdir(basepath):\n",
    "    BoxIDs.append(folder[3:])\n",
    "    \n",
    "    for file in os.listdir(basepath+folder):\n",
    "        if file.endswith('.shp'):\n",
    "#             #pull BoxID from name of file\n",
    "#             BoxID = '%03d' % int(file.split('_')[0][3:])\n",
    "\n",
    "            #reproject the file from lat, long to Greenland Polar Stereo\n",
    "            linepath = basepath+folder+'/'+file[:-4]\n",
    "            rp_command = 'ogr2ogr -f \"ESRI Shapefile\" -t_srs EPSG:3413 -s_srs EPSG:4326 '+linepath+'_PS.shp '+linepath+'.shp'\n",
    "#             print(rp_command)\n",
    "            subprocess.call(rp_command, shell=True)\n",
    "\n",
    "            #keep track of how many shapefiles there are\n",
    "            counter = counter + 1\n",
    "        \n",
    "print(counter)\n",
    "BoxIDs = list(set(BoxIDs))\n",
    "print(BoxIDs)"
   ]
  },
  {
   "cell_type": "markdown",
   "metadata": {},
   "source": [
    "Split into their own box folders:"
   ]
  },
  {
   "cell_type": "code",
   "execution_count": 8,
   "metadata": {},
   "outputs": [],
   "source": [
    "# #make results directory in BoxID folder if it doesn't already exist\n",
    "# for BoxID in BoxIDs:\n",
    "#     if os.path.exists(basepath+\"Box\"+BoxID):\n",
    "#         print(\"Already exists.\")\n",
    "#         #OTHERWISE, create the folder and download into it\n",
    "#     else:\n",
    "#         os.mkdir(basepath+\"Box\"+BoxID)\n",
    "#         print(\"Folder made for Box\"+BoxID)"
   ]
  },
  {
   "cell_type": "code",
   "execution_count": 7,
   "metadata": {},
   "outputs": [],
   "source": [
    "# #move em!\n",
    "# for BoxID in BoxIDs:\n",
    "#     box = '%01d' % int(BoxID)\n",
    "#     for file in os.listdir(basepath):\n",
    "#         if file.startswith('Box'+box) and len(file)>6:\n",
    "#             shutil.move(basepath+file, basepath+'Box'+BoxID+'/'+file)\n",
    "#             print(file+' moved')"
   ]
  },
  {
   "cell_type": "markdown",
   "metadata": {},
   "source": [
    "## 2) Rasterize the shapefiles and subset to the buffer zones"
   ]
  },
  {
   "cell_type": "code",
   "execution_count": 203,
   "metadata": {
    "scrolled": true
   },
   "outputs": [],
   "source": [
    "for folder in os.listdir(basepath):\n",
    "    BoxID = folder[3:]\n",
    "    for file in os.listdir(basepath+folder):\n",
    "#       print(file)\n",
    "        if file.endswith('PS.shp'):\n",
    "            linepath = basepath+folder+'/'+file[:-4]\n",
    "            rasterize_cmd = 'gdal_rasterize -burn 1.0 -tr 15.0 15.0 -a_nodata 0.0 '+linepath+'.shp '+linepath+'.TIF'\n",
    "#             print(rasterize_cmd)\n",
    "            \n",
    "            subprocess.call(rasterize_cmd, shell=True)"
   ]
  },
  {
   "cell_type": "code",
   "execution_count": 204,
   "metadata": {},
   "outputs": [],
   "source": [
    "for folder in os.listdir(basepath):\n",
    "    BoxID = folder[3:]\n",
    "    for file in os.listdir(basepath+folder):\n",
    "#       print(file)\n",
    "        if file.endswith('PS.shp'):\n",
    "            linepath = basepath+folder+'/'+file[:-4]\n",
    "            buffer_path = \"/home/jukes/Documents/Sample_glaciers/Box\"+BoxID+\"/Buffer\"+BoxID+\".shp\"\n",
    "            \n",
    "            subsetbuffer_cmd = 'gdalwarp -cutline '+buffer_path+' -crop_to_cutline '+linepath+'.TIF'+\" \"+linepath+'_cut.TIF'\n",
    "#             print(subsetbuffer_cmd)\n",
    "            subprocess.call(subsetbuffer_cmd, shell=True)\n",
    "    \n",
    "            #ADD SOMETHING TO CONVERT TO PNG"
   ]
  },
  {
   "cell_type": "markdown",
   "metadata": {},
   "source": [
    "## 3) Rotate the rasterized & subset delineations"
   ]
  },
  {
   "cell_type": "markdown",
   "metadata": {},
   "source": [
    "Convert images to png files"
   ]
  },
  {
   "cell_type": "code",
   "execution_count": 207,
   "metadata": {},
   "outputs": [
    {
     "name": "stderr",
     "output_type": "stream",
     "text": [
      "mogrify-im6.q16: Unknown field with tag 33550 (0x830e) encountered. `TIFFReadDirectory' @ warning/tiff.c/TIFFWarnings/912.\n",
      "mogrify-im6.q16: Unknown field with tag 33922 (0x8482) encountered. `TIFFReadDirectory' @ warning/tiff.c/TIFFWarnings/912.\n",
      "mogrify-im6.q16: Unknown field with tag 34735 (0x87af) encountered. `TIFFReadDirectory' @ warning/tiff.c/TIFFWarnings/912.\n",
      "mogrify-im6.q16: Unknown field with tag 34736 (0x87b0) encountered. `TIFFReadDirectory' @ warning/tiff.c/TIFFWarnings/912.\n",
      "mogrify-im6.q16: Unknown field with tag 34737 (0x87b1) encountered. `TIFFReadDirectory' @ warning/tiff.c/TIFFWarnings/912.\n",
      "mogrify-im6.q16: Unknown field with tag 42113 (0xa481) encountered. `TIFFReadDirectory' @ warning/tiff.c/TIFFWarnings/912.\n",
      "mogrify-im6.q16: Unknown field with tag 33550 (0x830e) encountered. `TIFFReadDirectory' @ warning/tiff.c/TIFFWarnings/912.\n",
      "mogrify-im6.q16: Unknown field with tag 33922 (0x8482) encountered. `TIFFReadDirectory' @ warning/tiff.c/TIFFWarnings/912.\n",
      "mogrify-im6.q16: Unknown field with tag 34735 (0x87af) encountered. `TIFFReadDirectory' @ warning/tiff.c/TIFFWarnings/912.\n",
      "mogrify-im6.q16: Unknown field with tag 34736 (0x87b0) encountered. `TIFFReadDirectory' @ warning/tiff.c/TIFFWarnings/912.\n",
      "mogrify-im6.q16: Unknown field with tag 34737 (0x87b1) encountered. `TIFFReadDirectory' @ warning/tiff.c/TIFFWarnings/912.\n",
      "mogrify-im6.q16: Unknown field with tag 42113 (0xa481) encountered. `TIFFReadDirectory' @ warning/tiff.c/TIFFWarnings/912.\n",
      "mogrify-im6.q16: Unknown field with tag 33550 (0x830e) encountered. `TIFFReadDirectory' @ warning/tiff.c/TIFFWarnings/912.\n",
      "mogrify-im6.q16: Unknown field with tag 33922 (0x8482) encountered. `TIFFReadDirectory' @ warning/tiff.c/TIFFWarnings/912.\n",
      "mogrify-im6.q16: Unknown field with tag 34735 (0x87af) encountered. `TIFFReadDirectory' @ warning/tiff.c/TIFFWarnings/912.\n",
      "mogrify-im6.q16: Unknown field with tag 34736 (0x87b0) encountered. `TIFFReadDirectory' @ warning/tiff.c/TIFFWarnings/912.\n",
      "mogrify-im6.q16: Unknown field with tag 34737 (0x87b1) encountered. `TIFFReadDirectory' @ warning/tiff.c/TIFFWarnings/912.\n",
      "mogrify-im6.q16: Unknown field with tag 42113 (0xa481) encountered. `TIFFReadDirectory' @ warning/tiff.c/TIFFWarnings/912.\n",
      "mogrify-im6.q16: Unknown field with tag 33550 (0x830e) encountered. `TIFFReadDirectory' @ warning/tiff.c/TIFFWarnings/912.\n",
      "mogrify-im6.q16: Unknown field with tag 33922 (0x8482) encountered. `TIFFReadDirectory' @ warning/tiff.c/TIFFWarnings/912.\n",
      "mogrify-im6.q16: Unknown field with tag 34735 (0x87af) encountered. `TIFFReadDirectory' @ warning/tiff.c/TIFFWarnings/912.\n",
      "mogrify-im6.q16: Unknown field with tag 34736 (0x87b0) encountered. `TIFFReadDirectory' @ warning/tiff.c/TIFFWarnings/912.\n",
      "mogrify-im6.q16: Unknown field with tag 34737 (0x87b1) encountered. `TIFFReadDirectory' @ warning/tiff.c/TIFFWarnings/912.\n",
      "mogrify-im6.q16: Unknown field with tag 42113 (0xa481) encountered. `TIFFReadDirectory' @ warning/tiff.c/TIFFWarnings/912.\n",
      "mogrify-im6.q16: Unknown field with tag 33550 (0x830e) encountered. `TIFFReadDirectory' @ warning/tiff.c/TIFFWarnings/912.\n",
      "mogrify-im6.q16: Unknown field with tag 33922 (0x8482) encountered. `TIFFReadDirectory' @ warning/tiff.c/TIFFWarnings/912.\n",
      "mogrify-im6.q16: Unknown field with tag 34735 (0x87af) encountered. `TIFFReadDirectory' @ warning/tiff.c/TIFFWarnings/912.\n",
      "mogrify-im6.q16: Unknown field with tag 34736 (0x87b0) encountered. `TIFFReadDirectory' @ warning/tiff.c/TIFFWarnings/912.\n",
      "mogrify-im6.q16: Unknown field with tag 34737 (0x87b1) encountered. `TIFFReadDirectory' @ warning/tiff.c/TIFFWarnings/912.\n",
      "mogrify-im6.q16: Unknown field with tag 42113 (0xa481) encountered. `TIFFReadDirectory' @ warning/tiff.c/TIFFWarnings/912.\n",
      "mogrify-im6.q16: Unknown field with tag 33550 (0x830e) encountered. `TIFFReadDirectory' @ warning/tiff.c/TIFFWarnings/912.\n",
      "mogrify-im6.q16: Unknown field with tag 33922 (0x8482) encountered. `TIFFReadDirectory' @ warning/tiff.c/TIFFWarnings/912.\n",
      "mogrify-im6.q16: Unknown field with tag 34735 (0x87af) encountered. `TIFFReadDirectory' @ warning/tiff.c/TIFFWarnings/912.\n",
      "mogrify-im6.q16: Unknown field with tag 34736 (0x87b0) encountered. `TIFFReadDirectory' @ warning/tiff.c/TIFFWarnings/912.\n",
      "mogrify-im6.q16: Unknown field with tag 34737 (0x87b1) encountered. `TIFFReadDirectory' @ warning/tiff.c/TIFFWarnings/912.\n",
      "mogrify-im6.q16: Unknown field with tag 42113 (0xa481) encountered. `TIFFReadDirectory' @ warning/tiff.c/TIFFWarnings/912.\n",
      "mogrify-im6.q16: Unknown field with tag 33550 (0x830e) encountered. `TIFFReadDirectory' @ warning/tiff.c/TIFFWarnings/912.\n",
      "mogrify-im6.q16: Unknown field with tag 33922 (0x8482) encountered. `TIFFReadDirectory' @ warning/tiff.c/TIFFWarnings/912.\n",
      "mogrify-im6.q16: Unknown field with tag 34735 (0x87af) encountered. `TIFFReadDirectory' @ warning/tiff.c/TIFFWarnings/912.\n",
      "mogrify-im6.q16: Unknown field with tag 34736 (0x87b0) encountered. `TIFFReadDirectory' @ warning/tiff.c/TIFFWarnings/912.\n",
      "mogrify-im6.q16: Unknown field with tag 34737 (0x87b1) encountered. `TIFFReadDirectory' @ warning/tiff.c/TIFFWarnings/912.\n",
      "mogrify-im6.q16: Unknown field with tag 42113 (0xa481) encountered. `TIFFReadDirectory' @ warning/tiff.c/TIFFWarnings/912.\n",
      "mogrify-im6.q16: Unknown field with tag 33550 (0x830e) encountered. `TIFFReadDirectory' @ warning/tiff.c/TIFFWarnings/912.\n",
      "mogrify-im6.q16: Unknown field with tag 33922 (0x8482) encountered. `TIFFReadDirectory' @ warning/tiff.c/TIFFWarnings/912.\n",
      "mogrify-im6.q16: Unknown field with tag 34735 (0x87af) encountered. `TIFFReadDirectory' @ warning/tiff.c/TIFFWarnings/912.\n",
      "mogrify-im6.q16: Unknown field with tag 34736 (0x87b0) encountered. `TIFFReadDirectory' @ warning/tiff.c/TIFFWarnings/912.\n",
      "mogrify-im6.q16: Unknown field with tag 34737 (0x87b1) encountered. `TIFFReadDirectory' @ warning/tiff.c/TIFFWarnings/912.\n",
      "mogrify-im6.q16: Unknown field with tag 42113 (0xa481) encountered. `TIFFReadDirectory' @ warning/tiff.c/TIFFWarnings/912.\n",
      "mogrify-im6.q16: Unknown field with tag 33550 (0x830e) encountered. `TIFFReadDirectory' @ warning/tiff.c/TIFFWarnings/912.\n",
      "mogrify-im6.q16: Unknown field with tag 33922 (0x8482) encountered. `TIFFReadDirectory' @ warning/tiff.c/TIFFWarnings/912.\n",
      "mogrify-im6.q16: Unknown field with tag 34735 (0x87af) encountered. `TIFFReadDirectory' @ warning/tiff.c/TIFFWarnings/912.\n",
      "mogrify-im6.q16: Unknown field with tag 34736 (0x87b0) encountered. `TIFFReadDirectory' @ warning/tiff.c/TIFFWarnings/912.\n",
      "mogrify-im6.q16: Unknown field with tag 34737 (0x87b1) encountered. `TIFFReadDirectory' @ warning/tiff.c/TIFFWarnings/912.\n",
      "mogrify-im6.q16: Unknown field with tag 42113 (0xa481) encountered. `TIFFReadDirectory' @ warning/tiff.c/TIFFWarnings/912.\n",
      "mogrify-im6.q16: Unknown field with tag 33550 (0x830e) encountered. `TIFFReadDirectory' @ warning/tiff.c/TIFFWarnings/912.\n",
      "mogrify-im6.q16: Unknown field with tag 33922 (0x8482) encountered. `TIFFReadDirectory' @ warning/tiff.c/TIFFWarnings/912.\n",
      "mogrify-im6.q16: Unknown field with tag 34735 (0x87af) encountered. `TIFFReadDirectory' @ warning/tiff.c/TIFFWarnings/912.\n",
      "mogrify-im6.q16: Unknown field with tag 34736 (0x87b0) encountered. `TIFFReadDirectory' @ warning/tiff.c/TIFFWarnings/912.\n",
      "mogrify-im6.q16: Unknown field with tag 34737 (0x87b1) encountered. `TIFFReadDirectory' @ warning/tiff.c/TIFFWarnings/912.\n",
      "mogrify-im6.q16: Unknown field with tag 42113 (0xa481) encountered. `TIFFReadDirectory' @ warning/tiff.c/TIFFWarnings/912.\n",
      "mogrify-im6.q16: Unknown field with tag 33550 (0x830e) encountered. `TIFFReadDirectory' @ warning/tiff.c/TIFFWarnings/912.\n",
      "mogrify-im6.q16: Unknown field with tag 33922 (0x8482) encountered. `TIFFReadDirectory' @ warning/tiff.c/TIFFWarnings/912.\n",
      "mogrify-im6.q16: Unknown field with tag 34735 (0x87af) encountered. `TIFFReadDirectory' @ warning/tiff.c/TIFFWarnings/912.\n",
      "mogrify-im6.q16: Unknown field with tag 34736 (0x87b0) encountered. `TIFFReadDirectory' @ warning/tiff.c/TIFFWarnings/912.\n",
      "mogrify-im6.q16: Unknown field with tag 34737 (0x87b1) encountered. `TIFFReadDirectory' @ warning/tiff.c/TIFFWarnings/912.\n",
      "mogrify-im6.q16: Unknown field with tag 42113 (0xa481) encountered. `TIFFReadDirectory' @ warning/tiff.c/TIFFWarnings/912.\n",
      "mogrify-im6.q16: Unknown field with tag 33550 (0x830e) encountered. `TIFFReadDirectory' @ warning/tiff.c/TIFFWarnings/912.\n",
      "mogrify-im6.q16: Unknown field with tag 33922 (0x8482) encountered. `TIFFReadDirectory' @ warning/tiff.c/TIFFWarnings/912.\n",
      "mogrify-im6.q16: Unknown field with tag 34735 (0x87af) encountered. `TIFFReadDirectory' @ warning/tiff.c/TIFFWarnings/912.\n",
      "mogrify-im6.q16: Unknown field with tag 34736 (0x87b0) encountered. `TIFFReadDirectory' @ warning/tiff.c/TIFFWarnings/912.\n",
      "mogrify-im6.q16: Unknown field with tag 34737 (0x87b1) encountered. `TIFFReadDirectory' @ warning/tiff.c/TIFFWarnings/912.\n",
      "mogrify-im6.q16: Unknown field with tag 42113 (0xa481) encountered. `TIFFReadDirectory' @ warning/tiff.c/TIFFWarnings/912.\n",
      "mogrify-im6.q16: Unknown field with tag 33550 (0x830e) encountered. `TIFFReadDirectory' @ warning/tiff.c/TIFFWarnings/912.\n",
      "mogrify-im6.q16: Unknown field with tag 33922 (0x8482) encountered. `TIFFReadDirectory' @ warning/tiff.c/TIFFWarnings/912.\n",
      "mogrify-im6.q16: Unknown field with tag 34735 (0x87af) encountered. `TIFFReadDirectory' @ warning/tiff.c/TIFFWarnings/912.\n",
      "mogrify-im6.q16: Unknown field with tag 34736 (0x87b0) encountered. `TIFFReadDirectory' @ warning/tiff.c/TIFFWarnings/912.\n",
      "mogrify-im6.q16: Unknown field with tag 34737 (0x87b1) encountered. `TIFFReadDirectory' @ warning/tiff.c/TIFFWarnings/912.\n",
      "mogrify-im6.q16: Unknown field with tag 42113 (0xa481) encountered. `TIFFReadDirectory' @ warning/tiff.c/TIFFWarnings/912.\n",
      "mogrify-im6.q16: Unknown field with tag 33550 (0x830e) encountered. `TIFFReadDirectory' @ warning/tiff.c/TIFFWarnings/912.\n",
      "mogrify-im6.q16: Unknown field with tag 33922 (0x8482) encountered. `TIFFReadDirectory' @ warning/tiff.c/TIFFWarnings/912.\n",
      "mogrify-im6.q16: Unknown field with tag 34735 (0x87af) encountered. `TIFFReadDirectory' @ warning/tiff.c/TIFFWarnings/912.\n",
      "mogrify-im6.q16: Unknown field with tag 34736 (0x87b0) encountered. `TIFFReadDirectory' @ warning/tiff.c/TIFFWarnings/912.\n",
      "mogrify-im6.q16: Unknown field with tag 34737 (0x87b1) encountered. `TIFFReadDirectory' @ warning/tiff.c/TIFFWarnings/912.\n",
      "mogrify-im6.q16: Unknown field with tag 42113 (0xa481) encountered. `TIFFReadDirectory' @ warning/tiff.c/TIFFWarnings/912.\n",
      "mogrify-im6.q16: Unknown field with tag 33550 (0x830e) encountered. `TIFFReadDirectory' @ warning/tiff.c/TIFFWarnings/912.\n",
      "mogrify-im6.q16: Unknown field with tag 33922 (0x8482) encountered. `TIFFReadDirectory' @ warning/tiff.c/TIFFWarnings/912.\n",
      "mogrify-im6.q16: Unknown field with tag 34735 (0x87af) encountered. `TIFFReadDirectory' @ warning/tiff.c/TIFFWarnings/912.\n",
      "mogrify-im6.q16: Unknown field with tag 34736 (0x87b0) encountered. `TIFFReadDirectory' @ warning/tiff.c/TIFFWarnings/912.\n",
      "mogrify-im6.q16: Unknown field with tag 34737 (0x87b1) encountered. `TIFFReadDirectory' @ warning/tiff.c/TIFFWarnings/912.\n",
      "mogrify-im6.q16: Unknown field with tag 42113 (0xa481) encountered. `TIFFReadDirectory' @ warning/tiff.c/TIFFWarnings/912.\n",
      "mogrify-im6.q16: Unknown field with tag 33550 (0x830e) encountered. `TIFFReadDirectory' @ warning/tiff.c/TIFFWarnings/912.\n",
      "mogrify-im6.q16: Unknown field with tag 33922 (0x8482) encountered. `TIFFReadDirectory' @ warning/tiff.c/TIFFWarnings/912.\n",
      "mogrify-im6.q16: Unknown field with tag 34735 (0x87af) encountered. `TIFFReadDirectory' @ warning/tiff.c/TIFFWarnings/912.\n",
      "mogrify-im6.q16: Unknown field with tag 34736 (0x87b0) encountered. `TIFFReadDirectory' @ warning/tiff.c/TIFFWarnings/912.\n",
      "mogrify-im6.q16: Unknown field with tag 34737 (0x87b1) encountered. `TIFFReadDirectory' @ warning/tiff.c/TIFFWarnings/912.\n",
      "mogrify-im6.q16: Unknown field with tag 42113 (0xa481) encountered. `TIFFReadDirectory' @ warning/tiff.c/TIFFWarnings/912.\n",
      "mogrify-im6.q16: Unknown field with tag 33550 (0x830e) encountered. `TIFFReadDirectory' @ warning/tiff.c/TIFFWarnings/912.\n",
      "mogrify-im6.q16: Unknown field with tag 33922 (0x8482) encountered. `TIFFReadDirectory' @ warning/tiff.c/TIFFWarnings/912.\n",
      "mogrify-im6.q16: Unknown field with tag 34735 (0x87af) encountered. `TIFFReadDirectory' @ warning/tiff.c/TIFFWarnings/912.\n",
      "mogrify-im6.q16: Unknown field with tag 34736 (0x87b0) encountered. `TIFFReadDirectory' @ warning/tiff.c/TIFFWarnings/912.\n",
      "mogrify-im6.q16: Unknown field with tag 34737 (0x87b1) encountered. `TIFFReadDirectory' @ warning/tiff.c/TIFFWarnings/912.\n",
      "mogrify-im6.q16: Unknown field with tag 42113 (0xa481) encountered. `TIFFReadDirectory' @ warning/tiff.c/TIFFWarnings/912.\n",
      "mogrify-im6.q16: Unknown field with tag 33550 (0x830e) encountered. `TIFFReadDirectory' @ warning/tiff.c/TIFFWarnings/912.\n",
      "mogrify-im6.q16: Unknown field with tag 33922 (0x8482) encountered. `TIFFReadDirectory' @ warning/tiff.c/TIFFWarnings/912.\n",
      "mogrify-im6.q16: Unknown field with tag 34735 (0x87af) encountered. `TIFFReadDirectory' @ warning/tiff.c/TIFFWarnings/912.\n",
      "mogrify-im6.q16: Unknown field with tag 34736 (0x87b0) encountered. `TIFFReadDirectory' @ warning/tiff.c/TIFFWarnings/912.\n",
      "mogrify-im6.q16: Unknown field with tag 34737 (0x87b1) encountered. `TIFFReadDirectory' @ warning/tiff.c/TIFFWarnings/912.\n",
      "mogrify-im6.q16: Unknown field with tag 42113 (0xa481) encountered. `TIFFReadDirectory' @ warning/tiff.c/TIFFWarnings/912.\n",
      "mogrify-im6.q16: Unknown field with tag 33550 (0x830e) encountered. `TIFFReadDirectory' @ warning/tiff.c/TIFFWarnings/912.\n",
      "mogrify-im6.q16: Unknown field with tag 33922 (0x8482) encountered. `TIFFReadDirectory' @ warning/tiff.c/TIFFWarnings/912.\n",
      "mogrify-im6.q16: Unknown field with tag 34735 (0x87af) encountered. `TIFFReadDirectory' @ warning/tiff.c/TIFFWarnings/912.\n",
      "mogrify-im6.q16: Unknown field with tag 34736 (0x87b0) encountered. `TIFFReadDirectory' @ warning/tiff.c/TIFFWarnings/912.\n",
      "mogrify-im6.q16: Unknown field with tag 34737 (0x87b1) encountered. `TIFFReadDirectory' @ warning/tiff.c/TIFFWarnings/912.\n",
      "mogrify-im6.q16: Unknown field with tag 42113 (0xa481) encountered. `TIFFReadDirectory' @ warning/tiff.c/TIFFWarnings/912.\n",
      "mogrify-im6.q16: Unknown field with tag 33550 (0x830e) encountered. `TIFFReadDirectory' @ warning/tiff.c/TIFFWarnings/912.\n",
      "mogrify-im6.q16: Unknown field with tag 33922 (0x8482) encountered. `TIFFReadDirectory' @ warning/tiff.c/TIFFWarnings/912.\n",
      "mogrify-im6.q16: Unknown field with tag 34735 (0x87af) encountered. `TIFFReadDirectory' @ warning/tiff.c/TIFFWarnings/912.\n",
      "mogrify-im6.q16: Unknown field with tag 34736 (0x87b0) encountered. `TIFFReadDirectory' @ warning/tiff.c/TIFFWarnings/912.\n",
      "mogrify-im6.q16: Unknown field with tag 34737 (0x87b1) encountered. `TIFFReadDirectory' @ warning/tiff.c/TIFFWarnings/912.\n",
      "mogrify-im6.q16: Unknown field with tag 42113 (0xa481) encountered. `TIFFReadDirectory' @ warning/tiff.c/TIFFWarnings/912.\n",
      "mogrify-im6.q16: Unknown field with tag 33550 (0x830e) encountered. `TIFFReadDirectory' @ warning/tiff.c/TIFFWarnings/912.\n",
      "mogrify-im6.q16: Unknown field with tag 33922 (0x8482) encountered. `TIFFReadDirectory' @ warning/tiff.c/TIFFWarnings/912.\n",
      "mogrify-im6.q16: Unknown field with tag 34735 (0x87af) encountered. `TIFFReadDirectory' @ warning/tiff.c/TIFFWarnings/912.\n",
      "mogrify-im6.q16: Unknown field with tag 34736 (0x87b0) encountered. `TIFFReadDirectory' @ warning/tiff.c/TIFFWarnings/912.\n",
      "mogrify-im6.q16: Unknown field with tag 34737 (0x87b1) encountered. `TIFFReadDirectory' @ warning/tiff.c/TIFFWarnings/912.\n",
      "mogrify-im6.q16: Unknown field with tag 42113 (0xa481) encountered. `TIFFReadDirectory' @ warning/tiff.c/TIFFWarnings/912.\n",
      "mogrify-im6.q16: Unknown field with tag 33550 (0x830e) encountered. `TIFFReadDirectory' @ warning/tiff.c/TIFFWarnings/912.\n",
      "mogrify-im6.q16: Unknown field with tag 33922 (0x8482) encountered. `TIFFReadDirectory' @ warning/tiff.c/TIFFWarnings/912.\n",
      "mogrify-im6.q16: too many exceptions (exception processing suspended).\n"
     ]
    }
   ],
   "source": [
    "%%bash\n",
    "\n",
    "cd /media/jukes/jukes1/Manual/EarthEngine/Box174/\n",
    "mogrify -format png *cut.TIF"
   ]
  },
  {
   "cell_type": "code",
   "execution_count": 20,
   "metadata": {},
   "outputs": [
    {
     "data": {
      "text/html": [
       "<div>\n",
       "<style scoped>\n",
       "    .dataframe tbody tr th:only-of-type {\n",
       "        vertical-align: middle;\n",
       "    }\n",
       "\n",
       "    .dataframe tbody tr th {\n",
       "        vertical-align: top;\n",
       "    }\n",
       "\n",
       "    .dataframe thead th {\n",
       "        text-align: right;\n",
       "    }\n",
       "</style>\n",
       "<table border=\"1\" class=\"dataframe\">\n",
       "  <thead>\n",
       "    <tr style=\"text-align: right;\">\n",
       "      <th></th>\n",
       "      <th>Flow_dir</th>\n",
       "      <th>Max_speed</th>\n",
       "    </tr>\n",
       "    <tr>\n",
       "      <th>BoxID</th>\n",
       "      <th></th>\n",
       "      <th></th>\n",
       "    </tr>\n",
       "  </thead>\n",
       "  <tbody>\n",
       "    <tr>\n",
       "      <th>001</th>\n",
       "      <td>56.28428268432617</td>\n",
       "      <td>0.043774381279945374</td>\n",
       "    </tr>\n",
       "    <tr>\n",
       "      <th>002</th>\n",
       "      <td>155.9872283935547</td>\n",
       "      <td>3.583226442337036</td>\n",
       "    </tr>\n",
       "    <tr>\n",
       "      <th>004</th>\n",
       "      <td>-3.483433723449707</td>\n",
       "      <td>0.6230824589729309</td>\n",
       "    </tr>\n",
       "    <tr>\n",
       "      <th>033</th>\n",
       "      <td>142.1181640625</td>\n",
       "      <td>0.7716577649116516</td>\n",
       "    </tr>\n",
       "    <tr>\n",
       "      <th>120</th>\n",
       "      <td>-77.38639831542969</td>\n",
       "      <td>0.27788856625556946</td>\n",
       "    </tr>\n",
       "    <tr>\n",
       "      <th>174</th>\n",
       "      <td>12.677642822265625</td>\n",
       "      <td>0.9145031571388245</td>\n",
       "    </tr>\n",
       "    <tr>\n",
       "      <th>235</th>\n",
       "      <td>-145.85076904296875</td>\n",
       "      <td>0.15709678828716278</td>\n",
       "    </tr>\n",
       "    <tr>\n",
       "      <th>259</th>\n",
       "      <td>98.99927520751953</td>\n",
       "      <td>3.0749008655548096</td>\n",
       "    </tr>\n",
       "    <tr>\n",
       "      <th>277</th>\n",
       "      <td>-65.12018585205078</td>\n",
       "      <td>0.28601959347724915</td>\n",
       "    </tr>\n",
       "    <tr>\n",
       "      <th>531</th>\n",
       "      <td>78.83521270751953</td>\n",
       "      <td>0.04078477621078491</td>\n",
       "    </tr>\n",
       "  </tbody>\n",
       "</table>\n",
       "</div>"
      ],
      "text/plain": [
       "                  Flow_dir             Max_speed\n",
       "BoxID                                           \n",
       "001      56.28428268432617  0.043774381279945374\n",
       "002      155.9872283935547     3.583226442337036\n",
       "004     -3.483433723449707    0.6230824589729309\n",
       "033         142.1181640625    0.7716577649116516\n",
       "120     -77.38639831542969   0.27788856625556946\n",
       "174     12.677642822265625    0.9145031571388245\n",
       "235    -145.85076904296875   0.15709678828716278\n",
       "259      98.99927520751953    3.0749008655548096\n",
       "277     -65.12018585205078   0.28601959347724915\n",
       "531      78.83521270751953   0.04078477621078491"
      ]
     },
     "execution_count": 20,
     "metadata": {},
     "output_type": "execute_result"
    }
   ],
   "source": [
    "flowspeed_df"
   ]
  },
  {
   "cell_type": "markdown",
   "metadata": {},
   "source": [
    "Make rotated folders and rotate"
   ]
  },
  {
   "cell_type": "code",
   "execution_count": 208,
   "metadata": {},
   "outputs": [
    {
     "name": "stdout",
     "output_type": "stream",
     "text": [
      "Already exists.\n",
      "Already exists.\n",
      "Already exists.\n",
      "Already exists.\n",
      "Already exists.\n"
     ]
    }
   ],
   "source": [
    "#make results directory in BoxID folder if it doesn't already exist\n",
    "for BoxID in BoxIDs:\n",
    "    if os.path.exists(basepath+\"Box\"+BoxID+'/rotated/'):\n",
    "        print(\"Already exists.\")\n",
    "        #OTHERWISE, create the folder and download into it\n",
    "    else:\n",
    "        os.mkdir(basepath+\"Box\"+BoxID+'/rotated/')\n",
    "        print(\"Folder made for Box\"+BoxID)"
   ]
  },
  {
   "cell_type": "code",
   "execution_count": 222,
   "metadata": {},
   "outputs": [
    {
     "data": {
      "text/plain": [
       "50"
      ]
     },
     "execution_count": 222,
     "metadata": {},
     "output_type": "execute_result"
    }
   ],
   "source": [
    "len('JB_Jan2020_Box001_2013-01-01_2014-10-01_PS_cut.png')"
   ]
  },
  {
   "cell_type": "code",
   "execution_count": 253,
   "metadata": {},
   "outputs": [],
   "source": [
    "for folder in os.listdir(basepath):\n",
    "    BoxID = folder[3:]\n",
    "    for file in os.listdir(basepath+folder):\n",
    "#         print(file)\n",
    "        if file.endswith('PS_cut.png') and len(file) == 50:\n",
    "            img  = Image.open(basepath+folder+'/'+file)\n",
    "            #rotate the image by the flow direction from flowspeed_df\n",
    "            rotated     = img.rotate(-float(flowspeed_df.loc[BoxID, 'Flow_dir']))\n",
    "            rotated.save(basepath+folder+'/rotated/R_'+file)\n",
    "#             print(file)\n",
    "#             print(flowspeed_df.loc['001', 'Flow_dir'])"
   ]
  },
  {
   "cell_type": "markdown",
   "metadata": {},
   "source": [
    "## 4) Resize all images to minimum image dimensions\n",
    "\n",
    "Move terminus box rasters to the folder:"
   ]
  },
  {
   "cell_type": "code",
   "execution_count": 24,
   "metadata": {},
   "outputs": [],
   "source": [
    "for BoxID in BoxIDs:\n",
    "    pathtotbox = '/home/jukes/Documents/Sample_glaciers/Box'+BoxID+'/rotated_images/final/crop_Box'+BoxID+'_raster_cut.png'\n",
    "    shutil.copy(pathtotbox, basepath+'Box'+BoxID+'/rotated/R_'+'crop_Box'+BoxID+'_raster_cut.png')"
   ]
  },
  {
   "cell_type": "markdown",
   "metadata": {},
   "source": [
    "Check image size for all of them and find the minimum:"
   ]
  },
  {
   "cell_type": "code",
   "execution_count": 254,
   "metadata": {},
   "outputs": [
    {
     "name": "stderr",
     "output_type": "stream",
     "text": [
      "/home/jukes/anaconda3/lib/python3.7/site-packages/ipykernel_launcher.py:51: DeprecationWarning: `imsave` is deprecated!\n",
      "`imsave` is deprecated in SciPy 1.0.0, and will be removed in 1.2.0.\n",
      "Use ``imageio.imwrite`` instead.\n"
     ]
    }
   ],
   "source": [
    "for BoxID in BoxIDs:\n",
    "    dimensions_x = []\n",
    "    dimensions_y = []\n",
    "    images = os.listdir(basepath+'Box'+BoxID+'/rotated/')\n",
    "    for image in images:\n",
    "        img = mpimg.imread(basepath+'Box'+BoxID+'/rotated/'+image)\n",
    "        dimensions_x.append(img.shape[1])\n",
    "        dimensions_y.append(img.shape[0])\n",
    "    \n",
    "    #find minimum dimensions\n",
    "    min_y = np.min(dimensions_y)\n",
    "    min_x = np.min(dimensions_x)\n",
    "    index_y = dimensions_y.index(min_y)\n",
    "    index_x = dimensions_x.index(min_x)\n",
    "          \n",
    "    if index_x != index_y:\n",
    "        print('Something is funky with the image dimesions.')\n",
    "    else:\n",
    "        crop_y = dimensions_y[index_y]\n",
    "        crop_x = dimensions_x[index_y]\n",
    "\n",
    "        #crop each image if the dimensions are larger than the minimum\n",
    "        for image in images:\n",
    "            img = mpimg.imread(basepath+'Box'+BoxID+'/rotated/'+image)\n",
    "            if img.shape[1] > crop_x or img.shape[0] > crop_y:\n",
    "                #calculate difference, and divide by 2 to get amount of rows to remove by\n",
    "                diffx_half = (img.shape[1] - crop_x)/2\n",
    "                diffy_half = (img.shape[0] - crop_y)/2\n",
    "                \n",
    "#                 print(diffx_half, diffy_half)\n",
    "                \n",
    "                #if the difference is a half pixel, make sure to remove the full value from the first side only\n",
    "                if int(diffx_half) != diffx_half:\n",
    "                    #remember for image slicing y is the first dimension, x is the second\n",
    "                    img_cropx = img[:, int(diffx_half):-int(diffx_half)-1]\n",
    "                #otherwise remove it from both sides:\n",
    "                else:\n",
    "                    img_cropx = img[:, int(diffx_half):-int(diffx_half)]\n",
    "                \n",
    "                #same for y\n",
    "                if int(diffy_half) != diffy_half:   \n",
    "                    img_cropy = img_cropx[int(diffy_half):-int(diffy_half)-1, :]\n",
    "                #otherwise remove it from both sides:\n",
    "                else:\n",
    "                    img_cropy = img_cropx[int(diffy_half):-int(diffy_half), :]\n",
    "                \n",
    "#                 print(BoxID, crop_y, crop_x)\n",
    "#                 print(BoxID, img_cropy.shape)\n",
    "                    \n",
    "                #save over rotated images with new cropped dimensions:\n",
    "                scipy.misc.imsave(basepath+'Box'+BoxID+'/rotated/'+image, img_cropy)"
   ]
  },
  {
   "cell_type": "markdown",
   "metadata": {},
   "source": [
    "## 5) Read in rotated and resized boxes to calculate midpoints and centerline"
   ]
  },
  {
   "cell_type": "code",
   "execution_count": 225,
   "metadata": {},
   "outputs": [
    {
     "name": "stdout",
     "output_type": "stream",
     "text": [
      "(1161, 1222, 3)\n",
      "(320, 306, 3)\n",
      "(991, 758, 3)\n",
      "(302, 295, 3)\n",
      "(647, 655, 3)\n"
     ]
    }
   ],
   "source": [
    "#create dictionary to store each terminus box ndarray by BoxID\n",
    "termboxes = {}\n",
    "\n",
    "#read in the terminus box rasters\n",
    "for BoxID in BoxIDs:\n",
    "    #load in the raster\n",
    "    boxpath = basepath+'Box'+BoxID+'/rotated/R_'+'crop_Box'+BoxID+'_raster_cut.png'\n",
    "#     boxpath = \"/media/jukes/jukes1/LS8aws/Box\"+BoxID+\"/resized/crop_R_Box\"+BoxID+\"_cut.pgm\"\n",
    "    #read the raster into an ndarray\n",
    "#     termbox = mpimg.imread(boxpath)\n",
    "    termbox = cv2.imread(boxpath)\n",
    "    \n",
    "#     plt.imshow(termbox)\n",
    "    termboxes.update({BoxID: termbox})\n",
    "    print(termbox.shape)"
   ]
  },
  {
   "cell_type": "code",
   "execution_count": 226,
   "metadata": {
    "scrolled": false
   },
   "outputs": [
    {
     "data": {
      "image/png": "[encoded data removed]",
      "text/plain": [
       "<Figure size 432x288 with 1 Axes>"
      ]
     },
     "metadata": {
      "needs_background": "light"
     },
     "output_type": "display_data"
    }
   ],
   "source": [
    "#visualize each terminus box raster by BoxID\n",
    "termplot = plt.imshow(termboxes['259'])\n",
    "plt.show()"
   ]
  },
  {
   "cell_type": "code",
   "execution_count": 227,
   "metadata": {},
   "outputs": [],
   "source": [
    "#create dictionary to store the all coordinates of the box rasters\n",
    "boxes_xcoords = {}\n",
    "boxes_ycoords = {}\n",
    "\n",
    "#create dictionaries for the box vertices\n",
    "topleft_coords = {}\n",
    "bottomleft_coords = {}\n",
    "topright_coords = {}\n",
    "bottomright_coords = {}\n",
    "\n",
    "#create dictionaries to store the left midpoints (1C) and right midpoints (2C)\n",
    "midpoints_x = {}\n",
    "midpoints_y = {}\n",
    "midpoints_r_x = {}\n",
    "midpoints_r_y = {}\n",
    "\n",
    "#create dictionaries to the slopes and intercepts of the centerline equations\n",
    "slopes = {}\n",
    "intercepts = {}\n",
    "\n",
    "#for all the box rasters\n",
    "for BoxID in BoxIDs:\n",
    "    #Read in the raster of the BoxID of interest\n",
    "    BOI = termboxes[BoxID]\n",
    "    \n",
    "    #find the coordinates of where the pixel value is nonzero (where the box exists)\n",
    "    yindices, xindices, rgb = np.where(BOI > 0)\n",
    "\n",
    "    #add box coordinates to the dictionary\n",
    "    boxes_ycoords.update( {BoxID: yindices})\n",
    "    boxes_xcoords.update( {BoxID: xindices})\n",
    "    \n",
    "    \n",
    "    #1A) FIND THE TOP LEFT COORDINATES (lowest x*y)\n",
    "    xy = xindices*yindices\n",
    "    #Find the lowest xy value\n",
    "    min_xy = np.min(xy)\n",
    "    #Find the x and y pair corresponding to that xy using the index\n",
    "    min_xy_i = np.where(xy == min_xy)[0][0]\n",
    "    topleft = [xindices[min_xy_i], yindices[min_xy_i]]\n",
    "#     print(\"Top left\", topleft)\n",
    "    #Add to dictionary of topleft coordinates\n",
    "    topleft_coords.update(  {BoxID: topleft}  )\n",
    "    \n",
    "    #2B) FIND THE BOTTOM RIGHT COORDINATES (highest x*y)\n",
    "    max_xy = np.max(xy)\n",
    "    max_xy_i = np.where(xy == max_xy)[0][0]\n",
    "    bottomright = [xindices[max_xy_i], yindices[max_xy_i]]\n",
    "    bottomright_coords.update( {BoxID: bottomright})\n",
    "\n",
    "    #1B) FIND THE BOTTOM LEFT COORDINATE(highest y/x)\n",
    "    y_x = yindices/xindices\n",
    "    #Find the highest y/x value\n",
    "    max_y_x = np.max(y_x)\n",
    "    #Find the x and y pair corresponding to that y/x using the index\n",
    "    max_y_x_i = np.where(y_x == max_y_x)[0][0]\n",
    "    bottomleft = [xindices[max_y_x_i], yindices[max_y_x_i]]\n",
    "#     print(\"Bottom left\", bottomleft)\n",
    "    #Add to dictionary of bottomleft coordinates\n",
    "    bottomleft_coords.update( {BoxID: bottomleft}  )\n",
    "    \n",
    "    #2A) FIND THE TOP RIGHT COORDINATES (highest x/y)\n",
    "    x_y = xindices/yindices\n",
    "    #find highest x/y value:\n",
    "    max_x_y = np.max(x_y)\n",
    "    #Find the x, y pair correpsonding to the maximum x/y using the index\n",
    "    max_x_y_i = np.where(x_y == max_x_y)[0][0]\n",
    "    topright = [xindices[max_x_y_i], yindices[max_x_y_i]]\n",
    "    topright_coords.update( {BoxID: topright} )\n",
    "    \n",
    "    #1C and 2C) CALCULATE THE MIDPOINTS\n",
    "    #Left\n",
    "    midpoint_x = (topleft[0]+bottomleft[0])/2\n",
    "    midpoint_y = (topleft[1]+bottomleft[1])/2  \n",
    "    #Right\n",
    "    midpoint_r_x = (topright[0]+bottomright[0])/2\n",
    "    midpoint_r_y = (topright[1]+bottomright[1])/2\n",
    "    \n",
    "    #midpoint = [midpoint_x, midpoint_y]\n",
    "    #Add x and y coordinates to dictionaries\n",
    "    midpoints_x.update( {BoxID: midpoint_x}  )\n",
    "    midpoints_y.update( {BoxID: midpoint_y}  )\n",
    "    midpoints_r_x.update( {BoxID: midpoint_r_x})\n",
    "    midpoints_r_y.update( {BoxID: midpoint_r_y})\n",
    "    \n",
    "    #3) CALCULATE CENTERLINE EQUATION\n",
    "    #slope\n",
    "    m = (midpoint_r_y - midpoint_y)/(midpoint_r_x - midpoint_x)\n",
    "    #y-intercept\n",
    "    b = midpoint_y - (m*midpoint_x)\n",
    "#     print(\"y =\", m, \"x +\", b)\n",
    "    \n",
    "    #add slope and intercepts to dictionaries\n",
    "    slopes.update( {BoxID: m})\n",
    "    intercepts.update( {BoxID: b})"
   ]
  },
  {
   "cell_type": "code",
   "execution_count": 228,
   "metadata": {},
   "outputs": [
    {
     "name": "stdout",
     "output_type": "stream",
     "text": [
      "344.5 302.0\n"
     ]
    }
   ],
   "source": [
    "print(midpoint_y, midpoint_r_y)\n",
    "# midpoint_y"
   ]
  },
  {
   "cell_type": "code",
   "execution_count": 229,
   "metadata": {},
   "outputs": [
    {
     "data": {
      "image/png": "[encoded data removed]",
      "text/plain": [
       "<Figure size 432x288 with 1 Axes>"
      ]
     },
     "metadata": {
      "needs_background": "light"
     },
     "output_type": "display_data"
    }
   ],
   "source": [
    "#Choose which glacier BoxID to check:\n",
    "BOI_ID = '259'\n",
    "\n",
    "#plot the raster pixels in black\n",
    "plt.scatter(boxes_xcoords[BOI_ID], boxes_ycoords[BOI_ID], c='k',marker='s')\n",
    "\n",
    "#plot the vertices in red\n",
    "plt.scatter(topleft_coords[BOI_ID][0], topleft_coords[BOI_ID][1], c='r')\n",
    "plt.scatter(bottomleft_coords[BOI_ID][0], bottomleft_coords[BOI_ID][1], c='r')\n",
    "plt.scatter(topright_coords[BOI_ID][0], topright_coords[BOI_ID][1], c='r')\n",
    "plt.scatter(bottomright_coords[BOI_ID][0], bottomright_coords[BOI_ID][1], c='r')\n",
    "\n",
    "#plot midpoints in cyan\n",
    "plt.scatter(midpoints_x[BOI_ID], midpoints_y[BOI_ID], c='orange')\n",
    "plt.scatter(midpoints_r_x[BOI_ID], midpoints_r_y[BOI_ID], c='c')\n",
    "\n",
    "#plot the centerlines in blue\n",
    "x=np.linspace(np.min(boxes_xcoords[BOI_ID]), np.max(boxes_xcoords[BOI_ID]))\n",
    "y=slopes[BOI_ID]*x + intercepts[BOI_ID]\n",
    "plt.plot(x, y, '--c')\n",
    "         \n",
    "plt.gca().invert_yaxis()\n",
    "plt.axis('scaled')\n",
    "plt.show()"
   ]
  },
  {
   "cell_type": "code",
   "execution_count": 230,
   "metadata": {
    "scrolled": true
   },
   "outputs": [
    {
     "data": {
      "text/html": [
       "<div>\n",
       "<style scoped>\n",
       "    .dataframe tbody tr th:only-of-type {\n",
       "        vertical-align: middle;\n",
       "    }\n",
       "\n",
       "    .dataframe tbody tr th {\n",
       "        vertical-align: top;\n",
       "    }\n",
       "\n",
       "    .dataframe thead th {\n",
       "        text-align: right;\n",
       "    }\n",
       "</style>\n",
       "<table border=\"1\" class=\"dataframe\">\n",
       "  <thead>\n",
       "    <tr style=\"text-align: right;\">\n",
       "      <th></th>\n",
       "      <th>midpoint_x</th>\n",
       "      <th>midpoint_y</th>\n",
       "      <th>cline_slope</th>\n",
       "      <th>cline_intercept</th>\n",
       "      <th>midpoint_rx</th>\n",
       "      <th>midpoint_ry</th>\n",
       "    </tr>\n",
       "    <tr>\n",
       "      <th>BoxID</th>\n",
       "      <th></th>\n",
       "      <th></th>\n",
       "      <th></th>\n",
       "      <th></th>\n",
       "      <th></th>\n",
       "      <th></th>\n",
       "    </tr>\n",
       "  </thead>\n",
       "  <tbody>\n",
       "    <tr>\n",
       "      <th>002</th>\n",
       "      <td>468.0</td>\n",
       "      <td>575.5</td>\n",
       "      <td>0.033451</td>\n",
       "      <td>559.845070</td>\n",
       "      <td>752.0</td>\n",
       "      <td>585.0</td>\n",
       "    </tr>\n",
       "    <tr>\n",
       "      <th>001</th>\n",
       "      <td>117.0</td>\n",
       "      <td>163.5</td>\n",
       "      <td>-0.118881</td>\n",
       "      <td>177.409091</td>\n",
       "      <td>188.5</td>\n",
       "      <td>155.0</td>\n",
       "    </tr>\n",
       "    <tr>\n",
       "      <th>259</th>\n",
       "      <td>215.0</td>\n",
       "      <td>484.0</td>\n",
       "      <td>0.070552</td>\n",
       "      <td>468.831288</td>\n",
       "      <td>541.0</td>\n",
       "      <td>507.0</td>\n",
       "    </tr>\n",
       "    <tr>\n",
       "      <th>120</th>\n",
       "      <td>111.0</td>\n",
       "      <td>148.5</td>\n",
       "      <td>0.055944</td>\n",
       "      <td>142.290210</td>\n",
       "      <td>182.5</td>\n",
       "      <td>152.5</td>\n",
       "    </tr>\n",
       "    <tr>\n",
       "      <th>174</th>\n",
       "      <td>261.5</td>\n",
       "      <td>344.5</td>\n",
       "      <td>-0.323194</td>\n",
       "      <td>429.015209</td>\n",
       "      <td>393.0</td>\n",
       "      <td>302.0</td>\n",
       "    </tr>\n",
       "  </tbody>\n",
       "</table>\n",
       "</div>"
      ],
      "text/plain": [
       "       midpoint_x  midpoint_y  cline_slope  cline_intercept  midpoint_rx  \\\n",
       "BoxID                                                                      \n",
       "002         468.0       575.5     0.033451       559.845070        752.0   \n",
       "001         117.0       163.5    -0.118881       177.409091        188.5   \n",
       "259         215.0       484.0     0.070552       468.831288        541.0   \n",
       "120         111.0       148.5     0.055944       142.290210        182.5   \n",
       "174         261.5       344.5    -0.323194       429.015209        393.0   \n",
       "\n",
       "       midpoint_ry  \n",
       "BoxID               \n",
       "002          585.0  \n",
       "001          155.0  \n",
       "259          507.0  \n",
       "120          152.5  \n",
       "174          302.0  "
      ]
     },
     "execution_count": 230,
     "metadata": {},
     "output_type": "execute_result"
    }
   ],
   "source": [
    "midpoints_x_df = pd.DataFrame.from_dict(midpoints_x, orient='index', columns=[\"midpoint_x\"])\n",
    "midpoints_y_df = pd.DataFrame.from_dict(midpoints_y, orient='index', columns=['midpoint_y'])\n",
    "midpoints_rx_df = pd.DataFrame.from_dict(midpoints_r_x, orient='index', columns=[\"midpoint_rx\"])\n",
    "midpoints_ry_df = pd.DataFrame.from_dict(midpoints_r_y, orient='index', columns=['midpoint_ry'])\n",
    "cline_slopes_df = pd.DataFrame.from_dict(slopes, orient='index', columns=[\"cline_slope\"])\n",
    "cline_intercepts_df = pd.DataFrame.from_dict(intercepts, orient='index', columns=[\"cline_intercept\"])\n",
    "\n",
    "centerline_df = pd.concat([midpoints_x_df, midpoints_y_df, \n",
    "                           cline_slopes_df, cline_intercepts_df, midpoints_rx_df, midpoints_ry_df], axis=1)\n",
    "centerline_df.index.name = 'BoxID'\n",
    "centerline_df"
   ]
  },
  {
   "cell_type": "markdown",
   "metadata": {},
   "source": [
    "## 6) Read in rasterized delineations and grab pixel coordinates"
   ]
  },
  {
   "cell_type": "code",
   "execution_count": 255,
   "metadata": {
    "scrolled": true
   },
   "outputs": [],
   "source": [
    "IDs = []\n",
    "line_xs = []\n",
    "line_ys = []\n",
    "dates = []\n",
    "for BoxID in BoxIDs:\n",
    "    for file in os.listdir(basepath+'Box'+BoxID+'/rotated/'):\n",
    "        if file.startswith('R') and file.endswith('PS_cut.png'):\n",
    "            #pull date from name of file\n",
    "            date = file.split('_')[5][:10]\n",
    "#             print(date)\n",
    "\n",
    "            linepath = basepath+'Box'+BoxID+'/rotated/'+file\n",
    "            line = cv2.imread(linepath)\n",
    "#             print(line.shape)\n",
    "            \n",
    "            if len(line.shape) > 2:\n",
    "#                 print(line)\n",
    "                y, x, rgb = np.where(line > 0)\n",
    "\n",
    "                line_x = []\n",
    "                line_y = []\n",
    "                for i in range(0, len(y)):\n",
    "                    x0 = x[i]\n",
    "                    y0 = y[i]\n",
    "                    rgb0 = rgb[i]\n",
    "\n",
    "                    if rgb0 == 0:\n",
    "#                         print(x0, y0, rgb0)\n",
    "                        line_x.append(x0)\n",
    "                        line_y.append(y0)\n",
    "\n",
    "                IDs.append(BoxID)\n",
    "                dates.append(date)\n",
    "\n",
    "                line_xs.append(line_x)\n",
    "                line_ys.append(line_y)\n",
    "\n",
    "manual_df = pd.DataFrame(list(zip(IDs, dates, line_xs, line_ys)),\n",
    "              columns=['BoxID','datetimes', 'Line_x', \"Line_y\"])\n",
    "manual_df = manual_df.sort_values(by=['BoxID', 'datetimes'])"
   ]
  },
  {
   "cell_type": "code",
   "execution_count": 256,
   "metadata": {
    "scrolled": true
   },
   "outputs": [
    {
     "data": {
      "text/html": [
       "<div>\n",
       "<style scoped>\n",
       "    .dataframe tbody tr th:only-of-type {\n",
       "        vertical-align: middle;\n",
       "    }\n",
       "\n",
       "    .dataframe tbody tr th {\n",
       "        vertical-align: top;\n",
       "    }\n",
       "\n",
       "    .dataframe thead th {\n",
       "        text-align: right;\n",
       "    }\n",
       "</style>\n",
       "<table border=\"1\" class=\"dataframe\">\n",
       "  <thead>\n",
       "    <tr style=\"text-align: right;\">\n",
       "      <th></th>\n",
       "      <th>BoxID</th>\n",
       "      <th>datetimes</th>\n",
       "      <th>Line_x</th>\n",
       "      <th>Line_y</th>\n",
       "    </tr>\n",
       "  </thead>\n",
       "  <tbody>\n",
       "    <tr>\n",
       "      <th>186</th>\n",
       "      <td>001</td>\n",
       "      <td>2013-05-05</td>\n",
       "      <td>[135, 134, 135, 133, 133, 132, 134, 134, 135, ...</td>\n",
       "      <td>[140, 141, 141, 142, 143, 144, 145, 146, 146, ...</td>\n",
       "    </tr>\n",
       "    <tr>\n",
       "      <th>269</th>\n",
       "      <td>001</td>\n",
       "      <td>2013-05-14</td>\n",
       "      <td>[131, 132, 133, 133, 134, 135, 136, 136, 137, ...</td>\n",
       "      <td>[143, 144, 145, 146, 147, 148, 148, 149, 149, ...</td>\n",
       "    </tr>\n",
       "    <tr>\n",
       "      <th>184</th>\n",
       "      <td>001</td>\n",
       "      <td>2013-05-29</td>\n",
       "      <td>[132, 132, 132, 134, 134, 136, 136, 137, 139, ...</td>\n",
       "      <td>[142, 143, 144, 145, 146, 146, 147, 148, 149, ...</td>\n",
       "    </tr>\n",
       "    <tr>\n",
       "      <th>254</th>\n",
       "      <td>001</td>\n",
       "      <td>2013-08-23</td>\n",
       "      <td>[133, 132, 133, 131, 132, 131, 130, 131, 131, ...</td>\n",
       "      <td>[141, 142, 142, 143, 143, 144, 145, 146, 147, ...</td>\n",
       "    </tr>\n",
       "    <tr>\n",
       "      <th>266</th>\n",
       "      <td>001</td>\n",
       "      <td>2013-08-27</td>\n",
       "      <td>[130, 129, 130, 129, 130, 131, 132, 133, 133, ...</td>\n",
       "      <td>[143, 144, 144, 147, 148, 148, 148, 149, 150, ...</td>\n",
       "    </tr>\n",
       "    <tr>\n",
       "      <th>238</th>\n",
       "      <td>001</td>\n",
       "      <td>2013-09-03</td>\n",
       "      <td>[128, 129, 129, 130, 131, 131, 132, 134, 134, ...</td>\n",
       "      <td>[140, 141, 142, 142, 142, 143, 144, 145, 146, ...</td>\n",
       "    </tr>\n",
       "    <tr>\n",
       "      <th>279</th>\n",
       "      <td>001</td>\n",
       "      <td>2013-09-10</td>\n",
       "      <td>[131, 132, 130, 131, 129, 130, 129, 129, 130, ...</td>\n",
       "      <td>[139, 140, 141, 141, 142, 142, 143, 145, 146, ...</td>\n",
       "    </tr>\n",
       "    <tr>\n",
       "      <th>203</th>\n",
       "      <td>001</td>\n",
       "      <td>2013-09-17</td>\n",
       "      <td>[130, 129, 130, 128, 129, 128, 129, 129, 130, ...</td>\n",
       "      <td>[141, 143, 143, 144, 145, 146, 146, 147, 147, ...</td>\n",
       "    </tr>\n",
       "    <tr>\n",
       "      <th>236</th>\n",
       "      <td>001</td>\n",
       "      <td>2013-09-19</td>\n",
       "      <td>[130, 131, 129, 130, 129, 128, 129, 129, 130, ...</td>\n",
       "      <td>[141, 141, 143, 143, 145, 146, 146, 147, 148, ...</td>\n",
       "    </tr>\n",
       "    <tr>\n",
       "      <th>239</th>\n",
       "      <td>001</td>\n",
       "      <td>2013-09-26</td>\n",
       "      <td>[129, 128, 129, 128, 129, 130, 130, 131, 132, ...</td>\n",
       "      <td>[143, 145, 145, 146, 146, 146, 147, 148, 148, ...</td>\n",
       "    </tr>\n",
       "    <tr>\n",
       "      <th>195</th>\n",
       "      <td>001</td>\n",
       "      <td>2014-03-14</td>\n",
       "      <td>[130, 131, 131, 133, 133, 134, 134, 135, 136, ...</td>\n",
       "      <td>[145, 146, 147, 147, 148, 148, 149, 149, 150, ...</td>\n",
       "    </tr>\n",
       "    <tr>\n",
       "      <th>226</th>\n",
       "      <td>001</td>\n",
       "      <td>2014-03-19</td>\n",
       "      <td>[130, 131, 130, 131, 131, 131, 132, 132, 134, ...</td>\n",
       "      <td>[140, 140, 141, 142, 144, 145, 145, 146, 147, ...</td>\n",
       "    </tr>\n",
       "    <tr>\n",
       "      <th>182</th>\n",
       "      <td>001</td>\n",
       "      <td>2014-03-23</td>\n",
       "      <td>[127, 129, 129, 130, 131, 131, 131, 131, 132, ...</td>\n",
       "      <td>[141, 141, 142, 142, 142, 143, 144, 145, 145, ...</td>\n",
       "    </tr>\n",
       "    <tr>\n",
       "      <th>241</th>\n",
       "      <td>001</td>\n",
       "      <td>2014-03-28</td>\n",
       "      <td>[130, 130, 131, 130, 131, 131, 131, 132, 131, ...</td>\n",
       "      <td>[139, 140, 140, 141, 142, 144, 145, 145, 147, ...</td>\n",
       "    </tr>\n",
       "    <tr>\n",
       "      <th>212</th>\n",
       "      <td>001</td>\n",
       "      <td>2014-04-08</td>\n",
       "      <td>[130, 131, 131, 131, 131, 131, 131, 132, 132, ...</td>\n",
       "      <td>[140, 140, 141, 142, 143, 144, 145, 145, 146, ...</td>\n",
       "    </tr>\n",
       "    <tr>\n",
       "      <th>187</th>\n",
       "      <td>001</td>\n",
       "      <td>2014-04-13</td>\n",
       "      <td>[130, 131, 130, 131, 131, 131, 132, 132, 133, ...</td>\n",
       "      <td>[140, 140, 141, 142, 144, 145, 145, 146, 147, ...</td>\n",
       "    </tr>\n",
       "    <tr>\n",
       "      <th>274</th>\n",
       "      <td>001</td>\n",
       "      <td>2014-05-06</td>\n",
       "      <td>[131, 131, 131, 132, 133, 133, 134, 135, 136, ...</td>\n",
       "      <td>[141, 142, 143, 144, 145, 146, 147, 148, 148, ...</td>\n",
       "    </tr>\n",
       "    <tr>\n",
       "      <th>218</th>\n",
       "      <td>001</td>\n",
       "      <td>2014-05-22</td>\n",
       "      <td>[135, 134, 134, 134, 134, 134, 135, 135, 136, ...</td>\n",
       "      <td>[141, 142, 143, 144, 145, 146, 146, 147, 148, ...</td>\n",
       "    </tr>\n",
       "    <tr>\n",
       "      <th>202</th>\n",
       "      <td>001</td>\n",
       "      <td>2014-05-24</td>\n",
       "      <td>[131, 130, 131, 130, 131, 131, 132, 132, 133, ...</td>\n",
       "      <td>[139, 141, 141, 143, 144, 145, 145, 146, 147, ...</td>\n",
       "    </tr>\n",
       "    <tr>\n",
       "      <th>272</th>\n",
       "      <td>001</td>\n",
       "      <td>2014-05-26</td>\n",
       "      <td>[132, 131, 132, 134, 134, 135, 135, 137, 138, ...</td>\n",
       "      <td>[140, 143, 144, 145, 146, 146, 147, 148, 149, ...</td>\n",
       "    </tr>\n",
       "    <tr>\n",
       "      <th>217</th>\n",
       "      <td>001</td>\n",
       "      <td>2014-06-02</td>\n",
       "      <td>[132, 133, 131, 131, 131, 131, 132, 133, 133, ...</td>\n",
       "      <td>[140, 140, 142, 143, 144, 145, 145, 145, 146, ...</td>\n",
       "    </tr>\n",
       "    <tr>\n",
       "      <th>160</th>\n",
       "      <td>001</td>\n",
       "      <td>2014-06-09</td>\n",
       "      <td>[132, 132, 131, 132, 133, 133, 135, 135, 137, ...</td>\n",
       "      <td>[140, 141, 143, 144, 145, 146, 146, 147, 148, ...</td>\n",
       "    </tr>\n",
       "    <tr>\n",
       "      <th>171</th>\n",
       "      <td>001</td>\n",
       "      <td>2014-06-09</td>\n",
       "      <td>[131, 131, 131, 132, 133, 133, 135, 135, 136, ...</td>\n",
       "      <td>[142, 144, 145, 145, 145, 146, 146, 147, 148, ...</td>\n",
       "    </tr>\n",
       "    <tr>\n",
       "      <th>192</th>\n",
       "      <td>001</td>\n",
       "      <td>2014-06-25</td>\n",
       "      <td>[131, 131, 133, 133, 134, 135, 135, 136, 137, ...</td>\n",
       "      <td>[143, 144, 145, 146, 146, 146, 147, 147, 148, ...</td>\n",
       "    </tr>\n",
       "    <tr>\n",
       "      <th>175</th>\n",
       "      <td>001</td>\n",
       "      <td>2014-06-30</td>\n",
       "      <td>[169, 170, 170, 171]</td>\n",
       "      <td>[270, 271, 272, 272]</td>\n",
       "    </tr>\n",
       "    <tr>\n",
       "      <th>268</th>\n",
       "      <td>001</td>\n",
       "      <td>2014-06-30</td>\n",
       "      <td>[131, 132, 133, 133, 134, 135, 135, 136, 137, ...</td>\n",
       "      <td>[143, 144, 145, 146, 146, 146, 147, 147, 148, ...</td>\n",
       "    </tr>\n",
       "    <tr>\n",
       "      <th>256</th>\n",
       "      <td>001</td>\n",
       "      <td>2014-07-04</td>\n",
       "      <td>[131, 131, 131, 131, 132, 132, 134, 137, 138, ...</td>\n",
       "      <td>[142, 143, 144, 145, 145, 146, 147, 148, 148, ...</td>\n",
       "    </tr>\n",
       "    <tr>\n",
       "      <th>250</th>\n",
       "      <td>001</td>\n",
       "      <td>2014-07-09</td>\n",
       "      <td>[131, 131, 132, 131, 132, 132, 133, 134, 136, ...</td>\n",
       "      <td>[142, 143, 144, 145, 145, 146, 147, 147, 148, ...</td>\n",
       "    </tr>\n",
       "    <tr>\n",
       "      <th>221</th>\n",
       "      <td>001</td>\n",
       "      <td>2014-07-11</td>\n",
       "      <td>[134, 135, 135, 136, 138, 139, 140, 140, 141, ...</td>\n",
       "      <td>[146, 146, 147, 148, 149, 150, 150, 151, 152, ...</td>\n",
       "    </tr>\n",
       "    <tr>\n",
       "      <th>290</th>\n",
       "      <td>001</td>\n",
       "      <td>2014-07-20</td>\n",
       "      <td>[131, 131, 131, 132, 132, 133, 133, 135, 135, ...</td>\n",
       "      <td>[143, 144, 145, 145, 146, 147, 148, 148, 149, ...</td>\n",
       "    </tr>\n",
       "    <tr>\n",
       "      <th>...</th>\n",
       "      <td>...</td>\n",
       "      <td>...</td>\n",
       "      <td>...</td>\n",
       "      <td>...</td>\n",
       "    </tr>\n",
       "    <tr>\n",
       "      <th>346</th>\n",
       "      <td>259</td>\n",
       "      <td>2015-10-02</td>\n",
       "      <td>[274, 271, 272, 274, 269, 270, 269, 269, 268, ...</td>\n",
       "      <td>[448, 449, 449, 449, 450, 450, 451, 452, 453, ...</td>\n",
       "    </tr>\n",
       "    <tr>\n",
       "      <th>311</th>\n",
       "      <td>259</td>\n",
       "      <td>2015-10-04</td>\n",
       "      <td>[270, 269, 269, 268, 266, 267, 265, 266, 264, ...</td>\n",
       "      <td>[456, 457, 458, 459, 460, 460, 461, 461, 462, ...</td>\n",
       "    </tr>\n",
       "    <tr>\n",
       "      <th>349</th>\n",
       "      <td>259</td>\n",
       "      <td>2015-10-04</td>\n",
       "      <td>[273, 274, 273, 272, 272, 271, 270, 271, 269, ...</td>\n",
       "      <td>[450, 450, 451, 452, 453, 454, 455, 455, 456, ...</td>\n",
       "    </tr>\n",
       "    <tr>\n",
       "      <th>354</th>\n",
       "      <td>259</td>\n",
       "      <td>2015-11-19</td>\n",
       "      <td>[270, 270, 270, 269, 269, 269, 268, 269, 269, ...</td>\n",
       "      <td>[449, 450, 451, 452, 453, 454, 455, 456, 457, ...</td>\n",
       "    </tr>\n",
       "    <tr>\n",
       "      <th>321</th>\n",
       "      <td>259</td>\n",
       "      <td>2016-04-11</td>\n",
       "      <td>[281, 280, 280, 280, 280, 280, 280, 280, 279, ...</td>\n",
       "      <td>[455, 456, 457, 458, 459, 460, 461, 462, 463, ...</td>\n",
       "    </tr>\n",
       "    <tr>\n",
       "      <th>345</th>\n",
       "      <td>259</td>\n",
       "      <td>2016-04-13</td>\n",
       "      <td>[281, 281, 281, 281, 280, 279, 279, 279, 279, ...</td>\n",
       "      <td>[458, 459, 460, 461, 462, 463, 464, 465, 466, ...</td>\n",
       "    </tr>\n",
       "    <tr>\n",
       "      <th>300</th>\n",
       "      <td>259</td>\n",
       "      <td>2016-04-29</td>\n",
       "      <td>[289, 289, 288, 288, 286, 287, 286, 286, 286, ...</td>\n",
       "      <td>[453, 454, 455, 456, 457, 457, 458, 459, 460, ...</td>\n",
       "    </tr>\n",
       "    <tr>\n",
       "      <th>316</th>\n",
       "      <td>259</td>\n",
       "      <td>2016-04-29</td>\n",
       "      <td>[284, 283, 283, 283, 283, 283, 283, 282, 282, ...</td>\n",
       "      <td>[456, 457, 458, 459, 460, 461, 462, 463, 464, ...</td>\n",
       "    </tr>\n",
       "    <tr>\n",
       "      <th>367</th>\n",
       "      <td>259</td>\n",
       "      <td>2016-05-06</td>\n",
       "      <td>[284, 284, 285, 285, 285, 284, 285, 285, 285, ...</td>\n",
       "      <td>[458, 459, 460, 461, 462, 463, 464, 465, 466, ...</td>\n",
       "    </tr>\n",
       "    <tr>\n",
       "      <th>351</th>\n",
       "      <td>259</td>\n",
       "      <td>2016-05-13</td>\n",
       "      <td>[286, 286, 286, 286, 286, 287, 286, 286, 286, ...</td>\n",
       "      <td>[457, 458, 459, 460, 461, 462, 463, 464, 465, ...</td>\n",
       "    </tr>\n",
       "    <tr>\n",
       "      <th>362</th>\n",
       "      <td>259</td>\n",
       "      <td>2016-05-15</td>\n",
       "      <td>[286, 287, 287, 287, 287, 287, 287, 287, 287, ...</td>\n",
       "      <td>[457, 459, 460, 461, 462, 463, 464, 465, 466, ...</td>\n",
       "    </tr>\n",
       "    <tr>\n",
       "      <th>304</th>\n",
       "      <td>259</td>\n",
       "      <td>2016-05-29</td>\n",
       "      <td>[288, 288, 287, 288, 288, 288, 288, 289, 288, ...</td>\n",
       "      <td>[455, 456, 457, 458, 459, 460, 461, 462, 463, ...</td>\n",
       "    </tr>\n",
       "    <tr>\n",
       "      <th>323</th>\n",
       "      <td>259</td>\n",
       "      <td>2016-06-14</td>\n",
       "      <td>[291, 291, 292, 292, 293, 293, 292, 293, 293, ...</td>\n",
       "      <td>[457, 458, 459, 460, 462, 463, 464, 465, 466, ...</td>\n",
       "    </tr>\n",
       "    <tr>\n",
       "      <th>365</th>\n",
       "      <td>259</td>\n",
       "      <td>2016-06-30</td>\n",
       "      <td>[296, 296, 296, 297, 297, 297, 296, 297, 297, ...</td>\n",
       "      <td>[458, 459, 460, 461, 462, 463, 464, 465, 466, ...</td>\n",
       "    </tr>\n",
       "    <tr>\n",
       "      <th>352</th>\n",
       "      <td>259</td>\n",
       "      <td>2016-07-02</td>\n",
       "      <td>[298, 298, 298, 298, 298, 298, 298, 298, 298, ...</td>\n",
       "      <td>[459, 460, 461, 462, 464, 465, 466, 467, 468, ...</td>\n",
       "    </tr>\n",
       "    <tr>\n",
       "      <th>330</th>\n",
       "      <td>259</td>\n",
       "      <td>2016-07-09</td>\n",
       "      <td>[299, 299, 300, 300, 299, 299, 300, 300, 300, ...</td>\n",
       "      <td>[460, 461, 462, 463, 464, 465, 466, 467, 468, ...</td>\n",
       "    </tr>\n",
       "    <tr>\n",
       "      <th>357</th>\n",
       "      <td>259</td>\n",
       "      <td>2016-07-16</td>\n",
       "      <td>[301, 301, 301, 301, 301, 301, 301, 301, 301, ...</td>\n",
       "      <td>[461, 462, 463, 464, 465, 466, 467, 468, 469, ...</td>\n",
       "    </tr>\n",
       "    <tr>\n",
       "      <th>370</th>\n",
       "      <td>259</td>\n",
       "      <td>2016-07-18</td>\n",
       "      <td>[304, 304, 304, 304, 303, 304, 303, 302, 302, ...</td>\n",
       "      <td>[460, 461, 462, 463, 464, 464, 465, 466, 467, ...</td>\n",
       "    </tr>\n",
       "    <tr>\n",
       "      <th>322</th>\n",
       "      <td>259</td>\n",
       "      <td>2016-07-25</td>\n",
       "      <td>[305, 305, 305, 305, 305, 305, 304, 304, 304, ...</td>\n",
       "      <td>[459, 460, 461, 462, 463, 464, 465, 466, 467, ...</td>\n",
       "    </tr>\n",
       "    <tr>\n",
       "      <th>325</th>\n",
       "      <td>259</td>\n",
       "      <td>2016-08-03</td>\n",
       "      <td>[305, 306, 306, 307, 307, 307, 307, 307, 307, ...</td>\n",
       "      <td>[458, 460, 461, 462, 463, 464, 465, 466, 467, ...</td>\n",
       "    </tr>\n",
       "    <tr>\n",
       "      <th>358</th>\n",
       "      <td>259</td>\n",
       "      <td>2016-09-02</td>\n",
       "      <td>[315, 316, 317, 316, 317, 317, 318, 318, 318, ...</td>\n",
       "      <td>[456, 457, 458, 459, 460, 461, 463, 464, 465, ...</td>\n",
       "    </tr>\n",
       "    <tr>\n",
       "      <th>332</th>\n",
       "      <td>259</td>\n",
       "      <td>2016-09-11</td>\n",
       "      <td>[289, 286, 287, 286, 285, 286, 284, 283, 283, ...</td>\n",
       "      <td>[456, 457, 457, 458, 459, 459, 460, 461, 462, ...</td>\n",
       "    </tr>\n",
       "    <tr>\n",
       "      <th>341</th>\n",
       "      <td>259</td>\n",
       "      <td>2016-09-11</td>\n",
       "      <td>[295, 293, 292, 293, 292, 291, 290, 290, 288, ...</td>\n",
       "      <td>[450, 451, 452, 452, 453, 454, 455, 456, 457, ...</td>\n",
       "    </tr>\n",
       "    <tr>\n",
       "      <th>355</th>\n",
       "      <td>259</td>\n",
       "      <td>2016-09-27</td>\n",
       "      <td>[275, 275, 274, 274, 274, 273, 274, 272, 272, ...</td>\n",
       "      <td>[456, 457, 458, 459, 460, 461, 461, 462, 463, ...</td>\n",
       "    </tr>\n",
       "    <tr>\n",
       "      <th>305</th>\n",
       "      <td>259</td>\n",
       "      <td>2016-10-13</td>\n",
       "      <td>[276, 275, 273, 274, 272, 271, 269, 267, 268, ...</td>\n",
       "      <td>[450, 451, 452, 452, 453, 454, 455, 456, 456, ...</td>\n",
       "    </tr>\n",
       "    <tr>\n",
       "      <th>364</th>\n",
       "      <td>259</td>\n",
       "      <td>2016-10-13</td>\n",
       "      <td>[273, 272, 272, 270, 270, 269, 268, 268, 267, ...</td>\n",
       "      <td>[453, 454, 455, 456, 457, 458, 459, 460, 461, ...</td>\n",
       "    </tr>\n",
       "    <tr>\n",
       "      <th>336</th>\n",
       "      <td>259</td>\n",
       "      <td>2016-10-20</td>\n",
       "      <td>[269, 269, 269, 268, 268, 268, 268, 266, 266, ...</td>\n",
       "      <td>[455, 456, 457, 458, 459, 460, 461, 462, 463, ...</td>\n",
       "    </tr>\n",
       "    <tr>\n",
       "      <th>313</th>\n",
       "      <td>259</td>\n",
       "      <td>2016-10-29</td>\n",
       "      <td>[265, 265, 264, 264, 262, 262, 261, 260, 261, ...</td>\n",
       "      <td>[457, 458, 459, 460, 461, 462, 463, 464, 464, ...</td>\n",
       "    </tr>\n",
       "    <tr>\n",
       "      <th>301</th>\n",
       "      <td>259</td>\n",
       "      <td>2016-11-07</td>\n",
       "      <td>[272, 273, 270, 271, 267, 268, 269, 266, 265, ...</td>\n",
       "      <td>[450, 450, 451, 451, 452, 452, 452, 453, 454, ...</td>\n",
       "    </tr>\n",
       "    <tr>\n",
       "      <th>319</th>\n",
       "      <td>259</td>\n",
       "      <td>2016-11-07</td>\n",
       "      <td>[264, 263, 262, 260, 261, 260, 259, 259, 258, ...</td>\n",
       "      <td>[459, 460, 461, 462, 462, 463, 464, 465, 466, ...</td>\n",
       "    </tr>\n",
       "  </tbody>\n",
       "</table>\n",
       "<p>513 rows × 4 columns</p>\n",
       "</div>"
      ],
      "text/plain": [
       "    BoxID   datetimes                                             Line_x  \\\n",
       "186   001  2013-05-05  [135, 134, 135, 133, 133, 132, 134, 134, 135, ...   \n",
       "269   001  2013-05-14  [131, 132, 133, 133, 134, 135, 136, 136, 137, ...   \n",
       "184   001  2013-05-29  [132, 132, 132, 134, 134, 136, 136, 137, 139, ...   \n",
       "254   001  2013-08-23  [133, 132, 133, 131, 132, 131, 130, 131, 131, ...   \n",
       "266   001  2013-08-27  [130, 129, 130, 129, 130, 131, 132, 133, 133, ...   \n",
       "238   001  2013-09-03  [128, 129, 129, 130, 131, 131, 132, 134, 134, ...   \n",
       "279   001  2013-09-10  [131, 132, 130, 131, 129, 130, 129, 129, 130, ...   \n",
       "203   001  2013-09-17  [130, 129, 130, 128, 129, 128, 129, 129, 130, ...   \n",
       "236   001  2013-09-19  [130, 131, 129, 130, 129, 128, 129, 129, 130, ...   \n",
       "239   001  2013-09-26  [129, 128, 129, 128, 129, 130, 130, 131, 132, ...   \n",
       "195   001  2014-03-14  [130, 131, 131, 133, 133, 134, 134, 135, 136, ...   \n",
       "226   001  2014-03-19  [130, 131, 130, 131, 131, 131, 132, 132, 134, ...   \n",
       "182   001  2014-03-23  [127, 129, 129, 130, 131, 131, 131, 131, 132, ...   \n",
       "241   001  2014-03-28  [130, 130, 131, 130, 131, 131, 131, 132, 131, ...   \n",
       "212   001  2014-04-08  [130, 131, 131, 131, 131, 131, 131, 132, 132, ...   \n",
       "187   001  2014-04-13  [130, 131, 130, 131, 131, 131, 132, 132, 133, ...   \n",
       "274   001  2014-05-06  [131, 131, 131, 132, 133, 133, 134, 135, 136, ...   \n",
       "218   001  2014-05-22  [135, 134, 134, 134, 134, 134, 135, 135, 136, ...   \n",
       "202   001  2014-05-24  [131, 130, 131, 130, 131, 131, 132, 132, 133, ...   \n",
       "272   001  2014-05-26  [132, 131, 132, 134, 134, 135, 135, 137, 138, ...   \n",
       "217   001  2014-06-02  [132, 133, 131, 131, 131, 131, 132, 133, 133, ...   \n",
       "160   001  2014-06-09  [132, 132, 131, 132, 133, 133, 135, 135, 137, ...   \n",
       "171   001  2014-06-09  [131, 131, 131, 132, 133, 133, 135, 135, 136, ...   \n",
       "192   001  2014-06-25  [131, 131, 133, 133, 134, 135, 135, 136, 137, ...   \n",
       "175   001  2014-06-30                               [169, 170, 170, 171]   \n",
       "268   001  2014-06-30  [131, 132, 133, 133, 134, 135, 135, 136, 137, ...   \n",
       "256   001  2014-07-04  [131, 131, 131, 131, 132, 132, 134, 137, 138, ...   \n",
       "250   001  2014-07-09  [131, 131, 132, 131, 132, 132, 133, 134, 136, ...   \n",
       "221   001  2014-07-11  [134, 135, 135, 136, 138, 139, 140, 140, 141, ...   \n",
       "290   001  2014-07-20  [131, 131, 131, 132, 132, 133, 133, 135, 135, ...   \n",
       "..    ...         ...                                                ...   \n",
       "346   259  2015-10-02  [274, 271, 272, 274, 269, 270, 269, 269, 268, ...   \n",
       "311   259  2015-10-04  [270, 269, 269, 268, 266, 267, 265, 266, 264, ...   \n",
       "349   259  2015-10-04  [273, 274, 273, 272, 272, 271, 270, 271, 269, ...   \n",
       "354   259  2015-11-19  [270, 270, 270, 269, 269, 269, 268, 269, 269, ...   \n",
       "321   259  2016-04-11  [281, 280, 280, 280, 280, 280, 280, 280, 279, ...   \n",
       "345   259  2016-04-13  [281, 281, 281, 281, 280, 279, 279, 279, 279, ...   \n",
       "300   259  2016-04-29  [289, 289, 288, 288, 286, 287, 286, 286, 286, ...   \n",
       "316   259  2016-04-29  [284, 283, 283, 283, 283, 283, 283, 282, 282, ...   \n",
       "367   259  2016-05-06  [284, 284, 285, 285, 285, 284, 285, 285, 285, ...   \n",
       "351   259  2016-05-13  [286, 286, 286, 286, 286, 287, 286, 286, 286, ...   \n",
       "362   259  2016-05-15  [286, 287, 287, 287, 287, 287, 287, 287, 287, ...   \n",
       "304   259  2016-05-29  [288, 288, 287, 288, 288, 288, 288, 289, 288, ...   \n",
       "323   259  2016-06-14  [291, 291, 292, 292, 293, 293, 292, 293, 293, ...   \n",
       "365   259  2016-06-30  [296, 296, 296, 297, 297, 297, 296, 297, 297, ...   \n",
       "352   259  2016-07-02  [298, 298, 298, 298, 298, 298, 298, 298, 298, ...   \n",
       "330   259  2016-07-09  [299, 299, 300, 300, 299, 299, 300, 300, 300, ...   \n",
       "357   259  2016-07-16  [301, 301, 301, 301, 301, 301, 301, 301, 301, ...   \n",
       "370   259  2016-07-18  [304, 304, 304, 304, 303, 304, 303, 302, 302, ...   \n",
       "322   259  2016-07-25  [305, 305, 305, 305, 305, 305, 304, 304, 304, ...   \n",
       "325   259  2016-08-03  [305, 306, 306, 307, 307, 307, 307, 307, 307, ...   \n",
       "358   259  2016-09-02  [315, 316, 317, 316, 317, 317, 318, 318, 318, ...   \n",
       "332   259  2016-09-11  [289, 286, 287, 286, 285, 286, 284, 283, 283, ...   \n",
       "341   259  2016-09-11  [295, 293, 292, 293, 292, 291, 290, 290, 288, ...   \n",
       "355   259  2016-09-27  [275, 275, 274, 274, 274, 273, 274, 272, 272, ...   \n",
       "305   259  2016-10-13  [276, 275, 273, 274, 272, 271, 269, 267, 268, ...   \n",
       "364   259  2016-10-13  [273, 272, 272, 270, 270, 269, 268, 268, 267, ...   \n",
       "336   259  2016-10-20  [269, 269, 269, 268, 268, 268, 268, 266, 266, ...   \n",
       "313   259  2016-10-29  [265, 265, 264, 264, 262, 262, 261, 260, 261, ...   \n",
       "301   259  2016-11-07  [272, 273, 270, 271, 267, 268, 269, 266, 265, ...   \n",
       "319   259  2016-11-07  [264, 263, 262, 260, 261, 260, 259, 259, 258, ...   \n",
       "\n",
       "                                                Line_y  \n",
       "186  [140, 141, 141, 142, 143, 144, 145, 146, 146, ...  \n",
       "269  [143, 144, 145, 146, 147, 148, 148, 149, 149, ...  \n",
       "184  [142, 143, 144, 145, 146, 146, 147, 148, 149, ...  \n",
       "254  [141, 142, 142, 143, 143, 144, 145, 146, 147, ...  \n",
       "266  [143, 144, 144, 147, 148, 148, 148, 149, 150, ...  \n",
       "238  [140, 141, 142, 142, 142, 143, 144, 145, 146, ...  \n",
       "279  [139, 140, 141, 141, 142, 142, 143, 145, 146, ...  \n",
       "203  [141, 143, 143, 144, 145, 146, 146, 147, 147, ...  \n",
       "236  [141, 141, 143, 143, 145, 146, 146, 147, 148, ...  \n",
       "239  [143, 145, 145, 146, 146, 146, 147, 148, 148, ...  \n",
       "195  [145, 146, 147, 147, 148, 148, 149, 149, 150, ...  \n",
       "226  [140, 140, 141, 142, 144, 145, 145, 146, 147, ...  \n",
       "182  [141, 141, 142, 142, 142, 143, 144, 145, 145, ...  \n",
       "241  [139, 140, 140, 141, 142, 144, 145, 145, 147, ...  \n",
       "212  [140, 140, 141, 142, 143, 144, 145, 145, 146, ...  \n",
       "187  [140, 140, 141, 142, 144, 145, 145, 146, 147, ...  \n",
       "274  [141, 142, 143, 144, 145, 146, 147, 148, 148, ...  \n",
       "218  [141, 142, 143, 144, 145, 146, 146, 147, 148, ...  \n",
       "202  [139, 141, 141, 143, 144, 145, 145, 146, 147, ...  \n",
       "272  [140, 143, 144, 145, 146, 146, 147, 148, 149, ...  \n",
       "217  [140, 140, 142, 143, 144, 145, 145, 145, 146, ...  \n",
       "160  [140, 141, 143, 144, 145, 146, 146, 147, 148, ...  \n",
       "171  [142, 144, 145, 145, 145, 146, 146, 147, 148, ...  \n",
       "192  [143, 144, 145, 146, 146, 146, 147, 147, 148, ...  \n",
       "175                               [270, 271, 272, 272]  \n",
       "268  [143, 144, 145, 146, 146, 146, 147, 147, 148, ...  \n",
       "256  [142, 143, 144, 145, 145, 146, 147, 148, 148, ...  \n",
       "250  [142, 143, 144, 145, 145, 146, 147, 147, 148, ...  \n",
       "221  [146, 146, 147, 148, 149, 150, 150, 151, 152, ...  \n",
       "290  [143, 144, 145, 145, 146, 147, 148, 148, 149, ...  \n",
       "..                                                 ...  \n",
       "346  [448, 449, 449, 449, 450, 450, 451, 452, 453, ...  \n",
       "311  [456, 457, 458, 459, 460, 460, 461, 461, 462, ...  \n",
       "349  [450, 450, 451, 452, 453, 454, 455, 455, 456, ...  \n",
       "354  [449, 450, 451, 452, 453, 454, 455, 456, 457, ...  \n",
       "321  [455, 456, 457, 458, 459, 460, 461, 462, 463, ...  \n",
       "345  [458, 459, 460, 461, 462, 463, 464, 465, 466, ...  \n",
       "300  [453, 454, 455, 456, 457, 457, 458, 459, 460, ...  \n",
       "316  [456, 457, 458, 459, 460, 461, 462, 463, 464, ...  \n",
       "367  [458, 459, 460, 461, 462, 463, 464, 465, 466, ...  \n",
       "351  [457, 458, 459, 460, 461, 462, 463, 464, 465, ...  \n",
       "362  [457, 459, 460, 461, 462, 463, 464, 465, 466, ...  \n",
       "304  [455, 456, 457, 458, 459, 460, 461, 462, 463, ...  \n",
       "323  [457, 458, 459, 460, 462, 463, 464, 465, 466, ...  \n",
       "365  [458, 459, 460, 461, 462, 463, 464, 465, 466, ...  \n",
       "352  [459, 460, 461, 462, 464, 465, 466, 467, 468, ...  \n",
       "330  [460, 461, 462, 463, 464, 465, 466, 467, 468, ...  \n",
       "357  [461, 462, 463, 464, 465, 466, 467, 468, 469, ...  \n",
       "370  [460, 461, 462, 463, 464, 464, 465, 466, 467, ...  \n",
       "322  [459, 460, 461, 462, 463, 464, 465, 466, 467, ...  \n",
       "325  [458, 460, 461, 462, 463, 464, 465, 466, 467, ...  \n",
       "358  [456, 457, 458, 459, 460, 461, 463, 464, 465, ...  \n",
       "332  [456, 457, 457, 458, 459, 459, 460, 461, 462, ...  \n",
       "341  [450, 451, 452, 452, 453, 454, 455, 456, 457, ...  \n",
       "355  [456, 457, 458, 459, 460, 461, 461, 462, 463, ...  \n",
       "305  [450, 451, 452, 452, 453, 454, 455, 456, 456, ...  \n",
       "364  [453, 454, 455, 456, 457, 458, 459, 460, 461, ...  \n",
       "336  [455, 456, 457, 458, 459, 460, 461, 462, 463, ...  \n",
       "313  [457, 458, 459, 460, 461, 462, 463, 464, 464, ...  \n",
       "301  [450, 450, 451, 451, 452, 452, 452, 453, 454, ...  \n",
       "319  [459, 460, 461, 462, 462, 463, 464, 465, 466, ...  \n",
       "\n",
       "[513 rows x 4 columns]"
      ]
     },
     "execution_count": 256,
     "metadata": {},
     "output_type": "execute_result"
    }
   ],
   "source": [
    "manual_df"
   ]
  },
  {
   "cell_type": "markdown",
   "metadata": {},
   "source": [
    "## Manual delineations gif Box001"
   ]
  },
  {
   "cell_type": "code",
   "execution_count": 268,
   "metadata": {
    "scrolled": true
   },
   "outputs": [],
   "source": [
    "# #Turn datetimes from datetime_df into DateTime objects\n",
    "# #grab the datetime strings\n",
    "# datetimes = manual_df.loc[:,'datetimes']\n",
    "# #create list to store the datetime objects\n",
    "# datetime_objs = []\n",
    "\n",
    "# for date in datetimes:\n",
    "#     date = str(date)\n",
    "#     datetime_obj = datetime.datetime.strptime(date, '%Y-%m-%d')\n",
    "#     datetime_obj = np.datetime64(datetime_obj)\n",
    "#     datetime_objs.append(datetime_obj)\n",
    "\n",
    "# #add the datetime objects back into the datetime column\n",
    "# manual_df['datetimes'] = datetime_objs"
   ]
  },
  {
   "cell_type": "code",
   "execution_count": 265,
   "metadata": {},
   "outputs": [],
   "source": [
    "# manual_df.to_csv(path_or_buf = basepath+\"Manual_imgdates.csv\", sep=',')"
   ]
  },
  {
   "cell_type": "code",
   "execution_count": 267,
   "metadata": {},
   "outputs": [],
   "source": [
    "# #PLOT THE LANDSAT IMAGE and TERMINUS BOX\n",
    "# BoxID = '001'\n",
    "# box_df = manual_df[manual_df.BoxID == BoxID].copy()\n",
    "# # box_df = box_df[box_df.Date > np.datetime64('2013-01-01')].copy()\n",
    "\n",
    "# #Read in the non_rotated subset image:\n",
    "# # image = mpimg.imread('/media/jukes/jukes1/LS8aws/Box'+BoxID+'/rotated/crop_manual/R_LC80310052014178LGN00_B8_PS_Buffer'+BoxID+'.png')\n",
    "# tbox = mpimg.imread(\"/media/jukes/jukes1/LS8aws/Box\"+BoxID+\"/rotated/crop_manual/Box\"+BoxID+\"_raster_cut.png\")\n",
    "\n",
    "# plt.figure(figsize=(20,10))\n",
    "# plt.axis(\"off\")\n",
    "# imgplt_trim = plt.imshow(cv2.cvtColor(image, cv2.COLOR_BGR2RGB))\n",
    "# boxplt = plt.imshow(tbox, alpha=0.1)\n",
    "\n",
    "# counter = 0\n",
    "# for idx, row in box_df.iterrows():\n",
    "#     if idx % 7 == 0:\n",
    "#         counter = counter + 1\n",
    "        \n",
    "# colors = pl.cm.viridis(np.linspace(0,1,counter))\n",
    "\n",
    "# col_count = 0\n",
    "# for idx, row in box_df.iterrows():\n",
    "#     if idx % 7 == 0:\n",
    "#         #     BoxID = idx\n",
    "#         line_x = row['Line_x']\n",
    "#         line_y = row['Line_y']\n",
    "\n",
    "#         plt.plot(line_x, line_y, color=colors[col_count], linewidth=0.5)\n",
    "#         col_count = col_count+1\n",
    "        \n",
    "# #grab x-values from height of terminus box\n",
    "# c_slope = float(centerline_df.loc[BoxID]['cline_slope'])\n",
    "# c_intercept = float(centerline_df.loc[BoxID]['cline_intercept'])\n",
    "# xmin = float(centerline_df.loc[BoxID]['midpoint_x'])\n",
    "# xmax = np.max(np.array(list(set(np.nonzero(tbox)[1]))))\n",
    "\n",
    "# c_x = np.linspace(xmin, xmax, int(xmax-xmin)*2)\n",
    "# c_y = c_slope*c_x + c_intercept\n",
    "# plt.plot(c_x, c_y, color='gray')\n",
    "# plt.plot(c_x[0], c_y[0], 'co')\n",
    "\n",
    "# plt.show()\n"
   ]
  },
  {
   "cell_type": "markdown",
   "metadata": {},
   "source": [
    "## 5) Calculate interesections with centerline and terminus position"
   ]
  },
  {
   "cell_type": "code",
   "execution_count": 470,
   "metadata": {
    "scrolled": true
   },
   "outputs": [],
   "source": [
    "intersection_x = []\n",
    "intersection_y = []\n",
    "term_pos = []\n",
    "\n",
    "counter = 0\n",
    "prev_BoxID = 'anything'\n",
    "\n",
    "for idx, row in manual_df.iterrows():\n",
    "#     print(str(row['datetimes'])[:10])\n",
    "#     if str(row['datetimes'])[:10] == '2014-08-14' and row['BoxID'] == '002':\n",
    "        line_x = row['Line_x']\n",
    "        line_y = row['Line_y']\n",
    "        \n",
    "        if row['BoxID'] != prev_BoxID:\n",
    "            #don't duplicate efforts in calculating a new centerline\n",
    "            BoxID = row['BoxID']\n",
    "\n",
    "            #grab slope and intercept from the dataframe\n",
    "            c_slope = float(centerline_df.loc[BoxID]['cline_slope'])\n",
    "            c_intercept = float(centerline_df.loc[BoxID]['cline_intercept'])\n",
    "\n",
    "            #grab x-values from height of terminus box\n",
    "            ymid = float(centerline_df.loc[BoxID]['midpoint_y'])\n",
    "            xmid = float(centerline_df.loc[BoxID]['midpoint_x'])\n",
    "            xmax = float(centerline_df.loc[BoxID]['midpoint_rx'])\n",
    "\n",
    "            c_x = np.linspace(xmid, xmax, int(xmax-xmid)*10)\n",
    "            c_y = c_slope*c_x + c_intercept\n",
    "\n",
    "        #FIND Intersections   \n",
    "        intersect_xs = []\n",
    "        intersect_ys = []\n",
    "\n",
    "        #loop through all the x,y values for the centerline\n",
    "        for j in range(0, len(c_x)):\n",
    "            x = c_x[j]\n",
    "            y = c_y[j]\n",
    "            interval = 1.0\n",
    "            #where are the intersections with the terminus pick?\n",
    "            for i in range(0, len(line_x)):\n",
    "                lx = line_x[i]\n",
    "                ly = line_y[i]\n",
    "                if within(lx, x, interval) and within (ly, y, interval):\n",
    "                    intersect_xs.append(lx)\n",
    "                    intersect_ys.append(ly)\n",
    "\n",
    "        if len(intersect_xs) != 0 or len(intersect_ys) != 0:\n",
    "            intersect_x = np.min(intersect_xs[0])\n",
    "            intersect_y = intersect_ys[intersect_xs.index(intersect_x)]\n",
    "\n",
    "#             print(intersect_x, intersect_y)\n",
    "            intersection_x.append(intersect_x)\n",
    "            intersection_y.append(intersect_y)\n",
    "\n",
    "            #calculate terminus position using distance formula\n",
    "    #         term_position = intersect_y - np.min(c_y)\n",
    "            term_position = distance(xmid, ymid, intersect_x, intersect_y)\n",
    "\n",
    "            term_pos.append(term_position*15.0)\n",
    "        else:\n",
    "            intersection_x.append(np.nan)\n",
    "            intersection_y.append(np.nan)\n",
    "            term_pos.append(np.nan)\n",
    "\n",
    "            counter = counter + 1\n",
    "            \n",
    "        prev_BoxID = BoxID\n",
    "        \n",
    "manual_df['intersect_x'] = intersection_x\n",
    "manual_df['intersect_y'] = intersection_y\n",
    "manual_df['term_position'] = term_pos"
   ]
  },
  {
   "cell_type": "code",
   "execution_count": 471,
   "metadata": {
    "scrolled": true
   },
   "outputs": [],
   "source": [
    "manual_df.to_csv(path_or_buf='/media/jukes/jukes1/Manual/manual_tpos.csv', sep=',')"
   ]
  },
  {
   "cell_type": "code",
   "execution_count": 259,
   "metadata": {
    "scrolled": false
   },
   "outputs": [],
   "source": [
    "#Turn datetimes from datetime_df into DateTime objects\n",
    "#grab the datetime strings\n",
    "datetimes = manual_df.loc[:,'datetimes']\n",
    "#create list to store the datetime objects\n",
    "datetime_objs = []\n",
    "\n",
    "for date in datetimes:\n",
    "    date = str(date)\n",
    "    datetime_obj = datetime.datetime.strptime(date, '%Y-%m-%d')\n",
    "    datetime_obj = np.datetime64(datetime_obj)\n",
    "    datetime_objs.append(datetime_obj)\n",
    "\n",
    "#add the datetime objects back into the datetime column\n",
    "manual_df['datetimes'] = datetime_objs"
   ]
  },
  {
   "cell_type": "markdown",
   "metadata": {},
   "source": [
    "## Analyze interanalyst variability:"
   ]
  },
  {
   "cell_type": "code",
   "execution_count": 245,
   "metadata": {},
   "outputs": [
    {
     "data": {
      "text/html": [
       "<div>\n",
       "<style scoped>\n",
       "    .dataframe tbody tr th:only-of-type {\n",
       "        vertical-align: middle;\n",
       "    }\n",
       "\n",
       "    .dataframe tbody tr th {\n",
       "        vertical-align: top;\n",
       "    }\n",
       "\n",
       "    .dataframe thead th {\n",
       "        text-align: right;\n",
       "    }\n",
       "</style>\n",
       "<table border=\"1\" class=\"dataframe\">\n",
       "  <thead>\n",
       "    <tr style=\"text-align: right;\">\n",
       "      <th></th>\n",
       "      <th>Date</th>\n",
       "      <th>Condition</th>\n",
       "    </tr>\n",
       "    <tr>\n",
       "      <th>BoxID</th>\n",
       "      <th></th>\n",
       "      <th></th>\n",
       "    </tr>\n",
       "  </thead>\n",
       "  <tbody>\n",
       "    <tr>\n",
       "      <th>1</th>\n",
       "      <td>2016-04-18</td>\n",
       "      <td>Sea ice</td>\n",
       "    </tr>\n",
       "    <tr>\n",
       "      <th>1</th>\n",
       "      <td>2017-04-03</td>\n",
       "      <td>Sea ice</td>\n",
       "    </tr>\n",
       "    <tr>\n",
       "      <th>1</th>\n",
       "      <td>2016-07-07</td>\n",
       "      <td>Clear</td>\n",
       "    </tr>\n",
       "    <tr>\n",
       "      <th>1</th>\n",
       "      <td>2016-08-24</td>\n",
       "      <td>Cloudy</td>\n",
       "    </tr>\n",
       "    <tr>\n",
       "      <th>1</th>\n",
       "      <td>2016-03-01</td>\n",
       "      <td>Dim</td>\n",
       "    </tr>\n",
       "    <tr>\n",
       "      <th>1</th>\n",
       "      <td>2014-09-18</td>\n",
       "      <td>Dim</td>\n",
       "    </tr>\n",
       "    <tr>\n",
       "      <th>1</th>\n",
       "      <td>2015-03-31</td>\n",
       "      <td>Cloudy</td>\n",
       "    </tr>\n",
       "    <tr>\n",
       "      <th>1</th>\n",
       "      <td>2014-06-09</td>\n",
       "      <td>Sea ice</td>\n",
       "    </tr>\n",
       "    <tr>\n",
       "      <th>1</th>\n",
       "      <td>2015-03-10</td>\n",
       "      <td>Clear</td>\n",
       "    </tr>\n",
       "    <tr>\n",
       "      <th>1</th>\n",
       "      <td>2014-10-01</td>\n",
       "      <td>Clear</td>\n",
       "    </tr>\n",
       "  </tbody>\n",
       "</table>\n",
       "</div>"
      ],
      "text/plain": [
       "             Date Condition\n",
       "BoxID                      \n",
       "1      2016-04-18   Sea ice\n",
       "1      2017-04-03   Sea ice\n",
       "1      2016-07-07     Clear\n",
       "1      2016-08-24    Cloudy\n",
       "1      2016-03-01       Dim\n",
       "1      2014-09-18       Dim\n",
       "1      2015-03-31   Cloudy \n",
       "1      2014-06-09  Sea ice \n",
       "1      2015-03-10     Clear\n",
       "1      2014-10-01     Clear"
      ]
     },
     "execution_count": 245,
     "metadata": {},
     "output_type": "execute_result"
    }
   ],
   "source": [
    "#Read in duplicate delineations\n",
    "duplicate_df = pd.read_csv('/media/jukes/jukes1/Manual/LS8_manual_auto_Jan2020_2analysts.csv', usecols=[0,1,2],\n",
    "                           sep=',')\n",
    "duplicate_df = duplicate_df.set_index('BoxID')\n",
    "duplicate_df.head(10)"
   ]
  },
  {
   "cell_type": "code",
   "execution_count": 484,
   "metadata": {
    "scrolled": false
   },
   "outputs": [],
   "source": [
    "differences = []\n",
    "\n",
    "for idx, row in duplicate_df.iterrows():\n",
    "    #grab the BoxID and date of duplicate delineation\n",
    "    BoxID = '%03d' % int(idx)\n",
    "    date = str(row['Date'])\n",
    "#     print(len(date))\n",
    "    if True == True:\n",
    "#     if date == '2014-08-14':\n",
    "        df_1 = manual_df[manual_df['BoxID']==BoxID].copy()\n",
    "    #     print(len(df_1))\n",
    "        df_2 = df_1[df_1['datetimes']==date].copy()\n",
    "\n",
    "        #grab the terminus position values from duplicates in manual_df\n",
    "        diff = abs(np.diff(list(df_2['term_position']))[0])\n",
    "    #     print(BoxID, date, diff)\n",
    "        differences.append(diff)\n",
    "\n",
    "duplicate_df['difference'] = differences"
   ]
  },
  {
   "cell_type": "code",
   "execution_count": 474,
   "metadata": {
    "scrolled": false
   },
   "outputs": [],
   "source": [
    "# df_2"
   ]
  },
  {
   "cell_type": "code",
   "execution_count": 475,
   "metadata": {},
   "outputs": [],
   "source": [
    "# list(df_2['Line_y'])[1]"
   ]
  },
  {
   "cell_type": "code",
   "execution_count": 477,
   "metadata": {},
   "outputs": [],
   "source": [
    "# BOI = '002'\n",
    "# plt.plot(list(df_2['Line_x'])[0], list(df_2['Line_y'])[0], 'ro', markersize=2)\n",
    "# plt.plot(list(df_2['Line_x'])[1], list(df_2['Line_y'])[1], 'yo', markersize=2)\n",
    "\n",
    "# x= np.linspace(np.min(list(df_2['Line_x'])[0] + list(df_2['Line_x'])[1]), np.max(list(df_2['Line_x'])[0] + list(df_2['Line_x'])[1]))\n",
    "# y = centerline_df.loc[BOI, 'cline_slope']*x + centerline_df.loc[BOI, 'cline_intercept']\n",
    "\n",
    "# plt.plot(x, y, '--c')\n",
    "# plt.show()"
   ]
  },
  {
   "cell_type": "code",
   "execution_count": 482,
   "metadata": {},
   "outputs": [],
   "source": [
    "# duplicate_df"
   ]
  },
  {
   "cell_type": "code",
   "execution_count": 486,
   "metadata": {},
   "outputs": [
    {
     "name": "stdout",
     "output_type": "stream",
     "text": [
      "Max difference: 104.95531782434409 meters\n",
      "Average difference: 19.86513388072691 meters\n"
     ]
    }
   ],
   "source": [
    "# np.average(list(duplicate_df['difference']))\n",
    "\n",
    "print(\"Max difference: \"+str(np.max(list(duplicate_df['difference'])))+' meters')\n",
    "print(\"Average difference: \"+str(np.average(list(duplicate_df['difference'])))+' meters')"
   ]
  },
  {
   "cell_type": "markdown",
   "metadata": {},
   "source": [
    "### Result: inter-analyst variability\n",
    "\n",
    "- Maximum difference = __~105 meters__ or __7 pixels__\n",
    "- Average difference = __~20 meters__ or __1.3 pixels__"
   ]
  },
  {
   "cell_type": "markdown",
   "metadata": {},
   "source": [
    "## 6) Plot manual terminus position time series"
   ]
  },
  {
   "cell_type": "code",
   "execution_count": 564,
   "metadata": {
    "scrolled": true
   },
   "outputs": [],
   "source": [
    "BOI = '002'\n",
    "df = manual_df[manual_df['BoxID']==BOI].copy()\n",
    "# df"
   ]
  },
  {
   "cell_type": "code",
   "execution_count": 565,
   "metadata": {},
   "outputs": [
    {
     "data": {
      "image/png": "[encoded data removed]",
      "text/plain": [
       "<Figure size 864x432 with 1 Axes>"
      ]
     },
     "metadata": {
      "needs_background": "light"
     },
     "output_type": "display_data"
    }
   ],
   "source": [
    "fig, ax1 = plt.subplots(figsize=(12,6))\n",
    "ax1.plot(df['datetimes'], df['term_position'], 'go', markersize='5', alpha=0.7)\n",
    "plt.title('Manual delineations: Box'+BOI)\n",
    "plt.show()"
   ]
  },
  {
   "cell_type": "markdown",
   "metadata": {},
   "source": [
    "## 7) Plot automated vs. manual time series and analyze difference"
   ]
  },
  {
   "cell_type": "code",
   "execution_count": 566,
   "metadata": {},
   "outputs": [],
   "source": [
    "#Read in automated df\n",
    "auto_df = pd.read_csv('/home/jukes/Documents/Sample_glaciers/Tpos_timeseries_Box'+BOI+'_filtered.csv', sep=',')\n",
    "\n",
    "#Turn datetimes from datetime_df into DateTime objects\n",
    "#grab the datetime strings\n",
    "datetimes = auto_df.loc[:,'datetimes']\n",
    "#create list to store the datetime objects\n",
    "datetime_objs = []\n",
    "\n",
    "for date in datetimes:\n",
    "    date = str(date)\n",
    "    datetime_obj = datetime.datetime.strptime(date, '%Y-%m-%d')\n",
    "    datetime_obj = np.datetime64(datetime_obj)\n",
    "    datetime_objs.append(datetime_obj)\n",
    "\n",
    "#add the datetime objects back into the datetime column\n",
    "auto_df['datetimes'] = datetime_objs"
   ]
  },
  {
   "cell_type": "code",
   "execution_count": 567,
   "metadata": {},
   "outputs": [],
   "source": [
    "# auto_df"
   ]
  },
  {
   "cell_type": "code",
   "execution_count": 568,
   "metadata": {},
   "outputs": [],
   "source": [
    "#grab max and min dates from automated time series:\n",
    "maxdate = np.max(list(auto_df['datetimes']))\n",
    "mindate = np.min(list(auto_df['datetimes']))\n",
    "\n",
    "#grab only manual delineations between those dates\n",
    "df_2013 = df[df['datetimes'] > mindate].copy()\n",
    "ls8_df = df_2013[df_2013['datetimes'] < maxdate].copy()"
   ]
  },
  {
   "cell_type": "code",
   "execution_count": 569,
   "metadata": {},
   "outputs": [],
   "source": [
    "# df_2013"
   ]
  },
  {
   "cell_type": "code",
   "execution_count": 570,
   "metadata": {},
   "outputs": [],
   "source": [
    "# ls8_df"
   ]
  },
  {
   "cell_type": "code",
   "execution_count": 571,
   "metadata": {},
   "outputs": [],
   "source": [
    "# new_tpos = []\n",
    "\n",
    "# for idx, row in auto_df.iterrows():\n",
    "#     if row['term_position'] > 400.0:\n",
    "#         new_tpos.append(np.nan)\n",
    "#     else:\n",
    "#         new_tpos.append(row['term_position'])"
   ]
  },
  {
   "cell_type": "code",
   "execution_count": 572,
   "metadata": {},
   "outputs": [],
   "source": [
    "# auto_df['term_position'] = new_tpos"
   ]
  },
  {
   "cell_type": "code",
   "execution_count": 573,
   "metadata": {},
   "outputs": [],
   "source": [
    "# #drop nans\n",
    "# ls8_df = ls8_df.dropna()\n",
    "# auto_df = auto_df.dropna()\n",
    "\n",
    "# # #grab max terminus position across both\n",
    "# max_tpos_man = np.max(list(ls8_df['term_position']))+45#+(2*15.0)\n",
    "# max_tpos_auto = np.max(list(auto_df['term_position']))\n",
    "# # max_tpos_man = 0\n",
    "# # max_tpos_auto = 0\n",
    "# print(max_tpos_man, max_tpos_auto)"
   ]
  },
  {
   "cell_type": "code",
   "execution_count": 574,
   "metadata": {},
   "outputs": [],
   "source": [
    "# auto_df"
   ]
  },
  {
   "cell_type": "code",
   "execution_count": 575,
   "metadata": {
    "scrolled": false
   },
   "outputs": [
    {
     "data": {
      "image/png": "[encoded data removed]",
      "text/plain": [
       "<Figure size 864x432 with 1 Axes>"
      ]
     },
     "metadata": {
      "needs_background": "light"
     },
     "output_type": "display_data"
    }
   ],
   "source": [
    "fig, ax1 = plt.subplots(figsize=(12,6))\n",
    "# ax1.plot(ls8_df['datetimes'], np.array(ls8_df['term_position']) - max_tpos_man, 'go', markersize='5', alpha=0.6)\n",
    "ax1.plot(ls8_df['datetimes'], np.array(ls8_df['term_position']), 'go', markersize='5', alpha=0.6)\n",
    "ax1.set_ylabel('Terminus position (m)', color='k', fontsize=14)\n",
    "\n",
    "\n",
    "#Automated time series\n",
    "# ax2 = ax1.twinx()\n",
    "ax1.plot(auto_df['datetimes'], np.array(auto_df['term_position']), 'mx', markersize='8', alpha=1)\n",
    "# ax1.plot(auto_df['datetimes'], np.array(auto_df['term_position']) - max_tpos_auto, 'mx', markersize='8', alpha=1)\n",
    "# ax2.set_ylabel('Auto terminus position (m)', color = 'k', fontsize=12)\n",
    "# ax2.get_yaxis().set_visible(False) \n",
    "\n",
    "#GENERAL PLOT PARAMETERS\n",
    "# ax1.set_title(\"Box\"+BOI, fontsize=16)\n",
    "ax1.set_xlabel('Date', fontsize=14)\n",
    "# ax1.set_ylim(-275, 25)\n",
    "# ax2.set_ylim(-255, 10)\n",
    "ax1.tick_params(axis='both', which='major', labelsize=14)\n",
    "# ax2.tick_params(axis='both', which='major', labelsize=12)\n",
    "fig.legend(['Manual', 'Automated'], bbox_to_anchor=(1,1), bbox_transform=ax1.transAxes, fontsize=12)\n",
    "# fig.legend(['Manual', 'Automated'], fontsize=12)\n",
    "\n",
    "#SAVE FIGURE\n",
    "plt.title(\"Box\"+BOI)\n",
    "plt.savefig(\"/media/jukes/jukes1/Manual/Manual_vs_automated_Box\"+BOI+\".png\", dpi=500)\n",
    "plt.show()"
   ]
  },
  {
   "cell_type": "code",
   "execution_count": 576,
   "metadata": {},
   "outputs": [],
   "source": [
    "# auto_df"
   ]
  },
  {
   "cell_type": "code",
   "execution_count": 577,
   "metadata": {},
   "outputs": [],
   "source": [
    "comparison_df = pd.merge(auto_df.drop(['BoxID', 'changerate','Order'], axis=1), ls8_df.drop(['Line_x', 'Line_y', 'BoxID'], axis=1), how='inner', on='datetimes')\n",
    "comparison_df = comparison_df.dropna()"
   ]
  },
  {
   "cell_type": "code",
   "execution_count": 578,
   "metadata": {},
   "outputs": [],
   "source": [
    "# #recalculate terminus position for either side\n",
    "# comparison_df['term_position_x'] = np.array(comparison_df['term_position_x']) - max_tpos_auto\n",
    "# comparison_df['term_position_y'] = np.array(comparison_df['term_position_y']) - max_tpos_man"
   ]
  },
  {
   "cell_type": "code",
   "execution_count": 579,
   "metadata": {},
   "outputs": [],
   "source": [
    "comparison_df['auto_man_diff'] = np.array(comparison_df['term_position_x']) - np.array(comparison_df['term_position_y'])"
   ]
  },
  {
   "cell_type": "code",
   "execution_count": 580,
   "metadata": {
    "scrolled": true
   },
   "outputs": [
    {
     "name": "stdout",
     "output_type": "stream",
     "text": [
      "Automated vs. manual delineations\n",
      "12\n",
      "Max difference: 1066.545343400614 meters\n",
      "Average difference: 212.71703056830242 meters\n"
     ]
    }
   ],
   "source": [
    "differences = np.array(comparison_df.auto_man_diff)\n",
    "print(\"Automated vs. manual delineations\")\n",
    "print(len(comparison_df))\n",
    "print(\"Max difference: \"+str(np.max(abs(differences)))+' meters')\n",
    "print(\"Average difference: \"+str(np.average(abs(differences)))+' meters')"
   ]
  },
  {
   "cell_type": "code",
   "execution_count": 581,
   "metadata": {},
   "outputs": [
    {
     "data": {
      "text/plain": [
       "239"
      ]
     },
     "execution_count": 581,
     "metadata": {},
     "output_type": "execute_result"
    }
   ],
   "source": [
    "93+12+84+37+13"
   ]
  },
  {
   "cell_type": "code",
   "execution_count": 584,
   "metadata": {},
   "outputs": [
    {
     "data": {
      "text/plain": [
       "65.79916317991632"
      ]
     },
     "execution_count": 584,
     "metadata": {},
     "output_type": "execute_result"
    }
   ],
   "source": [
    "(93*61 + 12*212 + 84*15 + 37*28 + 13*401)/239"
   ]
  },
  {
   "cell_type": "code",
   "execution_count": 586,
   "metadata": {},
   "outputs": [
    {
     "data": {
      "text/plain": [
       "4.4"
      ]
     },
     "execution_count": 586,
     "metadata": {},
     "output_type": "execute_result"
    }
   ],
   "source": [
    "66/15"
   ]
  }
 ],
 "metadata": {
  "kernelspec": {
   "display_name": "Python 3",
   "language": "python",
   "name": "python3"
  },
  "language_info": {
   "codemirror_mode": {
    "name": "ipython",
    "version": 3
   },
   "file_extension": ".py",
   "mimetype": "text/x-python",
   "name": "python",
   "nbconvert_exporter": "python",
   "pygments_lexer": "ipython3",
   "version": "3.7.3"
  }
 },
 "nbformat": 4,
 "nbformat_minor": 2
}
