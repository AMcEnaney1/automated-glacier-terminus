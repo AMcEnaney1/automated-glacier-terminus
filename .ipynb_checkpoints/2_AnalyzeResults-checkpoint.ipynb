{
 "cells": [
  {
   "cell_type": "markdown",
   "metadata": {},
   "source": [
    "# Post-WTMM analysis of terminus positions\n",
    "\n",
    "By Jukes Liu\n",
    "\n",
    "_Last modified 05-07-2020._"
   ]
  },
  {
   "cell_type": "code",
   "execution_count": 2,
   "metadata": {},
   "outputs": [],
   "source": [
    "import numpy as np\n",
    "import pandas as pd\n",
    "import matplotlib.pyplot as plt\n",
    "import matplotlib.image as mpimg\n",
    "import os\n",
    "\n",
    "basepath = '/home/jukes/Documents/Sample_glaciers/'\n",
    "\n",
    "os.chdir('/home/jukes/automated-glacier-terminus')\n",
    "from automated_terminus_functions import midpoint"
   ]
  },
  {
   "cell_type": "markdown",
   "metadata": {},
   "source": [
    "### Grab the BoxIDs"
   ]
  },
  {
   "cell_type": "code",
   "execution_count": 3,
   "metadata": {},
   "outputs": [
    {
     "name": "stdout",
     "output_type": "stream",
     "text": [
      "{'255', '245', '160', '265', '120', '174', '210', '279', '193', '130', '190', '191', '148', '260', '100', '152', '240', '192', '194', '150', '140', '147', '225', '155', '200', '180', '219', '285', '220', '235', '110', '205', '280', '185', '290', '135', '277', '214', '115', '270', '195', '213', '175'}\n"
     ]
    }
   ],
   "source": [
    "downloaded_df = pd.read_csv(basepath+'Images_downloaded_SE.csv', sep=',', usecols =[1, 2, 3], dtype=str)\n",
    "downloaded_df = downloaded_df.set_index('BoxID')\n",
    "# # pathrows_df = pathrows_df.drop('215')\n",
    "# pathrows_df\n",
    "BoxIDs = set(list(downloaded_df.index))\n",
    "print(BoxIDs)"
   ]
  },
  {
   "cell_type": "markdown",
   "metadata": {},
   "source": [
    "# 1) Grab the vertices of the glacier terminus boxes in pixel coordinates\n",
    "\n",
    "The vertices of the glacier terminus box will be used to calculate a midpoint of the left edge of the terminus box, which will be our reference point for calculating terminus position."
   ]
  },
  {
   "cell_type": "code",
   "execution_count": null,
   "metadata": {},
   "outputs": [],
   "source": [
    "#create dictionary to store each terminus box ndarray by BoxID\n",
    "termboxes = {}\n",
    "\n",
    "#read in the terminus box rasters\n",
    "for BoxID in BoxIDs:\n",
    "    #load in the raster\n",
    "#     boxpath = basepath+\"Box\"+BoxID+\"/rotated_images/final/crop_Box\"+BoxID+\"_raster_cut.pgm\"\n",
    "    boxpath = \"/media/jukes/jukes1/LS8aws/Box\"+BoxID+\"/rotated/R_Box\"+BoxID+\"_raster_cut.pgm\"\n",
    "    #read the raster into an ndarray\n",
    "    termbox = mpimg.imread(boxpath)\n",
    "    #add the ndarray into a dictionary with the BoxID as the key\n",
    "    termboxes.update( {BoxID: termbox} )"
   ]
  },
  {
   "cell_type": "code",
   "execution_count": null,
   "metadata": {},
   "outputs": [],
   "source": [
    "#visualize each terminus box rasters by BoxID\n",
    "termplot = plt.imshow(termboxes['245'])\n",
    "plt.show()"
   ]
  },
  {
   "cell_type": "markdown",
   "metadata": {},
   "source": [
    "#### Find x,y coordinates of box vertices and midpoints of left and right edges to get the centerline"
   ]
  },
  {
   "cell_type": "code",
   "execution_count": null,
   "metadata": {},
   "outputs": [],
   "source": [
    "#create dictionary to store the all coordinates of the box rasters\n",
    "boxes_xcoords = {}; boxes_ycoords = {}\n",
    "\n",
    "#create dictionaries for the box vertices\n",
    "topleft_coords = {}; bottomleft_coords = {}; topright_coords = {} ;bottomright_coords = {}\n",
    "\n",
    "#create lists to store the left midpoints (1C) and right midpoints (2C)\n",
    "midpoints_x = []; midpoints_y = []; midpoints_r_x = []; midpoints_r_y = []\n",
    "mids_l025_x = []; mids_l025_y = []; mids_r025_x = []; mids_r025_y = []\n",
    "mids_l075_x = []; mids_l075_y = []; mids_r075_x = []; mids_r075_y = []\n",
    "\n",
    "#create lists to store the slopes and intercepts of the centerline equations\n",
    "slope_50 = []; intercept_50 = []; slope_25 = []; intercept_25 = []; slope_75 = []; intercept_75 = []; boxes = []\n",
    "\n",
    "#for all the box rasters\n",
    "for BoxID in BoxIDs:\n",
    "    BOI = termboxes[BoxID] #Read in the raster of the BoxID of interest\n",
    "    yindices, xindices = np.where(BOI > 0) #keep the pixels of where thevalue is nonzero (where the box exists)\n",
    "    boxes_ycoords.update( {BoxID: yindices}); boxes_xcoords.update( {BoxID: xindices}) #add box coordinates to the dictionary\n",
    "    \n",
    "    #1A) FIND THE TOP LEFT COORDINATES (min x and min y)\n",
    "    xy = xindices*yindices\n",
    "    min_xy_i = np.where(xy == np.min(xy))[0][0]  #Find the x and y pair corresponding to that lowest xy\n",
    "    if BoxID == '001':\n",
    "        topleft = [6, 26]\n",
    "    else:\n",
    "         topleft = [xindices[min_xy_i], yindices[min_xy_i]]\n",
    "    topleft_coords.update(  {BoxID: topleft}  )     #Add to dictionary of topleft coordinates\n",
    "    print(\"Top left\", topleft)  \n",
    "    \n",
    "    #2B) FIND THE BOTTOM RIGHT COORDINATES (highest x*y)\n",
    "    max_xy = np.max(xy)\n",
    "    max_xy_i = np.where(xy == max_xy)[0][0]\n",
    "    bottomright = [xindices[max_xy_i], yindices[max_xy_i]]\n",
    "    bottomright_coords.update( {BoxID: bottomright})\n",
    "    print(\"Bottom right\", bottomright)\n",
    "    \n",
    "    #1B) FIND THE BOTTOM LEFT COORDINATE(highest y/x)\n",
    "    y_x = yindices/xindices\n",
    "    max_y_x = np.max(y_x) #Find the highest y/x value\n",
    "    #Find the x and y pair corresponding to that y/x using the index\n",
    "    max_y_x_i = np.where(y_x == max_y_x)[0][0]\n",
    "    bottomleft = [xindices[max_y_x_i], yindices[max_y_x_i]]\n",
    "    print(\"Bottom left\", bottomleft)\n",
    "    bottomleft_coords.update( {BoxID: bottomleft}  ) #Add to dictionary of bottomleft coordinates\n",
    "    \n",
    "    #2A) FIND THE TOP RIGHT COORDINATES (highest x/y)\n",
    "    x_y = xindices/yindices\n",
    "    max_x_y = np.max(x_y)  # find highest x/y value\n",
    "    max_x_y_i = np.where(x_y == max_x_y)[0][0]  #Find the x, y pair correpsonding to the maximum x/y using the index\n",
    "    topright = [xindices[max_x_y_i], yindices[max_x_y_i]]\n",
    "    topright_coords.update( {BoxID: topright} )\n",
    "    print(\"Top right\", topright)\n",
    "    \n",
    "    #1C and 2C) CALCULATE THE MIDPOINTS USING MIDPOINT FUNCTION\n",
    "    #Left\n",
    "    midpoint_x, midpoint_y = midpoint(topleft[0], topleft[1], bottomleft[0], bottomleft[1])\n",
    "    #Right\n",
    "    midpoint_r_x, midpoint_r_y = midpoint(topright[0], topright[1], bottomright[0], bottomright[1])\n",
    "    \n",
    "#     #Add x and y coordinates to dictionaries\n",
    "#     midpoints_x.update( {BoxID: midpoint_x}  ); midpoints_y.update( {BoxID: midpoint_y}  )\n",
    "#     midpoints_r_x.update( {BoxID: midpoint_r_x}); midpoints_r_y.update( {BoxID: midpoint_r_y})\n",
    "    \n",
    "    #GRAB 1/4th and 3/4ths lines (midpoints)\n",
    "    mid_l025_x, mid_l025_y = midpoint(topleft[0], topleft[1], midpoint_x, midpoint_y)\n",
    "    mid_r025_x, mid_r025_y = midpoint(topright[0], topright[1], midpoint_r_x, midpoint_r_y)\n",
    "    \n",
    "    mid_l075_x, mid_l075_y = midpoint(bottomleft[0], bottomleft[1], midpoint_x, midpoint_y)\n",
    "    mid_r075_x, mid_r075_y = midpoint(bottomright[0], bottomright[1], midpoint_r_x, midpoint_r_y)\n",
    "    \n",
    "    #3) CALCULATE CENTERLINE EQUATIONS\n",
    "    #1/2\n",
    "    m = (midpoint_r_y - midpoint_y)/(midpoint_r_x - midpoint_x)\n",
    "    #y-intercept = y1 - m*x1\n",
    "    b = midpoint_y - (m*midpoint_x)\n",
    "    #1/4\n",
    "    m025 = (mid_r025_y-mid_l025_y)/(mid_r025_x-mid_l025_x); b025 = mid_l025_y - (m*mid_l025_x)\n",
    "    #3/4\n",
    "    m075 = (mid_r075_y-mid_l075_y)/(mid_r075_x-mid_l075_x); b075 = mid_l075_y - (m*mid_l075_x)\n",
    "    \n",
    "    #append BoxIDs, slopes, intercepts, midpoints, and centerlines to lists\n",
    "    boxes.append(BoxID);\n",
    "    midpoints_x.append(midpoint_x); midpoints_y.append(midpoint_y)\n",
    "    midpoints_r_x.append(midpoint_r_x); midpoints_r_y.append(midpoint_r_y)  \n",
    "    mids_l025_x.append(mid_l025_x); mids_l025_y.append(mid_l025_y); \n",
    "    mids_r025_x.append(mid_r025_x); mids_r025_y.append(mid_r025_y)\n",
    "    mids_l075_x.append(mid_l075_x) ;mids_l075_y.append(mid_l075_y) ;\n",
    "    mids_r075_x.append(mid_r075_x) ;mids_r075_y.append(mid_r075_y)\n",
    "    slope_50.append(m); intercept_50.append(b); \n",
    "    slope_25.append(m025); intercept_25.append(b025)\n",
    "    slope_75.append(m075); intercept_75.append(b075)\n",
    "    \n",
    "#create a dataframe\n",
    "total_df = pd.DataFrame(list(zip(boxes, midpoints_x, midpoints_y, midpoints_r_x, midpoints_r_y, slope_50, \n",
    "                                 intercept_50, mids_l025_x, mids_l025_y, mids_r025_x, mids_r025_y, slope_25, \n",
    "                                 intercept_25, mids_l075_x, mids_l075_y, mids_r075_x, mids_r075_y, slope_75, \n",
    "                                intercept_75)), \n",
    "                        columns=['BoxID', 'lmid50_x', 'lmid50_y', 'rmid50_x','rmid50_y', 'm50', 'b50',\n",
    "                                 'lmid25_x', 'lmid25_y','rmid25_x','rmid25_y', 'm25', 'b25',\n",
    "                                 'lmid75_x', 'lmid75_y', 'rmid75_x','rmid75_y', 'm75', 'b75'])\n",
    "\n",
    "total_df = total_df.drop_duplicates().set_index('BoxID')\n",
    "total_df"
   ]
  },
  {
   "cell_type": "markdown",
   "metadata": {},
   "source": [
    "### Another visual check"
   ]
  },
  {
   "cell_type": "code",
   "execution_count": null,
   "metadata": {},
   "outputs": [],
   "source": [
    "# Choose which glacier BoxID to check:\n",
    "BOI_ID = '120'\n",
    "\n",
    "# plot the raster pixels in black\n",
    "plt.scatter(boxes_xcoords[BOI_ID], boxes_ycoords[BOI_ID], c='k',marker='s')\n",
    "#plot the vertices\n",
    "plt.scatter(topleft_coords[BOI_ID][0], topleft_coords[BOI_ID][1], c='y')\n",
    "plt.scatter(bottomleft_coords[BOI_ID][0], bottomleft_coords[BOI_ID][1], c='y')\n",
    "plt.scatter(topright_coords[BOI_ID][0], topright_coords[BOI_ID][1], c='y')\n",
    "plt.scatter(bottomright_coords[BOI_ID][0], bottomright_coords[BOI_ID][1], c='y')\n",
    "#plot midpoints\n",
    "plt.scatter(total_df.at[BOI_ID,'lmid50_x'], total_df.at[BOI_ID,'lmid50_y'], c='m'); plt.scatter(total_df.at[BOI_ID, 'rmid50_x'], total_df.at[BOI_ID, 'rmid50_y'], c='m')\n",
    "plt.scatter(total_df.at[BOI_ID,'lmid25_x'], total_df.at[BOI_ID,'lmid25_y'], c='r'); plt.scatter(total_df.at[BOI_ID, 'rmid25_x'], total_df.at[BOI_ID, 'rmid25_y'], c='r')\n",
    "plt.scatter(total_df.at[BOI_ID,'lmid75_x'], total_df.at[BOI_ID,'lmid75_y'], c='b'); plt.scatter(total_df.at[BOI_ID, 'rmid75_x'], total_df.at[BOI_ID, 'rmid75_y'], c='b')\n",
    "# plot the centerlines in cyan\n",
    "x=np.linspace(np.min(boxes_xcoords[BOI_ID]), np.max(boxes_xcoords[BOI_ID])); y50=(total_df.at[BOI_ID, 'm50'])*x + (total_df.at[BOI_ID, 'b50']); \n",
    "y25=(total_df.at[BOI_ID, 'm25'])*x + (total_df.at[BOI_ID, 'b25']); y75=(total_df.at[BOI_ID, 'm75'])*x + (total_df.at[BOI_ID, 'b75'])\n",
    "plt.plot(x, y50, '--m', x, y25, '--r', x, y75, '--b')\n",
    "# plot parameters      \n",
    "plt.gca().invert_yaxis(); plt.axis('scaled'); plt.show()"
   ]
  },
  {
   "cell_type": "markdown",
   "metadata": {},
   "source": [
    "### Drop the right midpoints and write the centerline information to a csv"
   ]
  },
  {
   "cell_type": "code",
   "execution_count": null,
   "metadata": {},
   "outputs": [],
   "source": [
    "total_df = total_df.drop(['rmid50_y', 'rmid25_y', 'rmid75_y'], axis=1)\n",
    "total_df.head(10)"
   ]
  },
  {
   "cell_type": "code",
   "execution_count": null,
   "metadata": {},
   "outputs": [],
   "source": [
    "CLINE_NAME = 'Boxes_coords_pathrows_SE_1.csv'\n",
    "total_df.to_csv(path_or_buf = basepath+CLINE_NAME, sep=',')"
   ]
  },
  {
   "cell_type": "markdown",
   "metadata": {},
   "source": [
    "# 2) Calculate terminus position time series"
   ]
  },
  {
   "cell_type": "code",
   "execution_count": null,
   "metadata": {},
   "outputs": [],
   "source": [
    "# IMPORT THE FUNCTION\n",
    "os.chdir('/home/jukes/automated-glacier-terminus')\n",
    "from automated_terminus_functions import results_allglaciers"
   ]
  }
 ],
 "metadata": {
  "kernelspec": {
   "display_name": "Python 3",
   "language": "python",
   "name": "python3"
  },
  "language_info": {
   "codemirror_mode": {
    "name": "ipython",
    "version": 3
   },
   "file_extension": ".py",
   "mimetype": "text/x-python",
   "name": "python",
   "nbconvert_exporter": "python",
   "pygments_lexer": "ipython3",
   "version": "3.7.3"
  }
 },
 "nbformat": 4,
 "nbformat_minor": 2
}
