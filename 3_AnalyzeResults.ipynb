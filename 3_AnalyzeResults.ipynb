{
 "cells": [
  {
   "cell_type": "markdown",
   "metadata": {},
   "source": [
    "# Post-WTMM analysis of terminus positions\n",
    "\n",
    "By Jukes Liu (jukesliu@boisestate.edu)\n",
    "\n",
    "_Last modified 06-12-2020._"
   ]
  },
  {
   "cell_type": "code",
   "execution_count": 1,
   "metadata": {},
   "outputs": [
    {
     "ename": "FileNotFoundError",
     "evalue": "[Errno 2] No such file or directory: '/home/jukes/automated-glacier-terminus'",
     "output_type": "error",
     "traceback": [
      "\u001b[0;31m---------------------------------------------------------------------------\u001b[0m",
      "\u001b[0;31mFileNotFoundError\u001b[0m                         Traceback (most recent call last)",
      "\u001b[0;32m<ipython-input-1-9358024ee93b>\u001b[0m in \u001b[0;36m<module>\u001b[0;34m\u001b[0m\n\u001b[1;32m      7\u001b[0m \u001b[0mbasepath\u001b[0m \u001b[0;34m=\u001b[0m \u001b[0;34m'/home/jukes/Documents/Sample_glaciers/'\u001b[0m\u001b[0;34m\u001b[0m\u001b[0;34m\u001b[0m\u001b[0m\n\u001b[1;32m      8\u001b[0m \u001b[0;34m\u001b[0m\u001b[0m\n\u001b[0;32m----> 9\u001b[0;31m \u001b[0mos\u001b[0m\u001b[0;34m.\u001b[0m\u001b[0mchdir\u001b[0m\u001b[0;34m(\u001b[0m\u001b[0;34m'/home/jukes/automated-glacier-terminus'\u001b[0m\u001b[0;34m)\u001b[0m\u001b[0;34m\u001b[0m\u001b[0;34m\u001b[0m\u001b[0m\n\u001b[0m\u001b[1;32m     10\u001b[0m \u001b[0;32mfrom\u001b[0m \u001b[0mautomated_terminus_functions\u001b[0m \u001b[0;32mimport\u001b[0m \u001b[0mmidpoint\u001b[0m\u001b[0;34m\u001b[0m\u001b[0;34m\u001b[0m\u001b[0m\n",
      "\u001b[0;31mFileNotFoundError\u001b[0m: [Errno 2] No such file or directory: '/home/jukes/automated-glacier-terminus'"
     ]
    }
   ],
   "source": [
    "import numpy as np\n",
    "import pandas as pd\n",
    "import matplotlib.pyplot as plt\n",
    "import matplotlib.image as mpimg\n",
    "import os\n",
    "import subprocess\n",
    "import fiona\n",
    "from shapely.geometry import Polygon, Point\n",
    "import shapely\n",
    "\n",
    "basepath = '/home/jukes/Documents/Sample_glaciers/'\n",
    "\n",
    "os.chdir('/home/jukes/automated-glacier-terminus')\n",
    "from automated_terminus_functions import midpoint"
   ]
  },
  {
   "cell_type": "markdown",
   "metadata": {},
   "source": [
    "### Grab the BoxIDs"
   ]
  },
  {
   "cell_type": "code",
   "execution_count": 2,
   "metadata": {},
   "outputs": [
    {
     "name": "stdout",
     "output_type": "stream",
     "text": [
      "['245', '296', '220', '240', '277', '270', '246']\n"
     ]
    }
   ],
   "source": [
    "downloaded_df = pd.read_csv(basepath+'Images_downloaded_SE_focus.csv', sep=',', dtype=str)\n",
    "downloaded_df = downloaded_df.set_index('BoxID')\n",
    "# # pathrows_df = pathrows_df.drop('215')\n",
    "# pathrows_df\n",
    "BoxIDs = list(downloaded_df.index)\n",
    "print(BoxIDs)"
   ]
  },
  {
   "cell_type": "markdown",
   "metadata": {},
   "source": [
    "# 1) Grab the vertices of the glacier terminus boxes in pixel coordinates\n",
    "\n",
    "The vertices of the glacier terminus box will be used to calculate a midpoint of the left edge of the terminus box, which will be our reference point for calculating terminus position."
   ]
  },
  {
   "cell_type": "code",
   "execution_count": 128,
   "metadata": {},
   "outputs": [],
   "source": [
    "# convert rasterized, rotated boxes to shapefiles:\n",
    "for BoxID in BoxIDs:\n",
    "#     if BoxID == '270':\n",
    "        boxpath = \"/media/jukes/jukes1/LS8aws/Box\"+BoxID+\"/rotated_c1/R_Box\"+BoxID+\"_raster_cut\"\n",
    "        polygonize='gdal_polygonize.py '+boxpath+'.pgm -f \"ESRI Shapefile\" '+boxpath+'.shp'\n",
    "        subprocess.call(polygonize, shell=True)"
   ]
  },
  {
   "cell_type": "code",
   "execution_count": 175,
   "metadata": {
    "scrolled": false
   },
   "outputs": [],
   "source": [
    "# # read in box shapefile:\n",
    "# termboxes = {}\n",
    "# for BoxID in BoxIDs:\n",
    "#     print(\"Box\"+BoxID)\n",
    "#     boxpath = \"/media/jukes/jukes1/LS8aws/Box\"+BoxID+\"/rotated_c1/R_Box\"+BoxID+\"_raster_cut\"\n",
    "#     termbox = fiona.open(boxpath+'.shp'); box = termbox.next()\n",
    "#     box_geom= box.get('geometry'); box_coords = box_geom.get('coordinates')[0]  \n",
    "    \n",
    "#     xs = list(zip(*box_coords))[0]; ys = list(zip(*box_coords))[1]\n",
    "    \n",
    "# #     plt.plot(xs, ys)\n",
    "# #     plt.gca().invert_yaxis(); plt.axis('scaled'); plt.show()\n",
    "    \n",
    "#     vertices = []\n",
    "    \n",
    "#     if BoxID =='270':\n",
    "#         print(xs)\n",
    "#         print(np.where(xs == np.max(xs))[0])\n",
    "#     elif BoxID == '296':\n",
    "#         # grab minimum x\n",
    "#         min_x_i = np.where(xs == np.min(xs))[0][0]\n",
    "#         print(np.where(xs == np.min(xs))[0])\n",
    "#         for xi in np.where(xs == np.min(xs))[0]:\n",
    "#             print(ys[xi])\n",
    "#         print(xs[min_x_i], ys[min_x_i])\n",
    "#         vertices.append(shapely.geometry.Point(xs[min_x_i], ys[min_x_i]))\n",
    "#     else:\n",
    "#         # grab minimum x\n",
    "#         min_x_i = np.where(xs == np.min(xs))[0][0]\n",
    "#         minx_x = xs[min_x_i]; minx_y = ys[min_x_i]\n",
    "        \n",
    "#         vertices.append(shapely.geometry.Point(xs[min_x_i], ys[min_x_i]))\n",
    "#         # grab maximum y\n",
    "#         max_y_i = np.where(ys == np.max(ys))[0][-1]\n",
    "# #         print(xs[max_y_i], ys[max_y_i])\n",
    "#         vertices.append(shapely.geometry.Point(xs[max_y_i], ys[max_y_i]))\n",
    "#         # grab maximum x\n",
    "#         max_x_i = np.where(xs == np.max(xs))[0][-1]\n",
    "# #         print(xs[max_x_i], ys[max_x_i])\n",
    "#         vertices.append(shapely.geometry.Point(xs[max_x_i], ys[max_x_i]))\n",
    "#         # grab minimum y\n",
    "#         min_y_i = np.where(ys == np.min(ys))[0][0]\n",
    "# #         print(xs[min_y_i], ys[min_y_i])\n",
    "#         vertices.append(shapely.geometry.Point(xs[min_y_i], ys[min_y_i]))\n",
    "\n",
    "    \n",
    "#     boxshp = shapely.geometry.Polygon(vertices)\n",
    "#     termboxes.update({BoxID: boxshp})\n",
    "    \n",
    "# #     points = [] # to hold the vertices\n",
    "# #     for coord_pair in box_coords:\n",
    "# #         lat = coord_pair[0]; lon = coord_pair[1]\n",
    "# #         #create shapely points and append to points list\n",
    "# #         point = (lat, lon)\n",
    "# #         points.append(point)\n",
    "# #         print(point)\n",
    "# #     termboxes.update( {BoxID: points} ); print(\"Box\"+BoxID)"
   ]
  },
  {
   "cell_type": "code",
   "execution_count": 169,
   "metadata": {},
   "outputs": [
    {
     "data": {
      "image/svg+xml": [
       "<svg xmlns=\"http://www.w3.org/2000/svg\" xmlns:xlink=\"http://www.w3.org/1999/xlink\" width=\"100.0\" height=\"100.0\" viewBox=\"84.44 87.44 96.12 59.120000000000005\" preserveAspectRatio=\"xMinYMin meet\"><g transform=\"matrix(1,0,0,-1,0,234.0)\"><path fill-rule=\"evenodd\" fill=\"#66cc99\" stroke=\"#555555\" stroke-width=\"1.9224\" opacity=\"0.6\" d=\"M 88.0,120.0 L 176.0,143.0 L 177.0,94.0 L 90.0,91.0 L 88.0,120.0 z\" /></g></svg>"
      ],
      "text/plain": [
       "<shapely.geometry.polygon.Polygon at 0x7f1720cbb2d0>"
      ]
     },
     "execution_count": 169,
     "metadata": {},
     "output_type": "execute_result"
    }
   ],
   "source": [
    "# termboxes['296']"
   ]
  },
  {
   "cell_type": "code",
   "execution_count": 199,
   "metadata": {},
   "outputs": [],
   "source": [
    "# BoxIDs"
   ]
  },
  {
   "cell_type": "code",
   "execution_count": 209,
   "metadata": {},
   "outputs": [],
   "source": [
    "#create dictionary to store each terminus box ndarray by BoxID\n",
    "termboxes2 = {}\n",
    "\n",
    "#read in the terminus box rasters\n",
    "for BoxID in BoxIDs:\n",
    "    #load in the raster\n",
    "    boxpath = basepath+\"Box\"+BoxID+\"/rotated_images/final/crop_Box\"+BoxID+\"_raster_cut.pgm\"\n",
    "#     boxpath = \"/media/jukes/jukes1/LS8aws/Box\"+BoxID+\"/rotated_c1/R_Box\"+BoxID+\"_raster_cut.png\"\n",
    "\n",
    "    #read the raster into an ndarray\n",
    "    termbox = mpimg.imread(boxpath)\n",
    "    #add the ndarray into a dictionary with the BoxID as the key\n",
    "    termboxes2.update( {BoxID: termbox} )"
   ]
  },
  {
   "cell_type": "code",
   "execution_count": 210,
   "metadata": {},
   "outputs": [
    {
     "data": {
      "image/png": "[encoded data removed]",
      "text/plain": [
       "<Figure size 432x288 with 1 Axes>"
      ]
     },
     "metadata": {
      "needs_background": "light"
     },
     "output_type": "display_data"
    }
   ],
   "source": [
    "#visualize each terminus box rasters by BoxID\n",
    "termplot = plt.imshow(termboxes2['277'])\n",
    "plt.show()"
   ]
  },
  {
   "cell_type": "markdown",
   "metadata": {},
   "source": [
    "#### Find x,y coordinates of box vertices and midpoints of left and right edges to get the centerline"
   ]
  },
  {
   "cell_type": "code",
   "execution_count": 216,
   "metadata": {
    "scrolled": true
   },
   "outputs": [
    {
     "data": {
      "text/html": [
       "<div>\n",
       "<style scoped>\n",
       "    .dataframe tbody tr th:only-of-type {\n",
       "        vertical-align: middle;\n",
       "    }\n",
       "\n",
       "    .dataframe tbody tr th {\n",
       "        vertical-align: top;\n",
       "    }\n",
       "\n",
       "    .dataframe thead th {\n",
       "        text-align: right;\n",
       "    }\n",
       "</style>\n",
       "<table border=\"1\" class=\"dataframe\">\n",
       "  <thead>\n",
       "    <tr style=\"text-align: right;\">\n",
       "      <th></th>\n",
       "      <th>lmid50_x</th>\n",
       "      <th>lmid50_y</th>\n",
       "      <th>rmid50_x</th>\n",
       "      <th>rmid50_y</th>\n",
       "      <th>m50</th>\n",
       "      <th>b50</th>\n",
       "      <th>lmid25_x</th>\n",
       "      <th>lmid25_y</th>\n",
       "      <th>rmid25_x</th>\n",
       "      <th>rmid25_y</th>\n",
       "      <th>m25</th>\n",
       "      <th>b25</th>\n",
       "      <th>lmid75_x</th>\n",
       "      <th>lmid75_y</th>\n",
       "      <th>rmid75_x</th>\n",
       "      <th>rmid75_y</th>\n",
       "      <th>m75</th>\n",
       "      <th>b75</th>\n",
       "    </tr>\n",
       "    <tr>\n",
       "      <th>BoxID</th>\n",
       "      <th></th>\n",
       "      <th></th>\n",
       "      <th></th>\n",
       "      <th></th>\n",
       "      <th></th>\n",
       "      <th></th>\n",
       "      <th></th>\n",
       "      <th></th>\n",
       "      <th></th>\n",
       "      <th></th>\n",
       "      <th></th>\n",
       "      <th></th>\n",
       "      <th></th>\n",
       "      <th></th>\n",
       "      <th></th>\n",
       "      <th></th>\n",
       "      <th></th>\n",
       "      <th></th>\n",
       "    </tr>\n",
       "  </thead>\n",
       "  <tbody>\n",
       "    <tr>\n",
       "      <th>245</th>\n",
       "      <td>128.5</td>\n",
       "      <td>147.5</td>\n",
       "      <td>219.5</td>\n",
       "      <td>216.0</td>\n",
       "      <td>0.752747</td>\n",
       "      <td>50.771978</td>\n",
       "      <td>140.25</td>\n",
       "      <td>131.75</td>\n",
       "      <td>231.25</td>\n",
       "      <td>200.50</td>\n",
       "      <td>0.755495</td>\n",
       "      <td>26.177198</td>\n",
       "      <td>116.75</td>\n",
       "      <td>163.25</td>\n",
       "      <td>207.75</td>\n",
       "      <td>231.50</td>\n",
       "      <td>0.750000</td>\n",
       "      <td>75.366758</td>\n",
       "    </tr>\n",
       "    <tr>\n",
       "      <th>296</th>\n",
       "      <td>89.0</td>\n",
       "      <td>114.5</td>\n",
       "      <td>175.5</td>\n",
       "      <td>118.0</td>\n",
       "      <td>0.040462</td>\n",
       "      <td>110.898844</td>\n",
       "      <td>89.50</td>\n",
       "      <td>102.75</td>\n",
       "      <td>175.75</td>\n",
       "      <td>106.00</td>\n",
       "      <td>0.037681</td>\n",
       "      <td>99.128613</td>\n",
       "      <td>88.50</td>\n",
       "      <td>126.25</td>\n",
       "      <td>175.25</td>\n",
       "      <td>130.00</td>\n",
       "      <td>0.043228</td>\n",
       "      <td>122.669075</td>\n",
       "    </tr>\n",
       "    <tr>\n",
       "      <th>220</th>\n",
       "      <td>149.5</td>\n",
       "      <td>228.5</td>\n",
       "      <td>244.5</td>\n",
       "      <td>149.5</td>\n",
       "      <td>-0.831579</td>\n",
       "      <td>352.821053</td>\n",
       "      <td>133.75</td>\n",
       "      <td>209.75</td>\n",
       "      <td>229.25</td>\n",
       "      <td>131.25</td>\n",
       "      <td>-0.821990</td>\n",
       "      <td>320.973684</td>\n",
       "      <td>165.25</td>\n",
       "      <td>247.25</td>\n",
       "      <td>259.75</td>\n",
       "      <td>167.75</td>\n",
       "      <td>-0.841270</td>\n",
       "      <td>384.668421</td>\n",
       "    </tr>\n",
       "    <tr>\n",
       "      <th>240</th>\n",
       "      <td>217.5</td>\n",
       "      <td>288.5</td>\n",
       "      <td>342.0</td>\n",
       "      <td>236.0</td>\n",
       "      <td>-0.421687</td>\n",
       "      <td>380.216867</td>\n",
       "      <td>199.75</td>\n",
       "      <td>247.25</td>\n",
       "      <td>324.00</td>\n",
       "      <td>194.50</td>\n",
       "      <td>-0.424547</td>\n",
       "      <td>331.481928</td>\n",
       "      <td>235.25</td>\n",
       "      <td>329.75</td>\n",
       "      <td>360.00</td>\n",
       "      <td>277.50</td>\n",
       "      <td>-0.418838</td>\n",
       "      <td>428.951807</td>\n",
       "    </tr>\n",
       "    <tr>\n",
       "      <th>277</th>\n",
       "      <td>100.5</td>\n",
       "      <td>148.5</td>\n",
       "      <td>193.0</td>\n",
       "      <td>163.5</td>\n",
       "      <td>0.162162</td>\n",
       "      <td>132.202703</td>\n",
       "      <td>103.25</td>\n",
       "      <td>134.75</td>\n",
       "      <td>195.00</td>\n",
       "      <td>150.25</td>\n",
       "      <td>0.168937</td>\n",
       "      <td>118.006757</td>\n",
       "      <td>97.75</td>\n",
       "      <td>162.25</td>\n",
       "      <td>191.00</td>\n",
       "      <td>176.75</td>\n",
       "      <td>0.155496</td>\n",
       "      <td>146.398649</td>\n",
       "    </tr>\n",
       "    <tr>\n",
       "      <th>270</th>\n",
       "      <td>110.5</td>\n",
       "      <td>163.5</td>\n",
       "      <td>206.0</td>\n",
       "      <td>149.0</td>\n",
       "      <td>-0.151832</td>\n",
       "      <td>180.277487</td>\n",
       "      <td>107.25</td>\n",
       "      <td>142.75</td>\n",
       "      <td>202.50</td>\n",
       "      <td>127.50</td>\n",
       "      <td>-0.160105</td>\n",
       "      <td>159.034031</td>\n",
       "      <td>113.75</td>\n",
       "      <td>184.25</td>\n",
       "      <td>209.50</td>\n",
       "      <td>170.50</td>\n",
       "      <td>-0.143603</td>\n",
       "      <td>201.520942</td>\n",
       "    </tr>\n",
       "    <tr>\n",
       "      <th>246</th>\n",
       "      <td>103.5</td>\n",
       "      <td>162.0</td>\n",
       "      <td>185.5</td>\n",
       "      <td>122.0</td>\n",
       "      <td>-0.487805</td>\n",
       "      <td>212.487805</td>\n",
       "      <td>94.75</td>\n",
       "      <td>143.50</td>\n",
       "      <td>176.25</td>\n",
       "      <td>103.50</td>\n",
       "      <td>-0.490798</td>\n",
       "      <td>189.719512</td>\n",
       "      <td>112.25</td>\n",
       "      <td>180.50</td>\n",
       "      <td>194.75</td>\n",
       "      <td>140.50</td>\n",
       "      <td>-0.484848</td>\n",
       "      <td>235.256098</td>\n",
       "    </tr>\n",
       "  </tbody>\n",
       "</table>\n",
       "</div>"
      ],
      "text/plain": [
       "       lmid50_x  lmid50_y  rmid50_x  rmid50_y       m50         b50  lmid25_x  \\\n",
       "BoxID                                                                           \n",
       "245       128.5     147.5     219.5     216.0  0.752747   50.771978    140.25   \n",
       "296        89.0     114.5     175.5     118.0  0.040462  110.898844     89.50   \n",
       "220       149.5     228.5     244.5     149.5 -0.831579  352.821053    133.75   \n",
       "240       217.5     288.5     342.0     236.0 -0.421687  380.216867    199.75   \n",
       "277       100.5     148.5     193.0     163.5  0.162162  132.202703    103.25   \n",
       "270       110.5     163.5     206.0     149.0 -0.151832  180.277487    107.25   \n",
       "246       103.5     162.0     185.5     122.0 -0.487805  212.487805     94.75   \n",
       "\n",
       "       lmid25_y  rmid25_x  rmid25_y       m25         b25  lmid75_x  lmid75_y  \\\n",
       "BoxID                                                                           \n",
       "245      131.75    231.25    200.50  0.755495   26.177198    116.75    163.25   \n",
       "296      102.75    175.75    106.00  0.037681   99.128613     88.50    126.25   \n",
       "220      209.75    229.25    131.25 -0.821990  320.973684    165.25    247.25   \n",
       "240      247.25    324.00    194.50 -0.424547  331.481928    235.25    329.75   \n",
       "277      134.75    195.00    150.25  0.168937  118.006757     97.75    162.25   \n",
       "270      142.75    202.50    127.50 -0.160105  159.034031    113.75    184.25   \n",
       "246      143.50    176.25    103.50 -0.490798  189.719512    112.25    180.50   \n",
       "\n",
       "       rmid75_x  rmid75_y       m75         b75  \n",
       "BoxID                                            \n",
       "245      207.75    231.50  0.750000   75.366758  \n",
       "296      175.25    130.00  0.043228  122.669075  \n",
       "220      259.75    167.75 -0.841270  384.668421  \n",
       "240      360.00    277.50 -0.418838  428.951807  \n",
       "277      191.00    176.75  0.155496  146.398649  \n",
       "270      209.50    170.50 -0.143603  201.520942  \n",
       "246      194.75    140.50 -0.484848  235.256098  "
      ]
     },
     "execution_count": 216,
     "metadata": {},
     "output_type": "execute_result"
    }
   ],
   "source": [
    "#create dictionary to store the all coordinates of the box rasters\n",
    "boxes_xcoords = {}; boxes_ycoords = {}\n",
    "\n",
    "#create dictionaries for the box vertices\n",
    "topleft_coords = {}; bottomleft_coords = {}; topright_coords = {} ;bottomright_coords = {}\n",
    "\n",
    "#create lists to store the left midpoints (1C) and right midpoints (2C)\n",
    "midpoints_x = []; midpoints_y = []; midpoints_r_x = []; midpoints_r_y = []\n",
    "mids_l025_x = []; mids_l025_y = []; mids_r025_x = []; mids_r025_y = []\n",
    "mids_l075_x = []; mids_l075_y = []; mids_r075_x = []; mids_r075_y = []\n",
    "\n",
    "#create lists to store the slopes and intercepts of the centerline equations\n",
    "slope_50 = []; intercept_50 = []; slope_25 = []; intercept_25 = []; slope_75 = []; intercept_75 = []; boxes = []\n",
    "\n",
    "#for all the box rasters\n",
    "for BoxID in BoxIDs:\n",
    "    BOI = termboxes2[BoxID] #Read in the raster of the BoxID of interest\n",
    "    if len(BOI.shape) > 2:\n",
    "        yindices, xindices, third= np.where(BOI > 0) #keep the pixels of where the box exists\n",
    "    else:\n",
    "        yindices, xindices= np.where(BOI > 0) #keep the pixels of where the box exists\n",
    "    boxes_ycoords.update( {BoxID: yindices}); boxes_xcoords.update( {BoxID: xindices}) #add box coordinates to the dictionary\n",
    "    \n",
    "    if BoxID == '259':\n",
    "        topleft = [117.0, 355.0]\n",
    "        bottomleft = [166.0, 426.0]\n",
    "        topright = [386.0, 169.0]\n",
    "        bottomright = [435.0, 239.0]\n",
    "    elif BoxID == '245':\n",
    "        topright = [np.max(xindices), yindices[np.where(xindices == np.max(xindices))[0][0]]]\n",
    "        xy = xindices*yindices\n",
    "        min_xy_i = np.where(xy == np.nanmin(xy))[0][0]  #Find the x and y pair corresponding to that lowest xy\n",
    "        topleft = [xindices[min_xy_i], yindices[min_xy_i]]\n",
    "        \n",
    "        max_xy = np.nanmax(xy)\n",
    "        max_xy_i = np.where(xy == max_xy)[0][0]\n",
    "        bottomright = [xindices[max_xy_i], yindices[max_xy_i]]\n",
    "        \n",
    "        y_x = yindices/xindices\n",
    "        max_y_x = np.nanmax(y_x) #Find the highest y/x value\n",
    "        max_y_x_i = np.where(y_x == max_y_x)[0][0]\n",
    "        bottomleft = [xindices[max_y_x_i], yindices[max_y_x_i]]\n",
    "    elif BoxID == '220':\n",
    "        xy = xindices*yindices\n",
    "        min_xy_i = np.where(xy == np.nanmin(xy))[0][0]  #Find the x and y pair corresponding to that lowest xy\n",
    "        topleft = [xindices[min_xy_i], yindices[min_xy_i]]\n",
    "        bottomleft = [xindices[np.where(yindices == np.max(yindices))[0][0]], np.max(yindices)]\n",
    "        bottomright = [np.max(xindices), yindices[np.where(xindices == np.max(xindices))[0][0]]]\n",
    "        x_y = xindices/yindices\n",
    "        max_x_y = np.nanmax(x_y)  # find highest x/y value\n",
    "        max_x_y_i = np.where(x_y == max_x_y)[0][0]  #Find the x, y pair correpsonding to the maximum x/y using the index\n",
    "        topright = [xindices[max_x_y_i], yindices[max_x_y_i]]\n",
    "    elif BoxID == '277':\n",
    "        topleft = [106.0, 121.0]\n",
    "        topright = [197.0, 137.0]\n",
    "        bottomleft = [95.0, 176.0]\n",
    "        bottomright = [189.0, 190.0]\n",
    "    else:\n",
    "        #1A) FIND THE TOP LEFT COORDINATES (min x and min y)\n",
    "        xy = xindices*yindices\n",
    "        min_xy_i = np.where(xy == np.nanmin(xy))[0][0]  #Find the x and y pair corresponding to that lowest xy\n",
    "        topleft = [xindices[min_xy_i], yindices[min_xy_i]]\n",
    "\n",
    "        #2B) FIND THE BOTTOM RIGHT COORDINATES (highest x*y)\n",
    "        max_xy = np.nanmax(xy)\n",
    "        max_xy_i = np.where(xy == max_xy)[0][0]\n",
    "        bottomright = [xindices[max_xy_i], yindices[max_xy_i]]\n",
    "        \n",
    "        #1B) FIND THE BOTTOM LEFT COORDINATE(highest y/x)\n",
    "        y_x = yindices/xindices\n",
    "        max_y_x = np.nanmax(y_x) #Find the highest y/x value\n",
    "        #Find the x and y pair corresponding to that y/x using the index\n",
    "        max_y_x_i = np.where(y_x == max_y_x)[0][0]\n",
    "        bottomleft = [xindices[max_y_x_i], yindices[max_y_x_i]]\n",
    "        \n",
    "        #2A) FIND THE TOP RIGHT COORDINATES (highest x/y)\n",
    "        x_y = xindices/yindices\n",
    "        max_x_y = np.nanmax(x_y)  # find highest x/y value\n",
    "        max_x_y_i = np.where(x_y == max_x_y)[0][0]  #Find the x, y pair correpsonding to the maximum x/y using the index\n",
    "        topright = [xindices[max_x_y_i], yindices[max_x_y_i]]\n",
    "        \n",
    "    topleft_coords.update(  {BoxID: topleft}  )     #Add to dictionary of topleft coordinates\n",
    "    bottomright_coords.update( {BoxID: bottomright})\n",
    "    bottomleft_coords.update( {BoxID: bottomleft}  ) #Add to dictionary of bottomleft coordinates\n",
    "    topright_coords.update( {BoxID: topright} )\n",
    "    \n",
    "    # 1C and 2C) CALCULATE THE MIDPOINTS USING MIDPOINT FUNCTION\n",
    "    # Left\n",
    "    midpoint_x, midpoint_y = midpoint(topleft[0], topleft[1], bottomleft[0], bottomleft[1])\n",
    "    # Right\n",
    "    midpoint_r_x, midpoint_r_y = midpoint(topright[0], topright[1], bottomright[0], bottomright[1])\n",
    "    \n",
    "    # GRAB 1/4th and 3/4ths lines (midpoints)\n",
    "    mid_l025_x, mid_l025_y = midpoint(topleft[0], topleft[1], midpoint_x, midpoint_y)\n",
    "    mid_r025_x, mid_r025_y = midpoint(topright[0], topright[1], midpoint_r_x, midpoint_r_y) \n",
    "    mid_l075_x, mid_l075_y = midpoint(bottomleft[0], bottomleft[1], midpoint_x, midpoint_y)\n",
    "    mid_r075_x, mid_r075_y = midpoint(bottomright[0], bottomright[1], midpoint_r_x, midpoint_r_y)\n",
    "    \n",
    "    # 3) CALCULATE CENTERLINE EQUATIONS (y_intercept = y1 - m*x1)\n",
    "    # 1/2 flowline\n",
    "    m = (midpoint_r_y - midpoint_y)/(midpoint_r_x - midpoint_x);b = midpoint_y - (m*midpoint_x)\n",
    "    # 1/4 flowline\n",
    "    m025 = (mid_r025_y-mid_l025_y)/(mid_r025_x-mid_l025_x); b025 = mid_l025_y - (m*mid_l025_x)\n",
    "    # 3/4 flowline\n",
    "    m075 = (mid_r075_y-mid_l075_y)/(mid_r075_x-mid_l075_x); b075 = mid_l075_y - (m*mid_l075_x)\n",
    "    \n",
    "    # append BoxIDs, slopes, intercepts, midpoints, and centerlines to lists\n",
    "    boxes.append(BoxID);\n",
    "    midpoints_x.append(midpoint_x); midpoints_y.append(midpoint_y)\n",
    "    midpoints_r_x.append(midpoint_r_x); midpoints_r_y.append(midpoint_r_y)  \n",
    "    mids_l025_x.append(mid_l025_x); mids_l025_y.append(mid_l025_y); \n",
    "    mids_r025_x.append(mid_r025_x); mids_r025_y.append(mid_r025_y)\n",
    "    mids_l075_x.append(mid_l075_x) ;mids_l075_y.append(mid_l075_y) ;\n",
    "    mids_r075_x.append(mid_r075_x) ;mids_r075_y.append(mid_r075_y)\n",
    "    slope_50.append(m); intercept_50.append(b); \n",
    "    slope_25.append(m025); intercept_25.append(b025)\n",
    "    slope_75.append(m075); intercept_75.append(b075)\n",
    "    \n",
    "# create a dataframe\n",
    "total_df = pd.DataFrame(list(zip(boxes, midpoints_x, midpoints_y, midpoints_r_x, midpoints_r_y, slope_50, \n",
    "                                 intercept_50, mids_l025_x, mids_l025_y, mids_r025_x, mids_r025_y, slope_25, \n",
    "                                 intercept_25, mids_l075_x, mids_l075_y, mids_r075_x, mids_r075_y, slope_75, \n",
    "                                intercept_75)), \n",
    "                        columns=['BoxID', 'lmid50_x', 'lmid50_y', 'rmid50_x','rmid50_y', 'm50', 'b50',\n",
    "                                 'lmid25_x', 'lmid25_y','rmid25_x','rmid25_y', 'm25', 'b25',\n",
    "                                 'lmid75_x', 'lmid75_y', 'rmid75_x','rmid75_y', 'm75', 'b75'])\n",
    "\n",
    "total_df = total_df.drop_duplicates().set_index('BoxID')\n",
    "total_df"
   ]
  },
  {
   "cell_type": "markdown",
   "metadata": {},
   "source": [
    "### Another visual check"
   ]
  },
  {
   "cell_type": "code",
   "execution_count": 7,
   "metadata": {},
   "outputs": [
    {
     "ename": "NameError",
     "evalue": "name 'boxes_xcoords' is not defined",
     "output_type": "error",
     "traceback": [
      "\u001b[0;31m---------------------------------------------------------------------------\u001b[0m",
      "\u001b[0;31mNameError\u001b[0m                                 Traceback (most recent call last)",
      "\u001b[0;32m<ipython-input-7-18904a1980c5>\u001b[0m in \u001b[0;36m<module>\u001b[0;34m\u001b[0m\n\u001b[1;32m      3\u001b[0m \u001b[0;34m\u001b[0m\u001b[0m\n\u001b[1;32m      4\u001b[0m \u001b[0;31m# plot the raster pixels in black\u001b[0m\u001b[0;34m\u001b[0m\u001b[0;34m\u001b[0m\u001b[0;34m\u001b[0m\u001b[0m\n\u001b[0;32m----> 5\u001b[0;31m \u001b[0mplt\u001b[0m\u001b[0;34m.\u001b[0m\u001b[0mscatter\u001b[0m\u001b[0;34m(\u001b[0m\u001b[0mboxes_xcoords\u001b[0m\u001b[0;34m[\u001b[0m\u001b[0mBOI_ID\u001b[0m\u001b[0;34m]\u001b[0m\u001b[0;34m,\u001b[0m \u001b[0mboxes_ycoords\u001b[0m\u001b[0;34m[\u001b[0m\u001b[0mBOI_ID\u001b[0m\u001b[0;34m]\u001b[0m\u001b[0;34m,\u001b[0m \u001b[0mc\u001b[0m\u001b[0;34m=\u001b[0m\u001b[0;34m'k'\u001b[0m\u001b[0;34m,\u001b[0m\u001b[0mmarker\u001b[0m\u001b[0;34m=\u001b[0m\u001b[0;34m's'\u001b[0m\u001b[0;34m)\u001b[0m\u001b[0;34m\u001b[0m\u001b[0;34m\u001b[0m\u001b[0m\n\u001b[0m\u001b[1;32m      6\u001b[0m \u001b[0;31m#plot the vertices\u001b[0m\u001b[0;34m\u001b[0m\u001b[0;34m\u001b[0m\u001b[0;34m\u001b[0m\u001b[0m\n\u001b[1;32m      7\u001b[0m \u001b[0mplt\u001b[0m\u001b[0;34m.\u001b[0m\u001b[0mscatter\u001b[0m\u001b[0;34m(\u001b[0m\u001b[0mtopleft_coords\u001b[0m\u001b[0;34m[\u001b[0m\u001b[0mBOI_ID\u001b[0m\u001b[0;34m]\u001b[0m\u001b[0;34m[\u001b[0m\u001b[0;36m0\u001b[0m\u001b[0;34m]\u001b[0m\u001b[0;34m,\u001b[0m \u001b[0mtopleft_coords\u001b[0m\u001b[0;34m[\u001b[0m\u001b[0mBOI_ID\u001b[0m\u001b[0;34m]\u001b[0m\u001b[0;34m[\u001b[0m\u001b[0;36m1\u001b[0m\u001b[0;34m]\u001b[0m\u001b[0;34m,\u001b[0m \u001b[0mc\u001b[0m\u001b[0;34m=\u001b[0m\u001b[0;34m'y'\u001b[0m\u001b[0;34m)\u001b[0m\u001b[0;34m\u001b[0m\u001b[0;34m\u001b[0m\u001b[0m\n",
      "\u001b[0;31mNameError\u001b[0m: name 'boxes_xcoords' is not defined"
     ]
    }
   ],
   "source": [
    "# Choose which glacier BoxID to check:\n",
    "BOI_ID = '270'\n",
    "\n",
    "# plot the raster pixels in black\n",
    "plt.scatter(boxes_xcoords[BOI_ID], boxes_ycoords[BOI_ID], c='k',marker='s')\n",
    "# plot the vertices\n",
    "plt.scatter(topleft_coords[BOI_ID][0], topleft_coords[BOI_ID][1], c='y')\n",
    "plt.scatter(bottomleft_coords[BOI_ID][0], bottomleft_coords[BOI_ID][1], c='y')\n",
    "plt.scatter(topright_coords[BOI_ID][0], topright_coords[BOI_ID][1], c='y')\n",
    "plt.scatter(bottomright_coords[BOI_ID][0], bottomright_coords[BOI_ID][1], c='y')\n",
    "# plot midpoints\n",
    "plt.scatter(total_df.at[BOI_ID,'lmid50_x'], total_df.at[BOI_ID,'lmid50_y'], c='m'); plt.scatter(total_df.at[BOI_ID, 'rmid50_x'], total_df.at[BOI_ID, 'rmid50_y'], c='m')\n",
    "plt.scatter(total_df.at[BOI_ID,'lmid25_x'], total_df.at[BOI_ID,'lmid25_y'], c='r'); plt.scatter(total_df.at[BOI_ID, 'rmid25_x'], total_df.at[BOI_ID, 'rmid25_y'], c='r')\n",
    "plt.scatter(total_df.at[BOI_ID,'lmid75_x'], total_df.at[BOI_ID,'lmid75_y'], c='b'); plt.scatter(total_df.at[BOI_ID, 'rmid75_x'], total_df.at[BOI_ID, 'rmid75_y'], c='b')\n",
    "# plot the centerlines in cyan\n",
    "x=np.linspace(np.min(boxes_xcoords[BOI_ID]), np.max(boxes_xcoords[BOI_ID])); y50=(total_df.at[BOI_ID, 'm50'])*x + (total_df.at[BOI_ID, 'b50']); \n",
    "y25=(total_df.at[BOI_ID, 'm25'])*x + (total_df.at[BOI_ID, 'b25']); y75=(total_df.at[BOI_ID, 'm75'])*x + (total_df.at[BOI_ID, 'b75'])\n",
    "plt.plot(x, y50, '--m', x, y25, '--r', x, y75, '--b')\n",
    "# plot parameters      \n",
    "plt.gca().invert_yaxis(); plt.axis('scaled'); plt.show()"
   ]
  },
  {
   "cell_type": "markdown",
   "metadata": {},
   "source": [
    "### Drop the right midpoints and write the centerline information to a csv"
   ]
  },
  {
   "cell_type": "code",
   "execution_count": 218,
   "metadata": {},
   "outputs": [
    {
     "data": {
      "text/html": [
       "<div>\n",
       "<style scoped>\n",
       "    .dataframe tbody tr th:only-of-type {\n",
       "        vertical-align: middle;\n",
       "    }\n",
       "\n",
       "    .dataframe tbody tr th {\n",
       "        vertical-align: top;\n",
       "    }\n",
       "\n",
       "    .dataframe thead th {\n",
       "        text-align: right;\n",
       "    }\n",
       "</style>\n",
       "<table border=\"1\" class=\"dataframe\">\n",
       "  <thead>\n",
       "    <tr style=\"text-align: right;\">\n",
       "      <th></th>\n",
       "      <th>lmid50_x</th>\n",
       "      <th>lmid50_y</th>\n",
       "      <th>rmid50_x</th>\n",
       "      <th>m50</th>\n",
       "      <th>b50</th>\n",
       "      <th>lmid25_x</th>\n",
       "      <th>lmid25_y</th>\n",
       "      <th>rmid25_x</th>\n",
       "      <th>m25</th>\n",
       "      <th>b25</th>\n",
       "      <th>lmid75_x</th>\n",
       "      <th>lmid75_y</th>\n",
       "      <th>rmid75_x</th>\n",
       "      <th>m75</th>\n",
       "      <th>b75</th>\n",
       "    </tr>\n",
       "    <tr>\n",
       "      <th>BoxID</th>\n",
       "      <th></th>\n",
       "      <th></th>\n",
       "      <th></th>\n",
       "      <th></th>\n",
       "      <th></th>\n",
       "      <th></th>\n",
       "      <th></th>\n",
       "      <th></th>\n",
       "      <th></th>\n",
       "      <th></th>\n",
       "      <th></th>\n",
       "      <th></th>\n",
       "      <th></th>\n",
       "      <th></th>\n",
       "      <th></th>\n",
       "    </tr>\n",
       "  </thead>\n",
       "  <tbody>\n",
       "    <tr>\n",
       "      <th>245</th>\n",
       "      <td>128.5</td>\n",
       "      <td>147.5</td>\n",
       "      <td>219.5</td>\n",
       "      <td>0.752747</td>\n",
       "      <td>50.771978</td>\n",
       "      <td>140.25</td>\n",
       "      <td>131.75</td>\n",
       "      <td>231.25</td>\n",
       "      <td>0.755495</td>\n",
       "      <td>26.177198</td>\n",
       "      <td>116.75</td>\n",
       "      <td>163.25</td>\n",
       "      <td>207.75</td>\n",
       "      <td>0.750000</td>\n",
       "      <td>75.366758</td>\n",
       "    </tr>\n",
       "    <tr>\n",
       "      <th>296</th>\n",
       "      <td>89.0</td>\n",
       "      <td>114.5</td>\n",
       "      <td>175.5</td>\n",
       "      <td>0.040462</td>\n",
       "      <td>110.898844</td>\n",
       "      <td>89.50</td>\n",
       "      <td>102.75</td>\n",
       "      <td>175.75</td>\n",
       "      <td>0.037681</td>\n",
       "      <td>99.128613</td>\n",
       "      <td>88.50</td>\n",
       "      <td>126.25</td>\n",
       "      <td>175.25</td>\n",
       "      <td>0.043228</td>\n",
       "      <td>122.669075</td>\n",
       "    </tr>\n",
       "    <tr>\n",
       "      <th>220</th>\n",
       "      <td>149.5</td>\n",
       "      <td>228.5</td>\n",
       "      <td>244.5</td>\n",
       "      <td>-0.831579</td>\n",
       "      <td>352.821053</td>\n",
       "      <td>133.75</td>\n",
       "      <td>209.75</td>\n",
       "      <td>229.25</td>\n",
       "      <td>-0.821990</td>\n",
       "      <td>320.973684</td>\n",
       "      <td>165.25</td>\n",
       "      <td>247.25</td>\n",
       "      <td>259.75</td>\n",
       "      <td>-0.841270</td>\n",
       "      <td>384.668421</td>\n",
       "    </tr>\n",
       "    <tr>\n",
       "      <th>240</th>\n",
       "      <td>217.5</td>\n",
       "      <td>288.5</td>\n",
       "      <td>342.0</td>\n",
       "      <td>-0.421687</td>\n",
       "      <td>380.216867</td>\n",
       "      <td>199.75</td>\n",
       "      <td>247.25</td>\n",
       "      <td>324.00</td>\n",
       "      <td>-0.424547</td>\n",
       "      <td>331.481928</td>\n",
       "      <td>235.25</td>\n",
       "      <td>329.75</td>\n",
       "      <td>360.00</td>\n",
       "      <td>-0.418838</td>\n",
       "      <td>428.951807</td>\n",
       "    </tr>\n",
       "    <tr>\n",
       "      <th>277</th>\n",
       "      <td>100.5</td>\n",
       "      <td>148.5</td>\n",
       "      <td>193.0</td>\n",
       "      <td>0.162162</td>\n",
       "      <td>132.202703</td>\n",
       "      <td>103.25</td>\n",
       "      <td>134.75</td>\n",
       "      <td>195.00</td>\n",
       "      <td>0.168937</td>\n",
       "      <td>118.006757</td>\n",
       "      <td>97.75</td>\n",
       "      <td>162.25</td>\n",
       "      <td>191.00</td>\n",
       "      <td>0.155496</td>\n",
       "      <td>146.398649</td>\n",
       "    </tr>\n",
       "    <tr>\n",
       "      <th>270</th>\n",
       "      <td>110.5</td>\n",
       "      <td>163.5</td>\n",
       "      <td>206.0</td>\n",
       "      <td>-0.151832</td>\n",
       "      <td>180.277487</td>\n",
       "      <td>107.25</td>\n",
       "      <td>142.75</td>\n",
       "      <td>202.50</td>\n",
       "      <td>-0.160105</td>\n",
       "      <td>159.034031</td>\n",
       "      <td>113.75</td>\n",
       "      <td>184.25</td>\n",
       "      <td>209.50</td>\n",
       "      <td>-0.143603</td>\n",
       "      <td>201.520942</td>\n",
       "    </tr>\n",
       "    <tr>\n",
       "      <th>246</th>\n",
       "      <td>103.5</td>\n",
       "      <td>162.0</td>\n",
       "      <td>185.5</td>\n",
       "      <td>-0.487805</td>\n",
       "      <td>212.487805</td>\n",
       "      <td>94.75</td>\n",
       "      <td>143.50</td>\n",
       "      <td>176.25</td>\n",
       "      <td>-0.490798</td>\n",
       "      <td>189.719512</td>\n",
       "      <td>112.25</td>\n",
       "      <td>180.50</td>\n",
       "      <td>194.75</td>\n",
       "      <td>-0.484848</td>\n",
       "      <td>235.256098</td>\n",
       "    </tr>\n",
       "  </tbody>\n",
       "</table>\n",
       "</div>"
      ],
      "text/plain": [
       "       lmid50_x  lmid50_y  rmid50_x       m50         b50  lmid25_x  lmid25_y  \\\n",
       "BoxID                                                                           \n",
       "245       128.5     147.5     219.5  0.752747   50.771978    140.25    131.75   \n",
       "296        89.0     114.5     175.5  0.040462  110.898844     89.50    102.75   \n",
       "220       149.5     228.5     244.5 -0.831579  352.821053    133.75    209.75   \n",
       "240       217.5     288.5     342.0 -0.421687  380.216867    199.75    247.25   \n",
       "277       100.5     148.5     193.0  0.162162  132.202703    103.25    134.75   \n",
       "270       110.5     163.5     206.0 -0.151832  180.277487    107.25    142.75   \n",
       "246       103.5     162.0     185.5 -0.487805  212.487805     94.75    143.50   \n",
       "\n",
       "       rmid25_x       m25         b25  lmid75_x  lmid75_y  rmid75_x       m75  \\\n",
       "BoxID                                                                           \n",
       "245      231.25  0.755495   26.177198    116.75    163.25    207.75  0.750000   \n",
       "296      175.75  0.037681   99.128613     88.50    126.25    175.25  0.043228   \n",
       "220      229.25 -0.821990  320.973684    165.25    247.25    259.75 -0.841270   \n",
       "240      324.00 -0.424547  331.481928    235.25    329.75    360.00 -0.418838   \n",
       "277      195.00  0.168937  118.006757     97.75    162.25    191.00  0.155496   \n",
       "270      202.50 -0.160105  159.034031    113.75    184.25    209.50 -0.143603   \n",
       "246      176.25 -0.490798  189.719512    112.25    180.50    194.75 -0.484848   \n",
       "\n",
       "              b75  \n",
       "BoxID              \n",
       "245     75.366758  \n",
       "296    122.669075  \n",
       "220    384.668421  \n",
       "240    428.951807  \n",
       "277    146.398649  \n",
       "270    201.520942  \n",
       "246    235.256098  "
      ]
     },
     "execution_count": 218,
     "metadata": {},
     "output_type": "execute_result"
    }
   ],
   "source": [
    "total_df = total_df.drop(['rmid50_y', 'rmid25_y', 'rmid75_y'], axis=1)\n",
    "total_df.head(10)"
   ]
  },
  {
   "cell_type": "code",
   "execution_count": 219,
   "metadata": {},
   "outputs": [],
   "source": [
    "# change filename as desired\n",
    "CLINE_NAME = 'Boxes_coords_pathrows_sample5.csv'\n",
    "total_df.to_csv(path_or_buf = basepath+CLINE_NAME, sep=',')"
   ]
  },
  {
   "cell_type": "markdown",
   "metadata": {},
   "source": [
    "# 2) Calculate terminus position time series"
   ]
  },
  {
   "cell_type": "code",
   "execution_count": 3,
   "metadata": {},
   "outputs": [],
   "source": [
    "# IMPORT THE FUNCTION\n",
    "os.chdir('/home/jukes/automated-glacier-terminus')\n",
    "from automated_terminus_functions import results_allglaciers"
   ]
  },
  {
   "cell_type": "code",
   "execution_count": 4,
   "metadata": {
    "scrolled": false
   },
   "outputs": [
    {
     "name": "stdout",
     "output_type": "stream",
     "text": [
      "(629, 2)\n",
      "Box245\n",
      "(690, 4)\n"
     ]
    },
    {
     "name": "stderr",
     "output_type": "stream",
     "text": [
      "/home/jukes/automated-glacier-terminus/automated_terminus_functions.py:107: SettingWithCopyWarning: \n",
      "A value is trying to be set on a copy of a slice from a DataFrame.\n",
      "Try using .loc[row_indexer,col_indexer] = value instead\n",
      "\n",
      "See the caveats in the documentation: https://pandas.pydata.org/pandas-docs/stable/user_guide/indexing.html#returning-a-view-versus-a-copy\n",
      "  df['changerate'] = tchange\n"
     ]
    },
    {
     "name": "stdout",
     "output_type": "stream",
     "text": [
      "Dropping 15 dips\n",
      "Dropping 48 dips\n",
      "Dropping 20 dips\n",
      "Dropping 19 jumps\n",
      "Dropping 27 jumps\n",
      "Dropping 29 jumps\n",
      "117\n",
      "110\n",
      "120\n"
     ]
    },
    {
     "data": {
      "image/png": "[encoded data removed]",
      "text/plain": [
       "<Figure size 864x288 with 1 Axes>"
      ]
     },
     "metadata": {
      "needs_background": "light"
     },
     "output_type": "display_data"
    },
    {
     "name": "stdout",
     "output_type": "stream",
     "text": [
      "Box296\n",
      "(1177, 4)\n"
     ]
    },
    {
     "name": "stderr",
     "output_type": "stream",
     "text": [
      "/home/jukes/automated-glacier-terminus/automated_terminus_functions.py:107: SettingWithCopyWarning: \n",
      "A value is trying to be set on a copy of a slice from a DataFrame.\n",
      "Try using .loc[row_indexer,col_indexer] = value instead\n",
      "\n",
      "See the caveats in the documentation: https://pandas.pydata.org/pandas-docs/stable/user_guide/indexing.html#returning-a-view-versus-a-copy\n",
      "  df['changerate'] = tchange\n"
     ]
    },
    {
     "name": "stdout",
     "output_type": "stream",
     "text": [
      "Dropping 96 dips\n",
      "Dropping 104 dips\n",
      "Dropping 110 dips\n",
      "Dropping 128 jumps\n",
      "Dropping 141 jumps\n",
      "Dropping 165 jumps\n",
      "144\n",
      "142\n",
      "141\n"
     ]
    },
    {
     "data": {
      "image/png": "[encoded data removed]",
      "text/plain": [
       "<Figure size 864x288 with 1 Axes>"
      ]
     },
     "metadata": {
      "needs_background": "light"
     },
     "output_type": "display_data"
    },
    {
     "name": "stdout",
     "output_type": "stream",
     "text": [
      "Box220\n",
      "(1042, 4)\n"
     ]
    },
    {
     "name": "stderr",
     "output_type": "stream",
     "text": [
      "/home/jukes/automated-glacier-terminus/automated_terminus_functions.py:107: SettingWithCopyWarning: \n",
      "A value is trying to be set on a copy of a slice from a DataFrame.\n",
      "Try using .loc[row_indexer,col_indexer] = value instead\n",
      "\n",
      "See the caveats in the documentation: https://pandas.pydata.org/pandas-docs/stable/user_guide/indexing.html#returning-a-view-versus-a-copy\n",
      "  df['changerate'] = tchange\n"
     ]
    },
    {
     "name": "stdout",
     "output_type": "stream",
     "text": [
      "Dropping 39 dips\n",
      "Dropping 44 dips\n",
      "Dropping 46 dips\n",
      "Dropping 72 jumps\n",
      "Dropping 47 jumps\n",
      "Dropping 35 jumps\n",
      "147\n",
      "148\n",
      "145\n"
     ]
    },
    {
     "data": {
      "image/png": "[encoded data removed]",
      "text/plain": [
       "<Figure size 864x288 with 1 Axes>"
      ]
     },
     "metadata": {
      "needs_background": "light"
     },
     "output_type": "display_data"
    },
    {
     "name": "stdout",
     "output_type": "stream",
     "text": [
      "Box240\n",
      "(670, 4)\n"
     ]
    },
    {
     "ename": "KeyboardInterrupt",
     "evalue": "",
     "output_type": "error",
     "traceback": [
      "\u001b[0;31m---------------------------------------------------------------------------\u001b[0m",
      "\u001b[0;31mKeyboardInterrupt\u001b[0m                         Traceback (most recent call last)",
      "\u001b[0;32m<ipython-input-4-ebf434753d60>\u001b[0m in \u001b[0;36m<module>\u001b[0;34m\u001b[0m\n\u001b[1;32m      2\u001b[0m \u001b[0;31m# results_allglaciers(date_csv, centerline_csv, vel_csv, analysis_date, V, N1, N2):\u001b[0m\u001b[0;34m\u001b[0m\u001b[0;34m\u001b[0m\u001b[0;34m\u001b[0m\u001b[0m\n\u001b[1;32m      3\u001b[0m \u001b[0;34m\u001b[0m\u001b[0m\n\u001b[0;32m----> 4\u001b[0;31m \u001b[0mresults_allglaciers\u001b[0m\u001b[0;34m(\u001b[0m\u001b[0;34m'Images_downloaded_SE_focus.csv'\u001b[0m\u001b[0;34m,\u001b[0m\u001b[0;34m'imgdates_SE_focus.csv'\u001b[0m\u001b[0;34m,\u001b[0m \u001b[0;34m'Boxes_coords_pathrows_SE_focus.csv'\u001b[0m\u001b[0;34m,\u001b[0m\u001b[0;34m'Glacier_vel_measures_SE_focus.csv'\u001b[0m\u001b[0;34m,\u001b[0m \u001b[0;34m'2020_06_03'\u001b[0m\u001b[0;34m,\u001b[0m \u001b[0;36m3\u001b[0m\u001b[0;34m,\u001b[0m \u001b[0;36m1\u001b[0m\u001b[0;34m,\u001b[0m \u001b[0;36m1\u001b[0m\u001b[0;34m)\u001b[0m\u001b[0;34m\u001b[0m\u001b[0;34m\u001b[0m\u001b[0m\n\u001b[0m",
      "\u001b[0;32m~/automated-glacier-terminus/automated_terminus_functions.py\u001b[0m in \u001b[0;36mresults_allglaciers\u001b[0;34m(download_csv, date_csv, centerline_csv, vel_csv, analysis_date, V, N1, N2)\u001b[0m\n\u001b[1;32m    421\u001b[0m                             \u001b[0mintersect_xs\u001b[0m\u001b[0;34m.\u001b[0m\u001b[0mappend\u001b[0m\u001b[0;34m(\u001b[0m\u001b[0mdat_x\u001b[0m\u001b[0;34m)\u001b[0m\u001b[0;34m;\u001b[0m \u001b[0mintersect_ys\u001b[0m\u001b[0;34m.\u001b[0m\u001b[0mappend\u001b[0m\u001b[0;34m(\u001b[0m\u001b[0mdat_y\u001b[0m\u001b[0;34m)\u001b[0m\u001b[0;34m\u001b[0m\u001b[0;34m\u001b[0m\u001b[0m\n\u001b[1;32m    422\u001b[0m                         \u001b[0;31m#1/4th centerline\u001b[0m\u001b[0;34m\u001b[0m\u001b[0;34m\u001b[0m\u001b[0;34m\u001b[0m\u001b[0m\n\u001b[0;32m--> 423\u001b[0;31m                         \u001b[0;32mif\u001b[0m \u001b[0mwithin\u001b[0m\u001b[0;34m(\u001b[0m\u001b[0mdat_x\u001b[0m\u001b[0;34m,\u001b[0m \u001b[0mx\u001b[0m\u001b[0;34m,\u001b[0m \u001b[0minterval\u001b[0m\u001b[0;34m)\u001b[0m \u001b[0;32mand\u001b[0m \u001b[0mwithin\u001b[0m \u001b[0;34m(\u001b[0m\u001b[0mdat_y\u001b[0m\u001b[0;34m,\u001b[0m \u001b[0my25\u001b[0m\u001b[0;34m,\u001b[0m \u001b[0minterval\u001b[0m\u001b[0;34m)\u001b[0m\u001b[0;34m:\u001b[0m\u001b[0;34m\u001b[0m\u001b[0;34m\u001b[0m\u001b[0m\n\u001b[0m\u001b[1;32m    424\u001b[0m                             \u001b[0mintersect_xs_25\u001b[0m\u001b[0;34m.\u001b[0m\u001b[0mappend\u001b[0m\u001b[0;34m(\u001b[0m\u001b[0mdat_x\u001b[0m\u001b[0;34m)\u001b[0m\u001b[0;34m;\u001b[0m \u001b[0mintersect_ys_25\u001b[0m\u001b[0;34m.\u001b[0m\u001b[0mappend\u001b[0m\u001b[0;34m(\u001b[0m\u001b[0mdat_y\u001b[0m\u001b[0;34m)\u001b[0m\u001b[0;34m\u001b[0m\u001b[0;34m\u001b[0m\u001b[0m\n\u001b[1;32m    425\u001b[0m                         \u001b[0;31m#3/4th centerline\u001b[0m\u001b[0;34m\u001b[0m\u001b[0;34m\u001b[0m\u001b[0;34m\u001b[0m\u001b[0m\n",
      "\u001b[0;32m~/automated-glacier-terminus/automated_terminus_functions.py\u001b[0m in \u001b[0;36mwithin\u001b[0;34m(value, setval, interval)\u001b[0m\n\u001b[1;32m    193\u001b[0m \u001b[0;31m#define a function to help us find the intersection of a line and a collection of points:\u001b[0m\u001b[0;34m\u001b[0m\u001b[0;34m\u001b[0m\u001b[0;34m\u001b[0m\u001b[0m\n\u001b[1;32m    194\u001b[0m \u001b[0;31m#determines if an input value is within a certain range/interval or a setvalue:\u001b[0m\u001b[0;34m\u001b[0m\u001b[0;34m\u001b[0m\u001b[0;34m\u001b[0m\u001b[0m\n\u001b[0;32m--> 195\u001b[0;31m \u001b[0;32mdef\u001b[0m \u001b[0mwithin\u001b[0m\u001b[0;34m(\u001b[0m\u001b[0mvalue\u001b[0m\u001b[0;34m,\u001b[0m \u001b[0msetval\u001b[0m\u001b[0;34m,\u001b[0m \u001b[0minterval\u001b[0m\u001b[0;34m)\u001b[0m\u001b[0;34m:\u001b[0m\u001b[0;34m\u001b[0m\u001b[0;34m\u001b[0m\u001b[0m\n\u001b[0m\u001b[1;32m    196\u001b[0m     \u001b[0;32mif\u001b[0m \u001b[0mvalue\u001b[0m \u001b[0;34m>=\u001b[0m \u001b[0msetval\u001b[0m\u001b[0;34m-\u001b[0m\u001b[0minterval\u001b[0m \u001b[0;32mand\u001b[0m \u001b[0mvalue\u001b[0m \u001b[0;34m<=\u001b[0m \u001b[0msetval\u001b[0m\u001b[0;34m+\u001b[0m\u001b[0minterval\u001b[0m\u001b[0;34m:\u001b[0m\u001b[0;34m\u001b[0m\u001b[0;34m\u001b[0m\u001b[0m\n\u001b[1;32m    197\u001b[0m         \u001b[0;32mreturn\u001b[0m \u001b[0;32mTrue\u001b[0m\u001b[0;34m\u001b[0m\u001b[0;34m\u001b[0m\u001b[0m\n",
      "\u001b[0;31mKeyboardInterrupt\u001b[0m: "
     ]
    }
   ],
   "source": [
    "# Syntax:\n",
    "# results_allglaciers(date_csv, centerline_csv, vel_csv, analysis_date, V, N1, N2)\n",
    "# V is the flow speed scalar\n",
    "# N1 is the number of iterations to remove dips\n",
    "# N2 is the number of iterations to remove jumps\n",
    "\n",
    "results_allglaciers('Images_downloaded_SE_focus.csv','imgdates_SE_focus.csv', 'Boxes_coords_pathrows_SE_focus.csv','Glacier_vel_measures_SE_focus.csv', '2020_06_03', 3, 1, 1)"
   ]
  },
  {
   "cell_type": "code",
   "execution_count": null,
   "metadata": {},
   "outputs": [],
   "source": []
  }
 ],
 "metadata": {
  "kernelspec": {
   "display_name": "Python 3",
   "language": "python",
   "name": "python3"
  },
  "language_info": {
   "codemirror_mode": {
    "name": "ipython",
    "version": 3
   },
   "file_extension": ".py",
   "mimetype": "text/x-python",
   "name": "python",
   "nbconvert_exporter": "python",
   "pygments_lexer": "ipython3",
   "version": "3.7.4"
  }
 },
 "nbformat": 4,
 "nbformat_minor": 2
}
