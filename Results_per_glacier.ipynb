{
 "cells": [
  {
   "cell_type": "markdown",
   "metadata": {},
   "source": [
    "# Plot terminus picks over images and terminus position time series\n",
    "\n",
    "#### Jukes Liu"
   ]
  },
  {
   "cell_type": "markdown",
   "metadata": {},
   "source": [
    "## 1) Set-up"
   ]
  },
  {
   "cell_type": "code",
   "execution_count": 125,
   "metadata": {},
   "outputs": [],
   "source": [
    "# import sys\n",
    "# # !{sys.executable} -m pip install fiona\n",
    "# !{sys.executable} -m pip install opencv-python"
   ]
  },
  {
   "cell_type": "code",
   "execution_count": 1,
   "metadata": {
    "scrolled": true
   },
   "outputs": [],
   "source": [
    "import numpy as np\n",
    "import os\n",
    "import matplotlib.pyplot as plt\n",
    "import matplotlib.pylab as pl\n",
    "import matplotlib.image as mpimg\n",
    "import matplotlib.patches as patches\n",
    "import cv2\n",
    "import pandas as pd    \n",
    "from time import sleep\n",
    "from IPython.display import clear_output\n",
    "import scipy.stats\n",
    "import datetime\n",
    "import math\n",
    "import shutil\n",
    "import subprocess\n",
    "\n",
    "csvpaths = '/home/jukes/Documents/Sample_glaciers/'\n",
    "basepath = '/media/jukes/jukes1/LS8aws/'\n",
    "massorsize = \"mass\""
   ]
  },
  {
   "cell_type": "markdown",
   "metadata": {},
   "source": [
    "### Read in data from csv files"
   ]
  },
  {
   "cell_type": "markdown",
   "metadata": {},
   "source": [
    "1) Read in __image dates__ from imgdates.csv"
   ]
  },
  {
   "cell_type": "code",
   "execution_count": 2,
   "metadata": {
    "scrolled": true
   },
   "outputs": [
    {
     "name": "stdout",
     "output_type": "stream",
     "text": [
      "(864, 2)\n"
     ]
    },
    {
     "data": {
      "text/html": [
       "<div>\n",
       "<style scoped>\n",
       "    .dataframe tbody tr th:only-of-type {\n",
       "        vertical-align: middle;\n",
       "    }\n",
       "\n",
       "    .dataframe tbody tr th {\n",
       "        vertical-align: top;\n",
       "    }\n",
       "\n",
       "    .dataframe thead th {\n",
       "        text-align: right;\n",
       "    }\n",
       "</style>\n",
       "<table border=\"1\" class=\"dataframe\">\n",
       "  <thead>\n",
       "    <tr style=\"text-align: right;\">\n",
       "      <th></th>\n",
       "      <th>Scene</th>\n",
       "      <th>datetimes</th>\n",
       "    </tr>\n",
       "  </thead>\n",
       "  <tbody>\n",
       "    <tr>\n",
       "      <th>510</th>\n",
       "      <td>LC80090132013101LGN01</td>\n",
       "      <td>2013-04-11</td>\n",
       "    </tr>\n",
       "    <tr>\n",
       "      <th>1612</th>\n",
       "      <td>LC80090142013101LGN01</td>\n",
       "      <td>2013-04-11</td>\n",
       "    </tr>\n",
       "    <tr>\n",
       "      <th>577</th>\n",
       "      <td>LC82330172013102LGN01</td>\n",
       "      <td>2013-04-12</td>\n",
       "    </tr>\n",
       "    <tr>\n",
       "      <th>940</th>\n",
       "      <td>LC82330152013102LGN01</td>\n",
       "      <td>2013-04-12</td>\n",
       "    </tr>\n",
       "    <tr>\n",
       "      <th>445</th>\n",
       "      <td>LC80080142013110LGN01</td>\n",
       "      <td>2013-04-20</td>\n",
       "    </tr>\n",
       "  </tbody>\n",
       "</table>\n",
       "</div>"
      ],
      "text/plain": [
       "                      Scene   datetimes\n",
       "510   LC80090132013101LGN01  2013-04-11\n",
       "1612  LC80090142013101LGN01  2013-04-11\n",
       "577   LC82330172013102LGN01  2013-04-12\n",
       "940   LC82330152013102LGN01  2013-04-12\n",
       "445   LC80080142013110LGN01  2013-04-20"
      ]
     },
     "execution_count": 2,
     "metadata": {},
     "output_type": "execute_result"
    }
   ],
   "source": [
    "#Read in datetags csv as datetime_df\n",
    "datetime_df = pd.read_csv(csvpaths+'imgdates.csv', sep=',', dtype=str, header=0, names=['Scene', 'datetimes'])\n",
    "print(datetime_df.shape)\n",
    "datetime_df.head()"
   ]
  },
  {
   "cell_type": "markdown",
   "metadata": {},
   "source": [
    "2) Read in csv with the __metric and order__ for each terminus pick from terminuspicks_massorsize_date.csv"
   ]
  },
  {
   "cell_type": "code",
   "execution_count": 3,
   "metadata": {},
   "outputs": [
    {
     "name": "stdout",
     "output_type": "stream",
     "text": [
      "(1335, 5)\n"
     ]
    },
    {
     "data": {
      "text/html": [
       "<div>\n",
       "<style scoped>\n",
       "    .dataframe tbody tr th:only-of-type {\n",
       "        vertical-align: middle;\n",
       "    }\n",
       "\n",
       "    .dataframe tbody tr th {\n",
       "        vertical-align: top;\n",
       "    }\n",
       "\n",
       "    .dataframe thead th {\n",
       "        text-align: right;\n",
       "    }\n",
       "</style>\n",
       "<table border=\"1\" class=\"dataframe\">\n",
       "  <thead>\n",
       "    <tr style=\"text-align: right;\">\n",
       "      <th></th>\n",
       "      <th>BoxID</th>\n",
       "      <th>Scene</th>\n",
       "      <th>Scale</th>\n",
       "      <th>Metric</th>\n",
       "      <th>Order</th>\n",
       "    </tr>\n",
       "  </thead>\n",
       "  <tbody>\n",
       "    <tr>\n",
       "      <th>0</th>\n",
       "      <td>001</td>\n",
       "      <td>LC80320052015236LGN00</td>\n",
       "      <td>008</td>\n",
       "      <td>4.5105961710</td>\n",
       "      <td>5</td>\n",
       "    </tr>\n",
       "    <tr>\n",
       "      <th>1</th>\n",
       "      <td>001</td>\n",
       "      <td>LC80320052015236LGN00</td>\n",
       "      <td>007</td>\n",
       "      <td>9.2195552588</td>\n",
       "      <td>4</td>\n",
       "    </tr>\n",
       "    <tr>\n",
       "      <th>2</th>\n",
       "      <td>001</td>\n",
       "      <td>LC80320052015236LGN00</td>\n",
       "      <td>006</td>\n",
       "      <td>18.9017022252</td>\n",
       "      <td>3</td>\n",
       "    </tr>\n",
       "    <tr>\n",
       "      <th>3</th>\n",
       "      <td>001</td>\n",
       "      <td>LC80320052015236LGN00</td>\n",
       "      <td>005</td>\n",
       "      <td>39.2424592376</td>\n",
       "      <td>2</td>\n",
       "    </tr>\n",
       "    <tr>\n",
       "      <th>4</th>\n",
       "      <td>001</td>\n",
       "      <td>LC80320052015236LGN00</td>\n",
       "      <td>004</td>\n",
       "      <td>74.0776085854</td>\n",
       "      <td>1</td>\n",
       "    </tr>\n",
       "    <tr>\n",
       "      <th>5</th>\n",
       "      <td>001</td>\n",
       "      <td>LC80350052015225LGN00</td>\n",
       "      <td>004</td>\n",
       "      <td>78.6581094265</td>\n",
       "      <td>5</td>\n",
       "    </tr>\n",
       "    <tr>\n",
       "      <th>6</th>\n",
       "      <td>001</td>\n",
       "      <td>LC80350052015225LGN00</td>\n",
       "      <td>003</td>\n",
       "      <td>161.2903151512</td>\n",
       "      <td>4</td>\n",
       "    </tr>\n",
       "    <tr>\n",
       "      <th>7</th>\n",
       "      <td>001</td>\n",
       "      <td>LC80350052015225LGN00</td>\n",
       "      <td>002</td>\n",
       "      <td>315.2103137970</td>\n",
       "      <td>3</td>\n",
       "    </tr>\n",
       "    <tr>\n",
       "      <th>8</th>\n",
       "      <td>001</td>\n",
       "      <td>LC80350052015225LGN00</td>\n",
       "      <td>001</td>\n",
       "      <td>631.7209415436</td>\n",
       "      <td>2</td>\n",
       "    </tr>\n",
       "    <tr>\n",
       "      <th>9</th>\n",
       "      <td>001</td>\n",
       "      <td>LC80350052015225LGN00</td>\n",
       "      <td>000</td>\n",
       "      <td>1258.7944679260</td>\n",
       "      <td>1</td>\n",
       "    </tr>\n",
       "  </tbody>\n",
       "</table>\n",
       "</div>"
      ],
      "text/plain": [
       "  BoxID                  Scene Scale           Metric Order\n",
       "0   001  LC80320052015236LGN00   008     4.5105961710     5\n",
       "1   001  LC80320052015236LGN00   007     9.2195552588     4\n",
       "2   001  LC80320052015236LGN00   006    18.9017022252     3\n",
       "3   001  LC80320052015236LGN00   005    39.2424592376     2\n",
       "4   001  LC80320052015236LGN00   004    74.0776085854     1\n",
       "5   001  LC80350052015225LGN00   004    78.6581094265     5\n",
       "6   001  LC80350052015225LGN00   003   161.2903151512     4\n",
       "7   001  LC80350052015225LGN00   002   315.2103137970     3\n",
       "8   001  LC80350052015225LGN00   001   631.7209415436     2\n",
       "9   001  LC80350052015225LGN00   000  1258.7944679260     1"
      ]
     },
     "execution_count": 3,
     "metadata": {},
     "output_type": "execute_result"
    }
   ],
   "source": [
    "analysis_date = '2020_03_21'\n",
    "for file in os.listdir(csvpaths):\n",
    "    if analysis_date in file and file.endswith('.csv'):\n",
    "        thefile = file\n",
    "order_df = pd.read_csv(csvpaths+thefile, sep=',', dtype=str, header=1, usecols=[0,1,2,3,4])\n",
    "order_df = order_df.dropna()\n",
    "print(order_df.shape)\n",
    "order_df.head(10)"
   ]
  },
  {
   "cell_type": "markdown",
   "metadata": {},
   "source": [
    "3) Read in __centerline information__ for each terminus box rom Boxes_coords_pathrows.csv"
   ]
  },
  {
   "cell_type": "code",
   "execution_count": 4,
   "metadata": {},
   "outputs": [
    {
     "name": "stdout",
     "output_type": "stream",
     "text": [
      "(10, 15)\n"
     ]
    },
    {
     "data": {
      "text/html": [
       "<div>\n",
       "<style scoped>\n",
       "    .dataframe tbody tr th:only-of-type {\n",
       "        vertical-align: middle;\n",
       "    }\n",
       "\n",
       "    .dataframe tbody tr th {\n",
       "        vertical-align: top;\n",
       "    }\n",
       "\n",
       "    .dataframe thead th {\n",
       "        text-align: right;\n",
       "    }\n",
       "</style>\n",
       "<table border=\"1\" class=\"dataframe\">\n",
       "  <thead>\n",
       "    <tr style=\"text-align: right;\">\n",
       "      <th></th>\n",
       "      <th>lmid50_x</th>\n",
       "      <th>lmid50_y</th>\n",
       "      <th>rmid50_x</th>\n",
       "      <th>m50</th>\n",
       "      <th>b50</th>\n",
       "      <th>lmid25_x</th>\n",
       "      <th>lmid25_y</th>\n",
       "      <th>rmid25_x</th>\n",
       "      <th>m25</th>\n",
       "      <th>b25</th>\n",
       "      <th>lmid75_x</th>\n",
       "      <th>lmid75_y</th>\n",
       "      <th>rmid75_x</th>\n",
       "      <th>m75</th>\n",
       "      <th>b75</th>\n",
       "    </tr>\n",
       "    <tr>\n",
       "      <th>BoxID</th>\n",
       "      <th></th>\n",
       "      <th></th>\n",
       "      <th></th>\n",
       "      <th></th>\n",
       "      <th></th>\n",
       "      <th></th>\n",
       "      <th></th>\n",
       "      <th></th>\n",
       "      <th></th>\n",
       "      <th></th>\n",
       "      <th></th>\n",
       "      <th></th>\n",
       "      <th></th>\n",
       "      <th></th>\n",
       "      <th></th>\n",
       "    </tr>\n",
       "  </thead>\n",
       "  <tbody>\n",
       "    <tr>\n",
       "      <th>259</th>\n",
       "      <td>235.0</td>\n",
       "      <td>490.0</td>\n",
       "      <td>561.0</td>\n",
       "      <td>0.11196319018404909</td>\n",
       "      <td>463.68865030674846</td>\n",
       "      <td>237.5</td>\n",
       "      <td>468.5</td>\n",
       "      <td>563.5</td>\n",
       "      <td>0.11273006134969325</td>\n",
       "      <td>441.90874233128835</td>\n",
       "      <td>232.5</td>\n",
       "      <td>511.5</td>\n",
       "      <td>558.5</td>\n",
       "      <td>0.1111963190184049</td>\n",
       "      <td>485.46855828220856</td>\n",
       "    </tr>\n",
       "    <tr>\n",
       "      <th>120</th>\n",
       "      <td>111.0</td>\n",
       "      <td>147.5</td>\n",
       "      <td>182.5</td>\n",
       "      <td>0.08391608391608392</td>\n",
       "      <td>138.1853146853147</td>\n",
       "      <td>112.5</td>\n",
       "      <td>132.25</td>\n",
       "      <td>183.75</td>\n",
       "      <td>0.07719298245614035</td>\n",
       "      <td>122.80944055944056</td>\n",
       "      <td>109.5</td>\n",
       "      <td>162.75</td>\n",
       "      <td>181.25</td>\n",
       "      <td>0.09059233449477352</td>\n",
       "      <td>153.5611888111888</td>\n",
       "    </tr>\n",
       "    <tr>\n",
       "      <th>277</th>\n",
       "      <td>151.5</td>\n",
       "      <td>203.0</td>\n",
       "      <td>244.0</td>\n",
       "      <td>0.05945945945945946</td>\n",
       "      <td>193.9918918918919</td>\n",
       "      <td>152.25</td>\n",
       "      <td>189.5</td>\n",
       "      <td>245.0</td>\n",
       "      <td>0.05660377358490566</td>\n",
       "      <td>180.4472972972973</td>\n",
       "      <td>150.75</td>\n",
       "      <td>216.5</td>\n",
       "      <td>243.0</td>\n",
       "      <td>0.06233062330623306</td>\n",
       "      <td>207.5364864864865</td>\n",
       "    </tr>\n",
       "    <tr>\n",
       "      <th>531</th>\n",
       "      <td>184.5</td>\n",
       "      <td>261.5</td>\n",
       "      <td>268.0</td>\n",
       "      <td>-0.5029940119760479</td>\n",
       "      <td>354.3023952095808</td>\n",
       "      <td>170.75</td>\n",
       "      <td>234.25</td>\n",
       "      <td>254.5</td>\n",
       "      <td>-0.5014925373134328</td>\n",
       "      <td>320.1362275449102</td>\n",
       "      <td>198.25</td>\n",
       "      <td>288.75</td>\n",
       "      <td>281.5</td>\n",
       "      <td>-0.5045045045045045</td>\n",
       "      <td>388.46856287425146</td>\n",
       "    </tr>\n",
       "    <tr>\n",
       "      <th>235</th>\n",
       "      <td>178.0</td>\n",
       "      <td>226.5</td>\n",
       "      <td>288.0</td>\n",
       "      <td>-0.13636363636363635</td>\n",
       "      <td>250.77272727272728</td>\n",
       "      <td>176.0</td>\n",
       "      <td>212.25</td>\n",
       "      <td>286.0</td>\n",
       "      <td>-0.13636363636363635</td>\n",
       "      <td>236.25</td>\n",
       "      <td>180.0</td>\n",
       "      <td>240.75</td>\n",
       "      <td>290.0</td>\n",
       "      <td>-0.13636363636363635</td>\n",
       "      <td>265.29545454545456</td>\n",
       "    </tr>\n",
       "    <tr>\n",
       "      <th>174</th>\n",
       "      <td>259.5</td>\n",
       "      <td>335.0</td>\n",
       "      <td>395.5</td>\n",
       "      <td>-0.15441176470588236</td>\n",
       "      <td>375.06985294117646</td>\n",
       "      <td>255.25</td>\n",
       "      <td>307.5</td>\n",
       "      <td>391.25</td>\n",
       "      <td>-0.16176470588235295</td>\n",
       "      <td>346.91360294117646</td>\n",
       "      <td>263.75</td>\n",
       "      <td>362.5</td>\n",
       "      <td>399.75</td>\n",
       "      <td>-0.14705882352941177</td>\n",
       "      <td>403.22610294117646</td>\n",
       "    </tr>\n",
       "    <tr>\n",
       "      <th>001</th>\n",
       "      <td>116.0</td>\n",
       "      <td>157.0</td>\n",
       "      <td>189.5</td>\n",
       "      <td>0.08163265306122448</td>\n",
       "      <td>147.53061224489795</td>\n",
       "      <td>117.0</td>\n",
       "      <td>147.5</td>\n",
       "      <td>189.75</td>\n",
       "      <td>0.07560137457044673</td>\n",
       "      <td>137.94897959183675</td>\n",
       "      <td>115.0</td>\n",
       "      <td>166.5</td>\n",
       "      <td>189.25</td>\n",
       "      <td>0.08754208754208755</td>\n",
       "      <td>157.1122448979592</td>\n",
       "    </tr>\n",
       "    <tr>\n",
       "      <th>033</th>\n",
       "      <td>369.5</td>\n",
       "      <td>471.5</td>\n",
       "      <td>612.0</td>\n",
       "      <td>0.06597938144329897</td>\n",
       "      <td>447.120618556701</td>\n",
       "      <td>371.25</td>\n",
       "      <td>444.25</td>\n",
       "      <td>614.0</td>\n",
       "      <td>0.06591143151390319</td>\n",
       "      <td>419.75515463917526</td>\n",
       "      <td>367.75</td>\n",
       "      <td>498.75</td>\n",
       "      <td>610.0</td>\n",
       "      <td>0.06604747162022703</td>\n",
       "      <td>474.4860824742268</td>\n",
       "    </tr>\n",
       "    <tr>\n",
       "      <th>004</th>\n",
       "      <td>499.0</td>\n",
       "      <td>647.0</td>\n",
       "      <td>789.0</td>\n",
       "      <td>-0.2603448275862069</td>\n",
       "      <td>776.9120689655173</td>\n",
       "      <td>486.0</td>\n",
       "      <td>597.0</td>\n",
       "      <td>776.5</td>\n",
       "      <td>-0.2607573149741824</td>\n",
       "      <td>723.5275862068966</td>\n",
       "      <td>512.0</td>\n",
       "      <td>697.0</td>\n",
       "      <td>801.5</td>\n",
       "      <td>-0.2599309153713299</td>\n",
       "      <td>830.296551724138</td>\n",
       "    </tr>\n",
       "    <tr>\n",
       "      <th>002</th>\n",
       "      <td>468.5</td>\n",
       "      <td>592.5</td>\n",
       "      <td>751.0</td>\n",
       "      <td>-0.08672566371681416</td>\n",
       "      <td>633.1309734513275</td>\n",
       "      <td>465.25</td>\n",
       "      <td>554.25</td>\n",
       "      <td>748.0</td>\n",
       "      <td>-0.08576480990274093</td>\n",
       "      <td>594.5991150442478</td>\n",
       "      <td>471.75</td>\n",
       "      <td>630.75</td>\n",
       "      <td>754.0</td>\n",
       "      <td>-0.08768821966341896</td>\n",
       "      <td>671.6628318584071</td>\n",
       "    </tr>\n",
       "  </tbody>\n",
       "</table>\n",
       "</div>"
      ],
      "text/plain": [
       "      lmid50_x lmid50_y rmid50_x                   m50                 b50  \\\n",
       "BoxID                                                                        \n",
       "259      235.0    490.0    561.0   0.11196319018404909  463.68865030674846   \n",
       "120      111.0    147.5    182.5   0.08391608391608392   138.1853146853147   \n",
       "277      151.5    203.0    244.0   0.05945945945945946   193.9918918918919   \n",
       "531      184.5    261.5    268.0   -0.5029940119760479   354.3023952095808   \n",
       "235      178.0    226.5    288.0  -0.13636363636363635  250.77272727272728   \n",
       "174      259.5    335.0    395.5  -0.15441176470588236  375.06985294117646   \n",
       "001      116.0    157.0    189.5   0.08163265306122448  147.53061224489795   \n",
       "033      369.5    471.5    612.0   0.06597938144329897    447.120618556701   \n",
       "004      499.0    647.0    789.0   -0.2603448275862069   776.9120689655173   \n",
       "002      468.5    592.5    751.0  -0.08672566371681416   633.1309734513275   \n",
       "\n",
       "      lmid25_x lmid25_y rmid25_x                   m25                 b25  \\\n",
       "BoxID                                                                        \n",
       "259      237.5    468.5    563.5   0.11273006134969325  441.90874233128835   \n",
       "120      112.5   132.25   183.75   0.07719298245614035  122.80944055944056   \n",
       "277     152.25    189.5    245.0   0.05660377358490566   180.4472972972973   \n",
       "531     170.75   234.25    254.5   -0.5014925373134328   320.1362275449102   \n",
       "235      176.0   212.25    286.0  -0.13636363636363635              236.25   \n",
       "174     255.25    307.5   391.25  -0.16176470588235295  346.91360294117646   \n",
       "001      117.0    147.5   189.75   0.07560137457044673  137.94897959183675   \n",
       "033     371.25   444.25    614.0   0.06591143151390319  419.75515463917526   \n",
       "004      486.0    597.0    776.5   -0.2607573149741824   723.5275862068966   \n",
       "002     465.25   554.25    748.0  -0.08576480990274093   594.5991150442478   \n",
       "\n",
       "      lmid75_x lmid75_y rmid75_x                   m75                 b75  \n",
       "BoxID                                                                       \n",
       "259      232.5    511.5    558.5    0.1111963190184049  485.46855828220856  \n",
       "120      109.5   162.75   181.25   0.09059233449477352   153.5611888111888  \n",
       "277     150.75    216.5    243.0   0.06233062330623306   207.5364864864865  \n",
       "531     198.25   288.75    281.5   -0.5045045045045045  388.46856287425146  \n",
       "235      180.0   240.75    290.0  -0.13636363636363635  265.29545454545456  \n",
       "174     263.75    362.5   399.75  -0.14705882352941177  403.22610294117646  \n",
       "001      115.0    166.5   189.25   0.08754208754208755   157.1122448979592  \n",
       "033     367.75   498.75    610.0   0.06604747162022703   474.4860824742268  \n",
       "004      512.0    697.0    801.5   -0.2599309153713299    830.296551724138  \n",
       "002     471.75   630.75    754.0  -0.08768821966341896   671.6628318584071  "
      ]
     },
     "execution_count": 4,
     "metadata": {},
     "output_type": "execute_result"
    }
   ],
   "source": [
    "centerline_df = pd.read_csv(csvpaths+'Boxes_coords_pathrows.csv', sep=',', dtype=str, header=0)\n",
    "centerline_df = centerline_df.set_index('BoxID')\n",
    "print(centerline_df.shape)\n",
    "centerline_df"
   ]
  },
  {
   "cell_type": "markdown",
   "metadata": {},
   "source": [
    "4) Read in __glacier velocities__ from Glacier_velocities.csv"
   ]
  },
  {
   "cell_type": "code",
   "execution_count": 5,
   "metadata": {},
   "outputs": [],
   "source": [
    "#Read in glacier velocity data\n",
    "flowspeed_df= pd.read_csv(csvpaths+'Glacier_vel_measures_sample10.csv', sep=',', dtype=str)\n",
    "flowspeed_df = flowspeed_df.set_index('BoxID')"
   ]
  },
  {
   "cell_type": "markdown",
   "metadata": {},
   "source": [
    "### Import functions:\n",
    "\n",
    "There are 5 functions that are used throughout the script. __calc_changerates()__ takes a dataframe containing terminus positions and dates of analysis and calculates the terminus change rates. __remove_dips()__ takes a dataframe and a flow speed threshold and removes all points that show an unrealistically large negative change rate followed by an unrealistically large positive change rate. __remove_jumps()__ takes the same inputs and removes all values that show an unrealistically large positive change rate (a jump). __within()__ takes a test value and determines whether it is within a given interval around the set value. This is used for determining whether the points of the centerline \"intersect\" with the terminus pick points. __distance()__ calculates distance between 2 points using the distance formula. This will be used to calculate terminus position (distance between interesction point and reference point)."
   ]
  },
  {
   "cell_type": "code",
   "execution_count": 15,
   "metadata": {},
   "outputs": [],
   "source": [
    "os.chdir('/home/jukes/automated-glacier-terminus')\n",
    "\n",
    "from automated_terminus_functions import calc_changerates1, remove_dips, remove_jumps, within, distance, to_datetimes"
   ]
  },
  {
   "cell_type": "markdown",
   "metadata": {},
   "source": [
    "## 2) Plot analyzed images and terminus picks for one glacier sequentially"
   ]
  },
  {
   "cell_type": "markdown",
   "metadata": {},
   "source": [
    "If images have not been converted to png from pgm, run the following cell but change the BoxID to the right ID:"
   ]
  },
  {
   "cell_type": "code",
   "execution_count": 138,
   "metadata": {},
   "outputs": [],
   "source": [
    "# BoxIDs= set(list(order_df['BoxID']))\n",
    "# for BoxID in BoxIDs:\n",
    "#     command = 'cd '+basepath+'Box'+str(BoxID)+'/rotated/; '+'mogrify -format png *.TIF'\n",
    "#     print(command)\n",
    "#     subprocess.call(command, shell=True)"
   ]
  },
  {
   "cell_type": "markdown",
   "metadata": {},
   "source": [
    "#### Load in the images, scene names, and dat file names for all the resulting terminus picks"
   ]
  },
  {
   "cell_type": "code",
   "execution_count": 38,
   "metadata": {},
   "outputs": [
    {
     "name": "stdout",
     "output_type": "stream",
     "text": [
      "Box174\n",
      "Results folder wiped and new created\n"
     ]
    }
   ],
   "source": [
    "BOI= '174'; print(\"Box\"+BOI)\n",
    "\n",
    "metric = \"Datfiles/\"; imagepath = basepath+\"Box\"+BOI+\"/rotated/\"\n",
    "#grab the order_df subset for just the box:\n",
    "order_box_df = order_df[order_df[\"BoxID\"]==BOI].copy()\n",
    "\n",
    "#make results directory in BoxID folder if it doesn't already exist\n",
    "if os.path.exists(basepath+\"Box\"+BOI+\"/Results/\"):\n",
    "    shutil.rmtree(basepath+\"Box\"+BOI+\"/Results/\"); print(\"Results folder wiped and new created\")\n",
    "    os.mkdir(basepath+\"Box\"+BOI+\"/Results/\")\n",
    "#OTHERWISE, create the folder and download into it\n",
    "else:\n",
    "    os.mkdir(basepath+\"Box\"+BOI+\"/Results/\"); print(\"Results  folder made\")"
   ]
  },
  {
   "cell_type": "markdown",
   "metadata": {},
   "source": [
    "Drop BoxID column and NaNs from the order_box_df"
   ]
  },
  {
   "cell_type": "code",
   "execution_count": 39,
   "metadata": {},
   "outputs": [
    {
     "name": "stdout",
     "output_type": "stream",
     "text": [
      "(167, 4)\n"
     ]
    },
    {
     "data": {
      "text/html": [
       "<div>\n",
       "<style scoped>\n",
       "    .dataframe tbody tr th:only-of-type {\n",
       "        vertical-align: middle;\n",
       "    }\n",
       "\n",
       "    .dataframe tbody tr th {\n",
       "        vertical-align: top;\n",
       "    }\n",
       "\n",
       "    .dataframe thead th {\n",
       "        text-align: right;\n",
       "    }\n",
       "</style>\n",
       "<table border=\"1\" class=\"dataframe\">\n",
       "  <thead>\n",
       "    <tr style=\"text-align: right;\">\n",
       "      <th></th>\n",
       "      <th>Scene</th>\n",
       "      <th>Scale</th>\n",
       "      <th>Metric</th>\n",
       "      <th>Order</th>\n",
       "    </tr>\n",
       "  </thead>\n",
       "  <tbody>\n",
       "    <tr>\n",
       "      <th>1048</th>\n",
       "      <td>LC82330172015252LGN00</td>\n",
       "      <td>034</td>\n",
       "      <td>0.0000000090</td>\n",
       "      <td>3</td>\n",
       "    </tr>\n",
       "    <tr>\n",
       "      <th>1049</th>\n",
       "      <td>LC82330172015252LGN00</td>\n",
       "      <td>007</td>\n",
       "      <td>3.2932607867</td>\n",
       "      <td>2</td>\n",
       "    </tr>\n",
       "    <tr>\n",
       "      <th>1050</th>\n",
       "      <td>LC82330172015252LGN00</td>\n",
       "      <td>002</td>\n",
       "      <td>116.7488822937</td>\n",
       "      <td>1</td>\n",
       "    </tr>\n",
       "    <tr>\n",
       "      <th>1051</th>\n",
       "      <td>LC82320172017090LGN00</td>\n",
       "      <td>011</td>\n",
       "      <td>1.9783665491</td>\n",
       "      <td>5</td>\n",
       "    </tr>\n",
       "    <tr>\n",
       "      <th>1052</th>\n",
       "      <td>LC82320172017090LGN00</td>\n",
       "      <td>010</td>\n",
       "      <td>4.0489630364</td>\n",
       "      <td>4</td>\n",
       "    </tr>\n",
       "  </tbody>\n",
       "</table>\n",
       "</div>"
      ],
      "text/plain": [
       "                      Scene Scale          Metric Order\n",
       "1048  LC82330172015252LGN00   034    0.0000000090     3\n",
       "1049  LC82330172015252LGN00   007    3.2932607867     2\n",
       "1050  LC82330172015252LGN00   002  116.7488822937     1\n",
       "1051  LC82320172017090LGN00   011    1.9783665491     5\n",
       "1052  LC82320172017090LGN00   010    4.0489630364     4"
      ]
     },
     "execution_count": 39,
     "metadata": {},
     "output_type": "execute_result"
    }
   ],
   "source": [
    "order_box_df = order_box_df.drop('BoxID', axis=1)\n",
    "order_box_df = order_box_df.dropna()\n",
    "print(order_box_df.shape)\n",
    "order_box_df.head()"
   ]
  },
  {
   "cell_type": "code",
   "execution_count": 40,
   "metadata": {
    "scrolled": true
   },
   "outputs": [
    {
     "name": "stdout",
     "output_type": "stream",
     "text": [
      "236 236 236 236 236 236\n",
      "(236, 6)\n"
     ]
    }
   ],
   "source": [
    "#make lists to store image data and grab image files\n",
    "image_arrays = []; dats = []; trimdats = []; imgnames = []; boxids = []; scales = []\n",
    "\n",
    "#image path\n",
    "imgfiles = os.listdir(imagepath)\n",
    "\n",
    "for imgfile in imgfiles:\n",
    "    #grab image files and append to images list\n",
    "    if imgfile.endswith(BOI+\".png\"):\n",
    "#         print(imgfile)\n",
    "        image = mpimg.imread(imagepath+imgfile); imgname = imgfile[0:-4]; scenename = imgname[2:23]\n",
    "        \n",
    "        pathtodat = imagepath+imgname+\".pgm_max_gaussian/\"+metric\n",
    "        datfiles = os.listdir(pathtodat)\n",
    "        \n",
    "        #if there are datfiles, grab the trimmed and non-trimmed files\n",
    "        if len(datfiles) > 1: \n",
    "            #find the trimmed dat file and the original\n",
    "            for dat in datfiles:\n",
    "                if \"trim\" in dat:\n",
    "                    datfile_trim = dat\n",
    "                    #append to trimmed dats list\n",
    "                    trimdats.append(datfile_trim)\n",
    "                    #grab the scale and append the equivalent original dat\n",
    "                    scale = dat[-7:-4]\n",
    "                    datfile = \"terminus_\"+scale+\".dat\"\n",
    "                    dats.append(datfile)\n",
    "                    \n",
    "                    #append the image array and the image name to the list\n",
    "                    image_arrays.append(image); imgnames.append(scenename); boxids.append(BOI); scales.append(scale)\n",
    "\n",
    "print(len(image_arrays), len(dats), len(trimdats), len(imgnames),len(boxids), len(scales))\n",
    "images_df = pd.DataFrame(list(zip(imgnames, boxids, image_arrays, dats, trimdats, scales)),\n",
    "              columns=['Scene','BoxID','Image_array', 'Dat_filename', \"Trimmed_dat_filename\", \"Scale\"])\n",
    "print(images_df.shape)"
   ]
  },
  {
   "cell_type": "markdown",
   "metadata": {},
   "source": [
    "#### Join dates to images_df by joining on Scene:"
   ]
  },
  {
   "cell_type": "code",
   "execution_count": 41,
   "metadata": {
    "scrolled": true
   },
   "outputs": [
    {
     "name": "stdout",
     "output_type": "stream",
     "text": [
      "(864, 2)\n",
      "(236, 7)\n"
     ]
    }
   ],
   "source": [
    "images_df.sort_values(by='Scene')\n",
    "datetime_df = datetime_df.sort_values(by='Scene')\n",
    "print(datetime_df.shape)\n",
    "new_df = images_df.merge(datetime_df, how= 'inner', on = 'Scene')\n",
    "dated_images_df = new_df.sort_values(by='datetimes', ascending = True)\n",
    "print(dated_images_df.shape)\n",
    "# dated_images_df.head()"
   ]
  },
  {
   "cell_type": "markdown",
   "metadata": {},
   "source": [
    "#### Join \"order\" to dated_images_df by joining on scale and scene and sort the dataframe"
   ]
  },
  {
   "cell_type": "code",
   "execution_count": 42,
   "metadata": {},
   "outputs": [
    {
     "name": "stdout",
     "output_type": "stream",
     "text": [
      "(167, 9)\n"
     ]
    }
   ],
   "source": [
    "final_images_df = dated_images_df.merge(order_box_df, how='inner', on=['Scene', 'Scale'])\n",
    "#sort the DataFrame by date of delineation from earliest to latest AND order\n",
    "final_images_df = final_images_df.sort_values(by=['datetimes','Scene','Order'], ascending=True)\n",
    "print(final_images_df.shape)"
   ]
  },
  {
   "cell_type": "code",
   "execution_count": 43,
   "metadata": {},
   "outputs": [],
   "source": [
    "# #separate the df out into data for the different centrlines\n",
    "# final_images_25 = final_images_df.copy()\n",
    "# final_images_75 = final_images_df.copy()"
   ]
  },
  {
   "cell_type": "code",
   "execution_count": 44,
   "metadata": {},
   "outputs": [],
   "source": [
    "# final_images_df.head()"
   ]
  },
  {
   "cell_type": "markdown",
   "metadata": {},
   "source": [
    "## Calculate terminus positions:\n",
    "\n",
    "### Terminus position:"
   ]
  },
  {
   "cell_type": "code",
   "execution_count": 45,
   "metadata": {
    "scrolled": true
   },
   "outputs": [
    {
     "name": "stdout",
     "output_type": "stream",
     "text": [
      "(167, 15)\n"
     ]
    }
   ],
   "source": [
    "#LOAD IN REFERENCE POINTS to calculate terminus position with respect to\n",
    "box_midpoint_x = np.float(centerline_df.loc[BOI, 'lmid50_x']); box_midpoint_y = np.float(centerline_df.loc[BOI, 'lmid50_y'])\n",
    "boxmid_x_25 = np.float(centerline_df.loc[BOI, 'lmid25_x']); boxmid_y_25 = np.float(centerline_df.loc[BOI, 'lmid25_y'])\n",
    "boxmid_x_75 = np.float(centerline_df.loc[BOI, 'lmid75_x']); boxmid_y_75 = np.float(centerline_df.loc[BOI, 'lmid75_y'])\n",
    "\n",
    "#GRAB CENTERLINE POINTS\n",
    "#grab slopes and intercepts from the dataframe\n",
    "c_slope = float(centerline_df.loc[BOI]['m50']); c_intercept = float(centerline_df.loc[BOI]['b50']) \n",
    "c25_slope = float(centerline_df.loc[BOI]['m25']); c25_intercept = float(centerline_df.loc[BOI]['b25'])\n",
    "c75_slope = float(centerline_df.loc[BOI]['m75']); c75_intercept = float(centerline_df.loc[BOI]['b75'])  \n",
    "\n",
    "#grab range of x-values\n",
    "xmin50 = float(box_midpoint_x); xmax50 = float(centerline_df.loc[BOI, 'rmid50_x']); ymid50 = float(box_midpoint_y)\n",
    "xmin25 = float(boxmid_x_25); xmax25 = float(centerline_df.loc[BOI, 'rmid25_x']); ymid25 = float(boxmid_y_25)\n",
    "xmin75 = float(boxmid_x_75); xmax75 = float(centerline_df.loc[BOI, 'lmid75_x']); ymid75 = float(boxmid_y_75)\n",
    "xmax = np.max([xmax50, xmax25, xmax75]); xmin = np.min([xmin50, xmin25, xmin75]); c_x = np.linspace(xmin, xmax, int(xmax-xmin)*2)\n",
    "\n",
    "#calculate y-values using the various centerlines\n",
    "c_y = c_slope*c_x + c_intercept; c_y_25 = c25_slope*c_x + c25_intercept; c_y_75 = c75_slope*c_x + c75_intercept\n",
    "\n",
    "#LISTS TO HOLD TERMINUS POSITIONS AND INTERSECTION POINTS\n",
    "terminus_positions = []; tpositions_25 = []; tpositions_75 = []\n",
    "intersections = []; X25 = []; X75 = []\n",
    "\n",
    "#for each scene and scale:\n",
    "for index, row in final_images_df.iterrows():\n",
    "    trimdat = row['Trimmed_dat_filename']; dat = row['Dat_filename']; scene = row['Scene']    \n",
    "    #CALCULATE TERMINUS POSITION\n",
    "    #load in dat files and calculate intersection points\n",
    "    datpath = imagepath+\"R_\"+scene+\"_B8_PS_Buffer\"+BOI+\".pgm_max_gaussian/\"+metric\n",
    "#     term_trimdat = np.loadtxt(datpath+trimdat)\n",
    "    term_dat = np.loadtxt(datpath+dat)                          \n",
    "    intersect_xs = []; intersect_xs_25 = []; intersect_xs_75 = []\n",
    "    intersect_ys = []; intersect_ys_25 = []; intersect_ys_75 = []\n",
    "    \n",
    "    #loop through all the x,y values for the centerline\n",
    "    for j in range(0, len(c_x)):\n",
    "        x = c_x[j]; y = c_y[j]; y25 = c_y_25[j]; y75 = c_y_75[j]        \n",
    "        interval = 0.6\n",
    "        #where are the intersections with the terminus pick?\n",
    "#         for dat_x, dat_y in term_trimdat:\n",
    "        for dat_x, dat_y in term_dat:\n",
    "            #midway centerline\n",
    "            if within(dat_x, x, interval) and within (dat_y, y, interval):\n",
    "                #intersect_x = dat_x; intersect_y = dat_y; intersect_found = True\n",
    "                intersect_xs.append(dat_x); intersect_ys.append(dat_y)            \n",
    "            #1/4th centerline\n",
    "            if within(dat_x, x, interval) and within (dat_y, y25, interval):\n",
    "                intersect_xs_25.append(dat_x); intersect_ys_25.append(dat_y)              \n",
    "            #3/4th centerline\n",
    "            if within(dat_x, x, interval) and within (dat_y, y75, interval):\n",
    "                intersect_xs_75.append(dat_x); intersect_ys_75.append(dat_y)\n",
    "    #for 50 centerline\n",
    "    #if no intersections are found with the terminus line, append Nans\n",
    "    if len(intersect_xs) == 0:\n",
    "        tpos50 = np.NaN; intersect_x = np.NaN; intersect_y = np.NaN\n",
    "    #if at least one is found:\n",
    "    else:\n",
    "        #intersection with the greatest x\n",
    "        #use distance formula to calculate distance between\n",
    "        max_index = intersect_xs.index(np.max(intersect_xs))\n",
    "        intersect_x = intersect_xs[max_index]; intersect_y = intersect_ys[max_index]\n",
    "#         term_position = distance(xmin50, ymid50, intersect_x, intersect_y)*15.0\n",
    "        tpos50 = (intersect_x-xmin50)*15.0\n",
    "#         print(tpos50)\n",
    "\n",
    "    #for 25 centerline\n",
    "    if len(intersect_xs_25) == 0:\n",
    "        tpos25 = np.NaN; intersect_x25 = np.NaN; intersect_y25 = np.NaN\n",
    "    else:\n",
    "        max_index_25 = intersect_xs_25.index(np.max(intersect_xs_25))\n",
    "        intersect_x25 = intersect_xs_25[max_index_25]; intersect_y25 = intersect_ys_25[max_index_25]\n",
    "        tpos25 = (intersect_x25-xmin25)*15.0\n",
    "#         tpos25 = distance(xmin25, ymid25, intersect_x25, intersect_y25)*15.0\n",
    "    \n",
    "    #for 75 centerline\n",
    "    if len(intersect_xs_75) == 0:\n",
    "        tpos75 = np.NaN; intersect_x75 = np.NaN; intersect_y75 = np.NaN\n",
    "    else:\n",
    "        max_index_75 = intersect_xs_75.index(np.max(intersect_xs_75))\n",
    "        intersect_x75 = intersect_xs_75[max_index_75]; intersect_y75 = intersect_ys_75[max_index_75]\n",
    "        tpos75 = (intersect_x75-xmin75)*15.0\n",
    "#         tpos75 = distance(xmin75, ymid75, intersect_x75, intersect_y75)*15.0\n",
    "        \n",
    "    #append to lists\n",
    "    terminus_positions.append(tpos50); tpositions_25.append(tpos25); tpositions_75.append(tpos75)\n",
    "    intersections.append([intersect_x, intersect_y]); X25.append([intersect_x25, intersect_y25]); X75.append([intersect_x75, intersect_y75])\n",
    "    \n",
    "# ADD TERMINUS POSITION AND INTERSECTIONS\n",
    "final_images_df['tpos50'] = terminus_positions; final_images_df['tpos25'] = tpositions_25; final_images_df['tpos75'] = tpositions_75\n",
    "final_images_df['X50'] = intersections ;final_images_df['X25'] = X25; final_images_df['X75'] = X75\n",
    "print(final_images_df.shape)"
   ]
  },
  {
   "cell_type": "markdown",
   "metadata": {},
   "source": [
    "### Calculate terminus change rates (m/d):"
   ]
  },
  {
   "cell_type": "code",
   "execution_count": 46,
   "metadata": {},
   "outputs": [],
   "source": [
    "#Split into 3 dataframes\n",
    "final_images_50 = final_images_df[['Scene', 'BoxID', 'Scale', 'datetimes', 'Metric', 'Order', \n",
    "                                  'tpos50', 'X50',]].copy().reset_index(drop=True)\n",
    "final_images_50 = final_images_50.rename(columns={\"tpos50\": \"tpos\", \"X50\": \"X\"})\n",
    "final_images_25 = final_images_df[['Scene', 'BoxID', 'Scale', 'datetimes', 'Metric', 'Order', \n",
    "                                  'tpos25', 'X25']].copy().reset_index(drop=True)\n",
    "final_images_25 = final_images_25.rename(columns={\"tpos25\": \"tpos\", \"X25\": \"X\"})\n",
    "final_images_75 = final_images_df[['Scene', 'BoxID', 'Scale', 'datetimes', 'Metric', 'Order', \n",
    "                                  'tpos75', 'X75']].copy().reset_index(drop=True)\n",
    "final_images_75 = final_images_75.rename(columns={\"tpos75\": \"tpos\", \"X75\": \"X\"})\n",
    "\n",
    "dfs = [final_images_50, final_images_25, final_images_75]"
   ]
  },
  {
   "cell_type": "code",
   "execution_count": 47,
   "metadata": {},
   "outputs": [
    {
     "name": "stderr",
     "output_type": "stream",
     "text": [
      "/home/jukes/automated-glacier-terminus/automated_terminus_functions.py:107: SettingWithCopyWarning: \n",
      "A value is trying to be set on a copy of a slice from a DataFrame.\n",
      "Try using .loc[row_indexer,col_indexer] = value instead\n",
      "\n",
      "See the caveats in the documentation: http://pandas.pydata.org/pandas-docs/stable/indexing.html#indexing-view-versus-copy\n",
      "  df['changerate'] = tchange\n"
     ]
    }
   ],
   "source": [
    "dfs_new = []\n",
    "for df in dfs: \n",
    "    to_datetimes(df)\n",
    "    dfs_new.append(calc_changerates1(df))"
   ]
  },
  {
   "cell_type": "markdown",
   "metadata": {},
   "source": [
    "## 3) Show each image & all (up to 5) terminus picks at a time:"
   ]
  },
  {
   "cell_type": "code",
   "execution_count": 50,
   "metadata": {
    "scrolled": false
   },
   "outputs": [],
   "source": [
    "# for index, row in dated_images_df.iterrows():\n",
    "uniquescenes = set(list(final_images_df['Scene'])); len(uniquescenes)\n",
    "\n",
    "for scene in uniquescenes:    \n",
    "    #separate the df by scene:\n",
    "    scene_df = final_images_df[final_images_df['Scene'] == scene].copy()\n",
    "\n",
    "    #sort by descending order so the worse orders are plotted first and the better orders are plotted on top\n",
    "    scene_df = scene_df.sort_values(by='Order', ascending=False);\n",
    "    \n",
    "    #grab the date for the scene (just use the first since all should be the same)\n",
    "    date = list(scene_df.datetimes)[0]\n",
    "    \n",
    "    #loop through the rows for each scene and append info to these lists\n",
    "    trimdatfiles = []; datfiles = []; orders = []; intersections50 = {}; is25 = {}; is75 = {};\n",
    "    \n",
    "    for index, row in scene_df.iterrows():\n",
    "        #grab the terminus_trim files and append to list\n",
    "        trimdatfiles.append(row['Trimmed_dat_filename']); datfiles.append(row['Dat_filename'])\n",
    "        #grab the order to be plotted later:\n",
    "        orders.append(row['Order'])\n",
    "        #grab the intersections to be plotted later:\n",
    "        intersections50.update({row['Dat_filename']: row['X50']})\n",
    "        is25.update({row['Dat_filename']: row['X25']}); is75.update({row['Dat_filename']: row['X75']})\n",
    "\n",
    "    #Read in the image.png as np array\n",
    "    image = mpimg.imread(imagepath+\"R_\"+scene+\"_B8_PS_Buffer\"+BOI+'.png')\n",
    "    \n",
    "    #Read in terminus box raster as an np array\n",
    "#     tbox = mpimg.imread(csvpaths+\"Box\"+BOI+\"/rotated_images/final/crop_Box\"+BOI+\"_raster_cut.pgm\")\n",
    "    tbox = mpimg.imread(basepath+\"Box\"+BOI+\"/rotated/R_Box\"+BOI+\"_raster_cut.png\")\n",
    "    \n",
    "    #set path to that image's datfiles:\n",
    "    datpath = imagepath+\"R_\"+scene+\"_B8_PS_Buffer\"+BOI+\".pgm_max_gaussian/\"+metric\n",
    "    \n",
    "    #grab dat xs and ys\n",
    "    datxs = {}; datys = {}\n",
    "    \n",
    "    for i in range(0, len(trimdatfiles)):\n",
    "#         trimdat = trimdatfiles[i]\n",
    "        dat = datfiles[i]\n",
    "#         print(trimdat)\n",
    "        #Read in dat file as np array and grab x and y values\n",
    "#         term_trim_dat = np.loadtxt(datpath+trimdat)\n",
    "        term_dat = np.loadtxt(datpath+dat)\n",
    "#         print(term_trim_dat.shape)\n",
    "        \n",
    "        xs = []; ys = []\n",
    "        #grab x and y coordinates for the terminus line\n",
    "        for j in term_dat:\n",
    "            x, y = (j[0], j[1]); xs.append(x); ys.append(y)\n",
    "        \n",
    "        #update into dat xs and ys dictionaries:\n",
    "        datxs.update({dat: xs}); datys.update({dat: ys})\n",
    "    #grab the top pick\n",
    "    toppick = datfiles[len(datfiles)-1]; \n",
    "    \n",
    "    #PLOT THE LANDSAT IMAGE and TERMINUS BOX\n",
    "    plt.figure(figsize=(20,10)); plt.axis(\"off\")\n",
    "    imgplt_trim = plt.imshow(cv2.cvtColor(image, cv2.COLOR_BGR2RGB))\n",
    "    boxplt = plt.imshow(tbox, alpha=0.1)\n",
    "    \n",
    "    #PLOT CENTERLINES\n",
    "    #grab x values from centerline_df\n",
    "#     xmin50 = float(centerline_df.loc[BOI]['lmid50_x']); xmin25 = float(centerline_df.loc[BOI]['lmid25_x'])\n",
    "#     xmax50 = float(centerline_df.loc[BOI]['rmid50_x']); xmax25 = float(centerline_df.loc[BOI]['rmid25_x'])\n",
    "#     xmin75 = float(centerline_df.loc[BOI]['lmid75_x'])\n",
    "#     xmax75 = float(centerline_df.loc[BOI]['rmid75_x'])\n",
    "#     cx50 = np.linspace(xmin50, xmax50, int(xmax50-xmin50)*2); cx75 = np.linspace(xmin75, xmax75, int(xmax75-xmin75)*2)\n",
    "#     cx25 = np.linspace(xmin25, xmax25, int(xmax50-xmin50)*2)\n",
    "#     #generate y-values using the slope and intercept\n",
    "#     cy50 = float(centerline_df.loc[BOI]['m50'])*cx50 + float(centerline_df.loc[BOI]['b50'])  \n",
    "#     cy25 = float(centerline_df.loc[BOI]['m25'])*cx25 + float(centerline_df.loc[BOI]['b25']) \n",
    "#     cy75 = float(centerline_df.loc[BOI]['m75'])*cx75 + float(centerline_df.loc[BOI]['b75']) \n",
    "#     plt.plot(cx50, cy50, '--w',cx25, cy25, '--w', cx75, cy75, '--w' ,linewidth=1.5, alpha=0.5)\n",
    "\n",
    "    #PLOT DATE in the top left corner\n",
    "    plt.text(int(0.02*image.shape[0]), int(0.035*image.shape[1]), str(date), fontsize=16, color='w')\n",
    "    \n",
    "    \n",
    "    #PLOT ALL TOP PICKS in different shades of purple\n",
    "    #create five shades for each order\n",
    "    colors = pl.cm.plasma_r(np.linspace(0,1,5))\n",
    "    col_count = 0\n",
    "    #plot number of lines\n",
    "    plt.text(int(0.02*image.shape[0]), int(0.07*image.shape[0]), \"Lines: \"+str(len(datfiles)), fontsize=16, color='w')\n",
    "    #plot each termline\n",
    "    for line in datfiles:\n",
    "        #grab the x and y values for that termline\n",
    "        x, y = datxs[line], datys[line]\n",
    "        #plot with color scheme\n",
    "        plt.plot(x, y, color=colors[col_count], linewidth=2)\n",
    "        col_count = col_count+1\n",
    "        \n",
    "    #     #PLOT TOP PICK\n",
    "    plt.plot(datxs[toppick], datys[toppick], color='r')\n",
    "    \n",
    "#     #PLOT intersection points\n",
    "#     ix50, iy50 = intersections50.get(toppick); ix25, iy25 = is25.get(toppick); ix75, iy75 = is75.get(toppick)\n",
    "#     plt.plot(ix50, iy50, 'yx', ix25, iy25, 'yx', ix75, iy75, 'yx', markersize=6)\n",
    "#     for i_point in intersections:\n",
    "#         plt.plot(i_point[0], i_point[1], 'kx', markersize='6')\n",
    "        \n",
    "#     #PLOT midpoints for figure\n",
    "#     plt.plot(xmin50, float(centerline_df.loc[BOI]['lmid50_y']), 'ws', markersize='4')\n",
    "#     plt.plot(xmin25, float(centerline_df.loc[BOI]['lmid25_y']), 'ws', markersize='4')\n",
    "#     plt.plot(xmin75, float(centerline_df.loc[BOI]['lmid75_y']), 'ws', markersize='4')\n",
    "      \n",
    "    #SAVE AND DELAY\n",
    "    plt.savefig(basepath+\"Box\"+BOI+\"/Results/\"+str(date)[:-9]+\"_trim_\"+scene+\".png\", dpi=200, bbox_inches='tight')\n",
    "    plt.show()\n",
    "    sleep(1)\n",
    "    clear_output()\n",
    "# print(\"Done.\")"
   ]
  },
  {
   "cell_type": "markdown",
   "metadata": {},
   "source": [
    "## 4) Plot terminus position and change rate timeseries"
   ]
  },
  {
   "cell_type": "markdown",
   "metadata": {},
   "source": [
    "### Filtering using max flow speeds\n",
    "\n",
    "Grab max flow threshold from glacier velocities:"
   ]
  },
  {
   "cell_type": "code",
   "execution_count": 51,
   "metadata": {
    "scrolled": true
   },
   "outputs": [
    {
     "name": "stdout",
     "output_type": "stream",
     "text": [
      "10.033333054840089\n"
     ]
    }
   ],
   "source": [
    "#Grab max flow threshold from glacier velocities in flowspeed_df\n",
    "max_flow = float(flowspeed_df['Max_speed'][BOI])\n",
    "if max_flow < 1.0:\n",
    "    flow_thresh = 5.0\n",
    "else:\n",
    "    flow_thresh = 5.0*max_flow\n",
    "print(flow_thresh)"
   ]
  },
  {
   "cell_type": "markdown",
   "metadata": {},
   "source": [
    "Filter for sudden dips in the time series:"
   ]
  },
  {
   "cell_type": "code",
   "execution_count": 52,
   "metadata": {
    "scrolled": false
   },
   "outputs": [
    {
     "name": "stdout",
     "output_type": "stream",
     "text": [
      "[60, 61, 85, 110, 111, 112, 113, 114]\n",
      "[107]\n",
      "[]\n",
      "[2, 3, 4, 5, 54, 55, 95, 96, 97, 98, 99]\n",
      "[]\n",
      "[]\n",
      "[49, 74, 89, 90, 91, 92, 94, 99, 100, 101, 102, 103]\n",
      "[91]\n",
      "[]\n"
     ]
    }
   ],
   "source": [
    "#REMOVE DIPS \n",
    "N1 = 3\n",
    "nodips = []\n",
    "for df in dfs_new:\n",
    "    nodips.append(remove_dips(df, flow_thresh, N1))"
   ]
  },
  {
   "cell_type": "markdown",
   "metadata": {},
   "source": [
    "Filter for sudden jumps in the time series"
   ]
  },
  {
   "cell_type": "code",
   "execution_count": 53,
   "metadata": {
    "scrolled": true
   },
   "outputs": [
    {
     "name": "stdout",
     "output_type": "stream",
     "text": [
      "[8, 9, 10, 11, 27, 29, 30, 31, 32, 33, 49, 50, 51, 52, 53, 60, 71, 80, 81, 82, 102, 103, 104, 105, 106, 109, 110, 111, 127, 128, 129]\n",
      "[8, 9, 10, 11, 12, 65, 65, 82, 82, 83, 83, 99, 100]\n",
      "[2, 3, 4, 5, 15, 16, 17, 19, 20, 21, 22, 23, 39, 40, 41, 42, 43, 50, 61, 84, 85, 86, 87, 88, 92, 93, 94, 95, 105, 106, 107, 108, 109, 110, 111, 112, 113]\n",
      "[66, 66, 67, 67]\n",
      "[23, 39, 40, 41, 68, 69, 83, 84, 85, 86, 91]\n",
      "[23, 24, 25, 26, 27]\n"
     ]
    }
   ],
   "source": [
    "#REMOVE JUMPS\n",
    "N2 = 2\n",
    "nojumps = []\n",
    "for df in nodips:\n",
    "    nojumps.append(remove_jumps(df, flow_thresh, N2))"
   ]
  },
  {
   "cell_type": "code",
   "execution_count": 54,
   "metadata": {
    "scrolled": false
   },
   "outputs": [],
   "source": [
    "# fig, ax1 = plt.subplots(figsize=(12,6))\n",
    "# # ax1.plot(final_images_df['datetimes'], final_images_df['term_position'], 'mo', markersize = 5)\n",
    "# colors = pl.cm.plasma(np.linspace(0,1,5))\n",
    "\n",
    "# df1 = final_images_50[final_images_50['Order'] == '1'].copy(); df2 = final_images_50[final_images_50['Order'] == '2'].copy()\n",
    "# df3 = final_images_50[final_images_50['Order'] == '3'].copy(); df4 = final_images_50[final_images_50['Order'] == '4'].copy()\n",
    "# df5 = final_images_50[final_images_50['Order'] == '5'].copy()\n",
    "\n",
    "# ax1.plot(df5['datetimes'], df5['tpos'], color = colors[4], marker='o', markersize=5, lw=0)\n",
    "# ax1.plot(df4['datetimes'], df4['tpos'], color = colors[3], marker='o', markersize=5, lw=0)\n",
    "# ax1.plot(df3['datetimes'], df3['tpos'], color = colors[2], marker='o', markersize=5, lw=0)\n",
    "# ax1.plot(df2['datetimes'], df2['tpos'], color = colors[1], marker='o', markersize=5, lw=0)\n",
    "# ax1.plot(df1['datetimes'], df1['tpos'], color = colors[0], marker='o', markersize=5, lw=0)\n",
    "\n",
    "# ax1.set_ylabel('Terminus position (m)', color='k', fontsize=14)\n",
    "# ax1.set_xlabel('Date', fontsize=14)\n",
    "# ax1.tick_params(axis='both', which='major', labelsize=14)\n",
    "\n",
    "# # plt.savefig(csvpaths+\"/Figures/filtering/Timeseries_final_top1_\"+BOI+\"_\"+analysis_date+\".png\", dpi=500)\n",
    "# plt.show()"
   ]
  },
  {
   "cell_type": "code",
   "execution_count": 55,
   "metadata": {},
   "outputs": [],
   "source": [
    "# min_time = list(final_images_df['datetimes'])[0]\n",
    "# max_time = list(final_images_df['datetimes'])[-1]"
   ]
  },
  {
   "cell_type": "code",
   "execution_count": 56,
   "metadata": {
    "scrolled": true
   },
   "outputs": [],
   "source": [
    "# fig, ax1 = plt.subplots(figsize=(12,6))\n",
    "# #TERMINUS POSITION\n",
    "# ax1.plot(nojumps75['datetimes'], nojumps75['tpos'], 'mo', markersize='4')\n",
    "# # ax1.plot(dips_df['datetimes'], dips_df['Term_position'], 'ko', markersize='4')\n",
    "# plt.show()"
   ]
  },
  {
   "cell_type": "markdown",
   "metadata": {},
   "source": [
    "Grab only those terminus positions corresponding to the highest order terminus pick."
   ]
  },
  {
   "cell_type": "code",
   "execution_count": 57,
   "metadata": {},
   "outputs": [],
   "source": [
    "# orders25"
   ]
  },
  {
   "cell_type": "code",
   "execution_count": 58,
   "metadata": {
    "scrolled": true
   },
   "outputs": [
    {
     "name": "stdout",
     "output_type": "stream",
     "text": [
      "22\n",
      "21\n",
      "19\n"
     ]
    }
   ],
   "source": [
    "#Grab highest orders:\n",
    "highestorder_dfs = []\n",
    "for df in nojumps:\n",
    "    #grab unique dates\n",
    "    unique_dates = set(list(df['datetimes']))\n",
    "    print(len(unique_dates))\n",
    "    #grab highest orders:\n",
    "    order_list = []\n",
    "    for date in unique_dates:\n",
    "        date_df = df[df['datetimes'] == date].copy()\n",
    "        highestorder = np.min(np.array(date_df['Order']))\n",
    "        order_list.append(highestorder)\n",
    "    highestorder_df = pd.DataFrame(list(zip(unique_dates, order_list)), columns=['datetimes', 'Order']).sort_values(by='datetimes', ascending=True)\n",
    "    highestorder_dfs.append(highestorder_df)"
   ]
  },
  {
   "cell_type": "markdown",
   "metadata": {},
   "source": [
    "Inner merge with final_images_df to only keep those of the highest order"
   ]
  },
  {
   "cell_type": "code",
   "execution_count": 59,
   "metadata": {
    "scrolled": true
   },
   "outputs": [
    {
     "name": "stdout",
     "output_type": "stream",
     "text": [
      "22\n",
      "21\n",
      "19\n"
     ]
    }
   ],
   "source": [
    "onepick_dfs = []\n",
    "for i in range(0, len(highestorder_dfs)):\n",
    "    onepick_df = nojumps[i].merge(highestorder_dfs[i], how='inner', on=['datetimes', 'Order'])\n",
    "    onepick_dfs.append(onepick_df)\n",
    "    print(onepick_df.shape[0])\n",
    "    \n",
    "# onepick_df = nojumps.merge(highestorder_df, how='inner', on=['datetimes', 'Order']); print(onepick_df.shape[0])\n",
    "# onepick_df25 = nojumps25.merge(highestorder_df25, how='inner', on=['datetimes', 'Order']); print(onepick_df25.shape[0])\n",
    "# onepick_df75 = nojumps75.merge(highestorder_df75, how='inner', on=['datetimes', 'Order']); print(onepick_df75.shape[0])\n",
    "# onepick_df.head()"
   ]
  },
  {
   "cell_type": "code",
   "execution_count": 60,
   "metadata": {},
   "outputs": [],
   "source": [
    "# onepick_df = final_images_df.merge(highestorder_df, how='inner', on=['datetimes', 'Order'])\n",
    "# print(onepick_df.shape[0])\n",
    "# onepick_df"
   ]
  },
  {
   "cell_type": "code",
   "execution_count": 61,
   "metadata": {
    "scrolled": true
   },
   "outputs": [],
   "source": [
    "# posmax = np.max(onepick_df['tpos']); print(posmax)\n",
    "# posmax25 = np.max(onepick_df25['tpos']); print(posmax25)\n",
    "# posmax75 = np.max(onepick_df75['tpos']); print(posmax75)"
   ]
  },
  {
   "cell_type": "markdown",
   "metadata": {},
   "source": [
    "## Plotting:"
   ]
  },
  {
   "cell_type": "code",
   "execution_count": 62,
   "metadata": {
    "scrolled": false
   },
   "outputs": [
    {
     "name": "stdout",
     "output_type": "stream",
     "text": [
      "22\n",
      "21\n",
      "19\n"
     ]
    },
    {
     "data": {
      "image/png": "[encoded data removed]",
      "text/plain": [
       "<Figure size 864x288 with 1 Axes>"
      ]
     },
     "metadata": {
      "needs_background": "light"
     },
     "output_type": "display_data"
    }
   ],
   "source": [
    "fig, ax1 = plt.subplots(figsize=(12,4))\n",
    "markers = ['mo', 'ro', 'bo']\n",
    "\n",
    "#PLOT TERMINUS POSITIONS ALONG 3 CENTERLINES\n",
    "for j in range(0, len(onepick_dfs)):\n",
    "    df = onepick_dfs[j];    print(len(df))\n",
    "    ax1.plot(df['datetimes'], df['tpos'], markers[j], markersize=5, alpha=0.8)\n",
    "\n",
    "# final_images_df.plot(x='datetimes', y='term_position', \n",
    "#             c=final_images_df['Order'], markersize='4', colormap='RdPu_r', legend=None)\n",
    "ax1.set_ylabel('Terminus position (m)', color='k', fontsize=12)\n",
    "\n",
    "#GENERAL PLOT PARAMETERS\n",
    "ax1.set_title(\"Box\"+BOI, fontsize=16)\n",
    "ax1.set_xlabel('Date', fontsize=12)\n",
    "ax1.tick_params(axis='both', which='major', labelsize=12)\n",
    "\n",
    "#SAVE FIGURE\n",
    "plt.savefig(csvpaths+\"/Figures/Termposition_LS8_m_Box\"+BOI+\"_\"+analysis_date+\".png\", dpi=200)\n",
    "plt.legend(['1/2', '1/4', '3/4'])\n",
    "plt.show()"
   ]
  },
  {
   "cell_type": "code",
   "execution_count": 281,
   "metadata": {},
   "outputs": [],
   "source": [
    "flowlines = ['flowline50', 'flowline25', 'flowline75']\n",
    "for k in range(0, len(onepick_dfs)):\n",
    "    df = onepick_dfs[k];\n",
    "    df.to_csv(path_or_buf = csvpaths+'Tpos_Box'+BOI+'_'+flowlines[k]+'_filtered.csv', sep=',')"
   ]
  },
  {
   "cell_type": "code",
   "execution_count": null,
   "metadata": {},
   "outputs": [],
   "source": []
  }
 ],
 "metadata": {
  "kernelspec": {
   "display_name": "Python 3",
   "language": "python",
   "name": "python3"
  },
  "language_info": {
   "codemirror_mode": {
    "name": "ipython",
    "version": 3
   },
   "file_extension": ".py",
   "mimetype": "text/x-python",
   "name": "python",
   "nbconvert_exporter": "python",
   "pygments_lexer": "ipython3",
   "version": "3.7.3"
  }
 },
 "nbformat": 4,
 "nbformat_minor": 2
}
