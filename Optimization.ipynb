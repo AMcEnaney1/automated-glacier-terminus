{
 "cells": [
  {
   "cell_type": "markdown",
   "metadata": {},
   "source": [
    "## Import packages and set paths"
   ]
  },
  {
   "cell_type": "code",
   "execution_count": 39,
   "metadata": {},
   "outputs": [],
   "source": [
    "import pandas as pd\n",
    "import numpy as np\n",
    "import os\n",
    "import subprocess\n",
    "import matplotlib.pyplot as plt\n",
    "import cv2\n",
    "import matplotlib.image as mpimg\n",
    "import matplotlib.pylab as pl\n",
    "import numpy.ma as ma\n",
    "import datetime\n",
    "import math\n",
    "import scipy.optimize\n",
    "import random"
   ]
  },
  {
   "cell_type": "code",
   "execution_count": 10,
   "metadata": {},
   "outputs": [],
   "source": [
    "basepath = '/media/jukes/jukes1/'\n",
    "sg_path = '/home/jukes/Documents/Sample_glaciers/'"
   ]
  },
  {
   "cell_type": "markdown",
   "metadata": {},
   "source": [
    "## Read in analysis dates for manual and automated delinations, convert to datetime objs"
   ]
  },
  {
   "cell_type": "code",
   "execution_count": 12,
   "metadata": {},
   "outputs": [
    {
     "name": "stdout",
     "output_type": "stream",
     "text": [
      "(585, 4)\n"
     ]
    },
    {
     "data": {
      "text/html": [
       "<div>\n",
       "<style scoped>\n",
       "    .dataframe tbody tr th:only-of-type {\n",
       "        vertical-align: middle;\n",
       "    }\n",
       "\n",
       "    .dataframe tbody tr th {\n",
       "        vertical-align: top;\n",
       "    }\n",
       "\n",
       "    .dataframe thead th {\n",
       "        text-align: right;\n",
       "    }\n",
       "</style>\n",
       "<table border=\"1\" class=\"dataframe\">\n",
       "  <thead>\n",
       "    <tr style=\"text-align: right;\">\n",
       "      <th></th>\n",
       "      <th>BoxID</th>\n",
       "      <th>datetimes</th>\n",
       "      <th>Line_x</th>\n",
       "      <th>Line_y</th>\n",
       "    </tr>\n",
       "  </thead>\n",
       "  <tbody>\n",
       "    <tr>\n",
       "      <th>0</th>\n",
       "      <td>001</td>\n",
       "      <td>1987-10-14</td>\n",
       "      <td>[153, 153, 151, 152, 150, 151, 149, 148, 146, ...</td>\n",
       "      <td>[132, 133, 134, 134, 135, 135, 136, 138, 139, ...</td>\n",
       "    </tr>\n",
       "    <tr>\n",
       "      <th>1</th>\n",
       "      <td>001</td>\n",
       "      <td>1995-04-13</td>\n",
       "      <td>[152, 153, 153, 153, 153, 153, 154, 154, 155, ...</td>\n",
       "      <td>[135, 136, 137, 138, 139, 140, 141, 142, 142, ...</td>\n",
       "    </tr>\n",
       "    <tr>\n",
       "      <th>2</th>\n",
       "      <td>001</td>\n",
       "      <td>1995-05-31</td>\n",
       "      <td>[153, 153, 153, 153, 153, 154, 154, 157, 158, ...</td>\n",
       "      <td>[137, 138, 139, 140, 142, 143, 145, 145, 145, ...</td>\n",
       "    </tr>\n",
       "    <tr>\n",
       "      <th>3</th>\n",
       "      <td>001</td>\n",
       "      <td>2013-05-25</td>\n",
       "      <td>[131, 131, 132, 133, 134, 134, 135, 136, 136, ...</td>\n",
       "      <td>[141, 143, 144, 144, 145, 146, 146, 146, 147, ...</td>\n",
       "    </tr>\n",
       "    <tr>\n",
       "      <th>4</th>\n",
       "      <td>001</td>\n",
       "      <td>2013-05-29</td>\n",
       "      <td>[130, 131, 130, 131, 131, 132, 134, 134, 135, ...</td>\n",
       "      <td>[142, 142, 144, 144, 145, 146, 147, 148, 148, ...</td>\n",
       "    </tr>\n",
       "  </tbody>\n",
       "</table>\n",
       "</div>"
      ],
      "text/plain": [
       "  BoxID   datetimes                                             Line_x  \\\n",
       "0   001  1987-10-14  [153, 153, 151, 152, 150, 151, 149, 148, 146, ...   \n",
       "1   001  1995-04-13  [152, 153, 153, 153, 153, 153, 154, 154, 155, ...   \n",
       "2   001  1995-05-31  [153, 153, 153, 153, 153, 154, 154, 157, 158, ...   \n",
       "3   001  2013-05-25  [131, 131, 132, 133, 134, 134, 135, 136, 136, ...   \n",
       "4   001  2013-05-29  [130, 131, 130, 131, 131, 132, 134, 134, 135, ...   \n",
       "\n",
       "                                              Line_y  \n",
       "0  [132, 133, 134, 134, 135, 135, 136, 138, 139, ...  \n",
       "1  [135, 136, 137, 138, 139, 140, 141, 142, 142, ...  \n",
       "2  [137, 138, 139, 140, 142, 143, 145, 145, 145, ...  \n",
       "3  [141, 143, 144, 144, 145, 146, 146, 146, 147, ...  \n",
       "4  [142, 142, 144, 144, 145, 146, 147, 148, 148, ...  "
      ]
     },
     "execution_count": 12,
     "metadata": {},
     "output_type": "execute_result"
    }
   ],
   "source": [
    "#read in manual image dates\n",
    "manual_df= pd.read_csv(basepath+'Manual/Manual_imgdates.csv', sep=',', dtype=str, header=0, usecols=[1,2,3,4])\n",
    "print(manual_df.shape)\n",
    "manual_df.head()"
   ]
  },
  {
   "cell_type": "code",
   "execution_count": 13,
   "metadata": {},
   "outputs": [],
   "source": [
    "#grab the datetime strings\n",
    "datetimes = manual_df.loc[:,'datetimes']\n",
    "#create list to store the datetime objects\n",
    "datetime_objs = []\n",
    "\n",
    "for date in datetimes:\n",
    "    date = str(date)\n",
    "    datetime_obj = datetime.datetime.strptime(date, '%Y-%m-%d')\n",
    "    datetime_obj = np.datetime64(datetime_obj)\n",
    "    datetime_objs.append(datetime_obj)\n",
    "\n",
    "#add the datetime objects back into the datetime column\n",
    "manual_df['datetimes'] = datetime_objs"
   ]
  },
  {
   "cell_type": "code",
   "execution_count": 14,
   "metadata": {
    "scrolled": false
   },
   "outputs": [
    {
     "name": "stdout",
     "output_type": "stream",
     "text": [
      "(864, 2)\n"
     ]
    },
    {
     "data": {
      "text/html": [
       "<div>\n",
       "<style scoped>\n",
       "    .dataframe tbody tr th:only-of-type {\n",
       "        vertical-align: middle;\n",
       "    }\n",
       "\n",
       "    .dataframe tbody tr th {\n",
       "        vertical-align: top;\n",
       "    }\n",
       "\n",
       "    .dataframe thead th {\n",
       "        text-align: right;\n",
       "    }\n",
       "</style>\n",
       "<table border=\"1\" class=\"dataframe\">\n",
       "  <thead>\n",
       "    <tr style=\"text-align: right;\">\n",
       "      <th></th>\n",
       "      <th>Scene</th>\n",
       "      <th>datetimes</th>\n",
       "    </tr>\n",
       "  </thead>\n",
       "  <tbody>\n",
       "    <tr>\n",
       "      <th>510</th>\n",
       "      <td>LC80090132013101LGN01</td>\n",
       "      <td>2013-04-11</td>\n",
       "    </tr>\n",
       "    <tr>\n",
       "      <th>1612</th>\n",
       "      <td>LC80090142013101LGN01</td>\n",
       "      <td>2013-04-11</td>\n",
       "    </tr>\n",
       "    <tr>\n",
       "      <th>577</th>\n",
       "      <td>LC82330172013102LGN01</td>\n",
       "      <td>2013-04-12</td>\n",
       "    </tr>\n",
       "    <tr>\n",
       "      <th>940</th>\n",
       "      <td>LC82330152013102LGN01</td>\n",
       "      <td>2013-04-12</td>\n",
       "    </tr>\n",
       "    <tr>\n",
       "      <th>445</th>\n",
       "      <td>LC80080142013110LGN01</td>\n",
       "      <td>2013-04-20</td>\n",
       "    </tr>\n",
       "  </tbody>\n",
       "</table>\n",
       "</div>"
      ],
      "text/plain": [
       "                      Scene   datetimes\n",
       "510   LC80090132013101LGN01  2013-04-11\n",
       "1612  LC80090142013101LGN01  2013-04-11\n",
       "577   LC82330172013102LGN01  2013-04-12\n",
       "940   LC82330152013102LGN01  2013-04-12\n",
       "445   LC80080142013110LGN01  2013-04-20"
      ]
     },
     "execution_count": 14,
     "metadata": {},
     "output_type": "execute_result"
    }
   ],
   "source": [
    "#Read in datetags csv as datetime_df\n",
    "automated_df = pd.read_csv(sg_path+'imgdates.csv', sep=',', dtype=str, header=0, names=['Scene', 'datetimes'])\n",
    "print(datetime_df.shape)\n",
    "automated_df.head()"
   ]
  },
  {
   "cell_type": "code",
   "execution_count": 15,
   "metadata": {},
   "outputs": [],
   "source": [
    "#grab the datetime strings\n",
    "datetimes = automated_df.loc[:,'datetimes']\n",
    "#create list to store the datetime objects\n",
    "datetime_objs = []\n",
    "\n",
    "for date in datetimes:\n",
    "    date = str(date)\n",
    "    datetime_obj = datetime.datetime.strptime(date, '%Y-%m-%d')\n",
    "    datetime_obj = np.datetime64(datetime_obj)\n",
    "    datetime_objs.append(datetime_obj)\n",
    "\n",
    "#add the datetime objects back into the datetime column\n",
    "automated_df['datetimes'] = datetime_objs"
   ]
  },
  {
   "cell_type": "markdown",
   "metadata": {},
   "source": [
    "## Find overlaps and select half for testing"
   ]
  },
  {
   "cell_type": "code",
   "execution_count": 71,
   "metadata": {
    "scrolled": true
   },
   "outputs": [
    {
     "data": {
      "text/plain": [
       "(125, 2)"
      ]
     },
     "execution_count": 71,
     "metadata": {},
     "output_type": "execute_result"
    }
   ],
   "source": [
    "overlap_df = manual_df.merge(automated_df, how='inner', on=['datetimes'])\n",
    "overlap_df = overlap_df.sort_values(by='datetimes', ascending=True)\n",
    "overlap_df = overlap_df.drop(['Line_x', 'Line_y', 'Scene'], axis=1)\n",
    "overlap_df = overlap_df.drop_duplicates()\n",
    "overlap_df.shape"
   ]
  },
  {
   "cell_type": "code",
   "execution_count": 102,
   "metadata": {
    "scrolled": true
   },
   "outputs": [],
   "source": [
    "dates = []\n",
    "\n",
    "for idx, row in overlap_df.iterrows():\n",
    "    entry = row['BoxID'] + ','+str(row['datetimes'])[:-9]\n",
    "#     print(entry)\n",
    "    dates.append(entry)\n",
    "# print(dates)"
   ]
  },
  {
   "cell_type": "code",
   "execution_count": 92,
   "metadata": {},
   "outputs": [
    {
     "name": "stdout",
     "output_type": "stream",
     "text": [
      "125\n",
      "63\n",
      "62\n",
      "set()\n"
     ]
    }
   ],
   "source": [
    "N = len(dates)\n",
    "print(N)\n",
    "\n",
    "#pick a random sample of dates for training\n",
    "train_dates = random.sample(dates, int(N/2)+1)\n",
    "print(len(train_dates))\n",
    "# print(train_dates)\n",
    "\n",
    "#grab remaining for testing\n",
    "test_dates = []\n",
    "for date in dates:\n",
    "    if date not in train_dates:\n",
    "        test_dates.append(date)\n",
    "print(len(test_dates))\n",
    "# print(test_dates)\n",
    "\n",
    "#Check that they don't overlap, should return empty\n",
    "print(set(train_dates).intersection(test_dates))"
   ]
  },
  {
   "cell_type": "code",
   "execution_count": 100,
   "metadata": {
    "scrolled": true
   },
   "outputs": [],
   "source": [
    "boxes = []\n",
    "imgdates = []\n",
    "\n",
    "for td in train_dates:\n",
    "    BoxID, imgdate = td.split(',')\n",
    "    \n",
    "    boxes.append(BoxID)\n",
    "    imgdates.append(imgdate)\n",
    "\n",
    "train_df = pd.DataFrame(list(zip(boxes, imgdates)))\n",
    "#export to csv and text\n",
    "train_df.to_csv(basepath+'/Manual/train.csv', sep=',', index=False, header=False)\n",
    "train_df.to_csv(basepath+'/Manual/train.txt', sep=' ', index=False, header=False)"
   ]
  },
  {
   "cell_type": "markdown",
   "metadata": {},
   "source": [
    "## Define objective function"
   ]
  },
  {
   "cell_type": "markdown",
   "metadata": {},
   "source": [
    "Example:"
   ]
  },
  {
   "cell_type": "code",
   "execution_count": 104,
   "metadata": {
    "scrolled": true
   },
   "outputs": [
    {
     "name": "stdout",
     "output_type": "stream",
     "text": [
      "Optimization terminated successfully.\n",
      "         Current function value: 0.000000\n",
      "         Iterations: 17\n",
      "         Function evaluations: 34\n"
     ]
    },
    {
     "data": {
      "text/plain": [
       "-8.881784197001252e-16"
      ]
     },
     "execution_count": 104,
     "metadata": {},
     "output_type": "execute_result"
    }
   ],
   "source": [
    "def f(x):\n",
    "    return x**2\n",
    "minimum = scipy.optimize.fmin(f, 1)\n",
    "minimum[0]"
   ]
  },
  {
   "cell_type": "markdown",
   "metadata": {},
   "source": [
    "#### Our objective function"
   ]
  },
  {
   "cell_type": "code",
   "execution_count": 171,
   "metadata": {},
   "outputs": [],
   "source": [
    "def center_dist(thresh):\n",
    "    #Calculate automated tpos\n",
    "    auto = thresh*1000\n",
    "    \n",
    "    #pull in manual tpos\n",
    "    man = random.choice(np.linspace(600,1000,100))\n",
    "    \n",
    "    #return objective function = distance between the two\n",
    "    return abs(auto-man)"
   ]
  },
  {
   "cell_type": "code",
   "execution_count": 192,
   "metadata": {},
   "outputs": [
    {
     "name": "stdout",
     "output_type": "stream",
     "text": [
      "Warning: Maximum number of function evaluations has been exceeded.\n"
     ]
    },
    {
     "data": {
      "text/plain": [
       "(array([0.81]), 0.10101010101016072, 74, 200, 1)"
      ]
     },
     "execution_count": 192,
     "metadata": {},
     "output_type": "execute_result"
    }
   ],
   "source": [
    "scipy.optimize.fmin(center_dist, 0.8, full_output=True)"
   ]
  },
  {
   "cell_type": "code",
   "execution_count": 196,
   "metadata": {},
   "outputs": [],
   "source": [
    "def minimize(guess):\n",
    "    minimum = scipy.optimize.fmin(center_dist, guess, full_output=True)\n",
    "    xopt = minimum[0][0]\n",
    "    funcval = minimum[1]\n",
    "    return xopt, funcval"
   ]
  },
  {
   "cell_type": "code",
   "execution_count": 200,
   "metadata": {
    "scrolled": true
   },
   "outputs": [
    {
     "name": "stdout",
     "output_type": "stream",
     "text": [
      "Optimization terminated successfully.\n",
      "         Current function value: 0.606061\n",
      "         Iterations: 32\n",
      "         Function evaluations: 84\n",
      "Optimization terminated successfully.\n",
      "         Current function value: 3.509776\n",
      "         Iterations: 23\n",
      "         Function evaluations: 61\n",
      "Warning: Maximum number of function evaluations has been exceeded.\n",
      "Warning: Maximum number of function evaluations has been exceeded.\n",
      "Optimization terminated successfully.\n",
      "         Current function value: 0.173552\n",
      "         Iterations: 21\n",
      "         Function evaluations: 53\n",
      "Optimization terminated successfully.\n",
      "         Current function value: 3.056197\n",
      "         Iterations: 21\n",
      "         Function evaluations: 55\n",
      "Optimization terminated successfully.\n",
      "         Current function value: 0.833333\n",
      "         Iterations: 58\n",
      "         Function evaluations: 155\n",
      "Optimization terminated successfully.\n",
      "         Current function value: 0.046017\n",
      "         Iterations: 71\n",
      "         Function evaluations: 190\n",
      "Optimization terminated successfully.\n",
      "         Current function value: 0.707071\n",
      "         Iterations: 39\n",
      "         Function evaluations: 105\n",
      "Optimization terminated successfully.\n",
      "         Current function value: 0.445499\n",
      "         Iterations: 34\n",
      "         Function evaluations: 88\n",
      "Warning: Maximum number of function evaluations has been exceeded.\n",
      "Optimization terminated successfully.\n",
      "         Current function value: 0.495040\n",
      "         Iterations: 46\n",
      "         Function evaluations: 123\n",
      "Optimization terminated successfully.\n",
      "         Current function value: 4.330808\n",
      "         Iterations: 31\n",
      "         Function evaluations: 82\n",
      "Warning: Maximum number of function evaluations has been exceeded.\n",
      "Optimization terminated successfully.\n",
      "         Current function value: 0.512819\n",
      "         Iterations: 37\n",
      "         Function evaluations: 99\n",
      "Warning: Maximum number of function evaluations has been exceeded.\n",
      "Optimization terminated successfully.\n",
      "         Current function value: 1.038905\n",
      "         Iterations: 71\n",
      "         Function evaluations: 188\n",
      "Warning: Maximum number of function evaluations has been exceeded.\n",
      "Optimization terminated successfully.\n",
      "         Current function value: 1.020747\n",
      "         Iterations: 55\n",
      "         Function evaluations: 146\n",
      "Optimization terminated successfully.\n",
      "         Current function value: 1.767677\n",
      "         Iterations: 29\n",
      "         Function evaluations: 82\n",
      "Optimization terminated successfully.\n",
      "         Current function value: 0.730720\n",
      "         Iterations: 61\n",
      "         Function evaluations: 168\n",
      "Optimization terminated successfully.\n",
      "         Current function value: 4.242424\n",
      "         Iterations: 46\n",
      "         Function evaluations: 115\n",
      "Optimization terminated successfully.\n",
      "         Current function value: 3.705876\n",
      "         Iterations: 55\n",
      "         Function evaluations: 148\n",
      "Warning: Maximum number of function evaluations has been exceeded.\n",
      "Optimization terminated successfully.\n",
      "         Current function value: 1.893939\n",
      "         Iterations: 42\n",
      "         Function evaluations: 110\n",
      "Warning: Maximum number of function evaluations has been exceeded.\n",
      "Optimization terminated successfully.\n",
      "         Current function value: 5.881579\n",
      "         Iterations: 59\n",
      "         Function evaluations: 159\n",
      "Optimization terminated successfully.\n",
      "         Current function value: 3.120672\n",
      "         Iterations: 54\n",
      "         Function evaluations: 140\n",
      "Optimization terminated successfully.\n",
      "         Current function value: 1.150313\n",
      "         Iterations: 51\n",
      "         Function evaluations: 134\n",
      "Optimization terminated successfully.\n",
      "         Current function value: 0.399606\n",
      "         Iterations: 27\n",
      "         Function evaluations: 75\n",
      "Optimization terminated successfully.\n",
      "         Current function value: 0.294226\n",
      "         Iterations: 25\n",
      "         Function evaluations: 62\n",
      "Warning: Maximum number of function evaluations has been exceeded.\n",
      "Optimization terminated successfully.\n",
      "         Current function value: 0.711283\n",
      "         Iterations: 31\n",
      "         Function evaluations: 80\n",
      "Warning: Maximum number of function evaluations has been exceeded.\n",
      "Optimization terminated successfully.\n",
      "         Current function value: 1.375220\n",
      "         Iterations: 34\n",
      "         Function evaluations: 87\n",
      "Optimization terminated successfully.\n",
      "         Current function value: 1.496212\n",
      "         Iterations: 43\n",
      "         Function evaluations: 115\n",
      "Optimization terminated successfully.\n",
      "         Current function value: 1.818822\n",
      "         Iterations: 68\n",
      "         Function evaluations: 182\n",
      "Optimization terminated successfully.\n",
      "         Current function value: 5.160376\n",
      "         Iterations: 29\n",
      "         Function evaluations: 75\n",
      "Warning: Maximum number of function evaluations has been exceeded.\n",
      "Optimization terminated successfully.\n",
      "         Current function value: 2.131360\n",
      "         Iterations: 57\n",
      "         Function evaluations: 149\n",
      "Optimization terminated successfully.\n",
      "         Current function value: 0.000000\n",
      "         Iterations: 41\n",
      "         Function evaluations: 110\n",
      "Warning: Maximum number of function evaluations has been exceeded.\n",
      "Warning: Maximum number of function evaluations has been exceeded.\n",
      "Optimization terminated successfully.\n",
      "         Current function value: 4.772128\n",
      "         Iterations: 25\n",
      "         Function evaluations: 67\n",
      "Optimization terminated successfully.\n",
      "         Current function value: 8.049242\n",
      "         Iterations: 23\n",
      "         Function evaluations: 61\n",
      "Optimization terminated successfully.\n",
      "         Current function value: 2.302714\n",
      "         Iterations: 32\n",
      "         Function evaluations: 84\n",
      "Optimization terminated successfully.\n",
      "         Current function value: 4.537863\n",
      "         Iterations: 27\n",
      "         Function evaluations: 67\n",
      "Optimization terminated successfully.\n",
      "         Current function value: 0.089765\n",
      "         Iterations: 64\n",
      "         Function evaluations: 173\n",
      "Optimization terminated successfully.\n",
      "         Current function value: 2.446338\n",
      "         Iterations: 34\n",
      "         Function evaluations: 92\n",
      "Warning: Maximum number of function evaluations has been exceeded.\n",
      "Optimization terminated successfully.\n",
      "         Current function value: 1.338690\n",
      "         Iterations: 66\n",
      "         Function evaluations: 178\n",
      "Optimization terminated successfully.\n",
      "         Current function value: 0.221698\n",
      "         Iterations: 30\n",
      "         Function evaluations: 77\n",
      "Optimization terminated successfully.\n",
      "         Current function value: 1.481223\n",
      "         Iterations: 43\n",
      "         Function evaluations: 115\n",
      "Optimization terminated successfully.\n",
      "         Current function value: 1.799242\n",
      "         Iterations: 63\n",
      "         Function evaluations: 168\n",
      "Optimization terminated successfully.\n",
      "         Current function value: 3.845215\n",
      "         Iterations: 54\n",
      "         Function evaluations: 141\n",
      "Warning: Maximum number of function evaluations has been exceeded.\n",
      "Optimization terminated successfully.\n",
      "         Current function value: 1.522143\n",
      "         Iterations: 55\n",
      "         Function evaluations: 141\n",
      "Warning: Maximum number of function evaluations has been exceeded.\n",
      "Warning: Maximum number of function evaluations has been exceeded.\n",
      "Warning: Maximum number of function evaluations has been exceeded.\n",
      "Optimization terminated successfully.\n",
      "         Current function value: 0.296717\n",
      "         Iterations: 59\n",
      "         Function evaluations: 158\n",
      "Optimization terminated successfully.\n",
      "         Current function value: 0.637626\n",
      "         Iterations: 54\n",
      "         Function evaluations: 142\n",
      "Optimization terminated successfully.\n",
      "         Current function value: 2.979797\n",
      "         Iterations: 28\n",
      "         Function evaluations: 78\n",
      "Warning: Maximum number of function evaluations has been exceeded.\n",
      "Optimization terminated successfully.\n",
      "         Current function value: 1.686204\n",
      "         Iterations: 36\n",
      "         Function evaluations: 96\n",
      "Optimization terminated successfully.\n",
      "         Current function value: 2.692386\n",
      "         Iterations: 48\n",
      "         Function evaluations: 132\n",
      "Warning: Maximum number of function evaluations has been exceeded.\n",
      "Optimization terminated successfully.\n",
      "         Current function value: 2.638889\n",
      "         Iterations: 58\n",
      "         Function evaluations: 157\n",
      "Optimization terminated successfully.\n",
      "         Current function value: 1.006944\n",
      "         Iterations: 25\n",
      "         Function evaluations: 65\n",
      "Warning: Maximum number of function evaluations has been exceeded.\n",
      "Optimization terminated successfully.\n",
      "         Current function value: 1.825583\n",
      "         Iterations: 32\n",
      "         Function evaluations: 87\n",
      "Warning: Maximum number of function evaluations has been exceeded.\n",
      "Optimization terminated successfully.\n",
      "         Current function value: 0.348017\n",
      "         Iterations: 31\n",
      "         Function evaluations: 80\n",
      "Warning: Maximum number of function evaluations has been exceeded.\n",
      "Optimization terminated successfully.\n",
      "         Current function value: 0.126263\n",
      "         Iterations: 44\n",
      "         Function evaluations: 117\n",
      "Optimization terminated successfully.\n",
      "         Current function value: 7.954373\n",
      "         Iterations: 25\n",
      "         Function evaluations: 66\n",
      "Optimization terminated successfully.\n",
      "         Current function value: 0.000000\n",
      "         Iterations: 39\n",
      "         Function evaluations: 103\n",
      "Warning: Maximum number of function evaluations has been exceeded.\n",
      "Optimization terminated successfully.\n",
      "         Current function value: 0.000000\n",
      "         Iterations: 34\n",
      "         Function evaluations: 88\n",
      "Optimization terminated successfully.\n",
      "         Current function value: 1.240010\n",
      "         Iterations: 53\n",
      "         Function evaluations: 143\n",
      "Warning: Maximum number of function evaluations has been exceeded.\n"
     ]
    },
    {
     "name": "stdout",
     "output_type": "stream",
     "text": [
      "Warning: Maximum number of function evaluations has been exceeded.\n",
      "Optimization terminated successfully.\n",
      "         Current function value: 4.712124\n",
      "         Iterations: 34\n",
      "         Function evaluations: 90\n",
      "Optimization terminated successfully.\n",
      "         Current function value: 1.728946\n",
      "         Iterations: 37\n",
      "         Function evaluations: 100\n",
      "Optimization terminated successfully.\n",
      "         Current function value: 1.515241\n",
      "         Iterations: 51\n",
      "         Function evaluations: 138\n",
      "Optimization terminated successfully.\n",
      "         Current function value: 1.090732\n",
      "         Iterations: 50\n",
      "         Function evaluations: 130\n",
      "Optimization terminated successfully.\n",
      "         Current function value: 1.389250\n",
      "         Iterations: 36\n",
      "         Function evaluations: 95\n",
      "Warning: Maximum number of function evaluations has been exceeded.\n",
      "Optimization terminated successfully.\n",
      "         Current function value: 0.837180\n",
      "         Iterations: 61\n",
      "         Function evaluations: 159\n",
      "Warning: Maximum number of function evaluations has been exceeded.\n",
      "Optimization terminated successfully.\n",
      "         Current function value: 0.449811\n",
      "         Iterations: 68\n",
      "         Function evaluations: 185\n",
      "Optimization terminated successfully.\n",
      "         Current function value: 4.038926\n",
      "         Iterations: 26\n",
      "         Function evaluations: 70\n",
      "Optimization terminated successfully.\n",
      "         Current function value: 0.479427\n",
      "         Iterations: 40\n",
      "         Function evaluations: 108\n",
      "Optimization terminated successfully.\n",
      "         Current function value: 2.373737\n",
      "         Iterations: 62\n",
      "         Function evaluations: 162\n",
      "Warning: Maximum number of function evaluations has been exceeded.\n",
      "Optimization terminated successfully.\n",
      "         Current function value: 0.000000\n",
      "         Iterations: 65\n",
      "         Function evaluations: 175\n",
      "Warning: Maximum number of function evaluations has been exceeded.\n",
      "Warning: Maximum number of function evaluations has been exceeded.\n",
      "Optimization terminated successfully.\n",
      "         Current function value: 27.472190\n",
      "         Iterations: 22\n",
      "         Function evaluations: 53\n",
      "Optimization terminated successfully.\n",
      "         Current function value: 53.124905\n",
      "         Iterations: 22\n",
      "         Function evaluations: 54\n"
     ]
    }
   ],
   "source": [
    "thresholds = np.linspace(0.6, 1.0, 100)\n",
    "\n",
    "t_list = []\n",
    "m_list = []\n",
    "\n",
    "for threshold in thresholds:\n",
    "    t, m = minimize(threshold)\n",
    "    t_list.append(t)\n",
    "    m_list.append(m)\n",
    "\n",
    "results_df = pd.DataFrame(list(zip(t_list, m_list)), columns=['min_t', 'min_f'])"
   ]
  },
  {
   "cell_type": "code",
   "execution_count": 203,
   "metadata": {},
   "outputs": [],
   "source": [
    "# results_df"
   ]
  },
  {
   "cell_type": "markdown",
   "metadata": {},
   "source": [
    "## MUST BE ABLE TO CALCULATE THE AUTOMATED DELINEATIONS BASED ON ANY THRESHOLD VALUE SET"
   ]
  },
  {
   "cell_type": "code",
   "execution_count": null,
   "metadata": {},
   "outputs": [],
   "source": []
  }
 ],
 "metadata": {
  "kernelspec": {
   "display_name": "Python 3",
   "language": "python",
   "name": "python3"
  },
  "language_info": {
   "codemirror_mode": {
    "name": "ipython",
    "version": 3
   },
   "file_extension": ".py",
   "mimetype": "text/x-python",
   "name": "python",
   "nbconvert_exporter": "python",
   "pygments_lexer": "ipython3",
   "version": "3.7.3"
  }
 },
 "nbformat": 4,
 "nbformat_minor": 2
}
