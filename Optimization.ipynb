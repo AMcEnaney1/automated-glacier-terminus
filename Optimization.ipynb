{
 "cells": [
  {
   "cell_type": "markdown",
   "metadata": {},
   "source": [
    "# Parameter optimization for size and mod thresholds"
   ]
  },
  {
   "cell_type": "markdown",
   "metadata": {},
   "source": [
    "## Import packages and set paths"
   ]
  },
  {
   "cell_type": "code",
   "execution_count": 3,
   "metadata": {},
   "outputs": [],
   "source": [
    "import pandas as pd\n",
    "import numpy as np\n",
    "import os\n",
    "import subprocess\n",
    "import matplotlib.pyplot as plt\n",
    "import cv2\n",
    "import matplotlib.image as mpimg\n",
    "import matplotlib.pylab as pl\n",
    "import numpy.ma as ma\n",
    "import datetime\n",
    "import math\n",
    "import scipy.optimize\n",
    "import random"
   ]
  },
  {
   "cell_type": "code",
   "execution_count": 4,
   "metadata": {},
   "outputs": [],
   "source": [
    "basepath = '/media/jukes/jukes1/'\n",
    "sg_path = '/home/jukes/Documents/Sample_glaciers/'"
   ]
  },
  {
   "cell_type": "markdown",
   "metadata": {},
   "source": [
    "## Read in analysis dates for manual and automated delinations, convert to datetime objs"
   ]
  },
  {
   "cell_type": "code",
   "execution_count": 49,
   "metadata": {
    "scrolled": true
   },
   "outputs": [
    {
     "name": "stdout",
     "output_type": "stream",
     "text": [
      "(511, 8)\n"
     ]
    },
    {
     "data": {
      "text/html": [
       "<div>\n",
       "<style scoped>\n",
       "    .dataframe tbody tr th:only-of-type {\n",
       "        vertical-align: middle;\n",
       "    }\n",
       "\n",
       "    .dataframe tbody tr th {\n",
       "        vertical-align: top;\n",
       "    }\n",
       "\n",
       "    .dataframe thead th {\n",
       "        text-align: right;\n",
       "    }\n",
       "</style>\n",
       "<table border=\"1\" class=\"dataframe\">\n",
       "  <thead>\n",
       "    <tr style=\"text-align: right;\">\n",
       "      <th></th>\n",
       "      <th>Unnamed: 0</th>\n",
       "      <th>BoxID</th>\n",
       "      <th>datetimes</th>\n",
       "      <th>Line_x</th>\n",
       "      <th>Line_y</th>\n",
       "      <th>intersect_x</th>\n",
       "      <th>intersect_y</th>\n",
       "      <th>term_position</th>\n",
       "    </tr>\n",
       "  </thead>\n",
       "  <tbody>\n",
       "    <tr>\n",
       "      <th>0</th>\n",
       "      <td>186</td>\n",
       "      <td>001</td>\n",
       "      <td>2013-05-05</td>\n",
       "      <td>[135, 134, 135, 133, 133, 132, 134, 134, 135, ...</td>\n",
       "      <td>[140, 141, 141, 142, 143, 144, 145, 146, 146, ...</td>\n",
       "      <td>143.0</td>\n",
       "      <td>160.0</td>\n",
       "      <td>393.51778867034716</td>\n",
       "    </tr>\n",
       "    <tr>\n",
       "      <th>1</th>\n",
       "      <td>269</td>\n",
       "      <td>001</td>\n",
       "      <td>2013-05-14</td>\n",
       "      <td>[131, 132, 133, 133, 134, 135, 136, 136, 137, ...</td>\n",
       "      <td>[143, 144, 145, 146, 147, 148, 148, 149, 149, ...</td>\n",
       "      <td>143.0</td>\n",
       "      <td>160.0</td>\n",
       "      <td>393.51778867034716</td>\n",
       "    </tr>\n",
       "    <tr>\n",
       "      <th>2</th>\n",
       "      <td>184</td>\n",
       "      <td>001</td>\n",
       "      <td>2013-05-29</td>\n",
       "      <td>[132, 132, 132, 134, 134, 136, 136, 137, 139, ...</td>\n",
       "      <td>[142, 143, 144, 145, 146, 146, 147, 148, 149, ...</td>\n",
       "      <td>144.0</td>\n",
       "      <td>161.0</td>\n",
       "      <td>406.7324058886875</td>\n",
       "    </tr>\n",
       "    <tr>\n",
       "      <th>3</th>\n",
       "      <td>254</td>\n",
       "      <td>001</td>\n",
       "      <td>2013-08-23</td>\n",
       "      <td>[133, 132, 133, 131, 132, 131, 130, 131, 131, ...</td>\n",
       "      <td>[141, 142, 142, 143, 143, 144, 145, 146, 147, ...</td>\n",
       "      <td>141.0</td>\n",
       "      <td>161.0</td>\n",
       "      <td>361.9478553604096</td>\n",
       "    </tr>\n",
       "    <tr>\n",
       "      <th>4</th>\n",
       "      <td>266</td>\n",
       "      <td>001</td>\n",
       "      <td>2013-08-27</td>\n",
       "      <td>[130, 129, 130, 129, 130, 131, 132, 133, 133, ...</td>\n",
       "      <td>[143, 144, 144, 147, 148, 148, 148, 149, 150, ...</td>\n",
       "      <td>140.0</td>\n",
       "      <td>160.0</td>\n",
       "      <td>348.9717037239553</td>\n",
       "    </tr>\n",
       "  </tbody>\n",
       "</table>\n",
       "</div>"
      ],
      "text/plain": [
       "  Unnamed: 0 BoxID   datetimes  \\\n",
       "0        186   001  2013-05-05   \n",
       "1        269   001  2013-05-14   \n",
       "2        184   001  2013-05-29   \n",
       "3        254   001  2013-08-23   \n",
       "4        266   001  2013-08-27   \n",
       "\n",
       "                                              Line_x  \\\n",
       "0  [135, 134, 135, 133, 133, 132, 134, 134, 135, ...   \n",
       "1  [131, 132, 133, 133, 134, 135, 136, 136, 137, ...   \n",
       "2  [132, 132, 132, 134, 134, 136, 136, 137, 139, ...   \n",
       "3  [133, 132, 133, 131, 132, 131, 130, 131, 131, ...   \n",
       "4  [130, 129, 130, 129, 130, 131, 132, 133, 133, ...   \n",
       "\n",
       "                                              Line_y intersect_x intersect_y  \\\n",
       "0  [140, 141, 141, 142, 143, 144, 145, 146, 146, ...       143.0       160.0   \n",
       "1  [143, 144, 145, 146, 147, 148, 148, 149, 149, ...       143.0       160.0   \n",
       "2  [142, 143, 144, 145, 146, 146, 147, 148, 149, ...       144.0       161.0   \n",
       "3  [141, 142, 142, 143, 143, 144, 145, 146, 147, ...       141.0       161.0   \n",
       "4  [143, 144, 144, 147, 148, 148, 148, 149, 150, ...       140.0       160.0   \n",
       "\n",
       "        term_position  \n",
       "0  393.51778867034716  \n",
       "1  393.51778867034716  \n",
       "2   406.7324058886875  \n",
       "3   361.9478553604096  \n",
       "4   348.9717037239553  "
      ]
     },
     "execution_count": 49,
     "metadata": {},
     "output_type": "execute_result"
    }
   ],
   "source": [
    "#read in manual image dates\n",
    "manual_df= pd.read_csv(basepath+'Manual/manual_tpos.csv', sep=',', dtype=str, header=0)\n",
    "manual_df = manual_df.dropna()\n",
    "manual_df.drop_duplicates(subset=['BoxID','datetimes'])\n",
    "print(manual_df.shape)\n",
    "manual_df.head()"
   ]
  },
  {
   "cell_type": "code",
   "execution_count": 20,
   "metadata": {
    "scrolled": false
   },
   "outputs": [
    {
     "name": "stdout",
     "output_type": "stream",
     "text": [
      "(864, 2)\n"
     ]
    },
    {
     "data": {
      "text/html": [
       "<div>\n",
       "<style scoped>\n",
       "    .dataframe tbody tr th:only-of-type {\n",
       "        vertical-align: middle;\n",
       "    }\n",
       "\n",
       "    .dataframe tbody tr th {\n",
       "        vertical-align: top;\n",
       "    }\n",
       "\n",
       "    .dataframe thead th {\n",
       "        text-align: right;\n",
       "    }\n",
       "</style>\n",
       "<table border=\"1\" class=\"dataframe\">\n",
       "  <thead>\n",
       "    <tr style=\"text-align: right;\">\n",
       "      <th></th>\n",
       "      <th>Scene</th>\n",
       "      <th>datetimes</th>\n",
       "    </tr>\n",
       "  </thead>\n",
       "  <tbody>\n",
       "    <tr>\n",
       "      <th>510</th>\n",
       "      <td>LC80090132013101LGN01</td>\n",
       "      <td>2013-04-11</td>\n",
       "    </tr>\n",
       "    <tr>\n",
       "      <th>1612</th>\n",
       "      <td>LC80090142013101LGN01</td>\n",
       "      <td>2013-04-11</td>\n",
       "    </tr>\n",
       "    <tr>\n",
       "      <th>577</th>\n",
       "      <td>LC82330172013102LGN01</td>\n",
       "      <td>2013-04-12</td>\n",
       "    </tr>\n",
       "    <tr>\n",
       "      <th>940</th>\n",
       "      <td>LC82330152013102LGN01</td>\n",
       "      <td>2013-04-12</td>\n",
       "    </tr>\n",
       "    <tr>\n",
       "      <th>445</th>\n",
       "      <td>LC80080142013110LGN01</td>\n",
       "      <td>2013-04-20</td>\n",
       "    </tr>\n",
       "  </tbody>\n",
       "</table>\n",
       "</div>"
      ],
      "text/plain": [
       "                      Scene   datetimes\n",
       "510   LC80090132013101LGN01  2013-04-11\n",
       "1612  LC80090142013101LGN01  2013-04-11\n",
       "577   LC82330172013102LGN01  2013-04-12\n",
       "940   LC82330152013102LGN01  2013-04-12\n",
       "445   LC80080142013110LGN01  2013-04-20"
      ]
     },
     "execution_count": 20,
     "metadata": {},
     "output_type": "execute_result"
    }
   ],
   "source": [
    "#Read in datetags csv as datetime_df\n",
    "automated_df = pd.read_csv(sg_path+'imgdates.csv', sep=',', dtype=str, header=0, names=['Scene', 'datetimes'])\n",
    "print(automated_df.shape)\n",
    "automated_df.head()"
   ]
  },
  {
   "cell_type": "markdown",
   "metadata": {},
   "source": [
    "## Find overlaps and select 90% for training, 10% for testing"
   ]
  },
  {
   "cell_type": "code",
   "execution_count": 66,
   "metadata": {
    "scrolled": true
   },
   "outputs": [
    {
     "data": {
      "text/plain": [
       "(456, 7)"
      ]
     },
     "execution_count": 66,
     "metadata": {},
     "output_type": "execute_result"
    }
   ],
   "source": [
    "overlap_df = manual_df.merge(automated_df, how='inner', on=['datetimes'])\n",
    "overlap_df = overlap_df.drop(['Line_x', 'Line_y'], axis=1)\n",
    "overlap_df = overlap_df.drop_duplicates(['BoxID','datetimes'])\n",
    "overlap_df = overlap_df.sort_values(by=['BoxID','datetimes'], ascending=True)\n",
    "overlap_df.shape"
   ]
  },
  {
   "cell_type": "code",
   "execution_count": 69,
   "metadata": {},
   "outputs": [],
   "source": [
    "dates = []\n",
    "for idx, row in overlap_df.iterrows():\n",
    "    dateID = str(row['BoxID'])+','+str(row['datetimes']+','+str(row['Scene']))\n",
    "    dates.append(dateID)\n",
    "# print(date_IDs)"
   ]
  },
  {
   "cell_type": "markdown",
   "metadata": {},
   "source": [
    "### Select 90% for training"
   ]
  },
  {
   "cell_type": "code",
   "execution_count": 70,
   "metadata": {
    "scrolled": true
   },
   "outputs": [
    {
     "name": "stdout",
     "output_type": "stream",
     "text": [
      "456\n",
      "410\n",
      "46\n",
      "456\n",
      "set()\n"
     ]
    }
   ],
   "source": [
    "N = len(dates)\n",
    "print(N)\n",
    "\n",
    "#pick a random sample of dates for training\n",
    "train_dates = random.sample(dates, int(N*0.9))\n",
    "print(len(train_dates))\n",
    "# print(train_dates)\n",
    "\n",
    "#grab remaining for testing\n",
    "test_dates = []\n",
    "for date in dates:\n",
    "    if date not in train_dates:\n",
    "        test_dates.append(date)\n",
    "print(len(test_dates))\n",
    "# print(test_dates)\n",
    "\n",
    "#Check that they don't overlap, should return empty\n",
    "print(len(train_dates)+len(test_dates))\n",
    "print(set(train_dates).intersection(test_dates))"
   ]
  },
  {
   "cell_type": "code",
   "execution_count": 71,
   "metadata": {
    "scrolled": true
   },
   "outputs": [
    {
     "data": {
      "text/html": [
       "<div>\n",
       "<style scoped>\n",
       "    .dataframe tbody tr th:only-of-type {\n",
       "        vertical-align: middle;\n",
       "    }\n",
       "\n",
       "    .dataframe tbody tr th {\n",
       "        vertical-align: top;\n",
       "    }\n",
       "\n",
       "    .dataframe thead th {\n",
       "        text-align: right;\n",
       "    }\n",
       "</style>\n",
       "<table border=\"1\" class=\"dataframe\">\n",
       "  <thead>\n",
       "    <tr style=\"text-align: right;\">\n",
       "      <th></th>\n",
       "      <th>BoxID</th>\n",
       "      <th>datetime</th>\n",
       "      <th>Scene</th>\n",
       "    </tr>\n",
       "  </thead>\n",
       "  <tbody>\n",
       "    <tr>\n",
       "      <th>0</th>\n",
       "      <td>259</td>\n",
       "      <td>2015-07-16</td>\n",
       "      <td>LC82320152015197LGN00</td>\n",
       "    </tr>\n",
       "    <tr>\n",
       "      <th>1</th>\n",
       "      <td>001</td>\n",
       "      <td>2017-03-18</td>\n",
       "      <td>LC80360042017077LGN00</td>\n",
       "    </tr>\n",
       "    <tr>\n",
       "      <th>2</th>\n",
       "      <td>001</td>\n",
       "      <td>2014-07-20</td>\n",
       "      <td>LC80160012014201LGN00</td>\n",
       "    </tr>\n",
       "    <tr>\n",
       "      <th>3</th>\n",
       "      <td>002</td>\n",
       "      <td>2014-08-30</td>\n",
       "      <td>LC80310052014242LGN00</td>\n",
       "    </tr>\n",
       "    <tr>\n",
       "      <th>4</th>\n",
       "      <td>120</td>\n",
       "      <td>2014-11-02</td>\n",
       "      <td>LC82320172014306LGN00</td>\n",
       "    </tr>\n",
       "  </tbody>\n",
       "</table>\n",
       "</div>"
      ],
      "text/plain": [
       "  BoxID    datetime                  Scene\n",
       "0   259  2015-07-16  LC82320152015197LGN00\n",
       "1   001  2017-03-18  LC80360042017077LGN00\n",
       "2   001  2014-07-20  LC80160012014201LGN00\n",
       "3   002  2014-08-30  LC80310052014242LGN00\n",
       "4   120  2014-11-02  LC82320172014306LGN00"
      ]
     },
     "execution_count": 71,
     "metadata": {},
     "output_type": "execute_result"
    }
   ],
   "source": [
    "boxes = []\n",
    "imgdates = []\n",
    "scenes = []\n",
    "\n",
    "for td in train_dates:\n",
    "    BoxID, imgdate, scene = td.split(',')\n",
    "    boxes.append(BoxID)\n",
    "    imgdates.append(imgdate)\n",
    "    scenes.append(scene)\n",
    "\n",
    "train_df = pd.DataFrame(list(zip(boxes, imgdates, scenes)), columns=['BoxID', 'datetime', 'Scene'])\n",
    "train_df.head()"
   ]
  },
  {
   "cell_type": "code",
   "execution_count": 72,
   "metadata": {},
   "outputs": [],
   "source": [
    "#export to csv and text\n",
    "train_df.to_csv(basepath+'/Manual/train.csv', sep=',', index=False, header=False)\n",
    "train_df.to_csv(basepath+'/Manual/train.txt', sep=' ', index=False, header=False)"
   ]
  },
  {
   "cell_type": "markdown",
   "metadata": {},
   "source": [
    "### Grab test dates"
   ]
  },
  {
   "cell_type": "code",
   "execution_count": 73,
   "metadata": {},
   "outputs": [],
   "source": [
    "boxes = []\n",
    "imgdates = []\n",
    "scenes = []\n",
    "\n",
    "for td in test_dates:\n",
    "    BoxID, imgdate, scene = td.split(',')\n",
    "    boxes.append(BoxID)\n",
    "    imgdates.append(imgdate)\n",
    "    scenes.append(scene)\n",
    "\n",
    "test_df = pd.DataFrame(list(zip(boxes, imgdates, scenes)), columns=['BoxID', 'datetime', 'Scene'])\n",
    "test_df.head()\n",
    "#export to csv and text\n",
    "test_df.to_csv(basepath+'/Manual/test.csv', sep=',', index=False, header=False)\n",
    "test_df.to_csv(basepath+'/Manual/test.txt', sep=' ', index=False, header=False)"
   ]
  },
  {
   "cell_type": "markdown",
   "metadata": {},
   "source": [
    "## Define objective function\n",
    "\n",
    "I'm using a modified version of the L1-norm. The objective funciton will be 1/N * (|Xa-Xm|i) where i=3 (for each centerline 50, 25, 75) and N equals the number of delineations generated (the more the better). The goal then is to minimize the objective function."
   ]
  },
  {
   "cell_type": "markdown",
   "metadata": {},
   "source": [
    "Read in centerlines_df:"
   ]
  },
  {
   "cell_type": "code",
   "execution_count": 74,
   "metadata": {
    "scrolled": true
   },
   "outputs": [
    {
     "data": {
      "text/html": [
       "<div>\n",
       "<style scoped>\n",
       "    .dataframe tbody tr th:only-of-type {\n",
       "        vertical-align: middle;\n",
       "    }\n",
       "\n",
       "    .dataframe tbody tr th {\n",
       "        vertical-align: top;\n",
       "    }\n",
       "\n",
       "    .dataframe thead th {\n",
       "        text-align: right;\n",
       "    }\n",
       "</style>\n",
       "<table border=\"1\" class=\"dataframe\">\n",
       "  <thead>\n",
       "    <tr style=\"text-align: right;\">\n",
       "      <th></th>\n",
       "      <th>lmid50_x</th>\n",
       "      <th>lmid50_y</th>\n",
       "      <th>rmid50_x</th>\n",
       "      <th>m50</th>\n",
       "      <th>b50</th>\n",
       "      <th>lmid25_x</th>\n",
       "      <th>lmid25_y</th>\n",
       "      <th>rmid25_x</th>\n",
       "      <th>m25</th>\n",
       "      <th>b25</th>\n",
       "      <th>lmid75_x</th>\n",
       "      <th>lmid75_y</th>\n",
       "      <th>rmid75_x</th>\n",
       "      <th>m75</th>\n",
       "      <th>b75</th>\n",
       "    </tr>\n",
       "    <tr>\n",
       "      <th>BoxID</th>\n",
       "      <th></th>\n",
       "      <th></th>\n",
       "      <th></th>\n",
       "      <th></th>\n",
       "      <th></th>\n",
       "      <th></th>\n",
       "      <th></th>\n",
       "      <th></th>\n",
       "      <th></th>\n",
       "      <th></th>\n",
       "      <th></th>\n",
       "      <th></th>\n",
       "      <th></th>\n",
       "      <th></th>\n",
       "      <th></th>\n",
       "    </tr>\n",
       "  </thead>\n",
       "  <tbody>\n",
       "    <tr>\n",
       "      <th>259</th>\n",
       "      <td>234.5</td>\n",
       "      <td>497.0</td>\n",
       "      <td>561.0</td>\n",
       "      <td>0.07044410413476264</td>\n",
       "      <td>480.48085758039815</td>\n",
       "      <td>236.25</td>\n",
       "      <td>475.5</td>\n",
       "      <td>562.5</td>\n",
       "      <td>0.07049808429118774</td>\n",
       "      <td>458.8575803981623</td>\n",
       "      <td>232.75</td>\n",
       "      <td>518.5</td>\n",
       "      <td>559.5</td>\n",
       "      <td>0.0703902065799541</td>\n",
       "      <td>502.104134762634</td>\n",
       "    </tr>\n",
       "    <tr>\n",
       "      <th>120</th>\n",
       "      <td>111.0</td>\n",
       "      <td>148.5</td>\n",
       "      <td>182.5</td>\n",
       "      <td>0.055944055944055944</td>\n",
       "      <td>142.2902097902098</td>\n",
       "      <td>112.0</td>\n",
       "      <td>133.25</td>\n",
       "      <td>183.25</td>\n",
       "      <td>0.04912280701754386</td>\n",
       "      <td>126.98426573426573</td>\n",
       "      <td>110.0</td>\n",
       "      <td>163.75</td>\n",
       "      <td>181.75</td>\n",
       "      <td>0.0627177700348432</td>\n",
       "      <td>157.59615384615384</td>\n",
       "    </tr>\n",
       "    <tr>\n",
       "      <th>277</th>\n",
       "      <td>151.5</td>\n",
       "      <td>208.0</td>\n",
       "      <td>243.5</td>\n",
       "      <td>-0.05434782608695652</td>\n",
       "      <td>216.2336956521739</td>\n",
       "      <td>150.75</td>\n",
       "      <td>194.5</td>\n",
       "      <td>242.75</td>\n",
       "      <td>-0.059782608695652176</td>\n",
       "      <td>202.6929347826087</td>\n",
       "      <td>152.25</td>\n",
       "      <td>221.5</td>\n",
       "      <td>244.25</td>\n",
       "      <td>-0.04891304347826087</td>\n",
       "      <td>229.77445652173913</td>\n",
       "    </tr>\n",
       "    <tr>\n",
       "      <th>531</th>\n",
       "      <td>166.0</td>\n",
       "      <td>250.5</td>\n",
       "      <td>287.5</td>\n",
       "      <td>-0.15637860082304528</td>\n",
       "      <td>276.4588477366255</td>\n",
       "      <td>162.5</td>\n",
       "      <td>227.25</td>\n",
       "      <td>283.75</td>\n",
       "      <td>-0.15670103092783505</td>\n",
       "      <td>252.66152263374485</td>\n",
       "      <td>169.5</td>\n",
       "      <td>273.75</td>\n",
       "      <td>291.25</td>\n",
       "      <td>-0.15605749486652978</td>\n",
       "      <td>300.2561728395062</td>\n",
       "    </tr>\n",
       "    <tr>\n",
       "      <th>235</th>\n",
       "      <td>178.5</td>\n",
       "      <td>207.0</td>\n",
       "      <td>287.0</td>\n",
       "      <td>0.22119815668202766</td>\n",
       "      <td>167.51612903225805</td>\n",
       "      <td>181.75</td>\n",
       "      <td>193.0</td>\n",
       "      <td>290.0</td>\n",
       "      <td>0.22170900692840648</td>\n",
       "      <td>152.79723502304148</td>\n",
       "      <td>175.25</td>\n",
       "      <td>221.0</td>\n",
       "      <td>284.0</td>\n",
       "      <td>0.2206896551724138</td>\n",
       "      <td>182.23502304147465</td>\n",
       "    </tr>\n",
       "    <tr>\n",
       "      <th>174</th>\n",
       "      <td>262.5</td>\n",
       "      <td>346.0</td>\n",
       "      <td>393.0</td>\n",
       "      <td>-0.3333333333333333</td>\n",
       "      <td>433.5</td>\n",
       "      <td>253.75</td>\n",
       "      <td>319.5</td>\n",
       "      <td>384.0</td>\n",
       "      <td>-0.3397312859884837</td>\n",
       "      <td>404.0833333333333</td>\n",
       "      <td>271.25</td>\n",
       "      <td>372.5</td>\n",
       "      <td>402.0</td>\n",
       "      <td>-0.32695984703632885</td>\n",
       "      <td>462.91666666666663</td>\n",
       "    </tr>\n",
       "    <tr>\n",
       "      <th>001</th>\n",
       "      <td>117.0</td>\n",
       "      <td>164.5</td>\n",
       "      <td>189.0</td>\n",
       "      <td>-0.1111111111111111</td>\n",
       "      <td>177.5</td>\n",
       "      <td>116.0</td>\n",
       "      <td>154.75</td>\n",
       "      <td>188.0</td>\n",
       "      <td>-0.1111111111111111</td>\n",
       "      <td>167.63888888888889</td>\n",
       "      <td>118.0</td>\n",
       "      <td>174.25</td>\n",
       "      <td>190.0</td>\n",
       "      <td>-0.1111111111111111</td>\n",
       "      <td>187.36111111111111</td>\n",
       "    </tr>\n",
       "    <tr>\n",
       "      <th>033</th>\n",
       "      <td>369.0</td>\n",
       "      <td>480.0</td>\n",
       "      <td>612.0</td>\n",
       "      <td>-0.006172839506172839</td>\n",
       "      <td>482.27777777777777</td>\n",
       "      <td>369.0</td>\n",
       "      <td>453.5</td>\n",
       "      <td>612.0</td>\n",
       "      <td>-0.009259259259259259</td>\n",
       "      <td>455.77777777777777</td>\n",
       "      <td>369.0</td>\n",
       "      <td>506.5</td>\n",
       "      <td>612.0</td>\n",
       "      <td>-0.0030864197530864196</td>\n",
       "      <td>508.77777777777777</td>\n",
       "    </tr>\n",
       "    <tr>\n",
       "      <th>004</th>\n",
       "      <td>499.5</td>\n",
       "      <td>653.0</td>\n",
       "      <td>788.0</td>\n",
       "      <td>-0.29809358752166376</td>\n",
       "      <td>801.897746967071</td>\n",
       "      <td>484.75</td>\n",
       "      <td>603.5</td>\n",
       "      <td>773.0</td>\n",
       "      <td>-0.2983521248915872</td>\n",
       "      <td>748.0008665511265</td>\n",
       "      <td>514.25</td>\n",
       "      <td>702.5</td>\n",
       "      <td>803.0</td>\n",
       "      <td>-0.29783549783549784</td>\n",
       "      <td>855.7946273830156</td>\n",
       "    </tr>\n",
       "    <tr>\n",
       "      <th>002</th>\n",
       "      <td>467.5</td>\n",
       "      <td>575.5</td>\n",
       "      <td>752.0</td>\n",
       "      <td>0.033391915641476276</td>\n",
       "      <td>559.8892794376098</td>\n",
       "      <td>468.75</td>\n",
       "      <td>537.75</td>\n",
       "      <td>753.5</td>\n",
       "      <td>0.0324846356453029</td>\n",
       "      <td>522.097539543058</td>\n",
       "      <td>466.25</td>\n",
       "      <td>613.25</td>\n",
       "      <td>750.5</td>\n",
       "      <td>0.03430079155672823</td>\n",
       "      <td>597.6810193321617</td>\n",
       "    </tr>\n",
       "  </tbody>\n",
       "</table>\n",
       "</div>"
      ],
      "text/plain": [
       "      lmid50_x lmid50_y rmid50_x                    m50                 b50  \\\n",
       "BoxID                                                                         \n",
       "259      234.5    497.0    561.0    0.07044410413476264  480.48085758039815   \n",
       "120      111.0    148.5    182.5   0.055944055944055944   142.2902097902098   \n",
       "277      151.5    208.0    243.5   -0.05434782608695652   216.2336956521739   \n",
       "531      166.0    250.5    287.5   -0.15637860082304528   276.4588477366255   \n",
       "235      178.5    207.0    287.0    0.22119815668202766  167.51612903225805   \n",
       "174      262.5    346.0    393.0    -0.3333333333333333               433.5   \n",
       "001      117.0    164.5    189.0    -0.1111111111111111               177.5   \n",
       "033      369.0    480.0    612.0  -0.006172839506172839  482.27777777777777   \n",
       "004      499.5    653.0    788.0   -0.29809358752166376    801.897746967071   \n",
       "002      467.5    575.5    752.0   0.033391915641476276   559.8892794376098   \n",
       "\n",
       "      lmid25_x lmid25_y rmid25_x                    m25                 b25  \\\n",
       "BoxID                                                                         \n",
       "259     236.25    475.5    562.5    0.07049808429118774   458.8575803981623   \n",
       "120      112.0   133.25   183.25    0.04912280701754386  126.98426573426573   \n",
       "277     150.75    194.5   242.75  -0.059782608695652176   202.6929347826087   \n",
       "531      162.5   227.25   283.75   -0.15670103092783505  252.66152263374485   \n",
       "235     181.75    193.0    290.0    0.22170900692840648  152.79723502304148   \n",
       "174     253.75    319.5    384.0    -0.3397312859884837   404.0833333333333   \n",
       "001      116.0   154.75    188.0    -0.1111111111111111  167.63888888888889   \n",
       "033      369.0    453.5    612.0  -0.009259259259259259  455.77777777777777   \n",
       "004     484.75    603.5    773.0    -0.2983521248915872   748.0008665511265   \n",
       "002     468.75   537.75    753.5     0.0324846356453029    522.097539543058   \n",
       "\n",
       "      lmid75_x lmid75_y rmid75_x                     m75                 b75  \n",
       "BoxID                                                                         \n",
       "259     232.75    518.5    559.5      0.0703902065799541    502.104134762634  \n",
       "120      110.0   163.75   181.75      0.0627177700348432  157.59615384615384  \n",
       "277     152.25    221.5   244.25    -0.04891304347826087  229.77445652173913  \n",
       "531      169.5   273.75   291.25    -0.15605749486652978   300.2561728395062  \n",
       "235     175.25    221.0    284.0      0.2206896551724138  182.23502304147465  \n",
       "174     271.25    372.5    402.0    -0.32695984703632885  462.91666666666663  \n",
       "001      118.0   174.25    190.0     -0.1111111111111111  187.36111111111111  \n",
       "033      369.0    506.5    612.0  -0.0030864197530864196  508.77777777777777  \n",
       "004     514.25    702.5    803.0    -0.29783549783549784   855.7946273830156  \n",
       "002     466.25   613.25    750.5     0.03430079155672823   597.6810193321617  "
      ]
     },
     "execution_count": 74,
     "metadata": {},
     "output_type": "execute_result"
    }
   ],
   "source": [
    "# pathrows_df = pd.read_csv(basepath+'LS_pathrows_multiple.csv', sep=',', usecols =[0,1,2], dtype=str)\n",
    "centerline_df = pd.read_csv('/home/jukes/Documents/Sample_glaciers/Boxes_coords_pathrows.csv', sep=',',dtype=str)\n",
    "centerline_df = centerline_df.set_index('BoxID')\n",
    "centerline_df"
   ]
  },
  {
   "cell_type": "markdown",
   "metadata": {},
   "source": [
    "#### Our objective function"
   ]
  },
  {
   "cell_type": "code",
   "execution_count": 281,
   "metadata": {},
   "outputs": [
    {
     "ename": "IndentationError",
     "evalue": "expected an indented block (<ipython-input-281-38d79a1c7f96>, line 13)",
     "output_type": "error",
     "traceback": [
      "\u001b[0;36m  File \u001b[0;32m\"<ipython-input-281-38d79a1c7f96>\"\u001b[0;36m, line \u001b[0;32m13\u001b[0m\n\u001b[0;31m    if DOA in file and file.endswith('csv'):\u001b[0m\n\u001b[0m     ^\u001b[0m\n\u001b[0;31mIndentationError\u001b[0m\u001b[0;31m:\u001b[0m expected an indented block\n"
     ]
    }
   ],
   "source": [
    "DOA = '2020_01_20'\n",
    "\n",
    "def calc_theta(size_thresh, mod_thresh):\n",
    "    #Calculate automated tpos\n",
    "    #run terminus_pick.tcl using each of the thresholds\n",
    "    terminus_pick = '/home/akhalil/src/xsmurf-2.7/main/xsmurf -nodisplay /home/jukes/Documents/Scripts/terminus_pick.tcl '+str(size_thresh)+' '+str(mod_thresh)\n",
    "    print(terminus_pick)\n",
    "    subprocess.call(terminus_pick, shell=True)\n",
    "    \n",
    "    #pull automated terminus position from the output\n",
    "    #grab each output file\n",
    "    differences = []\n",
    "    \n",
    "    for file in os.listdir(sg_path):\n",
    "        if DOA in file and file.endswith('csv'):\n",
    "            if len(file)>28:\n",
    "                print(file)\n",
    "\n",
    "                #read the output file in and calculate terminus position for each image\n",
    "                #pull automated terminus delineations\n",
    "                auto_tpos = \n",
    "\n",
    "                #pull in manual tpos \n",
    "                man_tpos = \n",
    "\n",
    "                diff = abs(auto_tpos - man_tpos)\n",
    "                differences.append(diff)\n",
    "    \n",
    "#     #return objective function = distance between the two\n",
    "#     return np.average(differences)"
   ]
  },
  {
   "cell_type": "code",
   "execution_count": 2,
   "metadata": {},
   "outputs": [
    {
     "ename": "NameError",
     "evalue": "name 'os' is not defined",
     "output_type": "error",
     "traceback": [
      "\u001b[0;31m---------------------------------------------------------------------------\u001b[0m",
      "\u001b[0;31mNameError\u001b[0m                                 Traceback (most recent call last)",
      "\u001b[0;32m<ipython-input-2-1c7af16d0d36>\u001b[0m in \u001b[0;36m<module>\u001b[0;34m\u001b[0m\n\u001b[0;32m----> 1\u001b[0;31m \u001b[0mos\u001b[0m\u001b[0;34m.\u001b[0m\u001b[0mlistdir\u001b[0m\u001b[0;34m(\u001b[0m\u001b[0msg_path\u001b[0m\u001b[0;34m)\u001b[0m\u001b[0;34m\u001b[0m\u001b[0;34m\u001b[0m\u001b[0m\n\u001b[0m",
      "\u001b[0;31mNameError\u001b[0m: name 'os' is not defined"
     ]
    }
   ],
   "source": [
    "os.listdir(sg_path)"
   ]
  },
  {
   "cell_type": "markdown",
   "metadata": {},
   "source": [
    "#### Define the minimization function"
   ]
  },
  {
   "cell_type": "code",
   "execution_count": 242,
   "metadata": {},
   "outputs": [],
   "source": [
    "def minimize(size_guess, mod_guess):\n",
    "    minimum = scipy.optimize.fmin(center_dist, [size_guess, mod_guess], args=(size_guess, mod_guess),full_output=True)\n",
    "    xopt = minimum[0][0]\n",
    "    funcval = minimum[1]\n",
    "    return xopt, funcval"
   ]
  },
  {
   "cell_type": "markdown",
   "metadata": {},
   "source": [
    "#### Run the optimization"
   ]
  },
  {
   "cell_type": "code",
   "execution_count": 273,
   "metadata": {},
   "outputs": [],
   "source": [
    "base_size_thresh = 0.8\n",
    "base_mod_thresh = 0.8\n",
    "thresh_range = 0.15\n",
    "interval = 1000\n",
    "\n",
    "size_guesses = np.linspace(base_size_thresh-thresh_range, base_size_thresh+thresh_range, interval)\n",
    "mod_guesses = np.linspace(base_mod_thresh-thresh_range, base_mod_thresh+thresh_range, interval)"
   ]
  },
  {
   "cell_type": "code",
   "execution_count": 247,
   "metadata": {
    "scrolled": true
   },
   "outputs": [
    {
     "ename": "TypeError",
     "evalue": "center_dist() takes 1 positional argument but 3 were given",
     "output_type": "error",
     "traceback": [
      "\u001b[0;31m---------------------------------------------------------------------------\u001b[0m",
      "\u001b[0;31mTypeError\u001b[0m                                 Traceback (most recent call last)",
      "\u001b[0;32m<ipython-input-247-6cb939965912>\u001b[0m in \u001b[0;36m<module>\u001b[0;34m\u001b[0m\n\u001b[1;32m      7\u001b[0m     \u001b[0msize_guess\u001b[0m \u001b[0;34m=\u001b[0m \u001b[0mrandom\u001b[0m\u001b[0;34m.\u001b[0m\u001b[0mchoice\u001b[0m\u001b[0;34m(\u001b[0m\u001b[0msize_guesses\u001b[0m\u001b[0;34m)\u001b[0m\u001b[0;34m\u001b[0m\u001b[0;34m\u001b[0m\u001b[0m\n\u001b[1;32m      8\u001b[0m     \u001b[0mmod_guess\u001b[0m \u001b[0;34m=\u001b[0m \u001b[0mrandom\u001b[0m\u001b[0;34m.\u001b[0m\u001b[0mchoice\u001b[0m\u001b[0;34m(\u001b[0m\u001b[0mmod_guesses\u001b[0m\u001b[0;34m)\u001b[0m\u001b[0;34m\u001b[0m\u001b[0;34m\u001b[0m\u001b[0m\n\u001b[0;32m----> 9\u001b[0;31m     \u001b[0mt\u001b[0m\u001b[0;34m,\u001b[0m \u001b[0mm\u001b[0m \u001b[0;34m=\u001b[0m \u001b[0mminimize\u001b[0m\u001b[0;34m(\u001b[0m\u001b[0msize_guess\u001b[0m\u001b[0;34m,\u001b[0m \u001b[0mmod_guess\u001b[0m\u001b[0;34m)\u001b[0m\u001b[0;34m\u001b[0m\u001b[0;34m\u001b[0m\u001b[0m\n\u001b[0m\u001b[1;32m     10\u001b[0m     \u001b[0mt_list\u001b[0m\u001b[0;34m.\u001b[0m\u001b[0mappend\u001b[0m\u001b[0;34m(\u001b[0m\u001b[0mt\u001b[0m\u001b[0;34m)\u001b[0m\u001b[0;34m\u001b[0m\u001b[0;34m\u001b[0m\u001b[0m\n\u001b[1;32m     11\u001b[0m     \u001b[0mm_list\u001b[0m\u001b[0;34m.\u001b[0m\u001b[0mappend\u001b[0m\u001b[0;34m(\u001b[0m\u001b[0mm\u001b[0m\u001b[0;34m)\u001b[0m\u001b[0;34m\u001b[0m\u001b[0;34m\u001b[0m\u001b[0m\n",
      "\u001b[0;32m<ipython-input-242-1bd54be183e1>\u001b[0m in \u001b[0;36mminimize\u001b[0;34m(size_guess, mod_guess)\u001b[0m\n\u001b[1;32m      1\u001b[0m \u001b[0;32mdef\u001b[0m \u001b[0mminimize\u001b[0m\u001b[0;34m(\u001b[0m\u001b[0msize_guess\u001b[0m\u001b[0;34m,\u001b[0m \u001b[0mmod_guess\u001b[0m\u001b[0;34m)\u001b[0m\u001b[0;34m:\u001b[0m\u001b[0;34m\u001b[0m\u001b[0;34m\u001b[0m\u001b[0m\n\u001b[0;32m----> 2\u001b[0;31m     \u001b[0mminimum\u001b[0m \u001b[0;34m=\u001b[0m \u001b[0mscipy\u001b[0m\u001b[0;34m.\u001b[0m\u001b[0moptimize\u001b[0m\u001b[0;34m.\u001b[0m\u001b[0mfmin\u001b[0m\u001b[0;34m(\u001b[0m\u001b[0mcenter_dist\u001b[0m\u001b[0;34m,\u001b[0m \u001b[0;34m[\u001b[0m\u001b[0msize_guess\u001b[0m\u001b[0;34m,\u001b[0m \u001b[0mmod_guess\u001b[0m\u001b[0;34m]\u001b[0m\u001b[0;34m,\u001b[0m \u001b[0margs\u001b[0m\u001b[0;34m=\u001b[0m\u001b[0;34m(\u001b[0m\u001b[0msize_guess\u001b[0m\u001b[0;34m,\u001b[0m \u001b[0mmod_guess\u001b[0m\u001b[0;34m)\u001b[0m\u001b[0;34m,\u001b[0m\u001b[0mfull_output\u001b[0m\u001b[0;34m=\u001b[0m\u001b[0;32mTrue\u001b[0m\u001b[0;34m)\u001b[0m\u001b[0;34m\u001b[0m\u001b[0;34m\u001b[0m\u001b[0m\n\u001b[0m\u001b[1;32m      3\u001b[0m     \u001b[0mxopt\u001b[0m \u001b[0;34m=\u001b[0m \u001b[0mminimum\u001b[0m\u001b[0;34m[\u001b[0m\u001b[0;36m0\u001b[0m\u001b[0;34m]\u001b[0m\u001b[0;34m[\u001b[0m\u001b[0;36m0\u001b[0m\u001b[0;34m]\u001b[0m\u001b[0;34m\u001b[0m\u001b[0;34m\u001b[0m\u001b[0m\n\u001b[1;32m      4\u001b[0m     \u001b[0mfuncval\u001b[0m \u001b[0;34m=\u001b[0m \u001b[0mminimum\u001b[0m\u001b[0;34m[\u001b[0m\u001b[0;36m1\u001b[0m\u001b[0;34m]\u001b[0m\u001b[0;34m\u001b[0m\u001b[0;34m\u001b[0m\u001b[0m\n\u001b[1;32m      5\u001b[0m     \u001b[0;32mreturn\u001b[0m \u001b[0mxopt\u001b[0m\u001b[0;34m,\u001b[0m \u001b[0mfuncval\u001b[0m\u001b[0;34m\u001b[0m\u001b[0;34m\u001b[0m\u001b[0m\n",
      "\u001b[0;32m~/anaconda3/lib/python3.7/site-packages/scipy/optimize/optimize.py\u001b[0m in \u001b[0;36mfmin\u001b[0;34m(func, x0, args, xtol, ftol, maxiter, maxfun, full_output, disp, retall, callback, initial_simplex)\u001b[0m\n\u001b[1;32m    414\u001b[0m             'initial_simplex': initial_simplex}\n\u001b[1;32m    415\u001b[0m \u001b[0;34m\u001b[0m\u001b[0m\n\u001b[0;32m--> 416\u001b[0;31m     \u001b[0mres\u001b[0m \u001b[0;34m=\u001b[0m \u001b[0m_minimize_neldermead\u001b[0m\u001b[0;34m(\u001b[0m\u001b[0mfunc\u001b[0m\u001b[0;34m,\u001b[0m \u001b[0mx0\u001b[0m\u001b[0;34m,\u001b[0m \u001b[0margs\u001b[0m\u001b[0;34m,\u001b[0m \u001b[0mcallback\u001b[0m\u001b[0;34m=\u001b[0m\u001b[0mcallback\u001b[0m\u001b[0;34m,\u001b[0m \u001b[0;34m**\u001b[0m\u001b[0mopts\u001b[0m\u001b[0;34m)\u001b[0m\u001b[0;34m\u001b[0m\u001b[0;34m\u001b[0m\u001b[0m\n\u001b[0m\u001b[1;32m    417\u001b[0m     \u001b[0;32mif\u001b[0m \u001b[0mfull_output\u001b[0m\u001b[0;34m:\u001b[0m\u001b[0;34m\u001b[0m\u001b[0;34m\u001b[0m\u001b[0m\n\u001b[1;32m    418\u001b[0m         \u001b[0mretlist\u001b[0m \u001b[0;34m=\u001b[0m \u001b[0mres\u001b[0m\u001b[0;34m[\u001b[0m\u001b[0;34m'x'\u001b[0m\u001b[0;34m]\u001b[0m\u001b[0;34m,\u001b[0m \u001b[0mres\u001b[0m\u001b[0;34m[\u001b[0m\u001b[0;34m'fun'\u001b[0m\u001b[0;34m]\u001b[0m\u001b[0;34m,\u001b[0m \u001b[0mres\u001b[0m\u001b[0;34m[\u001b[0m\u001b[0;34m'nit'\u001b[0m\u001b[0;34m]\u001b[0m\u001b[0;34m,\u001b[0m \u001b[0mres\u001b[0m\u001b[0;34m[\u001b[0m\u001b[0;34m'nfev'\u001b[0m\u001b[0;34m]\u001b[0m\u001b[0;34m,\u001b[0m \u001b[0mres\u001b[0m\u001b[0;34m[\u001b[0m\u001b[0;34m'status'\u001b[0m\u001b[0;34m]\u001b[0m\u001b[0;34m\u001b[0m\u001b[0;34m\u001b[0m\u001b[0m\n",
      "\u001b[0;32m~/anaconda3/lib/python3.7/site-packages/scipy/optimize/optimize.py\u001b[0m in \u001b[0;36m_minimize_neldermead\u001b[0;34m(func, x0, args, callback, maxiter, maxfev, disp, return_all, initial_simplex, xatol, fatol, adaptive, **unknown_options)\u001b[0m\n\u001b[1;32m    557\u001b[0m \u001b[0;34m\u001b[0m\u001b[0m\n\u001b[1;32m    558\u001b[0m     \u001b[0;32mfor\u001b[0m \u001b[0mk\u001b[0m \u001b[0;32min\u001b[0m \u001b[0mrange\u001b[0m\u001b[0;34m(\u001b[0m\u001b[0mN\u001b[0m \u001b[0;34m+\u001b[0m \u001b[0;36m1\u001b[0m\u001b[0;34m)\u001b[0m\u001b[0;34m:\u001b[0m\u001b[0;34m\u001b[0m\u001b[0;34m\u001b[0m\u001b[0m\n\u001b[0;32m--> 559\u001b[0;31m         \u001b[0mfsim\u001b[0m\u001b[0;34m[\u001b[0m\u001b[0mk\u001b[0m\u001b[0;34m]\u001b[0m \u001b[0;34m=\u001b[0m \u001b[0mfunc\u001b[0m\u001b[0;34m(\u001b[0m\u001b[0msim\u001b[0m\u001b[0;34m[\u001b[0m\u001b[0mk\u001b[0m\u001b[0;34m]\u001b[0m\u001b[0;34m)\u001b[0m\u001b[0;34m\u001b[0m\u001b[0;34m\u001b[0m\u001b[0m\n\u001b[0m\u001b[1;32m    560\u001b[0m \u001b[0;34m\u001b[0m\u001b[0m\n\u001b[1;32m    561\u001b[0m     \u001b[0mind\u001b[0m \u001b[0;34m=\u001b[0m \u001b[0mnumpy\u001b[0m\u001b[0;34m.\u001b[0m\u001b[0margsort\u001b[0m\u001b[0;34m(\u001b[0m\u001b[0mfsim\u001b[0m\u001b[0;34m)\u001b[0m\u001b[0;34m\u001b[0m\u001b[0;34m\u001b[0m\u001b[0m\n",
      "\u001b[0;32m~/anaconda3/lib/python3.7/site-packages/scipy/optimize/optimize.py\u001b[0m in \u001b[0;36mfunction_wrapper\u001b[0;34m(*wrapper_args)\u001b[0m\n\u001b[1;32m    298\u001b[0m     \u001b[0;32mdef\u001b[0m \u001b[0mfunction_wrapper\u001b[0m\u001b[0;34m(\u001b[0m\u001b[0;34m*\u001b[0m\u001b[0mwrapper_args\u001b[0m\u001b[0;34m)\u001b[0m\u001b[0;34m:\u001b[0m\u001b[0;34m\u001b[0m\u001b[0;34m\u001b[0m\u001b[0m\n\u001b[1;32m    299\u001b[0m         \u001b[0mncalls\u001b[0m\u001b[0;34m[\u001b[0m\u001b[0;36m0\u001b[0m\u001b[0;34m]\u001b[0m \u001b[0;34m+=\u001b[0m \u001b[0;36m1\u001b[0m\u001b[0;34m\u001b[0m\u001b[0;34m\u001b[0m\u001b[0m\n\u001b[0;32m--> 300\u001b[0;31m         \u001b[0;32mreturn\u001b[0m \u001b[0mfunction\u001b[0m\u001b[0;34m(\u001b[0m\u001b[0;34m*\u001b[0m\u001b[0;34m(\u001b[0m\u001b[0mwrapper_args\u001b[0m \u001b[0;34m+\u001b[0m \u001b[0margs\u001b[0m\u001b[0;34m)\u001b[0m\u001b[0;34m)\u001b[0m\u001b[0;34m\u001b[0m\u001b[0;34m\u001b[0m\u001b[0m\n\u001b[0m\u001b[1;32m    301\u001b[0m \u001b[0;34m\u001b[0m\u001b[0m\n\u001b[1;32m    302\u001b[0m     \u001b[0;32mreturn\u001b[0m \u001b[0mncalls\u001b[0m\u001b[0;34m,\u001b[0m \u001b[0mfunction_wrapper\u001b[0m\u001b[0;34m\u001b[0m\u001b[0;34m\u001b[0m\u001b[0m\n",
      "\u001b[0;31mTypeError\u001b[0m: center_dist() takes 1 positional argument but 3 were given"
     ]
    }
   ],
   "source": [
    "t_list = []\n",
    "m_list = []\n",
    "\n",
    "iterations = 5\n",
    "\n",
    "for i in range(0, iterations-1):\n",
    "    size_guess = random.choice(size_guesses)\n",
    "    mod_guess = random.choice(mod_guesses)\n",
    "    t, m = minimize(size_guess, mod_guess)\n",
    "    t_list.append(t)\n",
    "    m_list.append(m)\n",
    "\n",
    "results_df = pd.DataFrame(list(zip(t_list, m_list)), columns=['min_th', 'min_f(th)'])"
   ]
  },
  {
   "cell_type": "code",
   "execution_count": 221,
   "metadata": {},
   "outputs": [],
   "source": [
    "# size_thresh = 0.8\n",
    "# mod_thresh = 0.7\n",
    "# terminus_pick = '/home/akhalil/src/xsmurf-2.7/main/xsmurf -nodisplay /home/jukes/Documents/Scripts/terminus_pick.tcl '+str(size_thresh)+' '+str(mod_thresh)\n",
    "# print(terminus_pick)\n",
    "# subprocess.call(terminus_pick, shell=True)"
   ]
  },
  {
   "cell_type": "markdown",
   "metadata": {},
   "source": [
    "## Cross-validation"
   ]
  },
  {
   "cell_type": "code",
   "execution_count": null,
   "metadata": {},
   "outputs": [],
   "source": []
  }
 ],
 "metadata": {
  "kernelspec": {
   "display_name": "Python 3",
   "language": "python",
   "name": "python3"
  },
  "language_info": {
   "codemirror_mode": {
    "name": "ipython",
    "version": 3
   },
   "file_extension": ".py",
   "mimetype": "text/x-python",
   "name": "python",
   "nbconvert_exporter": "python",
   "pygments_lexer": "ipython3",
   "version": "3.7.3"
  }
 },
 "nbformat": 4,
 "nbformat_minor": 2
}
