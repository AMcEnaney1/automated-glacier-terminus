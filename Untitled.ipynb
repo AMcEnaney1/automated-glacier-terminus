{
 "cells": [
  {
   "cell_type": "code",
   "execution_count": 2,
   "metadata": {},
   "outputs": [],
   "source": [
    "import pandas as pd\n",
    "import numpy as np\n",
    "import os\n",
    "import subprocess\n",
    "import matplotlib.pyplot as plt\n",
    "import cv2\n",
    "import matplotlib.image as mpimg\n",
    "import matplotlib.pylab as pl\n",
    "import numpy.ma as ma\n",
    "import datetime\n",
    "import math\n",
    "import scipy.optimize\n",
    "import time\n",
    "import random\n",
    "\n",
    "os.chdir('/home/jukes/automated-glacier-terminus')\n",
    "from automated_terminus_functions import calc_theta\n",
    "\n",
    "basepath = '/media/jukes/jukes1/'\n",
    "sg_path = '/home/jukes/Documents/Sample_glaciers/'"
   ]
  },
  {
   "cell_type": "code",
   "execution_count": 3,
   "metadata": {},
   "outputs": [],
   "source": [
    "def objective_func(parameters):\n",
    "    import subprocess\n",
    "    size_thresh, mod_thresh = parameters\n",
    "    BOXIDS = ['001', '002', '120', '174', '259']; \n",
    "    inputIDs = \" \".join(BOXIDS)\n",
    "    #from thresholds, pick the lines\n",
    "    terminus_pick = '/home/akhalil/src/xsmurf-2.7/main/xsmurf -nodisplay /home/jukes/Documents/Scripts/terminus_pick.tcl '+str(size_thresh)+' '+str(mod_thresh)+' '+inputIDs\n",
    "    subprocess.call(terminus_pick, shell=True)\n",
    "    #from the lines, get the results\n",
    "    results_allglaciers = '/home/jukes/anaconda3/bin/python3.7 /home/jukes/automated-glacier-terminus/Results_allglaciers.py'\n",
    "    subprocess.call(results_allglaciers, shell=True)\n",
    "    #calculate value of theta\n",
    "    return calc_theta()"
   ]
  },
  {
   "cell_type": "code",
   "execution_count": 4,
   "metadata": {},
   "outputs": [
    {
     "name": "stdout",
     "output_type": "stream",
     "text": [
      "[0.65 0.7  0.75 0.8  0.85 0.9  0.95]\n",
      "[0.8  0.81 0.82 0.83 0.84 0.85 0.86 0.87 0.88 0.89 0.9  0.91 0.92 0.93\n",
      " 0.94 0.95]\n"
     ]
    }
   ],
   "source": [
    "base_size_thresh = 0.8; base_mod_thresh = 0.8; thresh_range = 0.15; step=0.05; interval=1000\n",
    "size_guesses = np.arange(base_size_thresh-thresh_range, base_size_thresh+thresh_range, step)\n",
    "mod_guesses = np.arange(0.8, 0.96, 0.01)\n",
    "print(size_guesses); print(mod_guesses);\n",
    "# n_iter = len(size_guesses)*len(mod_guesses)\n",
    "# print(n_iter, 'iterations'); print(n_iter*20/60, \"max hours to run\")"
   ]
  },
  {
   "cell_type": "code",
   "execution_count": null,
   "metadata": {},
   "outputs": [],
   "source": [
    "scipy.optimize.fmin(objective_func, x0=[0.8, 0.8])"
   ]
  }
 ],
 "metadata": {
  "kernelspec": {
   "display_name": "Python 3",
   "language": "python",
   "name": "python3"
  },
  "language_info": {
   "codemirror_mode": {
    "name": "ipython",
    "version": 3
   },
   "file_extension": ".py",
   "mimetype": "text/x-python",
   "name": "python",
   "nbconvert_exporter": "python",
   "pygments_lexer": "ipython3",
   "version": "3.7.3"
  }
 },
 "nbformat": 4,
 "nbformat_minor": 2
}
