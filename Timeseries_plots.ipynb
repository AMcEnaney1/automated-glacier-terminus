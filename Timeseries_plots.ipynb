{
 "cells": [
  {
   "cell_type": "markdown",
   "metadata": {},
   "source": [
    "# Plotting results\n",
    "\n",
    "#### Jukes Liu. Last modified 10-27-2019."
   ]
  },
  {
   "cell_type": "code",
   "execution_count": 7,
   "metadata": {},
   "outputs": [],
   "source": [
    "import numpy as np\n",
    "# import os\n",
    "import matplotlib.pyplot as plt\n",
    "import matplotlib.pylab as pl\n",
    "import matplotlib.image as mpimg\n",
    "import cv2\n",
    "import pandas as pd    \n",
    "# from time import sleep\n",
    "# from IPython.display import clear_output\n",
    "# import scipy.stats\n",
    "import datetime\n",
    "# import shutil\n",
    "\n",
    "csvpaths = '/home/jukes/Documents/Sample_glaciers/'\n",
    "basepath = '/media/jukes/jukes1/LS8aws/'\n",
    "massorsize = \"mass\"\n",
    "# BoxIDs = ['120', '160', '174','191', '220', '225', '240', '245', '270', '277', '279', '285', '290']\n",
    "BoxIDs = ['001', '002', '120','174', '259']"
   ]
  },
  {
   "cell_type": "markdown",
   "metadata": {},
   "source": [
    "### Load in csv files with terminus position and change rates for the glaciers"
   ]
  },
  {
   "cell_type": "code",
   "execution_count": 8,
   "metadata": {},
   "outputs": [
    {
     "name": "stdout",
     "output_type": "stream",
     "text": [
      "(234, 10)\n",
      "(190, 10)\n",
      "(144, 10)\n",
      "(78, 10)\n",
      "(114, 10)\n"
     ]
    }
   ],
   "source": [
    "dfs = []\n",
    "for BoxID in BoxIDs:\n",
    "    df = pd.read_csv(csvpaths+'Tpos_Box'+BoxID+'_flowline50_filtered.csv', sep=',', dtype=str, header=0)\n",
    "    print(df.shape)\n",
    "    dfs.append(df)"
   ]
  },
  {
   "cell_type": "markdown",
   "metadata": {},
   "source": [
    "### Convert all dates to datetime objects and all terminus positions and changerates to floats"
   ]
  },
  {
   "cell_type": "code",
   "execution_count": 9,
   "metadata": {},
   "outputs": [],
   "source": [
    "#maximum terminus position for the glaciers\n",
    "# max_pos = {'120' : 650.0, '160': 570.0, '174' : 820.0, '191': 1575.0,\n",
    "#            '220': 1300.0, '225': 1470.0, '240': 750, '245': 670.0, '270': 620, '277': 750,\n",
    "#           '279':1620, '285': 350, '290': 400}\n",
    "max_pos = {'001': 1500, '002': 2500, '120': 1000, '174': 1500, '259':3000}"
   ]
  },
  {
   "cell_type": "code",
   "execution_count": 10,
   "metadata": {
    "scrolled": false
   },
   "outputs": [
    {
     "name": "stdout",
     "output_type": "stream",
     "text": [
      "001\n",
      "002\n",
      "120\n",
      "174\n",
      "259\n"
     ]
    }
   ],
   "source": [
    "#Turn datetimes from datetime_df into DateTime objects\n",
    "#grab the datetime strings\n",
    "for df in dfs:\n",
    "    datetimes = list(df['datetimes'])\n",
    "    term_positions = list(df['tpos'])\n",
    "    changerates = list(df['changerate'])\n",
    "    BoxID = list(df['BoxID'])[0]\n",
    "    print(BoxID)\n",
    "    \n",
    "    max_position = max_pos[BoxID]\n",
    "     \n",
    "    #create list to store the new data\n",
    "    datetime_objs = []\n",
    "    tpositions = []\n",
    "    changes = []\n",
    "\n",
    "    for date in datetimes:\n",
    "        date = str(date)\n",
    "        datetime_obj = datetime.datetime.strptime(date, '%Y-%m-%d')\n",
    "        datetime_obj = np.datetime64(datetime_obj)\n",
    "        datetime_objs.append(datetime_obj)\n",
    "    \n",
    "    for tpos in term_positions:\n",
    "        tpos = float(tpos)\n",
    "        tpos = tpos - max_position\n",
    "        tpositions.append(tpos)\n",
    "        \n",
    "    for crate in changerates:\n",
    "        crate = float(crate)\n",
    "        changes.append(crate)\n",
    "\n",
    "    #add the datetime objects back into the datetime column\n",
    "#     df['datetimes'] = datetime_objs\n",
    "    df['tpos'] = tpositions\n",
    "    df['changerate'] = changes"
   ]
  },
  {
   "cell_type": "markdown",
   "metadata": {},
   "source": [
    "## Plot:"
   ]
  },
  {
   "cell_type": "code",
   "execution_count": 13,
   "metadata": {
    "scrolled": false
   },
   "outputs": [
    {
     "ename": "ConversionError",
     "evalue": "Failed to convert value(s) to axis units: [datetime.date(2013, 4, 10), datetime.date(2013, 10, 10), datetime.date(2014, 4, 10), datetime.date(2014, 10, 10), datetime.date(2015, 4, 10), datetime.date(2015, 10, 10), datetime.date(2016, 4, 10), datetime.date(2016, 10, 10), datetime.date(2017, 4, 10), datetime.date(2017, 10, 10), datetime.date(2018, 4, 10), datetime.date(2018, 10, 10), datetime.date(2019, 4, 10), datetime.date(2019, 10, 10), datetime.date(2020, 4, 10)]",
     "output_type": "error",
     "traceback": [
      "\u001b[0;31m---------------------------------------------------------------------------\u001b[0m",
      "\u001b[0;31mTypeError\u001b[0m                                 Traceback (most recent call last)",
      "\u001b[0;32m~/anaconda3/lib/python3.7/site-packages/matplotlib/axis.py\u001b[0m in \u001b[0;36mconvert_units\u001b[0;34m(self, x)\u001b[0m\n\u001b[1;32m   1549\u001b[0m         \u001b[0;32mtry\u001b[0m\u001b[0;34m:\u001b[0m\u001b[0;34m\u001b[0m\u001b[0;34m\u001b[0m\u001b[0m\n\u001b[0;32m-> 1550\u001b[0;31m             \u001b[0mret\u001b[0m \u001b[0;34m=\u001b[0m \u001b[0mself\u001b[0m\u001b[0;34m.\u001b[0m\u001b[0mconverter\u001b[0m\u001b[0;34m.\u001b[0m\u001b[0mconvert\u001b[0m\u001b[0;34m(\u001b[0m\u001b[0mx\u001b[0m\u001b[0;34m,\u001b[0m \u001b[0mself\u001b[0m\u001b[0;34m.\u001b[0m\u001b[0munits\u001b[0m\u001b[0;34m,\u001b[0m \u001b[0mself\u001b[0m\u001b[0;34m)\u001b[0m\u001b[0;34m\u001b[0m\u001b[0;34m\u001b[0m\u001b[0m\n\u001b[0m\u001b[1;32m   1551\u001b[0m         \u001b[0;32mexcept\u001b[0m \u001b[0mException\u001b[0m \u001b[0;32mas\u001b[0m \u001b[0me\u001b[0m\u001b[0;34m:\u001b[0m\u001b[0;34m\u001b[0m\u001b[0;34m\u001b[0m\u001b[0m\n",
      "\u001b[0;32m~/anaconda3/lib/python3.7/site-packages/matplotlib/category.py\u001b[0m in \u001b[0;36mconvert\u001b[0;34m(value, unit, axis)\u001b[0m\n\u001b[1;32m     64\u001b[0m         \u001b[0;31m# force an update so it also does type checking\u001b[0m\u001b[0;34m\u001b[0m\u001b[0;34m\u001b[0m\u001b[0;34m\u001b[0m\u001b[0m\n\u001b[0;32m---> 65\u001b[0;31m         \u001b[0munit\u001b[0m\u001b[0;34m.\u001b[0m\u001b[0mupdate\u001b[0m\u001b[0;34m(\u001b[0m\u001b[0mvalues\u001b[0m\u001b[0;34m)\u001b[0m\u001b[0;34m\u001b[0m\u001b[0;34m\u001b[0m\u001b[0m\n\u001b[0m\u001b[1;32m     66\u001b[0m \u001b[0;34m\u001b[0m\u001b[0m\n",
      "\u001b[0;32m~/anaconda3/lib/python3.7/site-packages/matplotlib/category.py\u001b[0m in \u001b[0;36mupdate\u001b[0;34m(self, data)\u001b[0m\n\u001b[1;32m    218\u001b[0m             \u001b[0;32mif\u001b[0m \u001b[0;32mnot\u001b[0m \u001b[0misinstance\u001b[0m\u001b[0;34m(\u001b[0m\u001b[0mval\u001b[0m\u001b[0;34m,\u001b[0m \u001b[0;34m(\u001b[0m\u001b[0mstr\u001b[0m\u001b[0;34m,\u001b[0m \u001b[0mbytes\u001b[0m\u001b[0;34m)\u001b[0m\u001b[0;34m)\u001b[0m\u001b[0;34m:\u001b[0m\u001b[0;34m\u001b[0m\u001b[0;34m\u001b[0m\u001b[0m\n\u001b[0;32m--> 219\u001b[0;31m                 \u001b[0;32mraise\u001b[0m \u001b[0mTypeError\u001b[0m\u001b[0;34m(\u001b[0m\u001b[0;34m\"{val!r} is not a string\"\u001b[0m\u001b[0;34m.\u001b[0m\u001b[0mformat\u001b[0m\u001b[0;34m(\u001b[0m\u001b[0mval\u001b[0m\u001b[0;34m=\u001b[0m\u001b[0mval\u001b[0m\u001b[0;34m)\u001b[0m\u001b[0;34m)\u001b[0m\u001b[0;34m\u001b[0m\u001b[0;34m\u001b[0m\u001b[0m\n\u001b[0m\u001b[1;32m    220\u001b[0m             \u001b[0;32mif\u001b[0m \u001b[0mconvertible\u001b[0m\u001b[0;34m:\u001b[0m\u001b[0;34m\u001b[0m\u001b[0;34m\u001b[0m\u001b[0m\n",
      "\u001b[0;31mTypeError\u001b[0m: datetime.date(2013, 4, 10) is not a string",
      "\nThe above exception was the direct cause of the following exception:\n",
      "\u001b[0;31mConversionError\u001b[0m                           Traceback (most recent call last)",
      "\u001b[0;32m<ipython-input-13-cb94113d13fd>\u001b[0m in \u001b[0;36m<module>\u001b[0;34m\u001b[0m\n\u001b[1;32m     25\u001b[0m                  \u001b[0mdatetime\u001b[0m\u001b[0;34m.\u001b[0m\u001b[0mdate\u001b[0m\u001b[0;34m(\u001b[0m\u001b[0;36m2018\u001b[0m\u001b[0;34m,\u001b[0m \u001b[0;36m4\u001b[0m\u001b[0;34m,\u001b[0m \u001b[0;36m10\u001b[0m\u001b[0;34m)\u001b[0m\u001b[0;34m,\u001b[0m\u001b[0mdatetime\u001b[0m\u001b[0;34m.\u001b[0m\u001b[0mdate\u001b[0m\u001b[0;34m(\u001b[0m\u001b[0;36m2018\u001b[0m\u001b[0;34m,\u001b[0m \u001b[0;36m10\u001b[0m\u001b[0;34m,\u001b[0m \u001b[0;36m10\u001b[0m\u001b[0;34m)\u001b[0m\u001b[0;34m,\u001b[0m\u001b[0;34m\u001b[0m\u001b[0;34m\u001b[0m\u001b[0m\n\u001b[1;32m     26\u001b[0m                  \u001b[0mdatetime\u001b[0m\u001b[0;34m.\u001b[0m\u001b[0mdate\u001b[0m\u001b[0;34m(\u001b[0m\u001b[0;36m2019\u001b[0m\u001b[0;34m,\u001b[0m \u001b[0;36m4\u001b[0m\u001b[0;34m,\u001b[0m \u001b[0;36m10\u001b[0m\u001b[0;34m)\u001b[0m\u001b[0;34m,\u001b[0m\u001b[0mdatetime\u001b[0m\u001b[0;34m.\u001b[0m\u001b[0mdate\u001b[0m\u001b[0;34m(\u001b[0m\u001b[0;36m2019\u001b[0m\u001b[0;34m,\u001b[0m \u001b[0;36m10\u001b[0m\u001b[0;34m,\u001b[0m \u001b[0;36m10\u001b[0m\u001b[0;34m)\u001b[0m\u001b[0;34m,\u001b[0m\u001b[0;34m\u001b[0m\u001b[0;34m\u001b[0m\u001b[0m\n\u001b[0;32m---> 27\u001b[0;31m                  datetime.date(2020, 4, 10)])\n\u001b[0m\u001b[1;32m     28\u001b[0m     ax.set_xticklabels(['2013-04', '2013-10', \n\u001b[1;32m     29\u001b[0m                         \u001b[0;34m'2014-04'\u001b[0m\u001b[0;34m,\u001b[0m \u001b[0;34m'2014-10'\u001b[0m\u001b[0;34m,\u001b[0m\u001b[0;34m\u001b[0m\u001b[0;34m\u001b[0m\u001b[0m\n",
      "\u001b[0;32m~/anaconda3/lib/python3.7/site-packages/matplotlib/axes/_base.py\u001b[0m in \u001b[0;36mset_xticks\u001b[0;34m(self, ticks, minor)\u001b[0m\n\u001b[1;32m   3348\u001b[0m             \u001b[0mDefault\u001b[0m \u001b[0;32mis\u001b[0m\u001b[0;31m \u001b[0m\u001b[0;31m`\u001b[0m\u001b[0;31m`\u001b[0m\u001b[0;32mFalse\u001b[0m\u001b[0;31m`\u001b[0m\u001b[0;31m`\u001b[0m\u001b[0;34m.\u001b[0m\u001b[0;34m\u001b[0m\u001b[0;34m\u001b[0m\u001b[0m\n\u001b[1;32m   3349\u001b[0m         \"\"\"\n\u001b[0;32m-> 3350\u001b[0;31m         \u001b[0mret\u001b[0m \u001b[0;34m=\u001b[0m \u001b[0mself\u001b[0m\u001b[0;34m.\u001b[0m\u001b[0mxaxis\u001b[0m\u001b[0;34m.\u001b[0m\u001b[0mset_ticks\u001b[0m\u001b[0;34m(\u001b[0m\u001b[0mticks\u001b[0m\u001b[0;34m,\u001b[0m \u001b[0mminor\u001b[0m\u001b[0;34m=\u001b[0m\u001b[0mminor\u001b[0m\u001b[0;34m)\u001b[0m\u001b[0;34m\u001b[0m\u001b[0;34m\u001b[0m\u001b[0m\n\u001b[0m\u001b[1;32m   3351\u001b[0m         \u001b[0mself\u001b[0m\u001b[0;34m.\u001b[0m\u001b[0mstale\u001b[0m \u001b[0;34m=\u001b[0m \u001b[0;32mTrue\u001b[0m\u001b[0;34m\u001b[0m\u001b[0;34m\u001b[0m\u001b[0m\n\u001b[1;32m   3352\u001b[0m         \u001b[0;32mreturn\u001b[0m \u001b[0mret\u001b[0m\u001b[0;34m\u001b[0m\u001b[0;34m\u001b[0m\u001b[0m\n",
      "\u001b[0;32m~/anaconda3/lib/python3.7/site-packages/matplotlib/axis.py\u001b[0m in \u001b[0;36mset_ticks\u001b[0;34m(self, ticks, minor)\u001b[0m\n\u001b[1;32m   1749\u001b[0m         \"\"\"\n\u001b[1;32m   1750\u001b[0m         \u001b[0;31m# XXX if the user changes units, the information will be lost here\u001b[0m\u001b[0;34m\u001b[0m\u001b[0;34m\u001b[0m\u001b[0;34m\u001b[0m\u001b[0m\n\u001b[0;32m-> 1751\u001b[0;31m         \u001b[0mticks\u001b[0m \u001b[0;34m=\u001b[0m \u001b[0mself\u001b[0m\u001b[0;34m.\u001b[0m\u001b[0mconvert_units\u001b[0m\u001b[0;34m(\u001b[0m\u001b[0mticks\u001b[0m\u001b[0;34m)\u001b[0m\u001b[0;34m\u001b[0m\u001b[0;34m\u001b[0m\u001b[0m\n\u001b[0m\u001b[1;32m   1752\u001b[0m         \u001b[0;32mif\u001b[0m \u001b[0mlen\u001b[0m\u001b[0;34m(\u001b[0m\u001b[0mticks\u001b[0m\u001b[0;34m)\u001b[0m \u001b[0;34m>\u001b[0m \u001b[0;36m1\u001b[0m\u001b[0;34m:\u001b[0m\u001b[0;34m\u001b[0m\u001b[0;34m\u001b[0m\u001b[0m\n\u001b[1;32m   1753\u001b[0m             \u001b[0mxleft\u001b[0m\u001b[0;34m,\u001b[0m \u001b[0mxright\u001b[0m \u001b[0;34m=\u001b[0m \u001b[0mself\u001b[0m\u001b[0;34m.\u001b[0m\u001b[0mget_view_interval\u001b[0m\u001b[0;34m(\u001b[0m\u001b[0;34m)\u001b[0m\u001b[0;34m\u001b[0m\u001b[0;34m\u001b[0m\u001b[0m\n",
      "\u001b[0;32m~/anaconda3/lib/python3.7/site-packages/matplotlib/axis.py\u001b[0m in \u001b[0;36mconvert_units\u001b[0;34m(self, x)\u001b[0m\n\u001b[1;32m   1551\u001b[0m         \u001b[0;32mexcept\u001b[0m \u001b[0mException\u001b[0m \u001b[0;32mas\u001b[0m \u001b[0me\u001b[0m\u001b[0;34m:\u001b[0m\u001b[0;34m\u001b[0m\u001b[0;34m\u001b[0m\u001b[0m\n\u001b[1;32m   1552\u001b[0m             raise munits.ConversionError('Failed to convert value(s) to axis '\n\u001b[0;32m-> 1553\u001b[0;31m                                          f'units: {x!r}') from e\n\u001b[0m\u001b[1;32m   1554\u001b[0m         \u001b[0;32mreturn\u001b[0m \u001b[0mret\u001b[0m\u001b[0;34m\u001b[0m\u001b[0;34m\u001b[0m\u001b[0m\n\u001b[1;32m   1555\u001b[0m \u001b[0;34m\u001b[0m\u001b[0m\n",
      "\u001b[0;31mConversionError\u001b[0m: Failed to convert value(s) to axis units: [datetime.date(2013, 4, 10), datetime.date(2013, 10, 10), datetime.date(2014, 4, 10), datetime.date(2014, 10, 10), datetime.date(2015, 4, 10), datetime.date(2015, 10, 10), datetime.date(2016, 4, 10), datetime.date(2016, 10, 10), datetime.date(2017, 4, 10), datetime.date(2017, 10, 10), datetime.date(2018, 4, 10), datetime.date(2018, 10, 10), datetime.date(2019, 4, 10), datetime.date(2019, 10, 10), datetime.date(2020, 4, 10)]"
     ]
    },
    {
     "data": {
      "image/png": "[encoded data removed]",
      "text/plain": [
       "<Figure size 864x864 with 5 Axes>"
      ]
     },
     "metadata": {
      "needs_background": "light"
     },
     "output_type": "display_data"
    }
   ],
   "source": [
    "nplots = len(BoxIDs) # set number of subplots\n",
    "colors = pl.cm.viridis(np.linspace(0,1, nplots)) # generate colors using the plasma colormap\n",
    "# panels = ['a)', 'b)', 'c)', 'd)']\n",
    "# ylims_bottom = [-250, -350, -400,-1075, -100, -375 , -175, -100, -450, -350, -250, -250, -400] # set different y limits for each plot\n",
    "ylims_bottom = [-2000, -3000, -1000, -1000, -1000]\n",
    "\n",
    "fig, axs = plt.subplots(nplots, 1, sharex=True, figsize=(12,12))\n",
    "fig.subplots_adjust(hspace=0) # Remove horizontal space between axes\n",
    "\n",
    "for i in range(0, nplots):\n",
    "    ax = axs[i]; df = dfs[i]; col = colors[i]; BoxID = BoxIDs[i] # grab repeated values   \n",
    "    ax.plot(df['datetimes'], df['tpos'], color=col, marker='o', markersize=6, linewidth=0) # plot\n",
    "    ax.set_ylim(ylims_bottom[i], 20) # y limits\n",
    "#     ax.set_xlim(datetime.date(2013, 1, 1), datetime.date(2020, 10, 1))\n",
    "#     ax.set_ylabel('Box'+BoxID, fontsize=14, color='k') # y-axis label for subplot\n",
    "    ax.tick_params(direction='out', colors='k', size=8, labelsize=18) # tick parameters\n",
    "    ax.tick_params(axis='x', labelrotation=30, labelsize=18) # rotate xticks\n",
    "\n",
    "    #set date labels and spacing:\n",
    "    ax.set_xticks([datetime.date(2013, 4, 10), datetime.date(2013, 10, 10), \n",
    "                    datetime.date(2014, 4, 10), datetime.date(2014, 10, 10),\n",
    "                    datetime.date(2015, 4, 10), datetime.date(2015, 10, 10),\n",
    "                   datetime.date(2016, 4, 10), datetime.date(2016, 10, 10),\n",
    "                   datetime.date(2017, 4, 10),datetime.date(2017, 10, 10), \n",
    "                 datetime.date(2018, 4, 10),datetime.date(2018, 10, 10),\n",
    "                 datetime.date(2019, 4, 10),datetime.date(2019, 10, 10),\n",
    "                 datetime.date(2020, 4, 10)])\n",
    "    ax.set_xticklabels(['2013-04', '2013-10', \n",
    "                        '2014-04', '2014-10',\n",
    "                        '2015-04', '2015-10',\n",
    "                        '2016-04', '2016-10',\n",
    "                        '2017-04', '2017-10',\n",
    "                        '2018-04', '2018-10', \n",
    "                        '2019-04', '2019-10',\n",
    "                        '2020-04', ])\n",
    "    ax.grid(axis='x') # turn on grid lines\n",
    "    \n",
    "    ax.text(0.01, 0.2, BoxID, fontsize=22, transform=ax.transAxes, verticalalignment='top',\n",
    "           fontdict={'weight': 'normal'}) # panel labels (a, b, c, d)\n",
    "    \n",
    "#Set common x label\n",
    "for ax in axs:\n",
    "    ax.set_xlabel('Date', fontsize=20)\n",
    "#Set common y label\n",
    "fig.text(0.04, 0.5, 'Terminus position (m)', va='center', ha='center', rotation='vertical', fontsize=20)\n",
    "\n",
    "# #Save figure\n",
    "# plt.savefig(csvpaths+\"/Figures/Tpos_timeseries_\"+str(datetime. datetime. today())[:-16]+\".png\", dpi=500, bbox_inches='tight')\n",
    "\n",
    "plt.show()"
   ]
  },
  {
   "cell_type": "code",
   "execution_count": null,
   "metadata": {},
   "outputs": [],
   "source": [
    "# df3.sort_values(by='term_position', ascending=False)"
   ]
  },
  {
   "cell_type": "code",
   "execution_count": null,
   "metadata": {},
   "outputs": [],
   "source": []
  }
 ],
 "metadata": {
  "kernelspec": {
   "display_name": "Python 3",
   "language": "python",
   "name": "python3"
  },
  "language_info": {
   "codemirror_mode": {
    "name": "ipython",
    "version": 3
   },
   "file_extension": ".py",
   "mimetype": "text/x-python",
   "name": "python",
   "nbconvert_exporter": "python",
   "pygments_lexer": "ipython3",
   "version": "3.7.6"
  }
 },
 "nbformat": 4,
 "nbformat_minor": 2
}
