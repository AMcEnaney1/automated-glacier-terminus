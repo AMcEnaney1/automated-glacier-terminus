{
 "cells": [
  {
   "cell_type": "code",
   "execution_count": 1,
   "id": "163ad6d3-e374-42a8-9d56-ec7654ef91fd",
   "metadata": {},
   "outputs": [],
   "source": [
    "# Aidan McEnaney\n",
    "# February 15th, 2023\n",
    "# Modified code from https://github.com/julialiu18/automated-glacier-terminus"
   ]
  },
  {
   "cell_type": "code",
   "execution_count": 2,
   "id": "92645243-8283-4d3a-956a-e20588759d28",
   "metadata": {},
   "outputs": [],
   "source": [
    "# Imports everything we will need for the following sections of code\n",
    "\n",
    "import numpy as np\n",
    "import pandas as pd\n",
    "import os\n",
    "import matplotlib.image as mpimg\n",
    "import matplotlib.pyplot as plt\n",
    "import matplotlib.pylab as pl\n",
    "import time\n",
    "from PIL import Image\n",
    "from pyproj import Proj\n",
    "from ttictoc import tic,toc\n",
    "from Xsmurf_functions import *\n",
    "#from wtmm2d_termiuspick import * # This makes jupyter mad"
   ]
  },
  {
   "cell_type": "code",
   "execution_count": 3,
   "id": "14fdedad-35a3-4c9f-8669-f42ea26c3160",
   "metadata": {},
   "outputs": [
    {
     "ename": "FileNotFoundError",
     "evalue": "[Errno 2] No such file or directory: 'images_in/snail.jpg'",
     "output_type": "error",
     "traceback": [
      "\u001b[0;31m---------------------------------------------------------------------------\u001b[0m",
      "\u001b[0;31mFileNotFoundError\u001b[0m                         Traceback (most recent call last)",
      "\u001b[0;32m/var/folders/jv/t8s36z_d1d3cp8t5gtzc75x00000gn/T/ipykernel_9260/2778351232.py\u001b[0m in \u001b[0;36m<module>\u001b[0;34m\u001b[0m\n\u001b[1;32m      1\u001b[0m \u001b[0;31m# Chooses the image to use for the rest of the sections\u001b[0m\u001b[0;34m\u001b[0m\u001b[0;34m\u001b[0m\u001b[0m\n\u001b[1;32m      2\u001b[0m \u001b[0;34m\u001b[0m\u001b[0m\n\u001b[0;32m----> 3\u001b[0;31m \u001b[0minfoMage\u001b[0m \u001b[0;34m=\u001b[0m \u001b[0mImage\u001b[0m\u001b[0;34m.\u001b[0m\u001b[0mopen\u001b[0m\u001b[0;34m(\u001b[0m\u001b[0;34m'images_in/snail.jpg'\u001b[0m\u001b[0;34m)\u001b[0m\u001b[0;34m\u001b[0m\u001b[0;34m\u001b[0m\u001b[0m\n\u001b[0m\u001b[1;32m      4\u001b[0m \u001b[0;31m#infoMage = Image.open('images_in/2_I10-20080327_175510-R_CC.pgm')\u001b[0m\u001b[0;34m\u001b[0m\u001b[0;34m\u001b[0m\u001b[0m\n\u001b[1;32m      5\u001b[0m \u001b[0;31m#infoMage = Image.open('images_in/glacier.png')\u001b[0m\u001b[0;34m\u001b[0m\u001b[0;34m\u001b[0m\u001b[0m\n",
      "\u001b[0;32m~/opt/anaconda3/lib/python3.9/site-packages/PIL/Image.py\u001b[0m in \u001b[0;36mopen\u001b[0;34m(fp, mode, formats)\u001b[0m\n\u001b[1;32m   3090\u001b[0m \u001b[0;34m\u001b[0m\u001b[0m\n\u001b[1;32m   3091\u001b[0m     \u001b[0;32mif\u001b[0m \u001b[0mfilename\u001b[0m\u001b[0;34m:\u001b[0m\u001b[0;34m\u001b[0m\u001b[0;34m\u001b[0m\u001b[0m\n\u001b[0;32m-> 3092\u001b[0;31m         \u001b[0mfp\u001b[0m \u001b[0;34m=\u001b[0m \u001b[0mbuiltins\u001b[0m\u001b[0;34m.\u001b[0m\u001b[0mopen\u001b[0m\u001b[0;34m(\u001b[0m\u001b[0mfilename\u001b[0m\u001b[0;34m,\u001b[0m \u001b[0;34m\"rb\"\u001b[0m\u001b[0;34m)\u001b[0m\u001b[0;34m\u001b[0m\u001b[0;34m\u001b[0m\u001b[0m\n\u001b[0m\u001b[1;32m   3093\u001b[0m         \u001b[0mexclusive_fp\u001b[0m \u001b[0;34m=\u001b[0m \u001b[0;32mTrue\u001b[0m\u001b[0;34m\u001b[0m\u001b[0;34m\u001b[0m\u001b[0m\n\u001b[1;32m   3094\u001b[0m \u001b[0;34m\u001b[0m\u001b[0m\n",
      "\u001b[0;31mFileNotFoundError\u001b[0m: [Errno 2] No such file or directory: 'images_in/snail.jpg'"
     ]
    }
   ],
   "source": [
    "# Chooses the image to use for the rest of the sections\n",
    "\n",
    "infoMage = Image.open('images_in/snail.jpg')\n",
    "#infoMage = Image.open('images_in/2_I10-20080327_175510-R_CC.pgm')\n",
    "#infoMage = Image.open('images_in/glacier.png')\n",
    " \n",
    "# summarize some details about the image\n",
    "print(infoMage.format)\n",
    "print(infoMage.size)\n",
    "print(infoMage.mode)\n",
    "\n",
    "# asarray() class is used to convert\n",
    "# PIL images into NumPy arrays\n",
    "nuMage = np.asarray(infoMage)\n",
    "\n",
    "# <class 'numpy.ndarray'>\n",
    "print(type(nuMage))\n",
    " \n",
    "#  shape\n",
    "print(nuMage.shape)\n",
    "\n",
    "[dx,dy,mm,m,a] = wtmm2d_v2(nuMage, 'gauss', 10)"
   ]
  },
  {
   "cell_type": "code",
   "execution_count": null,
   "id": "d781c5db-57f1-492a-b830-e015f5332761",
   "metadata": {},
   "outputs": [],
   "source": [
    "# Visualize outputs from wtmm2d:\n",
    "fig, axs = plt.subplots(2,3,figsize=(15,10))\n",
    "axs[0,0].imshow(dx, aspect='equal', cmap = 'gray', interpolation='none'); axs[0,0].set_title('dx') # x gradient\n",
    "axs[0,1].imshow(dy, aspect='equal', cmap = 'gray', interpolation='none'); axs[0,1].set_title('dy') # y gradient\n",
    "\n",
    "axs[0,2].imshow(a, aspect='equal', cmap = 'gray', interpolation='none'); axs[0,2].set_title('a') # argument            \n",
    "axs[1,0].imshow(mm, aspect='equal', cmap = 'gray', interpolation='none', vmin = np.min(mm), vmax = np.max(m)); \n",
    "axs[1,0].set_title('mm') # modulus maxima (interpolated)\n",
    "axs[1,1].imshow(m, aspect='equal', cmap = 'gray', interpolation='none',vmin = np.min(mm), vmax = np.max(m));\n",
    "axs[1,1].set_title('m') # modulus\n",
    "axs[-1, -1].axis('off')\n",
    "\n",
    "# Image.fromarray(mm).save('mm.tif')   \n",
    "# Image.fromarray(m).save('m.tif')   \n",
    "\n",
    "# plt.savefig('glacier_WTMM_test.png',dpi=200)\n",
    "plt.show()"
   ]
  },
  {
   "cell_type": "code",
   "execution_count": null,
   "id": "24015ee9-61bf-4e18-add6-5ede01ccedda",
   "metadata": {},
   "outputs": [],
   "source": [
    "\"\"\"p = np.zeros((6,6), dtype=np.int)\n",
    "p[1:6, 2:5] = 1\n",
    "b = np.zeros((600,600), dtype=np.int)\n",
    "b[100:400, 100:500] = 100\"\"\"\n",
    "c = np.zeros((360,360), dtype=np.int)\n",
    "c[5:340, 5:360] = 100\n",
    "\n",
    "#c = np.zeros((648,615), dtype=np.int)\n",
    "#c[250:500, 200:500] = 100\n",
    "\n",
    "#plt.imshow(p); plt.show()\n",
    "#plt.imshow(b); plt.show()\n",
    "plt.imshow(c); plt.show()\n",
    "\n",
    "\n",
    "\n",
    "#plt.imshow(box_array); plt.show()  # Display mask"
   ]
  },
  {
   "cell_type": "code",
   "execution_count": null,
   "id": "a52deb82-6531-4515-be47-f293ceb227e8",
   "metadata": {},
   "outputs": [],
   "source": [
    "# Mask\n",
    "masked_a = emask(c, a)\n",
    "masked_mm = emask(c, mm)\n",
    "masked_m = emask(c, m)\n",
    "\n",
    "# Visualize masked outputs from wtmm2d:\n",
    "fig, axs = plt.subplots(1,3,figsize=(15,10))\n",
    "\n",
    "axs[0].imshow(masked_a, aspect='equal', cmap = 'viridis', interpolation='none'); axs[0].set_title('a')              \n",
    "axs[1].imshow(masked_mm, aspect='equal', cmap = 'gray', interpolation='none', vmin = np.min(masked_mm), vmax = np.max(masked_mm)); \n",
    "axs[1].set_title('mm')\n",
    "axs[2].imshow(masked_m, aspect='equal', cmap = 'gray', interpolation='none',vmin = np.min(masked_m), vmax = np.max(masked_m));\n",
    "axs[2].set_title('m')\n",
    "# plt.savefig('glacier_WTMM_test.png',dpi=200)\n",
    "plt.show()"
   ]
  },
  {
   "cell_type": "code",
   "execution_count": null,
   "id": "8ee93f9a-9f49-4842-b1c1-0f6d6198aa62",
   "metadata": {},
   "outputs": [],
   "source": [
    "######################################################################################\n",
    "cmm = wtmmchains(masked_mm,masked_a,1,10,3) # chain at a specified scale\n",
    "######################################################################################\n",
    "\n",
    "cmm[0].show() # Prints out stuff that helps sanity check\n",
    "\n",
    "cmm_passed = []\n",
    "# Filter chains based on size threshold\n",
    "for j in range(0, len(cmm)):\n",
    "    if cmm[j].size > 0: # adjust this condition to threshold\n",
    "        cmm_passed.append(cmm[j])\n",
    "        \n",
    "plt.figure(figsize=(10,10))\n",
    "plt.imshow(masked_mm,cmap='gray')\n",
    "plt.xlim([0, mm.shape[1]])\n",
    "plt.ylim([0, mm.shape[0]])\n",
    "plt.gca().set_aspect('equal'); plt.gca().invert_yaxis()\n",
    "    \n",
    "for k in range(0, len(cmm_passed)):\n",
    "    plt.plot(cmm_passed[k].ix, cmm_passed[k].iy, 's-', markersize=0.5)\n",
    "plt.show()"
   ]
  },
  {
   "cell_type": "code",
   "execution_count": null,
   "id": "bd14545d-8c2a-4f78-b46e-b378ab5fb52e",
   "metadata": {},
   "outputs": [],
   "source": [
    "######################################################################################\n",
    "size_thresh = 0.4 # Size percentile across all images\n",
    "mod_thresh = 0.7 # Linemeanmod percentile across all images\n",
    "arg_thresh = 0.1 # left-right argument fraction\n",
    "metric = 0 # 0 = mass, 1 = scaledmass, 2 = size\n",
    "######################################################################################\n",
    "\"\"\"\n",
    "# read in Greenland Polar Stereographic coordinates\n",
    "PSy = np.array(pd.read_csv(basepath+'Box'+BOI+'/'+subfoldername+'img_idx_PSy_Box'+BOI+'.csv',\n",
    "                          delimiter=' ',header=None))\n",
    "# read in Greenland Polar Stereographic coordinates\n",
    "PSx = np.array(pd.read_csv(basepath+'Box'+BOI+'/'+subfoldername+'img_idx_PSx_Box'+BOI+'.csv',\n",
    "                          delimiter=' ',header=None))\n",
    "\"\"\"\n",
    "mass_or_size = []\n",
    "passed_chains = []\n",
    "for chain in cmm_passed:\n",
    "    if chain.linemeanmod > mod_thresh: # only chains that pass the mod threshold\n",
    "        if chain.size > size_thresh: # only chains that pass the size threshold\n",
    "            [passedargs, argfrac] = filter_args(chain.args, np.pi/3) # identify the left & right-pointing args\n",
    "            if argfrac > arg_thresh: # only chains that pass the orientation threshold\n",
    "                if metric == 0:\n",
    "                    mass_or_size.append(chain.mass) # evaluate by mass (length*gradient value)\n",
    "                elif metric == 1:\n",
    "                    mass_or_size.append(chain.scaled_mass) # evaluate by scaled mass (mass/2**scale)\n",
    "                else:\n",
    "                    mass_or_size.append(chain.size)\n",
    "                #PSxs = PSx[np.array(chain.ix,dtype=int)]\n",
    "                #PSys = PSy[np.array(chain.iy,dtype=int)]\n",
    "                passed_chains.append(chain)\n",
    "                \n",
    "top_chains = pd.DataFrame(list(zip(mass_or_size, passed_chains)), columns=['metric_val','chainobj'])\n",
    "top_chains = top_chains.sort_values(by=['metric_val'],ascending=False) # sort chains with highest metric at top\n",
    "top_chains = top_chains[:5].reset_index(drop=True) # and grab the top 5\n",
    "top_chains "
   ]
  },
  {
   "cell_type": "code",
   "execution_count": null,
   "id": "85e197a7-114b-4b59-956b-74deb4da62b5",
   "metadata": {},
   "outputs": [],
   "source": [
    "# visualize top chains:\n",
    "colors = pl.cm.viridis(np.linspace(0,1,5)) # generate colors using a colormap\n",
    "plt.figure(figsize=(8,8))\n",
    "plt.imshow(np.array(nuMage), aspect='equal', cmap = 'gray')\n",
    "for k in range(0, len(top_chains)):\n",
    "    # plot chains, darker = better picks\n",
    "    plt.plot(top_chains.iloc[k][1].ix, top_chains.iloc[k][1].iy, 's-', color=colors[k],markersize=0.1)\n",
    "#     break\n",
    "            \n",
    "plt.show()"
   ]
  },
  {
   "cell_type": "code",
   "execution_count": null,
   "id": "5a7ee105-cae6-424a-ae23-a3ea7f07e3aa",
   "metadata": {},
   "outputs": [],
   "source": []
  }
 ],
 "metadata": {
  "kernelspec": {
   "display_name": "Python 3 (ipykernel)",
   "language": "python",
   "name": "python3"
  },
  "language_info": {
   "codemirror_mode": {
    "name": "ipython",
    "version": 3
   },
   "file_extension": ".py",
   "mimetype": "text/x-python",
   "name": "python",
   "nbconvert_exporter": "python",
   "pygments_lexer": "ipython3",
   "version": "3.9.13"
  }
 },
 "nbformat": 4,
 "nbformat_minor": 5
}
